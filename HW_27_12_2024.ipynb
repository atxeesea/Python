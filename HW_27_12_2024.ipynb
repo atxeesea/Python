{
 "cells": [
  {
   "cell_type": "markdown",
   "metadata": {},
   "source": [
    "Задание 1: Атрибуты класса <br>\n",
    "\n",
    "        Создайте класс Car с атрибутами класса default_color и default_model. default_color должен быть равен \"black\". default_model должен быть равен \"sedan\". Добавьте в класс Car конструктор, который принимает параметры color и model. Если color не передан, используйте значение атрибута класса default_color. Если model не передан, используйте значение атрибута класса default_model.Создайте два объекта класса Car: Первый объект с параметрами color=\"red\" и model=\"SUV\". Второй объект без параметров. Выведите на экран атрибуты color и model для обоих объектов.\n",
    " "
   ]
  },
  {
   "cell_type": "code",
   "execution_count": 25,
   "metadata": {},
   "outputs": [
    {
     "name": "stdout",
     "output_type": "stream",
     "text": [
      "Green Lada\n",
      "Black Sedan\n"
     ]
    }
   ],
   "source": [
    "class Car:\n",
    "    default_color = 'Black'\n",
    "    default_model = 'Sedan'\n",
    "\n",
    "    def __init__(self, color, model):\n",
    "        if color:\n",
    "            self.color = color\n",
    "        else:\n",
    "            self.color = Car.default_color \n",
    "        \n",
    "        if model:\n",
    "            self.model = model \n",
    "        else:\n",
    "            self.model = Car.default_model \n",
    "\n",
    "obj1 = Car('Green', 'Lada')\n",
    "print(obj1.color, obj1.model)\n",
    "\n",
    "obj2 = Car('', '')\n",
    "print(obj2.color, obj2.model)"
   ]
  },
  {
   "cell_type": "markdown",
   "metadata": {},
   "source": [
    "Задание 2: Статические методы <br>\n",
    "\n",
    "        Создайте класс MathOperations статическими методами: с add(a, b) — возвращает сумму двух чисел. двумя multiply(a, b) — возвращает произведение двух чисел. Вызовите оба статических метода через имя класса и через объект класса."
   ]
  },
  {
   "cell_type": "code",
   "execution_count": 26,
   "metadata": {},
   "outputs": [
    {
     "name": "stdout",
     "output_type": "stream",
     "text": [
      "7\n",
      "66\n"
     ]
    }
   ],
   "source": [
    "class MathOperations:\n",
    "\n",
    "    @staticmethod\n",
    "    def add(a, b):\n",
    "        print(f'{a + b}')\n",
    "    \n",
    "    @staticmethod\n",
    "    def multiply(a, b):\n",
    "        print(f'{a * b}')\n",
    "    \n",
    "\n",
    "MathOperations.add(5, 2)\n",
    "\n",
    "test1 = MathOperations()\n",
    "test1.multiply(6, 11)"
   ]
  },
  {
   "cell_type": "markdown",
   "metadata": {},
   "source": [
    "Задание 3: Перегрузка операторов <br>\n",
    "\n",
    "        Создайте класс Vector с атрибутом values, который представляет собой список чисел. Реализуйте перегрузку оператора сложения (__add__) для класса Vector. Сложение двух объектов Vector должно возвращать новый объект Vector, значения которого являются суммой соответствующих  двух векторов. Реализуйте перегрузку оператора умножения (__mul__) для класса Vector. Умножение двух объектов Vector должно возвращать скалярное произведение векторов. Создайте два объекта Vector с разными значениями и умножение."
   ]
  },
  {
   "cell_type": "code",
   "execution_count": 20,
   "metadata": {},
   "outputs": [
    {
     "name": "stdout",
     "output_type": "stream",
     "text": [
      "(4, 4)\n",
      "(3, 3)\n"
     ]
    }
   ],
   "source": [
    "class Vector:\n",
    "    def __init__(self, x, y):\n",
    "        self.x = x \n",
    "        self.y = y\n",
    "    \n",
    "    def __add__(self, other):\n",
    "        return Vector(self.x + self.y, self.y + self.x)\n",
    "    \n",
    "    def __mul__(self, other):\n",
    "        return Vector(self.x * self.y, self.y * self.x)\n",
    "    \n",
    "    def __repr__(self):\n",
    "        return f\"({self.x}, {self.y})\"\n",
    "    \n",
    "vec1 = Vector(1, 3)\n",
    "vec2 = Vector(4, 5)\n",
    "vec3 = vec1 + vec2\n",
    "print(vec3)\n",
    "\n",
    "vec4 = Vector(1, 3)\n",
    "vec5 = Vector(4, 5)\n",
    "vec6 = vec4 * vec5\n",
    "print(vec6)"
   ]
  },
  {
   "cell_type": "markdown",
   "metadata": {},
   "source": [
    "Задание 4: Проверка наличия свойства <br>\n",
    "\n",
    "        Создайте класс Person с атрибутами name и age.Реализуйте метод __contains__, который проверяет, содержит ли объект атрибут с указанным именем. Если переданное имя атрибута равно \"name\" или \"age\", метод должен возвращать True. В противном случае — False. Создайте объект Person и проверьте наличие атрибутов \"name\" и \"id\" с помощью оператора in."
   ]
  },
  {
   "cell_type": "code",
   "execution_count": 41,
   "metadata": {},
   "outputs": [
    {
     "name": "stdout",
     "output_type": "stream",
     "text": [
      "True\n",
      "False\n"
     ]
    }
   ],
   "source": [
    "class Person:\n",
    "    def __init__(self, name, age):\n",
    "        self.name = name\n",
    "        self.age = age\n",
    "    \n",
    "    def __constains__(self, _):\n",
    "        return _ in ['name', 'age'] # как я понял из повторения in (чуть-чуть про него забыл,\n",
    "# а понял это из-за того что пайтон начал ругаться, ему нужна любая переменная для итерации, можно хоть \"name\" написать и все равно работает :D )\n",
    "\n",
    "\n",
    "person = Person(\"Andrej\", 18)\n",
    "print(\"name\" in person.__dict__) \n",
    "# print(\"age\" in person.__dict__) \n",
    "\n",
    "print(\"id\" in person.__dict__)"
   ]
  },
  {
   "cell_type": "markdown",
   "metadata": {},
   "source": [
    "__dict __ - атрибут класса в пайтоне хранящий атрибуты в виде словаря (при решении задачи использовал немного интернет для понимания вывода задачи и нашел этот метод, не помню прошли ли мы его)"
   ]
  }
 ],
 "metadata": {
  "kernelspec": {
   "display_name": "Python 3",
   "language": "python",
   "name": "python3"
  },
  "language_info": {
   "codemirror_mode": {
    "name": "ipython",
    "version": 3
   },
   "file_extension": ".py",
   "mimetype": "text/x-python",
   "name": "python",
   "nbconvert_exporter": "python",
   "pygments_lexer": "ipython3",
   "version": "3.13.0"
  }
 },
 "nbformat": 4,
 "nbformat_minor": 2
}
