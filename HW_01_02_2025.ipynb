{
 "cells": [
  {
   "cell_type": "markdown",
   "metadata": {},
   "source": [
    "Задание 1 <br>\n",
    "\n",
    "        Создайте класс Device, который содержит информацию об устройстве.Спомощью механизма наследования, реализуйте класс класс CoffeeMashine (содержит информацию о кофемашине),класс Blender (содержит информацию о блендере), класс MeatGrinder (содержит информацию о мясорубке).Каждый из классов должен содержать необходимые для работы методы."
   ]
  },
  {
   "cell_type": "code",
   "execution_count": 7,
   "metadata": {},
   "outputs": [
    {
     "name": "stdout",
     "output_type": "stream",
     "text": [
      "Звуков нет. 我为中国党和人民服务 не доехала\n",
      "valera: издает бз-бз-бз\n",
      "Vova: издает бр-бр-бр\n"
     ]
    }
   ],
   "source": [
    "class Device:\n",
    "    def __init__(self, name, voltage, socket ):\n",
    "        self.name = name \n",
    "        self.voltage = voltage \n",
    "        self.socket = socket \n",
    "\n",
    "class CoffeMachine(Device):\n",
    "    def work(self):\n",
    "        return f'Звуков нет. {self.name} не доехала'\n",
    "\n",
    "class Blender(Device):\n",
    "    def work(self):\n",
    "        return f'{self.name}: издает бр-бр-бр'\n",
    "\n",
    "class Grinder(Device):\n",
    "    def work(self):\n",
    "        return f'{self.name}: издает бз-бз-бз'\n",
    "\n",
    "coffemachine = CoffeMachine('我为中国党和人民服务', 100, 'China')\n",
    "print(coffemachine.work())\n",
    "\n",
    "meatgrinder = Grinder('valera', 355, 'russian')\n",
    "print(meatgrinder.work())\n",
    "\n",
    "blender = Blender('Vova', 666, 'american')\n",
    "print(blender.work())"
   ]
  },
  {
   "cell_type": "markdown",
   "metadata": {},
   "source": [
    "Задание 2 <br>\n",
    "\n",
    "        Создайте класс Ship, который содержит информацию о корабле.С помощью механизма наследования, реализуйте класс Frigate (содержит информацию о фрегате), класс Destroyer (содержит информацию об эсминце), класс Cruiser (содержит информацию о крейсере).Каждый из классов должен содержать необходимые для работы методы."
   ]
  },
  {
   "cell_type": "code",
   "execution_count": 9,
   "metadata": {},
   "outputs": [
    {
     "name": "stdout",
     "output_type": "stream",
     "text": [
      "\"ship1\" движется со скоростью: 60. \n",
      "Имя: ship1, масса: 400 тонн, скорость: 60 км/ч.\n",
      "-----\n",
      "\"ship2\" движется со скоростью: 30 км/ч. \n",
      "Имя: ship2, масса: 100, скорость: 30 км/ч.\n",
      "-----\n",
      "\"ship2\" движется со скоростью: 45 км/ч. \n",
      "Имя: ship2, масса: 1000 тонн, скорость: 45 км/ч.\n"
     ]
    }
   ],
   "source": [
    "class Ship:\n",
    "\n",
    "    def __init__(self, name, weight, speed):\n",
    "        self.name = name \n",
    "        self.weight = weight \n",
    "        self.speed = speed\n",
    "\n",
    "class Frigate(Ship):\n",
    "\n",
    "    def move(self):\n",
    "        return f'\"{self.name}\" движется со скоростью: {self.speed}. '\n",
    "    \n",
    "    def show_info(self):\n",
    "        return f'Имя: {self.name}, масса: {self.weight} тонн, скорость: {self.speed} км/ч.'\n",
    "\n",
    "class Destroyer(Ship):\n",
    "\n",
    "    def move(self):\n",
    "        return f'\"{self.name}\" движется со скоростью: {self.speed} км/ч. '\n",
    "    \n",
    "    def show_info(self):\n",
    "        return f'Имя: {self.name}, масса: {self.weight}, скорость: {self.speed} км/ч.'\n",
    "    \n",
    "class Cruiser(Ship):\n",
    "\n",
    "    def move(self):\n",
    "        return f'\"{self.name}\" движется со скоростью: {self.speed} км/ч. '\n",
    "    \n",
    "    def show_info(self):\n",
    "        return f'Имя: {self.name}, масса: {self.weight} тонн, скорость: {self.speed} км/ч.'\n",
    "\n",
    "frigate = Frigate('ship1', '400', 60)\n",
    "print(frigate.move())\n",
    "print(frigate.show_info())\n",
    "\n",
    "print('-----')\n",
    "\n",
    "destroyer = Destroyer('ship2', '100', 30)\n",
    "print(destroyer.move())\n",
    "print(destroyer.show_info())\n",
    "\n",
    "print('-----')\n",
    "\n",
    "cruiser = Cruiser('ship2', '1000', 45)\n",
    "print(cruiser.move())\n",
    "print(cruiser.show_info())"
   ]
  },
  {
   "cell_type": "markdown",
   "metadata": {},
   "source": [
    "Задание 3\n",
    "\n",
    "        Запрограммируйте класс Money (объект класса оперирует одной валютой) для работы с деньгами.В классе должны быть предусмотрены поле для хранения целой части денег (доллары, евро, гривны и т.д.) и поле для хранения копеек (центы, евроценты, копейки и т.д.).Реализовать методы для вывода суммы на экран, задания значений для частей. "
   ]
  },
  {
   "cell_type": "code",
   "execution_count": 5,
   "metadata": {},
   "outputs": [
    {
     "data": {
      "text/plain": [
       "'У вас 99.89 рублей '"
      ]
     },
     "execution_count": 5,
     "metadata": {},
     "output_type": "execute_result"
    }
   ],
   "source": [
    "class Money:\n",
    "    def __init__(self, name, value, value_float):\n",
    "        self.name = name \n",
    "        self.value = value \n",
    "        self.value_float = value_float \n",
    "    \n",
    "    def show_info(self):\n",
    "        return f\"У вас {self.value}.{self.value_float} {self.name} \"\n",
    "\n",
    "money = Money('рублей', 99, 89)\n",
    "money.show_info()"
   ]
  }
 ],
 "metadata": {
  "kernelspec": {
   "display_name": "Python 3",
   "language": "python",
   "name": "python3"
  },
  "language_info": {
   "codemirror_mode": {
    "name": "ipython",
    "version": 3
   },
   "file_extension": ".py",
   "mimetype": "text/x-python",
   "name": "python",
   "nbconvert_exporter": "python",
   "pygments_lexer": "ipython3",
   "version": "3.13.0"
  }
 },
 "nbformat": 4,
 "nbformat_minor": 2
}
