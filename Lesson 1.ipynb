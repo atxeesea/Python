{
 "cells": [
  {
   "cell_type": "code",
   "execution_count": 21,
   "metadata": {},
   "outputs": [
    {
     "name": "stdout",
     "output_type": "stream",
     "text": [
      "Hello world!\n"
     ]
    }
   ],
   "source": [
    "print('Hello world!')"
   ]
  },
  {
   "cell_type": "markdown",
   "metadata": {},
   "source": [
    "Python - интерпретируемый язык программирования. Построчно принимает команды и сразу выполняет их. \n",
    "Преимущества: легко заметить ошибки. Недостатки: медленные.\n",
    "Типы интерпретаторов:\n",
    "* простой (JS)\n",
    "* компилирующий (Python)\n",
    "\n",
    "Python - язык программирования со строгая динамическая типизация. \n",
    "Строгая: Язык не производит неявные преобразования типов. Динамическая: типы объектов определяются в процессе исполнения программы.\n",
    "\n",
    "Типы данных:\n",
    "- Изменяемые\n",
    "- Неизменяемые. Python не перезаписывает объект, а создает новый объект с таким же именем."
   ]
  },
  {
   "cell_type": "code",
   "execution_count": 22,
   "metadata": {},
   "outputs": [
    {
     "name": "stdout",
     "output_type": "stream",
     "text": [
      "140706437562928\n",
      "140706437563088\n"
     ]
    }
   ],
   "source": [
    "int_obj = 10 # неизменяемый тип данных\n",
    "print(id(int_obj))\n",
    "int_obj += 5\n",
    "print(id(int_obj))"
   ]
  },
  {
   "cell_type": "markdown",
   "metadata": {},
   "source": [
    "Типы данных:\n",
    "- Числа (целые *int*, с плавающей точкой *float*, комплексные *complex*)\n",
    "- Строки - последовательности символов\n",
    "- Списки - упорядоченная [коллекция объектов]\n",
    "- Кортежи - (неизменяемые списки)\n",
    "- Словарь - неупорядоченная {коллекция пар \"ключ - значение\"}.\n",
    "- Файлы\n",
    "- Булев "
   ]
  },
  {
   "cell_type": "code",
   "execution_count": 23,
   "metadata": {},
   "outputs": [
    {
     "name": "stdout",
     "output_type": "stream",
     "text": [
      "<class 'str'>\n",
      "True\n"
     ]
    }
   ],
   "source": [
    "data = input('Insert your data')\n",
    "print(type(data))\n",
    "print(data.isdigit())# проверить, является ли числом"
   ]
  },
  {
   "cell_type": "markdown",
   "metadata": {},
   "source": [
    "**18.09 лекция**"
   ]
  },
  {
   "cell_type": "markdown",
   "metadata": {},
   "source": [
    "Оператор - символ языка программирования, который оперирует значениями. Строки можно умножать и складывать, а с числами делать любые вычисления."
   ]
  },
  {
   "cell_type": "code",
   "execution_count": 24,
   "metadata": {},
   "outputs": [
    {
     "name": "stdout",
     "output_type": "stream",
     "text": [
      "AcademyAcademyAcademyAcademy\n"
     ]
    }
   ],
   "source": [
    "a = 'Acad'\n",
    "b = 'emy'\n",
    "c = 4 \n",
    "\n",
    "print((a+b)*c) # умножение и сложениестрок"
   ]
  },
  {
   "cell_type": "code",
   "execution_count": 25,
   "metadata": {},
   "outputs": [
    {
     "name": "stdout",
     "output_type": "stream",
     "text": [
      "[312, 9, 8, 6, 5, 1]\n"
     ]
    }
   ],
   "source": [
    "list = [1, 5, 8, 9, 6, 312]\n",
    "\n",
    "list.sort(reverse=True) # sort от большего к меньшему\n",
    "\n",
    "print(list)"
   ]
  },
  {
   "cell_type": "code",
   "execution_count": 26,
   "metadata": {},
   "outputs": [
    {
     "name": "stdout",
     "output_type": "stream",
     "text": [
      "3\n",
      "1\n",
      "1000\n"
     ]
    },
    {
     "data": {
      "text/plain": [
       "'\\n\\nЕще один \\nспособ записи\\nкомментариев\\n\\n'"
      ]
     },
     "execution_count": 26,
     "metadata": {},
     "output_type": "execute_result"
    }
   ],
   "source": [
    "a = 10\n",
    "b = 5\n",
    "c = 3\n",
    "\n",
    "print(a // c) # целое число\n",
    "print( a % c) # остаток от деления\n",
    "print(a ** c) # возведение в степень\n",
    "\n",
    "'''\n",
    "\n",
    "Еще один \n",
    "способ записи\n",
    "комментариев\n",
    "\n",
    "'''"
   ]
  },
  {
   "cell_type": "code",
   "execution_count": 27,
   "metadata": {},
   "outputs": [
    {
     "name": "stdout",
     "output_type": "stream",
     "text": [
      "Прибавили 2 к вашему числу:  4\n",
      "Прибавили 2 к вашему числу: 4\n"
     ]
    }
   ],
   "source": [
    "var = input('Введите число: ')\n",
    "var = int(var) + 1\n",
    "var += 1\n",
    "print('Прибавили 2 к вашему числу: ', var)\n",
    "print(f'Прибавили 2 к вашему числу: {var}')# f-строки"
   ]
  },
  {
   "cell_type": "code",
   "execution_count": 28,
   "metadata": {},
   "outputs": [
    {
     "ename": "IndexError",
     "evalue": "string index out of range",
     "output_type": "error",
     "traceback": [
      "\u001b[1;31m---------------------------------------------------------------------------\u001b[0m",
      "\u001b[1;31mIndexError\u001b[0m                                Traceback (most recent call last)",
      "\u001b[1;32m~\\AppData\\Local\\Temp\\ipykernel_9564\\661253126.py\u001b[0m in \u001b[0;36m<module>\u001b[1;34m\u001b[0m\n\u001b[0;32m      4\u001b[0m \u001b[1;33m\u001b[0m\u001b[0m\n\u001b[0;32m      5\u001b[0m \u001b[0mfirst\u001b[0m \u001b[1;33m=\u001b[0m \u001b[0mint\u001b[0m\u001b[1;33m(\u001b[0m\u001b[0mnum\u001b[0m\u001b[1;33m[\u001b[0m\u001b[1;36m0\u001b[0m\u001b[1;33m]\u001b[0m\u001b[1;33m)\u001b[0m\u001b[1;33m\u001b[0m\u001b[1;33m\u001b[0m\u001b[0m\n\u001b[1;32m----> 6\u001b[1;33m \u001b[0msecond\u001b[0m \u001b[1;33m=\u001b[0m \u001b[0mint\u001b[0m\u001b[1;33m(\u001b[0m\u001b[0mnum\u001b[0m\u001b[1;33m[\u001b[0m\u001b[1;36m1\u001b[0m\u001b[1;33m]\u001b[0m\u001b[1;33m)\u001b[0m\u001b[1;33m\u001b[0m\u001b[1;33m\u001b[0m\u001b[0m\n\u001b[0m\u001b[0;32m      7\u001b[0m \u001b[0mthird\u001b[0m \u001b[1;33m=\u001b[0m \u001b[0mint\u001b[0m\u001b[1;33m(\u001b[0m\u001b[0mnum\u001b[0m\u001b[1;33m[\u001b[0m\u001b[1;36m2\u001b[0m\u001b[1;33m]\u001b[0m\u001b[1;33m)\u001b[0m\u001b[1;33m\u001b[0m\u001b[1;33m\u001b[0m\u001b[0m\n\u001b[0;32m      8\u001b[0m \u001b[0mfourth\u001b[0m \u001b[1;33m=\u001b[0m \u001b[0mint\u001b[0m\u001b[1;33m(\u001b[0m\u001b[0mnum\u001b[0m\u001b[1;33m[\u001b[0m\u001b[1;36m3\u001b[0m\u001b[1;33m]\u001b[0m\u001b[1;33m)\u001b[0m\u001b[1;33m\u001b[0m\u001b[1;33m\u001b[0m\u001b[0m\n",
      "\u001b[1;31mIndexError\u001b[0m: string index out of range"
     ]
    }
   ],
   "source": [
    "# Task 1\n",
    "\n",
    "num = input('введите 6-ти значное число')\n",
    "\n",
    "first = int(num[0])\n",
    "second = int(num[1])\n",
    "third = int(num[2])\n",
    "fourth = int(num[3])\n",
    "fifth = int(num[4])\n",
    "sixth = int(num[5])\n",
    "\n",
    "first_three_sum = first + second + third\n",
    "second_three_sum = fourth + fifth + sixth\n",
    "\n",
    "if first_three_sum == second_three_sum:\n",
    "    print('Ваше число счастливое')\n",
    "elif first_three_sum > second_three_sum:\n",
    "    print('Первое число больше')\n",
    "elif first_three_sum < second_three_sum: \n",
    "    print('Второе число больше')\n",
    "else:\n",
    "    print('Ваши числа невозможно сравнить')\n"
   ]
  },
  {
   "cell_type": "code",
   "execution_count": 39,
   "metadata": {},
   "outputs": [
    {
     "name": "stdout",
     "output_type": "stream",
     "text": [
      "Ваше число 723895 превратилось в число: 593827\n"
     ]
    }
   ],
   "source": [
    "#Task 2\n",
    "num = input('Введите 6-ти значное число: ')\n",
    "\n",
    "first = num[0]\n",
    "second = num[1]\n",
    "third = num[2]\n",
    "fourth = num[3]\n",
    "fifth = num[4]\n",
    "sixth = num[5]\n",
    "\n",
    "num_change = sixth + fifth + third + fourth + second + first\n",
    "print(f'Ваше число {num} превратилось в число: {num_change}')\n",
    "\n"
   ]
  },
  {
   "cell_type": "code",
   "execution_count": 41,
   "metadata": {},
   "outputs": [
    {
     "name": "stdout",
     "output_type": "stream",
     "text": [
      "1\n",
      "1\n",
      "0\n",
      "0.0\n",
      "False\n",
      "True\n",
      "True\n",
      "False\n"
     ]
    }
   ],
   "source": [
    "a = True\n",
    "b = False\n",
    "print(a + b)\n",
    "print(a - b)\n",
    "print(a * b)\n",
    "print(b / a) # / на 0 нельзя, а 0 на 1 можно.\n",
    "print(a < b)\n",
    "print(a > b)\n",
    "print(a | b) # Дизъюнкция (Оператор ИЛИ); T | T = T, T | F = T, F | F = F. Вместо | можно писать or.\n",
    "print(a & b) # Конъюнкция (Оператор И); T & T = T, T & F = F, F | F = F. Вместо & можно писать and."
   ]
  },
  {
   "cell_type": "code",
   "execution_count": 50,
   "metadata": {},
   "outputs": [
    {
     "name": "stdout",
     "output_type": "stream",
     "text": [
      "Year 2000 is leap\n"
     ]
    }
   ],
   "source": [
    "year = 2000\n",
    "if year % 4 == 0 \\\n",
    "    and year % 100 != 0 \\\n",
    "    or year % 400 == 0: # '\\' знак переноса строки\n",
    "    print('Year', year, 'is leap')"
   ]
  },
  {
   "cell_type": "code",
   "execution_count": 57,
   "metadata": {},
   "outputs": [
    {
     "name": "stdout",
     "output_type": "stream",
     "text": [
      "Even number\n"
     ]
    }
   ],
   "source": [
    "num = input('введите ваше число')\n",
    "num = int(num)\n",
    "if num % 2 == 0:\n",
    "    print('Even number')\n",
    "else: \n",
    "    print('Odd number')"
   ]
  },
  {
   "cell_type": "code",
   "execution_count": 61,
   "metadata": {},
   "outputs": [
    {
     "name": "stdout",
     "output_type": "stream",
     "text": [
      "Number is not multiply 7\n"
     ]
    }
   ],
   "source": [
    "num = input('введите ваше число')\n",
    "num = int(num)\n",
    "if num % 7 == 0:\n",
    "    print('Number is multiple 7')\n",
    "else: \n",
    "    print('Number is not multiple 7')"
   ]
  },
  {
   "cell_type": "code",
   "execution_count": 69,
   "metadata": {},
   "outputs": [
    {
     "name": "stdout",
     "output_type": "stream",
     "text": [
      "Числа равны друг другу\n"
     ]
    }
   ],
   "source": [
    "num_1 = input('введите ваше число')\n",
    "num_1 = int(num)\n",
    "num_2 = input('введите ваше число')\n",
    "num_2 = int(num)\n",
    "if num_1 > num_2:\n",
    "    print(f'Число {num_1} больше числа {num_2}')\n",
    "elif num_1 < num_2:\n",
    "    print(f'Число {num_1} менеьше числа {num_2}')\n",
    "else:\n",
    "    print(\"Числа равны друг другу\")"
   ]
  },
  {
   "cell_type": "markdown",
   "metadata": {},
   "source": [
    "**23.09 лекция**"
   ]
  },
  {
   "cell_type": "markdown",
   "metadata": {},
   "source": [
    "Исключения"
   ]
  },
  {
   "cell_type": "markdown",
   "metadata": {},
   "source": [
    "**Типы исключений:**\n",
    "- BaseException - базовый тип из которого поисходят все остальные\n",
    "- Exception - стандартные и пользовательские ошибки\n",
    "---\n",
    "- ArithmeticError - арифметическая ошибка\n",
    "- OverFlowError - возникает когда результат ариф операции сликшом велик для представления\n",
    "- ZeroDivisionError - деление на ноль \n",
    "---\n",
    "- MemoryError - переполнение памяти\n",
    "---\n",
    "- ImportError - импортировать модуль или атрибут не удалось\n",
    "---\n",
    "- LookupError - некорректный индекс или ключ\n",
    "- IndexError -  индекс не входит в диапазон элементов\n",
    "- KeyError - несуществующий ключ\n",
    "---\n",
    "- NameError - не найдено имя переменной \n",
    "---\n",
    "- RuntimeError - появяется, когда не подходит под другие категориии\n",
    "---\n",
    "- SyntaxError - синтаксическая ошибка\n",
    "- IndentationError - неправильные отступы\n",
    "- TabError - смешивание в отступах табуляции и пробелов\n",
    "---\n",
    "- TypeError - операция применена к объекту несоот. типа (str*num)\n",
    "- ValueError - получает аргумент правильного типа, но некорректного значения\n"
   ]
  },
  {
   "cell_type": "markdown",
   "metadata": {},
   "source": [
    "**Перехват исключений** \n",
    "\"try...except\""
   ]
  },
  {
   "cell_type": "code",
   "execution_count": 8,
   "metadata": {},
   "outputs": [
    {
     "name": "stdout",
     "output_type": "stream",
     "text": [
      "Error\n",
      "Выведится не зависимо от того, какой результат будет\n"
     ]
    }
   ],
   "source": [
    "try:\n",
    "    a*10\n",
    "except:\n",
    "    print('Error')"
   ]
  },
  {
   "cell_type": "code",
   "execution_count": 11,
   "metadata": {},
   "outputs": [
    {
     "name": "stdout",
     "output_type": "stream",
     "text": [
      "Error\n",
      "Выведится не зависимо от того, какой результат будет\n"
     ]
    }
   ],
   "source": [
    "#Блок finally\n",
    "try:\n",
    "    a*10\n",
    "except:\n",
    "    print('Error')\n",
    "finally:\n",
    "    print('Выведится не зависимо от того, какой результат будет')"
   ]
  },
  {
   "cell_type": "code",
   "execution_count": 1,
   "metadata": {},
   "outputs": [
    {
     "name": "stdout",
     "output_type": "stream",
     "text": [
      "u have 3 apples\n"
     ]
    }
   ],
   "source": [
    "#raise Exception (Exception - Исключение)\n",
    "try:\n",
    "    apples = int(input('entes the amount of apple u have: '))\n",
    "    if apples < 0:\n",
    "        raise Exception\n",
    "    if type(apples) != int:\n",
    "        raise Exception\n",
    "    print('u have', apples, 'apples')\n",
    "except Exception:\n",
    "    print(f\"u can't have {apples} apples\")"
   ]
  },
  {
   "cell_type": "code",
   "execution_count": 5,
   "metadata": {},
   "outputs": [
    {
     "name": "stdout",
     "output_type": "stream",
     "text": [
      "invalid literal for int() with base 10: 'ten'\n"
     ]
    }
   ],
   "source": [
    "try:\n",
    "    x = int(input())\n",
    "except Exception as ex:\n",
    "    print(ex)"
   ]
  },
  {
   "cell_type": "markdown",
   "metadata": {},
   "source": [
    "**Циклы**"
   ]
  },
  {
   "cell_type": "markdown",
   "metadata": {},
   "source": [
    "Итерация - повторение одной и той же последовательности действий с целью достижения результата."
   ]
  },
  {
   "cell_type": "code",
   "execution_count": 9,
   "metadata": {},
   "outputs": [
    {
     "name": "stdout",
     "output_type": "stream",
     "text": [
      "1 is greater than 0 and less than 3\n",
      "2 is greater than 0 and less than 3\n"
     ]
    }
   ],
   "source": [
    "#цикл While\n",
    "number = 1\n",
    "while number < 3:\n",
    "    print(f'{number} is greater than 0 and less than 3')\n",
    "    number += 1"
   ]
  },
  {
   "cell_type": "code",
   "execution_count": 5,
   "metadata": {},
   "outputs": [
    {
     "name": "stdout",
     "output_type": "stream",
     "text": [
      "A\n",
      "n\n",
      "d\n",
      "r\n",
      "e\n",
      "j\n"
     ]
    }
   ],
   "source": [
    "#цикл for\n",
    "line = input('Enter some string: ')\n",
    "\n",
    "for c in line[0: 6 : 1]: #начало(включая) : конец(не включая) : шаг\n",
    "#for c in line[0: 6 : -1]: если сделать шаг отрицательным, то будет идти с конца\n",
    "    print(c)"
   ]
  },
  {
   "cell_type": "code",
   "execution_count": 2,
   "metadata": {},
   "outputs": [
    {
     "name": "stdout",
     "output_type": "stream",
     "text": [
      "1\t2\t3\t4\t5\t6\t7\t8\t9\t\n",
      "\n",
      "2\t4\t6\t8\t10\t12\t14\t16\t18\t\n",
      "\n",
      "3\t6\t9\t12\t15\t18\t21\t24\t27\t\n",
      "\n",
      "4\t8\t12\t16\t20\t24\t28\t32\t36\t\n",
      "\n",
      "5\t10\t15\t20\t25\t30\t35\t40\t45\t\n",
      "\n",
      "6\t12\t18\t24\t30\t36\t42\t48\t54\t\n",
      "\n",
      "7\t14\t21\t28\t35\t42\t49\t56\t63\t\n",
      "\n",
      "8\t16\t24\t32\t40\t48\t56\t64\t72\t\n",
      "\n",
      "9\t18\t27\t36\t45\t54\t63\t72\t81\t\n",
      "\n"
     ]
    }
   ],
   "source": [
    "for i in range(1, 10): #1 - включительно, а 10 не входит\n",
    "    for j in range(1, 10):\n",
    "        print(i * j, end=\"\\t\")\n",
    "    print('\\n')"
   ]
  },
  {
   "cell_type": "markdown",
   "metadata": {},
   "source": [
    "Дополнительные операторы для циклов:\n",
    "- break - испльзуется для прирывания использования цикла \n",
    "- continue - используется для прерывания текущей операции\n",
    "- else - выполняется в том случае, если цикл удачно завершен"
   ]
  },
  {
   "cell_type": "markdown",
   "metadata": {},
   "source": [
    "**25.09 лекция**"
   ]
  },
  {
   "cell_type": "code",
   "execution_count": 17,
   "metadata": {},
   "outputs": [
    {
     "name": "stdout",
     "output_type": "stream",
     "text": [
      "625\n"
     ]
    }
   ],
   "source": [
    "s = 0\n",
    "i = 1\n",
    "N = 1000\n",
    "\n",
    "# 1, 3 ,5 ,7\n",
    "while i <= N and i <= 50:\n",
    "    s += i \n",
    "    i += 2 #итерация цикла\n",
    "\n",
    "print(s)"
   ]
  },
  {
   "cell_type": "code",
   "execution_count": 22,
   "metadata": {},
   "outputs": [
    {
     "name": "stdout",
     "output_type": "stream",
     "text": [
      "1\n",
      "2\n",
      "3\n",
      "4\n",
      "5\n",
      "6\n",
      "7\n",
      "8\n",
      "9\n"
     ]
    }
   ],
   "source": [
    "i = 1\n",
    "\n",
    "while i < 10:\n",
    "    print(i)\n",
    "    i += 1"
   ]
  },
  {
   "cell_type": "code",
   "execution_count": 23,
   "metadata": {},
   "outputs": [
    {
     "name": "stdout",
     "output_type": "stream",
     "text": [
      "-1\n",
      "-2\n",
      "-3\n",
      "-4\n",
      "-5\n",
      "-6\n",
      "-7\n",
      "-8\n",
      "-9\n"
     ]
    }
   ],
   "source": [
    "i = 1\n",
    "\n",
    "while i < 10:\n",
    "    print(-i)\n",
    "    i += 1"
   ]
  },
  {
   "cell_type": "code",
   "execution_count": 21,
   "metadata": {},
   "outputs": [
    {
     "name": "stdout",
     "output_type": "stream",
     "text": [
      "-1\n",
      "-2\n",
      "-3\n",
      "-4\n",
      "-5\n",
      "-6\n",
      "-7\n",
      "-8\n",
      "-9\n"
     ]
    }
   ],
   "source": [
    "N = -10\n",
    "i = -1\n",
    "while i > N:\n",
    "    print(i)\n",
    "    i -= 1\n"
   ]
  },
  {
   "cell_type": "code",
   "execution_count": 24,
   "metadata": {},
   "outputs": [
    {
     "name": "stdout",
     "output_type": "stream",
     "text": [
      "Вход в систему\n"
     ]
    }
   ],
   "source": [
    "pass_true = 'password'\n",
    "ps = ''\n",
    "\n",
    "while ps != pass_true:\n",
    "    ps = input('Введите пароль: ')\n",
    "\n",
    "print('Вход в систему')"
   ]
  },
  {
   "cell_type": "code",
   "execution_count": 25,
   "metadata": {},
   "outputs": [
    {
     "name": "stdout",
     "output_type": "stream",
     "text": [
      "3\n",
      "6\n",
      "9\n",
      "12\n",
      "15\n",
      "18\n"
     ]
    }
   ],
   "source": [
    "N = 20\n",
    "i = 1\n",
    "\n",
    "while i <= 20:\n",
    "    if i % 3 == 0:\n",
    "        print(i)\n",
    "    i += 1    "
   ]
  },
  {
   "cell_type": "code",
   "execution_count": 26,
   "metadata": {},
   "outputs": [
    {
     "name": "stdout",
     "output_type": "stream",
     "text": [
      "запуск цикла\n",
      "завершение цикла\n"
     ]
    }
   ],
   "source": [
    "print('запуск цикла')\n",
    "\n",
    "i = 0\n",
    "while True:\n",
    "    i += 1\n",
    "    break\n",
    "\n",
    "print('завершение цикла')"
   ]
  },
  {
   "cell_type": "code",
   "execution_count": 29,
   "metadata": {},
   "outputs": [
    {
     "name": "stdout",
     "output_type": "stream",
     "text": [
      "0\n",
      "1\n",
      "2\n",
      "3\n",
      "True\n"
     ]
    }
   ],
   "source": [
    "d = [1, 5, 3, 6, 0, -4]\n",
    "\n",
    "flFind = False\n",
    "i = 0\n",
    "while i < len(d):\n",
    "    print(i)\n",
    "    flFind = d[i] % 2 == 0\n",
    "    if flFind:\n",
    "        break\n",
    "\n",
    "    i += 1\n",
    "\n",
    "print(flFind)"
   ]
  },
  {
   "cell_type": "code",
   "execution_count": 37,
   "metadata": {},
   "outputs": [
    {
     "name": "stdout",
     "output_type": "stream",
     "text": [
      "s = 1\n"
     ]
    },
    {
     "ename": "ValueError",
     "evalue": "invalid literal for int() with base 10: ''",
     "output_type": "error",
     "traceback": [
      "\u001b[1;31m---------------------------------------------------------------------------\u001b[0m",
      "\u001b[1;31mValueError\u001b[0m                                Traceback (most recent call last)",
      "\u001b[1;32m~\\AppData\\Local\\Temp\\ipykernel_42024\\4035221233.py\u001b[0m in \u001b[0;36m<module>\u001b[1;34m\u001b[0m\n\u001b[0;32m      2\u001b[0m \u001b[0md\u001b[0m \u001b[1;33m=\u001b[0m \u001b[1;36m1\u001b[0m\u001b[1;33m\u001b[0m\u001b[1;33m\u001b[0m\u001b[0m\n\u001b[0;32m      3\u001b[0m \u001b[1;32mwhile\u001b[0m \u001b[0md\u001b[0m \u001b[1;33m!=\u001b[0m \u001b[1;36m0\u001b[0m \u001b[1;33m:\u001b[0m\u001b[1;33m\u001b[0m\u001b[1;33m\u001b[0m\u001b[0m\n\u001b[1;32m----> 4\u001b[1;33m     \u001b[0md\u001b[0m \u001b[1;33m=\u001b[0m \u001b[0mint\u001b[0m\u001b[1;33m(\u001b[0m\u001b[0minput\u001b[0m\u001b[1;33m(\u001b[0m\u001b[1;34m'Введите ваше число: '\u001b[0m\u001b[1;33m)\u001b[0m\u001b[1;33m)\u001b[0m\u001b[1;33m\u001b[0m\u001b[1;33m\u001b[0m\u001b[0m\n\u001b[0m\u001b[0;32m      5\u001b[0m     \u001b[1;32mif\u001b[0m \u001b[0md\u001b[0m \u001b[1;33m%\u001b[0m \u001b[1;36m2\u001b[0m \u001b[1;33m==\u001b[0m \u001b[1;36m0\u001b[0m\u001b[1;33m:\u001b[0m\u001b[1;33m\u001b[0m\u001b[1;33m\u001b[0m\u001b[0m\n\u001b[0;32m      6\u001b[0m         \u001b[1;32mcontinue\u001b[0m\u001b[1;33m\u001b[0m\u001b[1;33m\u001b[0m\u001b[0m\n",
      "\u001b[1;31mValueError\u001b[0m: invalid literal for int() with base 10: ''"
     ]
    }
   ],
   "source": [
    "s = 0 \n",
    "d = 1\n",
    "while d != 0 :\n",
    "    d = int(input('Введите ваше число: '))\n",
    "    if d % 2 == 0:\n",
    "        continue\n",
    "\n",
    "    s += d \n",
    "    print(f's = {str(s)}')"
   ]
  },
  {
   "cell_type": "code",
   "execution_count": 57,
   "metadata": {},
   "outputs": [
    {
     "name": "stdout",
     "output_type": "stream",
     "text": [
      "120\n",
      "1\n",
      "2\n",
      "3\n",
      "4\n",
      "5\n"
     ]
    }
   ],
   "source": [
    "d = [1, 2, 3, 4, 5]\n",
    "p = 1\n",
    "\n",
    "for q in d:\n",
    "    p *= q\n",
    "print(p)\n",
    "\n",
    "\n",
    "for i in d:\n",
    "    print(i)"
   ]
  },
  {
   "cell_type": "markdown",
   "metadata": {},
   "source": [
    "**function range**"
   ]
  },
  {
   "cell_type": "code",
   "execution_count": 65,
   "metadata": {},
   "outputs": [
    {
     "name": "stdout",
     "output_type": "stream",
     "text": [
      "range(0, 5)\n",
      "[0, 1, 2, 3, 4]\n",
      "[]\n",
      "[]\n",
      "[-10, -9, -8, -7, -6]\n",
      "[-10, -12, -14, -16, -18]\n"
     ]
    }
   ],
   "source": [
    "print(range(5))\n",
    "print(list(range(5)))\n",
    "print(list(range(0)))\n",
    "print(list(range(-5)))\n",
    "print(list(range(-10, -5)))\n",
    "print(list(range(-10, -20, -2)))"
   ]
  },
  {
   "cell_type": "code",
   "execution_count": 66,
   "metadata": {},
   "outputs": [
    {
     "name": "stdout",
     "output_type": "stream",
     "text": [
      "[0, 0, 0, 0, 0]\n"
     ]
    }
   ],
   "source": [
    "#пример range\n",
    "d = [1, 2, 3, 4, 5]\n",
    "\n",
    "p = 1\n",
    "for i in range(len(d)):\n",
    "    d[i] = 0\n",
    "\n",
    "print(d)"
   ]
  },
  {
   "cell_type": "code",
   "execution_count": 67,
   "metadata": {},
   "outputs": [
    {
     "name": "stdout",
     "output_type": "stream",
     "text": [
      "6.485470860550342\n"
     ]
    }
   ],
   "source": [
    "# s = 1/2 + 1/3 + 1/4 + ... + 1/1000\n",
    "\n",
    "s = 0\n",
    "for i in range(2, 1001):\n",
    "    s += 1/i\n",
    "\n",
    "print(s)"
   ]
  },
  {
   "cell_type": "markdown",
   "metadata": {},
   "source": [
    "**Библиотека os python**"
   ]
  },
  {
   "cell_type": "code",
   "execution_count": 82,
   "metadata": {},
   "outputs": [
    {
     "name": "stdout",
     "output_type": "stream",
     "text": [
      "Текущая директория:  c:\\Users\\279015427\\Documents\\folder\\folder\n",
      "c:\\Users\\279015427\\Documents\\folder\\folder\\folder\n",
      "c:\\Users\\279015427\\Documents\\folder\\folder\n"
     ]
    }
   ],
   "source": [
    "import os\n",
    "\n",
    "print('Текущая директория: ', os.getcwd()) #get current work directory\n",
    "\n",
    "if not os.path.isdir('folder'):\n",
    "    os.mkdir('folder') #make directory\n",
    "\n",
    "os.chdir('folder') #change directory\n",
    "print(os.getcwd())\n",
    "os.chdir('..') #поднятся на уровень выше\n",
    "print(os.getcwd())"
   ]
  },
  {
   "attachments": {},
   "cell_type": "markdown",
   "metadata": {},
   "source": [
    "**30.09 Лекция** <br>\n",
    "**Строки. Списки**"
   ]
  },
  {
   "attachments": {},
   "cell_type": "markdown",
   "metadata": {},
   "source": [
    "**Мощность алфавита** — это количество символов в алфавите, которое вычисляется по формуле:<br>\n",
    "N = 2^b  <br>\n",
    "где:\n",
    " - N - Мощность алфавита\n",
    " - b - Кол-во бит для представления символа"
   ]
  },
  {
   "attachments": {},
   "cell_type": "markdown",
   "metadata": {},
   "source": [
    "**Юникод** (англ. Unicode) — стандарт кодирования символов, включающий в себя знаки почти всех письменных языков мира."
   ]
  },
  {
   "attachments": {},
   "cell_type": "markdown",
   "metadata": {},
   "source": [
    "**Cистемы исчисления:**\n",
    "- 2х: 0, 1\n",
    "- 8х: 0 - 7, 10 - 17, ...\n",
    "- 16x: 0-9, A, B, C, D, E, F"
   ]
  },
  {
   "attachments": {},
   "cell_type": "markdown",
   "metadata": {},
   "source": [
    "В **python строка** - пупорядоченные последовательности символов, используемые для хранения и представления текстовой информации"
   ]
  },
  {
   "attachments": {},
   "cell_type": "markdown",
   "metadata": {},
   "source": [
    "- *зашивровать* (выполнить кодирование) строку в байты: используется метод *encode* <br>\n",
    "- *расшифровать байты* (декодировать) в сроку: ипользуется метод *decode*"
   ]
  },
  {
   "cell_type": "code",
   "execution_count": 2,
   "metadata": {},
   "outputs": [
    {
     "name": "stdout",
     "output_type": "stream",
     "text": [
      "b'hello'\n",
      "hello\n"
     ]
    }
   ],
   "source": [
    "UserMessage = 'hello'\n",
    "\n",
    "UserMessageEnc = UserMessage.encode('utf-8')\n",
    "print(UserMessageEnc)\n",
    "\n",
    "UserMessageDec = UserMessageEnc.decode('utf-8')\n",
    "print(UserMessageDec)"
   ]
  },
  {
   "cell_type": "code",
   "execution_count": 3,
   "metadata": {},
   "outputs": [
    {
     "name": "stdout",
     "output_type": "stream",
     "text": [
      "1488753084240\n",
      "1488753096240\n"
     ]
    }
   ],
   "source": [
    "string = 'Hello'\n",
    "print(id(string))\n",
    "\n",
    "string = 'GoodBye'\n",
    "print(id(string))"
   ]
  },
  {
   "cell_type": "code",
   "execution_count": 15,
   "metadata": {},
   "outputs": [
    {
     "name": "stdout",
     "output_type": "stream",
     "text": [
      "str_1\n",
      "str_2\n",
      "str_3\n",
      "\n",
      "s\n",
      "18\n"
     ]
    }
   ],
   "source": [
    "string = '''str_1\n",
    "str_2\n",
    "str_3\n",
    "'''\n",
    "print(string)\n",
    "\n",
    "print(string[6])\n",
    "print(len(string))"
   ]
  },
  {
   "cell_type": "code",
   "execution_count": 14,
   "metadata": {},
   "outputs": [
    {
     "name": "stdout",
     "output_type": "stream",
     "text": [
      "OneTwo\n",
      "OneOneOneOneOne\n"
     ]
    }
   ],
   "source": [
    "#Конкатенация (объединение) строк\n",
    "str1 = 'One'\n",
    "str2 = 'Two'\n",
    "\n",
    "print(str1 + str2)\n",
    "\n",
    "#Дублирование строки (умножение)\n",
    "print(str1 * 5)"
   ]
  },
  {
   "cell_type": "code",
   "execution_count": 19,
   "metadata": {},
   "outputs": [
    {
     "data": {
      "text/plain": [
       "'Oneoneoneoneone'"
      ]
     },
     "execution_count": 19,
     "metadata": {},
     "output_type": "execute_result"
    }
   ],
   "source": [
    "str_x5 = str1 * 5\n",
    "str_x5.capitalize() #переводит первый символ строки str в верхний регистр\n",
    "\n",
    "str_3 = 'Hello world'\n",
    "str_3.title() #Делает все слова заглавной буквы\n",
    "\n",
    "str_x5.swapcase() #Поменяет регистр на противоположный\n"
   ]
  },
  {
   "attachments": {},
   "cell_type": "markdown",
   "metadata": {},
   "source": [
    "**str.count**( pattern [ ,startIndex [ ,endIndex ]] ) - определяет кол-во вхождений фрагмента pattern в строку str (или в ее часть прит задании диапозона поиска)"
   ]
  },
  {
   "cell_type": "code",
   "execution_count": 24,
   "metadata": {},
   "outputs": [
    {
     "name": "stdout",
     "output_type": "stream",
     "text": [
      "2\n",
      "0\n",
      "1\n"
     ]
    }
   ],
   "source": [
    "MyStr = \"Python was created in the late 1980's \\\n",
    "    by Guido van Rossum. Python- cool!\"\n",
    "\n",
    "print(MyStr.count('Python')) #2\n",
    "print(MyStr.count('Python',20,65)) #0\n",
    "print(MyStr.count('Python',10)) #1"
   ]
  },
  {
   "attachments": {},
   "cell_type": "markdown",
   "metadata": {},
   "source": [
    "**str.find**( pattern [ ,startIndex [ ,endIndex ]] ) - используется для поиска в строкке str нужного фрагмента pattern. <br>\n",
    "**Возвращаемый результат** - индекс начала первого вхождения фрагмента pattern в строку str или -1, если фрагмент pattern не входит в состав str."
   ]
  },
  {
   "cell_type": "code",
   "execution_count": 26,
   "metadata": {},
   "outputs": [
    {
     "name": "stdout",
     "output_type": "stream",
     "text": [
      "0\n",
      "-1\n",
      "63\n"
     ]
    }
   ],
   "source": [
    "MyStr = \"Python was created in the late 1980's \\\n",
    "    by Guido van Rossum. Python- cool!\"\n",
    "\n",
    "print(MyStr.find('Python')) #2\n",
    "print(MyStr.find('Python',20,65)) #0\n",
    "print(MyStr.find('Python',10)) #1"
   ]
  },
  {
   "attachments": {},
   "cell_type": "markdown",
   "metadata": {},
   "source": [
    "**str.rfind и str.rindex** - делает поиск последнего вхождения фрагмента в строку"
   ]
  },
  {
   "attachments": {},
   "cell_type": "markdown",
   "metadata": {},
   "source": [
    "**Методы форматирования строк:**"
   ]
  },
  {
   "cell_type": "code",
   "execution_count": 34,
   "metadata": {},
   "outputs": [
    {
     "name": "stdout",
     "output_type": "stream",
     "text": [
      "            Python            \n",
      "++++++++++++Python++++++++++++\n",
      "Python\n"
     ]
    }
   ],
   "source": [
    "#str.center( width [ ,fillchar ]) \n",
    "\n",
    "str = 'Python'\n",
    "print(str.center(30))\n",
    "print(str.center(30, '+'))\n",
    "print(str.center(4)) #если значение width меньше чем строка, то он оставит строку в том же виде"
   ]
  },
  {
   "attachments": {},
   "cell_type": "markdown",
   "metadata": {},
   "source": [
    "**Срез строки**"
   ]
  },
  {
   "cell_type": "code",
   "execution_count": 9,
   "metadata": {},
   "outputs": [
    {
     "name": "stdout",
     "output_type": "stream",
     "text": [
      "cde\n",
      "ace\n"
     ]
    }
   ],
   "source": [
    "#Индексированием\n",
    "s = 'abcdef'\n",
    "\n",
    "s2 = s[2:5] #второй индекс не входит, те от 2 до 4\n",
    "print(s2) #cde\n",
    "s3 = s[0:7:2] #шаг 2 (стандартно 1)\n",
    "print(s3) #ace"
   ]
  },
  {
   "cell_type": "code",
   "execution_count": 20,
   "metadata": {},
   "outputs": [
    {
     "name": "stdout",
     "output_type": "stream",
     "text": [
      "Welcome, Ivan Lets start game!\n"
     ]
    }
   ],
   "source": [
    "userLogin = 'Ivan'\n",
    "print('Welcome,', userLogin,'Lets start game!', sep=' ')"
   ]
  },
  {
   "attachments": {},
   "cell_type": "markdown",
   "metadata": {},
   "source": [
    "**Модуль string**"
   ]
  },
  {
   "cell_type": "code",
   "execution_count": 23,
   "metadata": {},
   "outputs": [
    {
     "name": "stdout",
     "output_type": "stream",
     "text": [
      "abcdefghijklmnopqrstuvwxyzABCDEFGHIJKLMNOPQRSTUVWXYZ\n",
      "abcdefghijklmnopqrstuvwxyz\n",
      "ABCDEFGHIJKLMNOPQRSTUVWXYZ\n",
      "0123456789abcdefghijklmnopqrstuvwxyzABCDEFGHIJKLMNOPQRSTUVWXYZ!\"#$%&'()*+,-./:;<=>?@[\\]^_`{|}~ \t\n",
      "\u000b\f\n"
     ]
    }
   ],
   "source": [
    "import string\n",
    "\n",
    "print(string.ascii_letters)\n",
    "print(string.ascii_lowercase)\n",
    "print(string.ascii_uppercase)\n",
    "print(string.printable)"
   ]
  },
  {
   "cell_type": "code",
   "execution_count": 56,
   "metadata": {},
   "outputs": [
    {
     "name": "stdout",
     "output_type": "stream",
     "text": [
      "Login: jciqho\n",
      "Passwod: 7t34ymwl\n"
     ]
    }
   ],
   "source": [
    "import string\n",
    "import random\n",
    "\n",
    "userLogin = ''.join(random.sample((string.ascii_lowercase), 6))\n",
    "userPass = ''.join(random.sample((string.ascii_lowercase + string.digits), 8))\n",
    "\n",
    "print(f'Login: {userLogin}')\n",
    "print(f'Passwod: {userPass}')"
   ]
  },
  {
   "attachments": {},
   "cell_type": "markdown",
   "metadata": {},
   "source": [
    "**02.10 Лекция <br>\n",
    "Списки**"
   ]
  },
  {
   "attachments": {},
   "cell_type": "markdown",
   "metadata": {},
   "source": [
    "- Массив - это поименованная совокупность однотипных элементов, упорядоченных по индексам, определяющим положение элемента в массиве.\n",
    "- коллекция - объект, который может хранить несколько коллекций, могут быть изменяемыми (и неизменяемыми)\n",
    "- изменяемость - вохможность добавления новых и удаленея существующих значений\n",
    "- уникальность - коллекция состоит только из неповторяющих элементов\n",
    "- упорядоченность - все элементы списка имеют свой индекс\n"
   ]
  },
  {
   "attachments": {},
   "cell_type": "markdown",
   "metadata": {},
   "source": [
    "**list** - изменяемая, упорядоченная коллекция значений любых типов данных\n",
    "\n"
   ]
  },
  {
   "cell_type": "code",
   "execution_count": 3,
   "metadata": {},
   "outputs": [
    {
     "name": "stdout",
     "output_type": "stream",
     "text": [
      "['Drama', 'Comedy', 'Fantasy']\n",
      "['Math', 'Algorithms', 'Databases']\n",
      "[]\n",
      "[]\n"
     ]
    }
   ],
   "source": [
    "# создание списков\n",
    "category = ['Drama', 'Comedy', 'Fantasy'] # 1 способ\n",
    "print(category)\n",
    "\n",
    "courses = list(('Math', 'Algorithms', 'Databases')) # 2 способ\n",
    "print(courses)\n",
    "\n",
    "# создание пустого списка\n",
    "studentScored = []\n",
    "print(studentScored)\n",
    "\n",
    "students = list()\n",
    "print(students)"
   ]
  },
  {
   "cell_type": "code",
   "execution_count": 12,
   "metadata": {},
   "outputs": [
    {
     "name": "stdout",
     "output_type": "stream",
     "text": [
      "['Algorithms', 2345, 7009, 'Networks', 'Databases', [1, 2.5, 45, 'Example']]\n"
     ]
    }
   ],
   "source": [
    "myCourses = ['Algorithms', 2345, 7009, 'Networks','Databases', [1, 2.5, 45, 'Example']]\n",
    "print(myCourses)"
   ]
  },
  {
   "cell_type": "code",
   "execution_count": 13,
   "metadata": {},
   "outputs": [
    {
     "name": "stdout",
     "output_type": "stream",
     "text": [
      "['a', 'b', 'c', 'd', 'e', 'f']\n"
     ]
    }
   ],
   "source": [
    "mySymbols = list(\"abcdef\")\n",
    "print(mySymbols)"
   ]
  },
  {
   "attachments": {},
   "cell_type": "markdown",
   "metadata": {},
   "source": [
    "**списковые включения** (list comprehensions, генераторы списков) - способ создания на освове генерируемых значений"
   ]
  },
  {
   "cell_type": "code",
   "execution_count": 15,
   "metadata": {},
   "outputs": [
    {
     "name": "stdout",
     "output_type": "stream",
     "text": [
      "[0, 1, 4, 9, 16, 25]\n"
     ]
    }
   ],
   "source": [
    "list1 = [i * i for i in range(6)]\n",
    "print(list1)"
   ]
  },
  {
   "cell_type": "code",
   "execution_count": 17,
   "metadata": {},
   "outputs": [
    {
     "name": "stdout",
     "output_type": "stream",
     "text": [
      "['e*', 'x*', 'a*', 'm*', 'p*', 'l*', 'e*']\n"
     ]
    }
   ],
   "source": [
    "list2 = [ i + '*' for i in 'example'] \n",
    "print(list2)"
   ]
  },
  {
   "attachments": {},
   "cell_type": "markdown",
   "metadata": {},
   "source": [
    "newList = [expression for item in sequence if condition]\n",
    "\n",
    "expression - выражение, которое выполняется над таким элементом item в последовательности sequence, для которого condition == True"
   ]
  },
  {
   "cell_type": "code",
   "execution_count": 18,
   "metadata": {},
   "outputs": [
    {
     "name": "stdout",
     "output_type": "stream",
     "text": [
      "[4, 16, 36, 64, 100]\n"
     ]
    }
   ],
   "source": [
    "list4 = [i * i for i in range(1, 11) if i%2 == 0]\n",
    "print(list4)"
   ]
  },
  {
   "cell_type": "code",
   "execution_count": 22,
   "metadata": {},
   "outputs": [
    {
     "name": "stdout",
     "output_type": "stream",
     "text": [
      "[[1, 2, 3], [2, 4, 6], [3, 6, 9]]\n"
     ]
    }
   ],
   "source": [
    "list5 = [[ x * y for x in range(1, 4)] for y in range(1, 4)]\n",
    "print(list5)"
   ]
  },
  {
   "cell_type": "code",
   "execution_count": 23,
   "metadata": {},
   "outputs": [
    {
     "name": "stdout",
     "output_type": "stream",
     "text": [
      "[2345, 7009]\n"
     ]
    }
   ],
   "source": [
    "# cрезы\n",
    "myCours = ['Algorithms', 2345, 7009, 'Networks']\n",
    "print(myCours[1:3]) "
   ]
  },
  {
   "cell_type": "code",
   "execution_count": 33,
   "metadata": {},
   "outputs": [
    {
     "name": "stdout",
     "output_type": "stream",
     "text": [
      "5\n",
      "Admin\n",
      "User\n",
      "['Admin', 'HR', 'Student', 'Teacher', 'User']\n",
      "312\n"
     ]
    }
   ],
   "source": [
    "users = ['Admin', 'Student', 'Teacher', 'HR', 'User']\n",
    "print(len(users))\n",
    "print(min(users))\n",
    "print(max(users))\n",
    "print(sorted(users)) \n",
    "\n",
    "numbers = [12, 32, 1, 5, 62, 78, 122]\n",
    "print(sum(numbers))"
   ]
  },
  {
   "cell_type": "code",
   "execution_count": 35,
   "metadata": {},
   "outputs": [
    {
     "name": "stdout",
     "output_type": "stream",
     "text": [
      "['Drama', 'Comedy', 'Action', 'Fantasy']\n",
      "['Drama', 'Comedy', 'Drama', 'Comedy']\n"
     ]
    }
   ],
   "source": [
    "category1 = ['Drama', 'Comedy']\n",
    "category2 = ['Action', 'Fantasy']\n",
    "\n",
    "print(category1 + category2)\n",
    "print(category1 * 2)"
   ]
  },
  {
   "attachments": {},
   "cell_type": "markdown",
   "metadata": {},
   "source": [
    "**Методы списков**"
   ]
  },
  {
   "cell_type": "code",
   "execution_count": 38,
   "metadata": {},
   "outputs": [
    {
     "name": "stdout",
     "output_type": "stream",
     "text": [
      "Drama\n",
      "Comedy\n",
      "Action\n",
      "Fantasy\n"
     ]
    }
   ],
   "source": [
    "# for .. in \n",
    "category = ['Drama', 'Comedy', 'Action', 'Fantasy']\n",
    "\n",
    "for film in category:\n",
    "    print(film)"
   ]
  },
  {
   "cell_type": "code",
   "execution_count": 45,
   "metadata": {},
   "outputs": [
    {
     "name": "stdout",
     "output_type": "stream",
     "text": [
      "['Drama', 'Comedy']\n",
      "['Drama', 'Comedy', 'Fantasy']\n"
     ]
    }
   ],
   "source": [
    "# append\n",
    "category = ['Drama', 'Comedy']\n",
    "print(category)\n",
    "\n",
    "category.append('Fantasy')\n",
    "print(category)"
   ]
  },
  {
   "cell_type": "code",
   "execution_count": 48,
   "metadata": {},
   "outputs": [
    {
     "name": "stdout",
     "output_type": "stream",
     "text": [
      "['Drama', 'Comedy']\n",
      "['Drama', 'Comedy', 'Action', 'Fantasy']\n",
      "['Drama', 'Comedy', 'Action', 'Fantasy', 'Mystery', 'Romance']\n"
     ]
    }
   ],
   "source": [
    "# extend\n",
    "category1 = ['Drama', 'Comedy']\n",
    "category2 = ['Action', 'Fantasy']\n",
    "print(category1)\n",
    "\n",
    "category1.extend(category2)\n",
    "print(category1)\n",
    "\n",
    "category1.extend(['Mystery', 'Romance'])\n",
    "print(category1)"
   ]
  },
  {
   "cell_type": "code",
   "execution_count": 53,
   "metadata": {},
   "outputs": [
    {
     "name": "stdout",
     "output_type": "stream",
     "text": [
      "['Action', 'Drama', 'Comedy']\n",
      "['Action', 'Drama', 'Romance', 'Comedy']\n"
     ]
    }
   ],
   "source": [
    "# insert\n",
    "category1 = ['Action', 'Comedy']\n",
    "category1.insert(1, 'Drama')\n",
    "print(category1)\n",
    "\n",
    "category1.insert(-1, 'Romance')\n",
    "print(category1)"
   ]
  },
  {
   "cell_type": "code",
   "execution_count": 55,
   "metadata": {},
   "outputs": [
    {
     "name": "stdout",
     "output_type": "stream",
     "text": [
      "['Drama', 'Comedy', 'Action', 'Fantasy', 'Mystery']\n"
     ]
    }
   ],
   "source": [
    "# remove\n",
    "category = ['Drama', 'Comedy', 'Action', 'Fantasy', 'Mystery', 'Romance']\n",
    "category.remove('Romance')\n",
    "print(category)"
   ]
  },
  {
   "cell_type": "code",
   "execution_count": 58,
   "metadata": {},
   "outputs": [
    {
     "name": "stdout",
     "output_type": "stream",
     "text": [
      "['Drama', 'Comedy', 'Fantasy', 'Mystery', 'Romance']\n",
      "['Drama', 'Comedy', 'Fantasy', 'Mystery']\n"
     ]
    }
   ],
   "source": [
    "# pop\n",
    "category = ['Drama', 'Comedy', 'Action', 'Fantasy', 'Mystery', 'Romance']\n",
    "category.pop(2)\n",
    "print(category)\n",
    "\n",
    "category.pop() # удаляет последний элемент списка\n",
    "print(category)"
   ]
  },
  {
   "cell_type": "code",
   "execution_count": 59,
   "metadata": {},
   "outputs": [
    {
     "name": "stdout",
     "output_type": "stream",
     "text": [
      "[]\n"
     ]
    }
   ],
   "source": [
    "# clear\n",
    "category = ['Drama', 'Comedy', 'Action', 'Fantasy', 'Mystery', 'Romance']\n",
    "category.clear()\n",
    "print(category)"
   ]
  },
  {
   "cell_type": "code",
   "execution_count": 63,
   "metadata": {},
   "outputs": [
    {
     "name": "stdout",
     "output_type": "stream",
     "text": [
      "2\n"
     ]
    }
   ],
   "source": [
    "# index - показываает индекс значения. первое вхождение элемента!\n",
    "category = ['Drama', 'Comedy', 'Action', 'Fantasy', 'Mystery', 'Romance', 'Action']\n",
    "print(category.index('Action'))"
   ]
  },
  {
   "cell_type": "code",
   "execution_count": 66,
   "metadata": {},
   "outputs": [
    {
     "name": "stdout",
     "output_type": "stream",
     "text": [
      "2\n"
     ]
    }
   ],
   "source": [
    "# count - показывает кол-во элемента в списке\n",
    "category = ['Drama', 'Comedy', 'Action', 'Fantasy', 'Mystery', 'Romance', 'Action']\n",
    "print(category.count('Action'))"
   ]
  },
  {
   "cell_type": "code",
   "execution_count": 72,
   "metadata": {},
   "outputs": [
    {
     "name": "stdout",
     "output_type": "stream",
     "text": [
      "['Drama', 'Fantasy', 'Mystery', 'Romance']\n",
      "['Romance', 'Mystery', 'Fantasy', 'Drama']\n"
     ]
    }
   ],
   "source": [
    "# sort\n",
    "category = ['Drama', 'Mystery', 'Fantasy', 'Romance']\n",
    "category.sort()\n",
    "print(category)\n",
    "\n",
    "category.sort(reverse=True) # обртный порядок\n",
    "print(category)"
   ]
  },
  {
   "attachments": {},
   "cell_type": "markdown",
   "metadata": {},
   "source": [
    "**Оператор принадлежности in**"
   ]
  },
  {
   "cell_type": "code",
   "execution_count": 74,
   "metadata": {},
   "outputs": [
    {
     "name": "stdout",
     "output_type": "stream",
     "text": [
      "True\n"
     ]
    }
   ],
   "source": [
    "customers = ['Bob', 'Anna', 'Joe', 'Bob', 'Nick']\n",
    "print('Joe' in customers)"
   ]
  },
  {
   "cell_type": "code",
   "execution_count": 75,
   "metadata": {},
   "outputs": [
    {
     "name": "stdout",
     "output_type": "stream",
     "text": [
      "Bob is our customer\n"
     ]
    }
   ],
   "source": [
    "customers = ['Bob', 'Anna', 'Joe', 'Bob', 'Nick']\n",
    "\n",
    "if ('Bob' in customers):\n",
    "    print('Bob is our customer')\n",
    "else:\n",
    "    print('Bob is not our customer, sorry')"
   ]
  },
  {
   "attachments": {},
   "cell_type": "markdown",
   "metadata": {},
   "source": [
    "**Особености списков, ссылки и клонирование**"
   ]
  },
  {
   "attachments": {},
   "cell_type": "markdown",
   "metadata": {},
   "source": [
    "\n",
    "- псевдонимы - переменныне, которые имеют разные имена, но содержат одинаковые адреса памяти"
   ]
  },
  {
   "cell_type": "code",
   "execution_count": 79,
   "metadata": {},
   "outputs": [
    {
     "name": "stdout",
     "output_type": "stream",
     "text": [
      "[1, 2, 3, 4, 5]\n",
      "[1, 'hola', 3, 4, 5]\n",
      "[1, 'hola', 3, 4, 5]\n"
     ]
    }
   ],
   "source": [
    "list1 = [1, 2 ,3 ,4 ,5]\n",
    "print(list1)\n",
    "\n",
    "list2 = list1\n",
    "list2[1] = 'hola'\n",
    "\n",
    "print(list1)\n",
    "print(list2)"
   ]
  },
  {
   "cell_type": "code",
   "execution_count": 88,
   "metadata": {},
   "outputs": [
    {
     "name": "stdout",
     "output_type": "stream",
     "text": [
      "[1, 2, 3, 4, 5]\n",
      "[1, 'hola', 3, 4, 5]\n",
      "[1, 2, 3, 4, 5]\n",
      "[1, 2, 'hello', 4, 5]\n",
      "[1, 2, 3, 4, 5]\n",
      "[1, 2, 3, 'привет', 5]\n",
      "[1, 2, 3, 4, 5]\n",
      "------------\n",
      "[1, 2, 3, 4, 0]\n",
      "[1, 'hola', 3, 4, 5]\n",
      "[1, 2, 'hello', 4, 5]\n",
      "[1, 2, 3, 'привет', 5]\n"
     ]
    }
   ],
   "source": [
    "# copy\n",
    "list1 = [1, 2 ,3 ,4 ,5]\n",
    "print(list1)\n",
    "\n",
    "list2 = list1.copy()\n",
    "list2[1] = 'hola'\n",
    "\n",
    "print(list2)\n",
    "print(list1)\n",
    "\n",
    "# list\n",
    "\n",
    "list3 = list(list1)\n",
    "list3[2] = 'hello'\n",
    "\n",
    "print(list3)\n",
    "print(list1)\n",
    "\n",
    "list4 = list1[:]\n",
    "list4[3] = 'привет'\n",
    "\n",
    "print(list4)\n",
    "print(list1)\n",
    "\n",
    "list1[-1] = 0\n",
    "print('------------')\n",
    "print(list1)\n",
    "print(list2)\n",
    "print(list3)\n",
    "print(list4)"
   ]
  },
  {
   "attachments": {},
   "cell_type": "markdown",
   "metadata": {},
   "source": [
    "**Поиск элемента**"
   ]
  },
  {
   "cell_type": "code",
   "execution_count": 89,
   "metadata": {},
   "outputs": [
    {
     "name": "stdout",
     "output_type": "stream",
     "text": [
      "0\n",
      "3\n"
     ]
    }
   ],
   "source": [
    "customers = ['Bob', 'Anna', 'Joe', 'Bob', 'Nick']\n",
    "\n",
    "# для нахождения одного элемента мы можем использовать index\n",
    "\n",
    "#для множества можем создать цикл:\n",
    "for i in range(len(customers)):\n",
    "    if customers[i] == 'Bob':\n",
    "        print(i)"
   ]
  },
  {
   "attachments": {},
   "cell_type": "markdown",
   "metadata": {},
   "source": [
    "**Матрицы**"
   ]
  },
  {
   "cell_type": "code",
   "execution_count": 99,
   "metadata": {},
   "outputs": [
    {
     "name": "stdout",
     "output_type": "stream",
     "text": [
      "[['Bob', 5, 3, 5, 2], ['Kristofer', 5, 5, 4, 5], ['Arnold', 2, 2, 3]]\n",
      "['Bob', 5, 3, 5, 2]\n",
      "Bob\n"
     ]
    }
   ],
   "source": [
    "# матрица (или же многомерный массив)\n",
    "table = [\n",
    "    ['Bob', 5, 3, 5, 2],\n",
    "    ['Kristofer', 5, 5, 4, 5],\n",
    "    ['Arnold', 2, 2, 3]\n",
    "    ]\n",
    "\n",
    "print(table)\n",
    "print(table[0]) \n",
    "print(table[0][0])"
   ]
  },
  {
   "cell_type": "code",
   "execution_count": null,
   "metadata": {},
   "outputs": [],
   "source": [
    "# для перебора всех элементов:\n",
    "for i in range(len(table)):\n",
    "    for j in range(len(table[i])):\n",
    "        print(table[i][j])"
   ]
  },
  {
   "cell_type": "code",
   "execution_count": 104,
   "metadata": {},
   "outputs": [
    {
     "name": "stdout",
     "output_type": "stream",
     "text": [
      "[[0, 1], [0, 1], [0, 1]]\n"
     ]
    }
   ],
   "source": [
    "# создание матрицы с помощью генератора списков\n",
    "table2 = [[j for j in range(2)] for i in range(3)]\n",
    "print(table2)"
   ]
  },
  {
   "cell_type": "code",
   "execution_count": 115,
   "metadata": {},
   "outputs": [
    {
     "name": "stdout",
     "output_type": "stream",
     "text": [
      "Bob 12\n",
      "Jane 12\n",
      "Kate 9\n"
     ]
    }
   ],
   "source": [
    "studScores = [\n",
    "    ['Bob', 11, 8, 10, 12],\n",
    "    ['Jane', 12, 11, 11, 11],\n",
    "    ['Kate', 7, 8, 9, 9] ,   \n",
    "]\n",
    "\n",
    "for student in studScores:\n",
    "    print(student[0], max(student[1:])) # функция max находит первый max элемент"
   ]
  },
  {
   "cell_type": "code",
   "execution_count": 127,
   "metadata": {},
   "outputs": [
    {
     "name": "stdout",
     "output_type": "stream",
     "text": [
      "Mrs. Doubtfire\n"
     ]
    }
   ],
   "source": [
    "films = [\n",
    "    ['Catch Me If U Can', 'Biography', 'Crime' 'Drama'],\n",
    "    ['Mrs. Doubtfire', 'Comedy', 'Drama', 'Family']\n",
    "]\n",
    "\n",
    "userCategory = input('input film category: ')\n",
    "\n",
    "for film in films:\n",
    "    if userCategory in film[1:]:\n",
    "        print(film[0])"
   ]
  },
  {
   "cell_type": "markdown",
   "metadata": {},
   "source": [
    "**Data Science** Лекция 07.10"
   ]
  },
  {
   "cell_type": "markdown",
   "metadata": {},
   "source": [
    "Data science (Наука о данных) - это раздел информатики, изучающий проблемы анализа, обработки и представления данных в цифровой форме"
   ]
  },
  {
   "cell_type": "markdown",
   "metadata": {},
   "source": [
    "Data Science project: (пример базового проекта дата сеинтиста)\n",
    "- понять бинес проблему\n",
    "- сбор данных\n",
    "- очистка и исследование данных\n",
    "- построение модели\n",
    "- сбор информации"
   ]
  },
  {
   "cell_type": "markdown",
   "metadata": {},
   "source": [
    "**Решение задач 09.10.2024**"
   ]
  },
  {
   "cell_type": "code",
   "execution_count": 65,
   "metadata": {},
   "outputs": [
    {
     "name": "stdout",
     "output_type": "stream",
     "text": [
      "10\n",
      "[-46, -6, 74, 29, -1, 80, -47, -52, 64, -68]\n",
      "[-46, -6, -1, -47, -52, -68]\n",
      "-220\n"
     ]
    }
   ],
   "source": [
    "# Задание 1\n",
    "import random\n",
    "\n",
    "list1 = []\n",
    "\n",
    "for _ in range(1, 11):  # (можно писать просто 10, оно бы посчитало от 0 до 9, что так же было бь верно) создание списка через цикл\n",
    "    list1.append(random.randint(-100, 100))\n",
    "\n",
    "list3 = []\n",
    "\n",
    "for i in list1:\n",
    "    if i < 0:\n",
    "        list3.append(i)\n",
    "        i+=1\n",
    "    else:\n",
    "        continue     \n",
    "\n",
    "# sum = 0               Способ быстрее\n",
    "# for i in list1:\n",
    "#     if i < 0:\n",
    "#         sum +=i   \n",
    "\n",
    "list4 = sum(list3)\n",
    "\n",
    "print(len(list1)) # len самодостаточный и может вызываться над списком\n",
    "print(list1)\n",
    "print(list3)\n",
    "print(list4)"
   ]
  },
  {
   "cell_type": "code",
   "execution_count": 186,
   "metadata": {},
   "outputs": [
    {
     "name": "stdout",
     "output_type": "stream",
     "text": [
      "[-89, -61, 41, -77, 73, 38, -7, 53, 13, -18]\n"
     ]
    }
   ],
   "source": [
    "list = [\n",
    "    random.randint(-100, 100) for _ in range(1, 11)\n",
    "    ] # создание списка через генератор списка\n",
    "\n",
    "print(list)"
   ]
  },
  {
   "cell_type": "code",
   "execution_count": 283,
   "metadata": {},
   "outputs": [],
   "source": [
    "# Even numbers \n",
    "list1 = [random.randint(-100,100) for _ in range(1,11)] \n",
    "list3 = [] \n",
    " \n",
    "for i in list1: \n",
    "    if i % 2 == 0: \n",
    "        list3.append(i) \n",
    "    else: \n",
    "        continue \n",
    "\n"
   ]
  },
  {
   "cell_type": "code",
   "execution_count": 284,
   "metadata": {},
   "outputs": [],
   "source": [
    "# Odd numbers \n",
    "list1 = [random.randint(-100,100) for _ in range(1,11)] \n",
    "list3 = [] \n",
    " \n",
    "for i in list1: \n",
    "    if i % 2 != 0: \n",
    "        list3.append(i) \n",
    "    else: \n",
    "        continue \n",
    " \n"
   ]
  },
  {
   "cell_type": "code",
   "execution_count": 287,
   "metadata": {},
   "outputs": [
    {
     "data": {
      "text/plain": [
       "4118744"
      ]
     },
     "execution_count": 287,
     "metadata": {},
     "output_type": "execute_result"
    }
   ],
   "source": [
    "# Задание 2\n",
    "list = [\n",
    "    random.randint(-100, 100) for _ in range(1, 11)\n",
    "    ] # создание списка через генератор списка\n",
    "\n",
    "sum_4 = 1\n",
    "\n",
    "for i in range(len(list)):\n",
    "    if i % 3 == 0:\n",
    "        sum_4 *= list[i]\n",
    "\n",
    "sum_4"
   ]
  },
  {
   "cell_type": "code",
   "execution_count": 347,
   "metadata": {},
   "outputs": [
    {
     "name": "stdout",
     "output_type": "stream",
     "text": [
      "list1 = [-12, 56, -29, 70, 99, -45, 38, -90, -23, 84]\n",
      "list2 = [-90, -45, -29, -23, -12, 38, 56, 70, 84, 99]\n",
      "mult = [-45, -29, -23, -12, 38, 56, 70, 84]\n",
      "multiply is 4506802675200\n",
      "list1 = [-12, 56, -29, 70, 99, -45, 38, -90, -23, 84]\n"
     ]
    }
   ],
   "source": [
    "import random\n",
    "\n",
    "list1 = []\n",
    "\n",
    "for _ in range(1, 11):  # (можно писать просто 10, оно бы посчитало от 0 до 9, что так же было бь верно) создание списка через цикл\n",
    "    list1.append(random.randint(-100, 100))\n",
    "\n",
    "print(f'list1 = {list1}')\n",
    "\n",
    "list2 = list1.copy()\n",
    "\n",
    "list2.sort()\n",
    "print(f'list2 = {list2}')\n",
    "\n",
    "mult = list2[1:-1]\n",
    "print(f'mult = {mult}')\n",
    "\n",
    "multiply = 1\n",
    "for i in mult:\n",
    "    multiply *= i\n",
    "print(f'multiply is {multiply}')\n",
    "\n",
    "print(f'list1 = {list1}')"
   ]
  },
  {
   "cell_type": "code",
   "execution_count": 360,
   "metadata": {},
   "outputs": [
    {
     "name": "stdout",
     "output_type": "stream",
     "text": [
      "[8, -92, -34, 62, 18]\n"
     ]
    }
   ],
   "source": [
    "# Задание 2\n",
    "import random\n",
    "\n",
    "list1 = []\n",
    "\n",
    "for _ in range(1, 11):  # (можно писать просто 10, оно бы посчитало от 0 до 9, что так же было бь верно) создание списка через цикл\n",
    "    list1.append(random.randint(-100, 100))\n",
    "\n",
    "list2 = []\n",
    "\n",
    "for i in list1:\n",
    "    if i % 2 == 0:\n",
    "        list2.append(i)\n",
    "\n",
    "print(list2)"
   ]
  },
  {
   "cell_type": "code",
   "execution_count": 362,
   "metadata": {},
   "outputs": [
    {
     "data": {
      "text/plain": [
       "[-46, -66, -50, 25, -26, -98, 65, -67, 40, 25]"
      ]
     },
     "execution_count": 362,
     "metadata": {},
     "output_type": "execute_result"
    }
   ],
   "source": [
    "list1 = []\n",
    "\n",
    "for i in range(1, 11):  # (можно писать просто 10, оно бы посчитало от 0 до 9, что так же было бь верно) создание списка через цикл\n",
    "    list1.append(random.randint(-100, 100))\n",
    "    \n",
    "list1"
   ]
  },
  {
   "cell_type": "code",
   "execution_count": 352,
   "metadata": {},
   "outputs": [
    {
     "name": "stdout",
     "output_type": "stream",
     "text": [
      "[37, -17, -97, -7]\n"
     ]
    }
   ],
   "source": [
    "list2 = []\n",
    "\n",
    "for i in list1:\n",
    "    if i % 2 != 0:\n",
    "        list2.append(i)\n",
    "\n",
    "print(list2)"
   ]
  },
  {
   "cell_type": "code",
   "execution_count": 381,
   "metadata": {},
   "outputs": [
    {
     "name": "stdout",
     "output_type": "stream",
     "text": [
      "[-24, -51, -15, -78, -21, -79, -74]\n"
     ]
    }
   ],
   "source": [
    "import random\n",
    "\n",
    "list1 = []\n",
    "\n",
    "for _ in range(1, 11):  # (можно писать просто 10, оно бы посчитало от 0 до 9, что так же было бь верно) создание списка через цикл\n",
    "    list1.append(random.randint(-100, 100))\n",
    "\n",
    "list2 = []\n",
    "\n",
    "for i in list1:\n",
    "    if i < 0:\n",
    "        list2.append(i)\n",
    "\n",
    "print(list2)"
   ]
  },
  {
   "cell_type": "code",
   "execution_count": 359,
   "metadata": {},
   "outputs": [
    {
     "name": "stdout",
     "output_type": "stream",
     "text": [
      "[71, 24, 41, 13, 1, 20]\n"
     ]
    }
   ],
   "source": [
    "import random\n",
    "\n",
    "list1 = []\n",
    "\n",
    "for _ in range(1, 11):  # (можно писать просто 10, оно бы посчитало от 0 до 9, что так же было бь верно) создание списка через цикл\n",
    "    list1.append(random.randint(-100, 100))\n",
    "\n",
    "list2 = []\n",
    "\n",
    "for i in list1:\n",
    "    if i > 0:\n",
    "        list2.append(i)\n",
    "\n",
    "print(list2)"
   ]
  },
  {
   "cell_type": "code",
   "execution_count": 377,
   "metadata": {},
   "outputs": [
    {
     "data": {
      "text/plain": [
       "'Я !Учусь В 2, Академии! Топ 45.'"
      ]
     },
     "execution_count": 377,
     "metadata": {},
     "output_type": "execute_result"
    }
   ],
   "source": [
    "text = 'я !учусь в 2, академии! топ 45.'\n",
    "\n",
    "text.title()"
   ]
  },
  {
   "cell_type": "code",
   "execution_count": 375,
   "metadata": {},
   "outputs": [
    {
     "data": {
      "text/plain": [
       "3"
      ]
     },
     "execution_count": 375,
     "metadata": {},
     "output_type": "execute_result"
    }
   ],
   "source": [
    "count = 0\n",
    "for i in text:\n",
    "    if i.isdigit():\n",
    "        count += 1\n",
    "\n",
    "count"
   ]
  },
  {
   "cell_type": "code",
   "execution_count": 376,
   "metadata": {},
   "outputs": [
    {
     "data": {
      "text/plain": [
       "2"
      ]
     },
     "execution_count": 376,
     "metadata": {},
     "output_type": "execute_result"
    }
   ],
   "source": [
    "q = 0\n",
    "\n",
    "for i in text:\n",
    "    if i.isalnum() != True and i.isspace() != True:\n",
    "        q += 1\n",
    "\n",
    "q"
   ]
  },
  {
   "cell_type": "code",
   "execution_count": 378,
   "metadata": {},
   "outputs": [
    {
     "data": {
      "text/plain": [
       "2"
      ]
     },
     "execution_count": 378,
     "metadata": {},
     "output_type": "execute_result"
    }
   ],
   "source": [
    "s = 0\n",
    "\n",
    "for i in text:\n",
    "    if i == '!':\n",
    "        s +=1\n",
    "\n",
    "s"
   ]
  },
  {
   "cell_type": "code",
   "execution_count": 384,
   "metadata": {},
   "outputs": [
    {
     "name": "stdout",
     "output_type": "stream",
     "text": [
      "[1, 5, 3, 3, 3, 2, 2, 1, 1, 4]\n"
     ]
    }
   ],
   "source": [
    "# Задание 2\n",
    "\n",
    "random_list = [random.randint(1, 5) for _ in range(10)]\n",
    "print(random_list)"
   ]
  },
  {
   "cell_type": "code",
   "execution_count": 398,
   "metadata": {},
   "outputs": [
    {
     "data": {
      "text/plain": [
       "3"
      ]
     },
     "execution_count": 398,
     "metadata": {},
     "output_type": "execute_result"
    }
   ],
   "source": [
    "number = int(input('Введите число от 1 до 5: '))\n",
    "\n",
    "count = 0\n",
    "for i in random_list:\n",
    "    if i == number:\n",
    "        count += 1\n",
    "\n",
    "count"
   ]
  },
  {
   "cell_type": "markdown",
   "metadata": {},
   "source": [
    "**14/10/2024**"
   ]
  },
  {
   "cell_type": "code",
   "execution_count": 27,
   "metadata": {},
   "outputs": [
    {
     "name": "stdout",
     "output_type": "stream",
     "text": [
      "its NOT a palindrome\n"
     ]
    }
   ],
   "source": [
    "m = input('input ur text: ').replace(' ','').lower()\n",
    "\n",
    "if m[0:] == m[::-1]:\n",
    "    print('palindrome')\n",
    "else:\n",
    "    print('its NOT a palindrome')\n",
    "    "
   ]
  },
  {
   "cell_type": "code",
   "execution_count": 74,
   "metadata": {},
   "outputs": [
    {
     "name": "stdout",
     "output_type": "stream",
     "text": [
      "3\n",
      "3\n",
      "3\n",
      "3\n",
      "end\n"
     ]
    }
   ],
   "source": [
    "while True:\n",
    "    num1 = input('input a number: ')\n",
    "    num2 = input('input a number: ')\n",
    "    print((int(num1) + int(num2)))\n",
    "    q = input('write \\'Y\\' or \\'y\\' if u want to end (if not press ENTER)')\n",
    "    if q != 'y' and q != 'Y':\n",
    "        continue\n",
    "    else:\n",
    "        print('end')\n",
    "        break\n",
    "    "
   ]
  },
  {
   "cell_type": "code",
   "execution_count": 82,
   "metadata": {},
   "outputs": [
    {
     "name": "stdout",
     "output_type": "stream",
     "text": [
      "*******\n",
      " *   * \n",
      "  * *  \n",
      "   *   \n",
      "  * *  \n",
      " *   * \n",
      "*******\n"
     ]
    }
   ],
   "source": [
    "for i in range(0, 7):\n",
    "    if i == 0:\n",
    "        print('*******')\n",
    "    elif i == 1:\n",
    "        print(' *   * ')\n",
    "    elif i == 2:\n",
    "        print('  * *  ')\n",
    "    elif i == 3:\n",
    "        print('   *   ')\n",
    "    elif i == 4:\n",
    "        print('  * *  ')\n",
    "    elif i == 5:\n",
    "        print(' *   * ')\n",
    "    else:\n",
    "        print('*******')\n",
    "    \n",
    "    \n"
   ]
  },
  {
   "cell_type": "code",
   "execution_count": 90,
   "metadata": {},
   "outputs": [
    {
     "name": "stdout",
     "output_type": "stream",
     "text": [
      "*******\n",
      " *   * \n",
      "  * *  \n",
      "   *   \n",
      "  * *  \n",
      " *   * \n",
      "*******\n"
     ]
    }
   ],
   "source": [
    "n = 7\n",
    "for i in range(0, n):\n",
    "    for j in range(0, n):\n",
    "        if( i == 0 or i == n - 1 or j == i or j == n-i-1):\n",
    "            print(\"*\", end = \"\")\n",
    "        else:\n",
    "            print(' ', end='')\n",
    "    print()"
   ]
  },
  {
   "cell_type": "code",
   "execution_count": 117,
   "metadata": {},
   "outputs": [
    {
     "name": "stdout",
     "output_type": "stream",
     "text": [
      "* 1 * 2 * \n",
      "3 * 4 * 5 \n",
      "* 6 * 7 * \n",
      "8 * 9 * 10 \n",
      "* 11 * 12 * \n"
     ]
    }
   ],
   "source": [
    "n = 5\n",
    "k = 1\n",
    "counter = 1\n",
    "\n",
    "for i in range(n):\n",
    "    for j in range(n):\n",
    "        if k % 2 == 0:\n",
    "            print(counter, end = ' ')\n",
    "            counter += 1\n",
    "        else: \n",
    "            print('*', end = ' ')\n",
    "        k += 1\n",
    "    print()"
   ]
  },
  {
   "cell_type": "code",
   "execution_count": 172,
   "metadata": {},
   "outputs": [
    {
     "name": "stdout",
     "output_type": "stream",
     "text": [
      "['д', 'л', 'о', 'д', 'л', 'э', 'ж', 'ы', 'в', 'а', 'ф']\n",
      "длодлэжываф\n"
     ]
    }
   ],
   "source": [
    "letters = 'ЫДЛОДЛдлоОДЛАВЫЭЖдлэжывафВФЫ'\n",
    "letters1 = []\n",
    "for letter in letters:\n",
    "    if letter == letter.upper():\n",
    "        continue\n",
    "    else:\n",
    "        letters1.append(letter)\n",
    "\n",
    "print(letters1)\n",
    "\n",
    "letters2 = ''\n",
    "for i in letters1:\n",
    "    letters2 += i\n",
    "\n",
    "print(letters2)"
   ]
  },
  {
   "cell_type": "code",
   "execution_count": 249,
   "metadata": {},
   "outputs": [
    {
     "name": "stdout",
     "output_type": "stream",
     "text": [
      "[1, 2, 3, 4, 6, 7, 9, 12, 14, 18, 21, 27, 28, 31, 36, 42, 54, 62, 63, 84, 93, 108, 124, 126, 186, 189, 217, 252, 279, 372, 378, 434, 558, 651, 756, 837, 868, 1116, 1302, 1674, 1953, 2604, 3348, 3906, 5859, 7812, 11718, 23436]\n"
     ]
    }
   ],
   "source": [
    "numbers = 23436\n",
    "list1 = []\n",
    "\n",
    "for i in range(1, numbers+1):\n",
    "    if numbers % i == 0:\n",
    "        list1.append(i)\n",
    "\n",
    "print(list1)"
   ]
  },
  {
   "cell_type": "code",
   "execution_count": 9,
   "metadata": {},
   "outputs": [
    {
     "name": "stdout",
     "output_type": "stream",
     "text": [
      "ur welcome\n"
     ]
    }
   ],
   "source": [
    "username = ['qwerty', 'gdfsqs', 'gdz po matematike']\n",
    "name = input('input ur username')\n",
    "name2 = []\n",
    "for i in username:\n",
    "    if name == i:\n",
    "        name2.append(i)\n",
    "    else:\n",
    "        continue\n",
    "\n",
    "if name2 == []: \n",
    "    print(\"it's nothing here\")\n",
    "else:\n",
    "    print('ur welcome')\n"
   ]
  },
  {
   "cell_type": "markdown",
   "metadata": {},
   "source": [
    "**Виртуальное окружение (пространство) 16.10.24**"
   ]
  },
  {
   "cell_type": "markdown",
   "metadata": {},
   "source": [
    "**Cоздание виртуального окружения:**\n",
    "- находим расположение файла проекта\n",
    "- обращаемся к терминалу и находим папку с проектом (cd C:/...)\n",
    "- в найденной папке пишем: python -m venv venv(найти название python в системе: python --version)\n",
    "\n",
    "*чтобы посмотреть установленные модули в powershell написать: pip list*\n"
   ]
  },
  {
   "cell_type": "code",
   "execution_count": null,
   "metadata": {},
   "outputs": [],
   "source": [
    "import random\n",
    "list1 = [random.randint(1, 10) for _ in range(5)]\n",
    "list2 = [random.randint(1, 10) for _ in range(5)]\n",
    "\n",
    "list3 = list1.copy() + list2.copy()\n",
    "\n",
    "list4 = set(list3)\n",
    "\n",
    "list5 = []\n",
    "for i in list1:\n",
    "    for j in list2:\n",
    "        if i == j:\n",
    "            list5.append(j)\n",
    "\n",
    "list6 = list(set(list1) | set(list2))\n",
    "\n",
    "list7 = [max(list1),  min (list1), max(list2), min (list2)]\n",
    "\n",
    "\n",
    "print(list1, list2, list3, list4)\n",
    "print(list5)\n",
    "print(list6)\n",
    "print(list7)"
   ]
  },
  {
   "cell_type": "markdown",
   "metadata": {},
   "source": [
    "**21/10/24 Функции. Подпрограммы, в которые можно помещать повторяющийся код**"
   ]
  },
  {
   "cell_type": "code",
   "execution_count": 2,
   "metadata": {},
   "outputs": [
    {
     "data": {
      "text/plain": [
       "[('Project (1).ipynb', 12881844),\n",
       " ('2_GitHub.pptx', 647607),\n",
       " ('Lesson 1.ipynb', 76851),\n",
       " ('photo_5224735039235942242_y.jpg', 75398),\n",
       " ('HW_2024_10_12.ipynb', 3778),\n",
       " ('Project.ipynb', 2996),\n",
       " ('дз.txt', 758),\n",
       " ('homework.zip', 639),\n",
       " ('desktop.ini', 282)]"
      ]
     },
     "execution_count": 2,
     "metadata": {},
     "output_type": "execute_result"
    }
   ],
   "source": [
    "import os \n",
    " \n",
    "list1 = os.listdir() \n",
    "dict = {} # словарь \n",
    " \n",
    "for file in list1: \n",
    "    file_path = os.path.join(os.getcwd(), file) # join позволяет из нескольких строк сделать путь \n",
    "    file_size = os.path.getsize(file_path)  \n",
    "    dict[file] = file_size \n",
    " \n",
    "dict = sorted(dict.items(), key=lambda x: x[1], reverse=True) \n",
    "dict"
   ]
  },
  {
   "cell_type": "code",
   "execution_count": 1,
   "metadata": {},
   "outputs": [
    {
     "name": "stdout",
     "output_type": "stream",
     "text": [
      "HelloHi\n",
      "Hello4\n",
      "Hello4.5\n"
     ]
    }
   ],
   "source": [
    "def test_function(word):\n",
    "    # pass #когда вызовем функцию, ничего не произойдет\n",
    "    print(\"Hello\", end=\"\")\n",
    "    print(word)\n",
    "\n",
    "\n",
    "test_function(\"Hi\")\n",
    "test_function(4)\n",
    "test_function(4.5)"
   ]
  },
  {
   "cell_type": "code",
   "execution_count": null,
   "metadata": {},
   "outputs": [],
   "source": [
    "def sum(a, b):\n",
    "    result = a + b\n",
    "    print(f'Result: {result}')\n",
    "    return result\n",
    "\n",
    "sum(5, 8)\n",
    "sum(\"5\", \"8\")"
   ]
  },
  {
   "cell_type": "code",
   "execution_count": null,
   "metadata": {},
   "outputs": [],
   "source": [
    "nums1 = [4, 3, 2, 1]\n",
    "\n",
    "min = nums1[0]\n",
    "for el in nums1:\n",
    "    if el < min:\n",
    "        min = el\n",
    "\n",
    "print(el)\n",
    "\n",
    "\n",
    "nums2 = [4.4, 3.14, 2.78, 1.48]\n",
    "\n",
    "min2 = nums2[0]\n",
    "for el in nums2:\n",
    "    if el < min2:\n",
    "        min = el\n",
    "\n",
    "print(el)\n",
    "\n",
    "\n",
    "def minimal(l):\n",
    "    min_number = l[0]\n",
    "    for el in l:\n",
    "        if el < min_number:\n",
    "            min_number = el\n",
    "    print(min_number)\n",
    "\n",
    "minimal(nums2)"
   ]
  },
  {
   "cell_type": "markdown",
   "metadata": {},
   "source": [
    "***Анонимные функции или ламбда-функции***"
   ]
  },
  {
   "cell_type": "code",
   "execution_count": null,
   "metadata": {},
   "outputs": [],
   "source": [
    "func = lambda x, y: x * y\n",
    "func(5, 5)"
   ]
  },
  {
   "cell_type": "code",
   "execution_count": null,
   "metadata": {},
   "outputs": [],
   "source": [
    "def text():\n",
    "    print(\"Цитата\")\n",
    "\n",
    "text()"
   ]
  },
  {
   "cell_type": "code",
   "execution_count": null,
   "metadata": {},
   "outputs": [],
   "source": [
    "def odd_numbers(a, b):\n",
    "    l = []\n",
    "    for i in range(a + 1, b):\n",
    "        if i % 2 != 0:\n",
    "            l.append(i)\n",
    "    return l\n",
    "\n",
    "odd_numbers(3, 10)"
   ]
  },
  {
   "cell_type": "code",
   "execution_count": null,
   "metadata": {},
   "outputs": [],
   "source": [
    "def line(len, direction, symbol):\n",
    "    if direction == \"horizontal\":\n",
    "        print(symbol * len)\n",
    "    elif direction == \"vertical\":\n",
    "        print((symbol + \"\\n\") * len)\n",
    "    else:\n",
    "        print(\"Wrong direction\")\n",
    "\n",
    "\n",
    "line(5, 'ffwer', '354')\n",
    "\n",
    "line(symbol=\"/\", len=8, direction='horizontal')"
   ]
  },
  {
   "cell_type": "code",
   "execution_count": null,
   "metadata": {},
   "outputs": [],
   "source": [
    "def maximum(a, b, c, d):\n",
    "    print(max(a, b, c, d))\n",
    "\n",
    "maximum(2, 4, 78, 45)"
   ]
  },
  {
   "cell_type": "markdown",
   "metadata": {},
   "source": [
    "**23/10/24**"
   ]
  },
  {
   "cell_type": "code",
   "execution_count": 83,
   "metadata": {},
   "outputs": [
    {
     "data": {
      "text/plain": [
       "45"
      ]
     },
     "execution_count": 83,
     "metadata": {},
     "output_type": "execute_result"
    }
   ],
   "source": [
    "def diapason(a, b):\n",
    "    q = 0\n",
    "    for i in range(a, b + 1):\n",
    "        q += i\n",
    "    return q\n",
    "\n",
    "diapason(5, 10)"
   ]
  },
  {
   "cell_type": "code",
   "execution_count": null,
   "metadata": {},
   "outputs": [],
   "source": [
    "def is_simple(num):\n",
    "    for i in range(2, num):\n",
    "        if num % i == 0:\n",
    "           return False\n",
    "    return True\n",
    "            \n",
    "is_simple(31)\n",
    "# правильные числа: 2, 3, 5, 7, 11, 13, 17, 19, 23, 29, 31, 37, 41, 43, 47, 53, 59, 61"
   ]
  },
  {
   "cell_type": "code",
   "execution_count": 34,
   "metadata": {},
   "outputs": [
    {
     "name": "stdout",
     "output_type": "stream",
     "text": [
      "Is number simple True, highest delitel (except 1) 17\n"
     ]
    }
   ],
   "source": [
    "def is_simple(num):\n",
    "    delitel = num\n",
    "    for i in range(2, num):\n",
    "        if num % i == 0:\n",
    "           delitel = i\n",
    "           return False, delitel\n",
    "        \n",
    "    return True, delitel\n",
    "\n",
    "simple, delitel = is_simple(17)\n",
    "print(f'Is number simple {simple}, highest delitel (except 1) {delitel}')\n",
    "# правильные числа: 2, 3, 5, 7, 11, 13, 17, 19, 23, 29, 31, 37, 41, 43, 47, 53, 59, 61, ... "
   ]
  },
  {
   "cell_type": "code",
   "execution_count": 87,
   "metadata": {},
   "outputs": [
    {
     "data": {
      "text/plain": [
       "'Is Lucky'"
      ]
     },
     "execution_count": 87,
     "metadata": {},
     "output_type": "execute_result"
    }
   ],
   "source": [
    "def LuckyNumber(number):\n",
    "    StrNum = str(number)\n",
    "    ListStrNum = list(StrNum)\n",
    "\n",
    "    HalfStrList1 = [int(ListStrNum[0]),\n",
    "                    int(ListStrNum[1]),\n",
    "                    int(ListStrNum[2])]\n",
    "    HalfStrList2 = [int(ListStrNum[3]),\n",
    "                    int(ListStrNum[4]),\n",
    "                    int(ListStrNum[5])]\n",
    "\n",
    "    if sum(HalfStrList1) == sum(HalfStrList2):\n",
    "        return ('Is Lucky')\n",
    "    else:\n",
    "        return (\"isn't Lucky\")\n",
    "\n",
    "# LuckyNumber(321645) isn't lucky\n",
    "LuckyNumber(159951)"
   ]
  },
  {
   "cell_type": "code",
   "execution_count": 117,
   "metadata": {},
   "outputs": [
    {
     "data": {
      "text/plain": [
       "5"
      ]
     },
     "execution_count": 117,
     "metadata": {},
     "output_type": "execute_result"
    }
   ],
   "source": [
    "def func1():\n",
    "    param = 4\n",
    "\n",
    "    def inner(param = param):\n",
    "        param += 1\n",
    "        return param\n",
    "\n",
    "\n",
    "    param = inner()\n",
    "    return param\n",
    "\n",
    "func1()"
   ]
  },
  {
   "cell_type": "code",
   "execution_count": 134,
   "metadata": {},
   "outputs": [
    {
     "data": {
      "text/plain": [
       "5"
      ]
     },
     "execution_count": 134,
     "metadata": {},
     "output_type": "execute_result"
    }
   ],
   "source": [
    "def func2():\n",
    "    param = 4\n",
    "    \n",
    "    def inner(var):\n",
    "        var += 1\n",
    "        return var\n",
    "\n",
    "    param = inner(param)\n",
    "    return param\n",
    "\n",
    "func2()"
   ]
  },
  {
   "cell_type": "code",
   "execution_count": 155,
   "metadata": {},
   "outputs": [
    {
     "data": {
      "text/plain": [
       "(2, 63)"
      ]
     },
     "execution_count": 155,
     "metadata": {},
     "output_type": "execute_result"
    }
   ],
   "source": [
    "def three_params(var1 = None, var2 = None, var3 = None):\n",
    "    if var1 == None:\n",
    "        if var2 == None:\n",
    "            if var3 == None:\n",
    "                return None\n",
    "            else:\n",
    "                return var3\n",
    "        else:\n",
    "            if var3 == None:\n",
    "                return var2\n",
    "            else:\n",
    "                return var2, var3\n",
    "    else:\n",
    "        if var2 == None:\n",
    "            if var3 == None:\n",
    "                return None\n",
    "            else:\n",
    "                return var1, var3\n",
    "        else:\n",
    "            if var3 == None:\n",
    "                return var1, var2\n",
    "            else:\n",
    "                return var1, var2, var3\n",
    "            \n",
    "\n",
    "three_params(var1 = 2, var2 = 45, var3 = 63)"
   ]
  },
  {
   "cell_type": "code",
   "execution_count": null,
   "metadata": {},
   "outputs": [],
   "source": [
    "def three_params(var1 = None, var2 = None, var3 = None):\n",
    "    list_vars = [var1, var2, var3]"
   ]
  },
  {
   "cell_type": "markdown",
   "metadata": {},
   "source": [
    "**lesson 28.10.24**"
   ]
  },
  {
   "cell_type": "markdown",
   "metadata": {},
   "source": [
    "**Модули, пакеты, исключения**"
   ]
  },
  {
   "cell_type": "code",
   "execution_count": 3,
   "metadata": {},
   "outputs": [],
   "source": [
    "import math # math - модуль\n",
    "import sys\n",
    "\n",
    "# при импортировании 2х и более модулей, по pep-8 лучше модули писать раздельно, а не через запятую"
   ]
  },
  {
   "cell_type": "markdown",
   "metadata": {},
   "source": [
    "- *Пространство имен* - пространство, в котором существуют некоторые имена, и имена не кофликтуют друг с другом"
   ]
  },
  {
   "cell_type": "code",
   "execution_count": 6,
   "metadata": {},
   "outputs": [
    {
     "data": {
      "text/plain": [
       "[0, 1, 2, 3, 4, 5, 6, 7, 8, 9]"
      ]
     },
     "execution_count": 6,
     "metadata": {},
     "output_type": "execute_result"
    }
   ],
   "source": [
    "ListExample = list(x for x in range(10))\n",
    "ListExample"
   ]
  },
  {
   "cell_type": "code",
   "execution_count": 14,
   "metadata": {},
   "outputs": [
    {
     "data": {
      "text/plain": [
       "1.2246467991473532e-16"
      ]
     },
     "execution_count": 14,
     "metadata": {},
     "output_type": "execute_result"
    }
   ],
   "source": [
    "# для простого обращения к функции из модуля:\n",
    "math.sin(math.pi) # в модульных функциях допустимо использование функции в функции"
   ]
  },
  {
   "cell_type": "code",
   "execution_count": 16,
   "metadata": {},
   "outputs": [
    {
     "data": {
      "text/plain": [
       "1.2246467991473532e-16"
      ]
     },
     "execution_count": 16,
     "metadata": {},
     "output_type": "execute_result"
    }
   ],
   "source": [
    "#для точного испортирования функции из модуля (без постоянного обращения к модулю):\n",
    "from math import sin, pi\n",
    "sin(pi)"
   ]
  },
  {
   "cell_type": "code",
   "execution_count": 18,
   "metadata": {},
   "outputs": [],
   "source": [
    "# создание псевдонима для модуля\n",
    "import sys as s # теперь обращение к sys не доступно, доступно только через \"s\" ;\n",
    "#                 у некоторых библиотек есть обзепринятые псевдонимы (например: numpy as np)"
   ]
  },
  {
   "cell_type": "code",
   "execution_count": 21,
   "metadata": {},
   "outputs": [
    {
     "data": {
      "text/plain": [
       "-0.9880316240928618"
      ]
     },
     "execution_count": 21,
     "metadata": {},
     "output_type": "execute_result"
    }
   ],
   "source": [
    "# можно создать псевдоним для функции | данная возможность РЕДКО используется\n",
    "from math import sin as my_sin\n",
    "my_sin(30)"
   ]
  },
  {
   "cell_type": "code",
   "execution_count": 26,
   "metadata": {},
   "outputs": [
    {
     "data": {
      "text/plain": [
       "['__doc__',\n",
       " '__loader__',\n",
       " '__name__',\n",
       " '__package__',\n",
       " '__spec__',\n",
       " 'acos',\n",
       " 'acosh',\n",
       " 'asin',\n",
       " 'asinh',\n",
       " 'atan',\n",
       " 'atan2',\n",
       " 'atanh',\n",
       " 'ceil',\n",
       " 'copysign',\n",
       " 'cos',\n",
       " 'cosh',\n",
       " 'degrees',\n",
       " 'e',\n",
       " 'erf',\n",
       " 'erfc',\n",
       " 'exp',\n",
       " 'expm1',\n",
       " 'fabs',\n",
       " 'factorial',\n",
       " 'floor',\n",
       " 'fmod',\n",
       " 'frexp',\n",
       " 'fsum',\n",
       " 'gamma',\n",
       " 'gcd',\n",
       " 'hypot',\n",
       " 'inf',\n",
       " 'isclose',\n",
       " 'isfinite',\n",
       " 'isinf',\n",
       " 'isnan',\n",
       " 'ldexp',\n",
       " 'lgamma',\n",
       " 'log',\n",
       " 'log10',\n",
       " 'log1p',\n",
       " 'log2',\n",
       " 'modf',\n",
       " 'nan',\n",
       " 'pi',\n",
       " 'pow',\n",
       " 'radians',\n",
       " 'remainder',\n",
       " 'sin',\n",
       " 'sinh',\n",
       " 'sqrt',\n",
       " 'tan',\n",
       " 'tanh',\n",
       " 'tau',\n",
       " 'trunc']"
      ]
     },
     "execution_count": 26,
     "metadata": {},
     "output_type": "execute_result"
    }
   ],
   "source": [
    "dir(math) # функция dir показывает список существующих возможностей модуля\n",
    "# так же можно все функции посмотреть через \"math.\""
   ]
  },
  {
   "cell_type": "code",
   "execution_count": 28,
   "metadata": {},
   "outputs": [
    {
     "name": "stdout",
     "output_type": "stream",
     "text": [
      "Help on built-in module math:\n",
      "\n",
      "NAME\n",
      "    math\n",
      "\n",
      "DESCRIPTION\n",
      "    This module provides access to the mathematical functions\n",
      "    defined by the C standard.\n",
      "\n",
      "FUNCTIONS\n",
      "    acos(x, /)\n",
      "        Return the arc cosine (measured in radians) of x.\n",
      "    \n",
      "    acosh(x, /)\n",
      "        Return the inverse hyperbolic cosine of x.\n",
      "    \n",
      "    asin(x, /)\n",
      "        Return the arc sine (measured in radians) of x.\n",
      "    \n",
      "    asinh(x, /)\n",
      "        Return the inverse hyperbolic sine of x.\n",
      "    \n",
      "    atan(x, /)\n",
      "        Return the arc tangent (measured in radians) of x.\n",
      "    \n",
      "    atan2(y, x, /)\n",
      "        Return the arc tangent (measured in radians) of y/x.\n",
      "        \n",
      "        Unlike atan(y/x), the signs of both x and y are considered.\n",
      "    \n",
      "    atanh(x, /)\n",
      "        Return the inverse hyperbolic tangent of x.\n",
      "    \n",
      "    ceil(x, /)\n",
      "        Return the ceiling of x as an Integral.\n",
      "        \n",
      "        This is the smallest integer >= x.\n",
      "    \n",
      "    copysign(x, y, /)\n",
      "        Return a float with the magnitude (absolute value) of x but the sign of y.\n",
      "        \n",
      "        On platforms that support signed zeros, copysign(1.0, -0.0)\n",
      "        returns -1.0.\n",
      "    \n",
      "    cos(x, /)\n",
      "        Return the cosine of x (measured in radians).\n",
      "    \n",
      "    cosh(x, /)\n",
      "        Return the hyperbolic cosine of x.\n",
      "    \n",
      "    degrees(x, /)\n",
      "        Convert angle x from radians to degrees.\n",
      "    \n",
      "    erf(x, /)\n",
      "        Error function at x.\n",
      "    \n",
      "    erfc(x, /)\n",
      "        Complementary error function at x.\n",
      "    \n",
      "    exp(x, /)\n",
      "        Return e raised to the power of x.\n",
      "    \n",
      "    expm1(x, /)\n",
      "        Return exp(x)-1.\n",
      "        \n",
      "        This function avoids the loss of precision involved in the direct evaluation of exp(x)-1 for small x.\n",
      "    \n",
      "    fabs(x, /)\n",
      "        Return the absolute value of the float x.\n",
      "    \n",
      "    factorial(x, /)\n",
      "        Find x!.\n",
      "        \n",
      "        Raise a ValueError if x is negative or non-integral.\n",
      "    \n",
      "    floor(x, /)\n",
      "        Return the floor of x as an Integral.\n",
      "        \n",
      "        This is the largest integer <= x.\n",
      "    \n",
      "    fmod(x, y, /)\n",
      "        Return fmod(x, y), according to platform C.\n",
      "        \n",
      "        x % y may differ.\n",
      "    \n",
      "    frexp(x, /)\n",
      "        Return the mantissa and exponent of x, as pair (m, e).\n",
      "        \n",
      "        m is a float and e is an int, such that x = m * 2.**e.\n",
      "        If x is 0, m and e are both 0.  Else 0.5 <= abs(m) < 1.0.\n",
      "    \n",
      "    fsum(seq, /)\n",
      "        Return an accurate floating point sum of values in the iterable seq.\n",
      "        \n",
      "        Assumes IEEE-754 floating point arithmetic.\n",
      "    \n",
      "    gamma(x, /)\n",
      "        Gamma function at x.\n",
      "    \n",
      "    gcd(x, y, /)\n",
      "        greatest common divisor of x and y\n",
      "    \n",
      "    hypot(x, y, /)\n",
      "        Return the Euclidean distance, sqrt(x*x + y*y).\n",
      "    \n",
      "    isclose(a, b, *, rel_tol=1e-09, abs_tol=0.0)\n",
      "        Determine whether two floating point numbers are close in value.\n",
      "        \n",
      "          rel_tol\n",
      "            maximum difference for being considered \"close\", relative to the\n",
      "            magnitude of the input values\n",
      "          abs_tol\n",
      "            maximum difference for being considered \"close\", regardless of the\n",
      "            magnitude of the input values\n",
      "        \n",
      "        Return True if a is close in value to b, and False otherwise.\n",
      "        \n",
      "        For the values to be considered close, the difference between them\n",
      "        must be smaller than at least one of the tolerances.\n",
      "        \n",
      "        -inf, inf and NaN behave similarly to the IEEE 754 Standard.  That\n",
      "        is, NaN is not close to anything, even itself.  inf and -inf are\n",
      "        only close to themselves.\n",
      "    \n",
      "    isfinite(x, /)\n",
      "        Return True if x is neither an infinity nor a NaN, and False otherwise.\n",
      "    \n",
      "    isinf(x, /)\n",
      "        Return True if x is a positive or negative infinity, and False otherwise.\n",
      "    \n",
      "    isnan(x, /)\n",
      "        Return True if x is a NaN (not a number), and False otherwise.\n",
      "    \n",
      "    ldexp(x, i, /)\n",
      "        Return x * (2**i).\n",
      "        \n",
      "        This is essentially the inverse of frexp().\n",
      "    \n",
      "    lgamma(x, /)\n",
      "        Natural logarithm of absolute value of Gamma function at x.\n",
      "    \n",
      "    log(...)\n",
      "        log(x, [base=math.e])\n",
      "        Return the logarithm of x to the given base.\n",
      "        \n",
      "        If the base not specified, returns the natural logarithm (base e) of x.\n",
      "    \n",
      "    log10(x, /)\n",
      "        Return the base 10 logarithm of x.\n",
      "    \n",
      "    log1p(x, /)\n",
      "        Return the natural logarithm of 1+x (base e).\n",
      "        \n",
      "        The result is computed in a way which is accurate for x near zero.\n",
      "    \n",
      "    log2(x, /)\n",
      "        Return the base 2 logarithm of x.\n",
      "    \n",
      "    modf(x, /)\n",
      "        Return the fractional and integer parts of x.\n",
      "        \n",
      "        Both results carry the sign of x and are floats.\n",
      "    \n",
      "    pow(x, y, /)\n",
      "        Return x**y (x to the power of y).\n",
      "    \n",
      "    radians(x, /)\n",
      "        Convert angle x from degrees to radians.\n",
      "    \n",
      "    remainder(x, y, /)\n",
      "        Difference between x and the closest integer multiple of y.\n",
      "        \n",
      "        Return x - n*y where n*y is the closest integer multiple of y.\n",
      "        In the case where x is exactly halfway between two multiples of\n",
      "        y, the nearest even value of n is used. The result is always exact.\n",
      "    \n",
      "    sin(x, /)\n",
      "        Return the sine of x (measured in radians).\n",
      "    \n",
      "    sinh(x, /)\n",
      "        Return the hyperbolic sine of x.\n",
      "    \n",
      "    sqrt(x, /)\n",
      "        Return the square root of x.\n",
      "    \n",
      "    tan(x, /)\n",
      "        Return the tangent of x (measured in radians).\n",
      "    \n",
      "    tanh(x, /)\n",
      "        Return the hyperbolic tangent of x.\n",
      "    \n",
      "    trunc(x, /)\n",
      "        Truncates the Real x to the nearest Integral toward 0.\n",
      "        \n",
      "        Uses the __trunc__ magic method.\n",
      "\n",
      "DATA\n",
      "    e = 2.718281828459045\n",
      "    inf = inf\n",
      "    nan = nan\n",
      "    pi = 3.141592653589793\n",
      "    tau = 6.283185307179586\n",
      "\n",
      "FILE\n",
      "    (built-in)\n",
      "\n",
      "\n"
     ]
    }
   ],
   "source": [
    "# полная документация по модулям:\n",
    "help(math) # описания функций, примеры переменных и тп"
   ]
  },
  {
   "cell_type": "code",
   "execution_count": 33,
   "metadata": {},
   "outputs": [
    {
     "name": "stdout",
     "output_type": "stream",
     "text": [
      "True\n",
      "True\n",
      "True\n",
      "True\n"
     ]
    }
   ],
   "source": [
    "from math import pi, radians, degrees, sin, cos, tan, asin\n",
    "\n",
    "ad = 90\n",
    "ar = radians(ad)\n",
    "ad = degrees(ar)\n",
    "\n",
    "print(ad == 90.0) # 90. - краткое обозначение 90.0 | 90. - число с плавающей точкой, те 90.0 == 90.\n",
    "print(ar == pi / 2.0)\n",
    "print(sin(ar) / cos(ar) == tan(ar))\n",
    "print(asin(sin(ar)) == ar)"
   ]
  },
  {
   "cell_type": "code",
   "execution_count": 131,
   "metadata": {},
   "outputs": [
    {
     "data": {
      "text/plain": [
       "1"
      ]
     },
     "execution_count": 131,
     "metadata": {},
     "output_type": "execute_result"
    }
   ],
   "source": [
    "import math\n",
    "\n",
    "math.ceil(1.1) # округление в большую сторону, result = 2\n",
    "math.floor(1.1) # result = 2"
   ]
  },
  {
   "cell_type": "code",
   "execution_count": 166,
   "metadata": {},
   "outputs": [
    {
     "data": {
      "text/plain": [
       "0.8444218515250481"
      ]
     },
     "execution_count": 166,
     "metadata": {},
     "output_type": "execute_result"
    }
   ],
   "source": [
    "# модуль random - работает с *псевдо* случайными числами\n",
    "from random import random, seed, randrange, randint\n",
    "\n",
    "seed(0) #seed - устанавливает начальное число на текущее время, те выдается 1 и тоже значение функции random()\n",
    "random() # создает рандомное число от 0 до 1"
   ]
  },
  {
   "cell_type": "code",
   "execution_count": 171,
   "metadata": {},
   "outputs": [
    {
     "data": {
      "text/plain": [
       "0"
      ]
     },
     "execution_count": 171,
     "metadata": {},
     "output_type": "execute_result"
    }
   ],
   "source": [
    "randrange(100) # генерирует рандомное число от 1 до x (x - введенное число)\n",
    "randint(-5, 5) # генерирует от x до y"
   ]
  },
  {
   "cell_type": "code",
   "execution_count": 176,
   "metadata": {},
   "outputs": [
    {
     "data": {
      "text/plain": [
       "'Windows-10-10.0.19041-SP0'"
      ]
     },
     "execution_count": 176,
     "metadata": {},
     "output_type": "execute_result"
    }
   ],
   "source": [
    "import platform # позволяет получить доступ к базом данным платформы\n",
    "\n",
    "from platform import platform\n",
    "platform() # platform(aliased = False, terse = False)"
   ]
  },
  {
   "cell_type": "code",
   "execution_count": 177,
   "metadata": {},
   "outputs": [
    {
     "data": {
      "text/plain": [
       "'AMD64'"
      ]
     },
     "execution_count": 177,
     "metadata": {},
     "output_type": "execute_result"
    }
   ],
   "source": [
    "from platform import machine\n",
    "\n",
    "machine()"
   ]
  },
  {
   "cell_type": "markdown",
   "metadata": {},
   "source": [
    "**Модули и пакеты**"
   ]
  },
  {
   "cell_type": "markdown",
   "metadata": {},
   "source": [
    "- Пакет (package) - библиотека модулей, способ организации и структурирования кода, который позволяет объединять несколько модулей вместе\n",
    "\n",
    "! Модули в отдельном файле :D !"
   ]
  },
  {
   "cell_type": "markdown",
   "metadata": {},
   "source": [
    "**lesson 30.10.24**"
   ]
  },
  {
   "cell_type": "markdown",
   "metadata": {},
   "source": [
    "Коллекции, функции"
   ]
  },
  {
   "cell_type": "code",
   "execution_count": 6,
   "metadata": {},
   "outputs": [
    {
     "name": "stdout",
     "output_type": "stream",
     "text": [
      "a = 2, b = 1, c = 3\n",
      "6\n",
      "a = 1, b = 3, c = 2\n",
      "6\n"
     ]
    }
   ],
   "source": [
    "def get_V(a, b, c):\n",
    "    print(f'a = {a}, b = {b}, c = {c}')\n",
    "    return a * b * c\n",
    "\n",
    "v = get_V(b = 1, a = 2, c = 3) # именнованные\n",
    "print(v)\n",
    "\n",
    "v = get_V(1, c = 2, b = 3) # сначала позиционные аргументы, потом именованные\n",
    "print(v)"
   ]
  },
  {
   "cell_type": "code",
   "execution_count": 30,
   "metadata": {},
   "outputs": [
    {
     "name": "stdout",
     "output_type": "stream",
     "text": [
      "a = 2, b = 1, c = 3\n",
      "6\n",
      "-\n",
      "6\n"
     ]
    }
   ],
   "source": [
    "def get_V(a, b, c, verbose = True): # verbose (подробнее, расширенное) - отвечает за вывод дополнительной информации в консоль.\n",
    "#                                     Это формальное значение, его не обязательно вписывать каждый раз, но чтобы именить его необходимо записать\n",
    "    if verbose: \n",
    "        print(f'a = {a}, b = {b}, c = {c}')\n",
    "        \n",
    "    return a * b * c\n",
    "\n",
    "v = get_V(b = 1, a = 2, c = 3)\n",
    "print(v)\n",
    "\n",
    "print('-')\n",
    "\n",
    "v = get_V(1, 2, 3, False)\n",
    "print(v)"
   ]
  },
  {
   "cell_type": "code",
   "execution_count": null,
   "metadata": {},
   "outputs": [
    {
     "name": "stdout",
     "output_type": "stream",
     "text": [
      "True\n",
      "False\n",
      "False\n",
      "True\n"
     ]
    }
   ],
   "source": [
    "def cmp_str(s1, s2, reg = False, trim = True):\n",
    "    if reg:\n",
    "        s1 = s1.lower()\n",
    "        s2 = s2.lower()\n",
    "    if trim:\n",
    "        s1 = s1.strip()\n",
    "        s2 = s2.strip()\n",
    "    \n",
    "    return s1 == s2\n",
    "\n",
    "print(cmp_str('Python ', ' Python')) #True\n",
    "print(cmp_str('Python ', ' Python', trim = False)) #False\n",
    "\n",
    "print(cmp_str('Python ', ' PYTHON')) #False\n",
    "print(cmp_str('Python ', ' Python', reg = True)) #True"
   ]
  },
  {
   "cell_type": "code",
   "execution_count": 25,
   "metadata": {},
   "outputs": [
    {
     "name": "stdout",
     "output_type": "stream",
     "text": [
      "[1, 2]\n"
     ]
    }
   ],
   "source": [
    "def def_value(value, lst=[]):\n",
    "    lst.append(value)\n",
    "    return lst\n",
    "\n",
    "l = def_value(1)\n",
    "l = def_value(2)\n",
    "\n",
    "print(l)"
   ]
  },
  {
   "cell_type": "code",
   "execution_count": 28,
   "metadata": {},
   "outputs": [
    {
     "name": "stdout",
     "output_type": "stream",
     "text": [
      "[2]\n"
     ]
    }
   ],
   "source": [
    "def def_value(value, lst = None):\n",
    "    if lst is None:\n",
    "        lst = []\n",
    "\n",
    "    lst.append(value)\n",
    "    return lst\n",
    "\n",
    "l = def_value(1)\n",
    "l = def_value(2)\n",
    "\n",
    "print(l)"
   ]
  },
  {
   "cell_type": "code",
   "execution_count": 29,
   "metadata": {},
   "outputs": [
    {
     "name": "stdout",
     "output_type": "stream",
     "text": [
      "[1, 2]\n"
     ]
    }
   ],
   "source": [
    "def def_value(value, lst = None):\n",
    "    if lst is None:\n",
    "        lst = []\n",
    "\n",
    "    lst.append(value)\n",
    "    return lst\n",
    "\n",
    "l = def_value(1)\n",
    "l = def_value(2, l)\n",
    "\n",
    "print(l)"
   ]
  },
  {
   "cell_type": "markdown",
   "metadata": {},
   "source": [
    "Передача функции произвольное количество аргументов (создание)"
   ]
  },
  {
   "cell_type": "code",
   "execution_count": 68,
   "metadata": {},
   "outputs": [
    {
     "name": "stdout",
     "output_type": "stream",
     "text": [
      "F: \\andrej.org\\python\\39\\p39. def.docx\n"
     ]
    }
   ],
   "source": [
    "def os_path(*args): # функция с любым количеством аргументов\n",
    "    path = '\\\\'.join(args)\n",
    "    return path\n",
    "\n",
    "p = os_path('F: \\\\andrej.org',\n",
    "            'python',\n",
    "            '39\\\\p39. def.docx') # коллекция\n",
    "print(p)"
   ]
  },
  {
   "cell_type": "code",
   "execution_count": 67,
   "metadata": {},
   "outputs": [
    {
     "name": "stdout",
     "output_type": "stream",
     "text": [
      "F:\\\\andrej.org\\python\\39\\\\p39.def.docx\n"
     ]
    }
   ],
   "source": [
    "def os_path(disk, *args, sep = '\\\\', **kwargs): # kwargs is keyword argument. kwargs это словарь\n",
    "    # print(kwargs)\n",
    "    args = (disk, ) + args\n",
    "\n",
    "    if 'trim' in kwargs and kwargs['trim']:\n",
    "        args = [_.strip() for _ in args]\n",
    "\n",
    "    path = sep.join(args)\n",
    "    return path\n",
    "\n",
    "p = os_path('F:', '\\\\andrej.org',\n",
    "            'python',\n",
    "            '39', '\\\\p39.def.docx',\n",
    "            sep = '\\\\', trim = True) # коллекция\n",
    "print(p)"
   ]
  },
  {
   "cell_type": "markdown",
   "metadata": {},
   "source": [
    "Операторы * и ** упаковки и распаковки\n",
    "\n",
    "Например: <br>\n",
    "def os_path(disk, *args, sep = '\\\\', **kwargs):\n",
    "\n",
    "** (упаковка) только в функциях"
   ]
  },
  {
   "cell_type": "code",
   "execution_count": 69,
   "metadata": {},
   "outputs": [
    {
     "name": "stdout",
     "output_type": "stream",
     "text": [
      "1\n",
      "[2, 3, 4]\n"
     ]
    }
   ],
   "source": [
    "x, *y = (1, 2, 3, 4)\n",
    "print(x)\n",
    "print(y)"
   ]
  },
  {
   "cell_type": "code",
   "execution_count": 70,
   "metadata": {},
   "outputs": [
    {
     "name": "stdout",
     "output_type": "stream",
     "text": [
      "[1, 2, 3]\n",
      "4\n"
     ]
    }
   ],
   "source": [
    "*x, y = (1, 2, 3, 4)\n",
    "print(x)\n",
    "print(y)"
   ]
  },
  {
   "cell_type": "code",
   "execution_count": null,
   "metadata": {},
   "outputs": [
    {
     "name": "stdout",
     "output_type": "stream",
     "text": [
      "1\n",
      "['a', True, 4]\n"
     ]
    }
   ],
   "source": [
    "x, *y = (1, 'a', True, 4)\n",
    "print(x)\n",
    "print(y)"
   ]
  },
  {
   "cell_type": "code",
   "execution_count": 72,
   "metadata": {},
   "outputs": [
    {
     "name": "stdout",
     "output_type": "stream",
     "text": [
      "['H', 'e', 'l', 'l', 'o', ',', ' ', 'P', 'y', 't', 'h', 'o']\n",
      "n\n",
      "!\n"
     ]
    }
   ],
   "source": [
    "*x, y, z = ('Hello, Python!')\n",
    "print(x)\n",
    "print(y)\n",
    "print(z)"
   ]
  },
  {
   "cell_type": "code",
   "execution_count": null,
   "metadata": {},
   "outputs": [
    {
     "data": {
      "text/plain": [
       "([1, 2, 3],)"
      ]
     },
     "execution_count": 75,
     "metadata": {},
     "output_type": "execute_result"
    }
   ],
   "source": [
    "*x, y = 1, 2, 3\n",
    "a = [1, 2, 3]\n",
    "(a, )"
   ]
  },
  {
   "cell_type": "code",
   "execution_count": 76,
   "metadata": {},
   "outputs": [
    {
     "data": {
      "text/plain": [
       "(1, 2, 3)"
      ]
     },
     "execution_count": 76,
     "metadata": {},
     "output_type": "execute_result"
    }
   ],
   "source": [
    "*x, y = 1, 2, 3\n",
    "a = [1, 2, 3]\n",
    "(*a, )"
   ]
  },
  {
   "cell_type": "code",
   "execution_count": 86,
   "metadata": {},
   "outputs": [
    {
     "name": "stdout",
     "output_type": "stream",
     "text": [
      "(-5, 5)\n",
      "[-5, -4, -3, -2, -1, 0, 1, 2, 3, 4]\n",
      "-----------------------------------\n",
      "[-5, -4, -3, -2, -1, 0, 1, 2, 3, 4]\n"
     ]
    }
   ],
   "source": [
    "d = (-5, 5)\n",
    "print(d)\n",
    "\n",
    "print(list(range(*d)))\n",
    "print('-----------------------------------')\n",
    "print([*range(*d)])"
   ]
  },
  {
   "cell_type": "code",
   "execution_count": 88,
   "metadata": {},
   "outputs": [
    {
     "data": {
      "text/plain": [
       "[-5, -4, -3, -2, -1, 0, 1, 2, 3, 4, True, False, 1, 2, 3]"
      ]
     },
     "execution_count": 88,
     "metadata": {},
     "output_type": "execute_result"
    }
   ],
   "source": [
    "[*range(*d), *(True, False), *a] # обьекты можно добавлять через запятую, обьединять словари"
   ]
  },
  {
   "cell_type": "code",
   "execution_count": 167,
   "metadata": {},
   "outputs": [
    {
     "name": "stdout",
     "output_type": "stream",
     "text": [
      "Площадь квадрата равна: 25\n",
      "Площадь прямоугольника равна: 15\n",
      "Площадь круга равна: 12.566370614359172\n",
      "Объем куба равен: 64\n",
      "Объем параллелепипеда равен: 60\n",
      "Объем шара равен: 113.09733552923254\n"
     ]
    }
   ],
   "source": [
    "from math import pi\n",
    "\n",
    "def calculate_value(shape, *args, type='площадь'):\n",
    "# a = None, b = None, c = None, r = None,\n",
    "    \n",
    "    if type == 'площадь':\n",
    "        if shape == 'квадрат':\n",
    "            S = args[0] * args[0]\n",
    "            return  f'Площадь квадрата равна: {S}'\n",
    "        elif shape == 'прямоугольник':\n",
    "            S = args[0] * args[1]\n",
    "            return f'Площадь прямоугольника равна: {S}'\n",
    "        elif shape == 'круг':\n",
    "            S = pi * args[0] ** 2\n",
    "            return f'Площадь круга равна: {S}'\n",
    "        else:\n",
    "            return 'Введите верную фигуру'\n",
    "        \n",
    "    elif type == 'объем':\n",
    "        if shape == 'куб':\n",
    "            V = args[0] ** 3\n",
    "            return f'Объем куба равен: {V}'\n",
    "        elif shape == 'параллелепипед':\n",
    "            V = args[0] * args[1] * args[2]\n",
    "            return f'Объем параллелепипеда равен: {V}'\n",
    "        elif shape == 'шар':\n",
    "            V = 4/3 * pi * args[0] ** 3\n",
    "            return f'Объем шара равен: {V}'\n",
    "        else:\n",
    "            return 'Введите верную фигуру'\n",
    "        \n",
    "    else:\n",
    "        return 'Введите правильный тип данных'\n",
    "    \n",
    "user_value = calculate_value('квадрат', 5)\n",
    "print(user_value)\n",
    "\n",
    "user_value = calculate_value('прямоугольник', 3, 5)\n",
    "print(user_value)\n",
    "\n",
    "user_value = calculate_value('круг', 2)\n",
    "print(user_value)\n",
    "\n",
    "user_value = calculate_value('куб', 4, type='объем')\n",
    "print(user_value)\n",
    "\n",
    "user_value = calculate_value('параллелепипед', 3, 4, 5, type='объем')\n",
    "print(user_value)\n",
    "\n",
    "user_value = calculate_value('шар', 3, type='объем')\n",
    "print(user_value)"
   ]
  },
  {
   "cell_type": "markdown",
   "metadata": {},
   "source": [
    "**04.11.24 <br>**\n",
    "**Генераторы и замыкания**"
   ]
  },
  {
   "cell_type": "markdown",
   "metadata": {},
   "source": [
    "**Генератор** — это подпрограмма, которая может возвращать очередное значение и автоматически сохранять и возобновлять своё состояние для возврата <br>\n",
    "следующего значения <br>\n",
    "\n",
    "**Итерируемый объект (iterable)** - это объект, который способен возвращать элементы по одному. <br>\n",
    "\n",
    "методы:\n",
    "- __iter__() | метод, который позволяет объекту быть итерируемым\n",
    "- __next__() | метод, который используется для определения поведения итератора."
   ]
  },
  {
   "cell_type": "code",
   "execution_count": 1,
   "metadata": {},
   "outputs": [
    {
     "name": "stdout",
     "output_type": "stream",
     "text": [
      "__init__\n",
      "__iter__\n",
      "__next__\n",
      "1\n",
      "__next__\n",
      "1\n",
      "__next__\n",
      "2\n",
      "__next__\n",
      "3\n",
      "__next__\n",
      "5\n",
      "__next__\n",
      "8\n",
      "__next__\n",
      "13\n",
      "__next__\n",
      "21\n",
      "__next__\n",
      "34\n",
      "__next__\n",
      "55\n",
      "__next__\n"
     ]
    }
   ],
   "source": [
    "class Fib:\n",
    "    def __init__(self, nn):\n",
    "        print(\"__init__\")\n",
    "        self.__n = nn\n",
    "        self.__i = 0\n",
    "        self.__p1 = self.__p2 = 1\n",
    "    \n",
    "    def __iter__(self):\n",
    "        print(\"__iter__\")\n",
    "        return self\n",
    "    \n",
    "    def __next__(self):\n",
    "        print(\"__next__\")\n",
    "        self.__i += 1\n",
    "        if self.__i > self.__n:\n",
    "            raise StopIteration\n",
    "        if self.__i in [1, 2]:\n",
    "            return 1\n",
    "        ret = self.__p1 + self.__p2\n",
    "        self.__p1, self.__p2 = self.__p2, ret\n",
    "        return ret\n",
    "    \n",
    "for i in Fib(10):\n",
    "    print(i)"
   ]
  },
  {
   "cell_type": "code",
   "execution_count": 3,
   "metadata": {},
   "outputs": [
    {
     "name": "stdout",
     "output_type": "stream",
     "text": [
      "Class iter\n",
      "__next__\n",
      "1\n",
      "__next__\n",
      "1\n",
      "__next__\n",
      "2\n",
      "__next__\n",
      "3\n",
      "__next__\n",
      "5\n",
      "__next__\n",
      "8\n",
      "__next__\n",
      "13\n",
      "__next__\n",
      "21\n",
      "__next__\n"
     ]
    }
   ],
   "source": [
    "class Fib:\n",
    "    def __init__(self, nn):\n",
    "        self.__n = nn\n",
    "        self.__i = 0\n",
    "        self.__p1 = self.__p2 = 1\n",
    "    \n",
    "    def __iter__(self):\n",
    "        print(\"Fib iter\")\n",
    "        return self\n",
    "    \n",
    "    def __next__(self):\n",
    "        print(\"__next__\")\n",
    "        self.__i += 1\n",
    "        if self.__i > self.__n:\n",
    "            raise StopIteration\n",
    "        if self.__i in [1, 2]:\n",
    "            return 1\n",
    "        ret = self.__p1 + self.__p2\n",
    "        self.__p1, self.__p2 = self.__p2, ret\n",
    "        return ret\n",
    "\n",
    "class Class:\n",
    "    def __init__(self, n):\n",
    "        self.__iter = Fib(n)\n",
    "\n",
    "    def __iter__(self):\n",
    "        print(\"Class iter\")\n",
    "        return self.__iter\n",
    "    \n",
    "object = Class (8)\n",
    "\n",
    "for i in object:\n",
    "    print(i)"
   ]
  },
  {
   "cell_type": "markdown",
   "metadata": {},
   "source": [
    "**Оператор yield**\n",
    "\n",
    "Оператор yield используется для создания генераторов — специального типа итераторов."
   ]
  },
  {
   "cell_type": "code",
   "execution_count": 7,
   "metadata": {},
   "outputs": [
    {
     "name": "stdout",
     "output_type": "stream",
     "text": [
      "0\n",
      "1\n",
      "2\n",
      "3\n",
      "4\n"
     ]
    }
   ],
   "source": [
    "def fun(n):\n",
    "    for i in range(n):\n",
    "        yield i\n",
    "\n",
    "for v in fun(5):\n",
    "    print(v)"
   ]
  },
  {
   "cell_type": "markdown",
   "metadata": {},
   "source": [
    "Построение собственного генератора:"
   ]
  },
  {
   "cell_type": "code",
   "execution_count": 8,
   "metadata": {},
   "outputs": [
    {
     "name": "stdout",
     "output_type": "stream",
     "text": [
      "1\n",
      "2\n",
      "4\n",
      "8\n",
      "16\n",
      "32\n",
      "64\n",
      "128\n"
     ]
    }
   ],
   "source": [
    "def powers0f2(n):\n",
    "    pow = 1 \n",
    "    for i in range (n):\n",
    "        yield pow\n",
    "        pow *= 2\n",
    "\n",
    "for v in powers0f2(8):\n",
    "    print(v)"
   ]
  },
  {
   "cell_type": "code",
   "execution_count": 10,
   "metadata": {},
   "outputs": [
    {
     "name": "stdout",
     "output_type": "stream",
     "text": [
      "[1, 2, 4, 8, 16]\n"
     ]
    }
   ],
   "source": [
    "t = [x for x in powers0f2(5)]\n",
    "\n",
    "print(t)"
   ]
  },
  {
   "cell_type": "code",
   "execution_count": 11,
   "metadata": {},
   "outputs": [
    {
     "name": "stdout",
     "output_type": "stream",
     "text": [
      "[1, 2, 4]\n"
     ]
    }
   ],
   "source": [
    "t = list(powers0f2(3))\n",
    "\n",
    "print(t)"
   ]
  },
  {
   "cell_type": "code",
   "execution_count": 12,
   "metadata": {},
   "outputs": [
    {
     "name": "stdout",
     "output_type": "stream",
     "text": [
      "1\n",
      "2\n",
      "4\n",
      "8\n"
     ]
    }
   ],
   "source": [
    "for i in range(20):\n",
    "    if i in powers0f2(4):\n",
    "        print(i)"
   ]
  },
  {
   "cell_type": "code",
   "execution_count": 13,
   "metadata": {},
   "outputs": [
    {
     "name": "stdout",
     "output_type": "stream",
     "text": [
      "[1, 1, 2, 3, 5, 8, 13, 21, 34, 55]\n"
     ]
    }
   ],
   "source": [
    "def Fib(n):\n",
    "    p = pp = 1\n",
    "    for i in range(n):\n",
    "        if i in [0, 1]:\n",
    "            yield 1\n",
    "        else:\n",
    "            n = p + pp\n",
    "            pp, p = p, n \n",
    "            yield n\n",
    "\n",
    "fibs = list(Fib(10))\n",
    "\n",
    "print(fibs)"
   ]
  },
  {
   "cell_type": "code",
   "execution_count": 14,
   "metadata": {},
   "outputs": [
    {
     "name": "stdout",
     "output_type": "stream",
     "text": [
      "[1, 10, 100, 1000, 10000, 100000]\n",
      "[1, 10, 100, 1000, 10000, 100000]\n"
     ]
    }
   ],
   "source": [
    "listone = []\n",
    "\n",
    "for ex in range(6):\n",
    "    listone.append(10**ex)\n",
    "\n",
    "listtwo = [10**ex for ex in range(6)]\n",
    "\n",
    "print(listone)\n",
    "print(listtwo)"
   ]
  },
  {
   "cell_type": "markdown",
   "metadata": {},
   "source": [
    "условный опепратор (*conditional expression*) - способ выбора одного из двух значений на основе результата логического выражения\n",
    "\n",
    "expression_one if consition else expression_two"
   ]
  },
  {
   "cell_type": "code",
   "execution_count": 15,
   "metadata": {},
   "outputs": [
    {
     "name": "stdout",
     "output_type": "stream",
     "text": [
      "[1, 0, 1, 0, 1, 0, 1, 0, 1, 0]\n"
     ]
    }
   ],
   "source": [
    "lst = []\n",
    "\n",
    "for x in range(10):\n",
    "    lst.append(1 if x % 2 == 0 else 0)\n",
    "\n",
    "print(lst)"
   ]
  },
  {
   "cell_type": "code",
   "execution_count": null,
   "metadata": {},
   "outputs": [
    {
     "name": "stdout",
     "output_type": "stream",
     "text": [
      "[1, 0, 1, 0, 1, 0, 1, 0, 1, 0]\n",
      "0\n"
     ]
    }
   ],
   "source": [
    "lst = [1 if x % 2 == 0 else 0 for x in range(10)] # превращает списковое выражение в генератор\n",
    "\n",
    "print(lst)\n",
    "print(lst[1]) "
   ]
  },
  {
   "cell_type": "markdown",
   "metadata": {},
   "source": [
    "Функция lambda \n",
    "\n",
    "Лямбда-функция (анонимная функция), она короче и меньше обычной функции <br>\n",
    "lambda parameters : expression (Лямбда аргументы: выражение)"
   ]
  },
  {
   "cell_type": "code",
   "execution_count": 24,
   "metadata": {},
   "outputs": [
    {
     "name": "stdout",
     "output_type": "stream",
     "text": [
      "8\n",
      "8\n"
     ]
    }
   ],
   "source": [
    "# Конструкция:\n",
    "def defined_cube(y):\n",
    "    return y*y*y\n",
    "\n",
    "print(defined_cube(2))\n",
    "\n",
    "\n",
    "# Эквивалентна:\n",
    "lambda_cube = lambda y: y*y*y\n",
    "\n",
    "print(lambda_cube(2))"
   ]
  },
  {
   "cell_type": "code",
   "execution_count": 25,
   "metadata": {},
   "outputs": [
    {
     "name": "stdout",
     "output_type": "stream",
     "text": [
      "7\n"
     ]
    }
   ],
   "source": [
    "sum = lambda x, y : x + y\n",
    "\n",
    "print(sum(2, 5))"
   ]
  },
  {
   "cell_type": "code",
   "execution_count": 31,
   "metadata": {},
   "outputs": [
    {
     "name": "stdout",
     "output_type": "stream",
     "text": [
      "f(-2)=18\n",
      "f(-1)=8\n",
      "f(0)=2\n",
      "f(1)=0\n",
      "f(2)=2\n"
     ]
    }
   ],
   "source": [
    "# f(x) = 2x^2 - 4x + 2\n",
    "def PrintFunc(args, fun):\n",
    "    for x in args:\n",
    "        print('f(', x,')=', fun(x), sep='')\n",
    "\n",
    "def poly(x):\n",
    "    return 2 * x**2 - 4 * x + 2\n",
    "\n",
    "PrintFunc([x for x in range(-2, 3)], poly)"
   ]
  },
  {
   "cell_type": "markdown",
   "metadata": {},
   "source": [
    "Лямба-функции и функция map()\n",
    "\n",
    "map() принимает 2 аргумента: функцию и список |\n",
    "map(func, list)"
   ]
  },
  {
   "cell_type": "code",
   "execution_count": 38,
   "metadata": {},
   "outputs": [
    {
     "name": "stdout",
     "output_type": "stream",
     "text": [
      "[1, 2, 4, 8, 16]\n",
      "1 4 16 64 256 \n"
     ]
    }
   ],
   "source": [
    "list1 = [x for x in range(5)]\n",
    "list2 = list(map(lambda x: 2 ** x, list1))\n",
    "\n",
    "print(list2)\n",
    "\n",
    "for x in map(lambda x: x * x, list2):\n",
    "    print(x, end=' ')\n",
    "print()"
   ]
  },
  {
   "cell_type": "markdown",
   "metadata": {},
   "source": [
    "Лямбда и функция filter\n",
    "\n",
    "Элементы, которые возвращают True, успешно проходят фильтр, остальные отклоняются"
   ]
  },
  {
   "cell_type": "code",
   "execution_count": 67,
   "metadata": {},
   "outputs": [
    {
     "name": "stdout",
     "output_type": "stream",
     "text": [
      "[6, -10, 1, 1, 8]\n",
      "[6, 8]\n"
     ]
    }
   ],
   "source": [
    "from random import seed, randint\n",
    "\n",
    "seed()\n",
    "data = [randint(-10, 10) for x in range(5)] # строка создает список data, состоящий из 5 случайных целых чисел в диапазоне от -10 до 10\n",
    "filtered = list(filter(lambda x: x > 0 and x % 2 == 0, data)) # фильтрует список data \n",
    "\n",
    "print(data)\n",
    "print(filtered)"
   ]
  },
  {
   "cell_type": "markdown",
   "metadata": {},
   "source": [
    "Замыкания\n",
    "\n",
    "closure - метод, позволяющий хранить значения, не смотря на то, что котекста в котором они были созданы, уже не существует"
   ]
  },
  {
   "cell_type": "code",
   "execution_count": 68,
   "metadata": {},
   "outputs": [
    {
     "name": "stdout",
     "output_type": "stream",
     "text": [
      "1\n"
     ]
    }
   ],
   "source": [
    "def outer(par):\n",
    "    loc = par\n",
    "    def inner():\n",
    "        return loc\n",
    "    return inner\n",
    "\n",
    "var = 1\n",
    "fun = outer(var)\n",
    "print(fun())"
   ]
  },
  {
   "cell_type": "code",
   "execution_count": 70,
   "metadata": {},
   "outputs": [
    {
     "name": "stdout",
     "output_type": "stream",
     "text": [
      "0 0 0\n",
      "1 1 1\n",
      "2 4 8\n",
      "3 9 27\n",
      "4 16 64\n"
     ]
    }
   ],
   "source": [
    "def makeclosure(par):\n",
    "    loc = par \n",
    "    def power(p):\n",
    "        return p ** loc\n",
    "    return power\n",
    "\n",
    "fsqr = makeclosure(2)\n",
    "scub = makeclosure(3)\n",
    "\n",
    "for i in range(5):\n",
    "    print(i, fsqr(i), scub(i))\n"
   ]
  },
  {
   "cell_type": "markdown",
   "metadata": {},
   "source": [
    "Задание 1. <br>\n",
    "Создайте 2х мерный массив с помощью списковых выражений размером 5 на 5 со случайными числами, сделайте так, чтобы пользователь мог выбрать какой-то элемент массива должен будет умножаться на 2, умножьте на 2 тот элемент, который выбрал пользователь и все элементы после него, умножьте элементы через лямбда-функции"
   ]
  },
  {
   "cell_type": "code",
   "execution_count": 9,
   "metadata": {},
   "outputs": [
    {
     "name": "stdout",
     "output_type": "stream",
     "text": [
      "[1, 5, 10, 8, 3]\n",
      "[5, 7, 8, 9, 5]\n",
      "[8, 2, 10, 6, 9]\n",
      "[10, 2, 7, 9, 8]\n",
      "[4, 10, 10, 4, 4]\n",
      "Измененный массив: \n",
      "[1, 5, 10, 8, 3]\n",
      "[5, 7, 8, 9, 5]\n",
      "[8, 2, 10, 6, 9]\n",
      "[10, 2, 7, 9, 8]\n",
      "[8, 20, 20, 8, 8]\n"
     ]
    }
   ],
   "source": [
    "from random import seed, randint\n",
    "\n",
    "seed()\n",
    "\n",
    "array = [[randint(1, 10) for _ in range(5)] for _ in range(5)]\n",
    "\n",
    "for row in array:\n",
    "    print(row)\n",
    "\n",
    "RowIndex = int(input('Введите индекс строки [0-4]: '))\n",
    "ColIndex = int(input('Введите индекс столбца [0-4]: '))\n",
    "\n",
    "for r in range(RowIndex, 5):\n",
    "    for c in range(ColIndex if r == RowIndex else 0, 5):\n",
    "        array[r][c] = (lambda x: x * 2) (array[r][c])\n",
    "\n",
    "print('Измененный массив: ')\n",
    "for row in array:\n",
    "    print(row)"
   ]
  },
  {
   "cell_type": "markdown",
   "metadata": {},
   "source": [
    "**06.11.24 Сортировка, поиск**"
   ]
  },
  {
   "cell_type": "markdown",
   "metadata": {},
   "source": [
    "Сортировка и поиск идет по контейнерам информации"
   ]
  },
  {
   "cell_type": "markdown",
   "metadata": {},
   "source": [
    "-   Сортировка пузырьком (наимение эффективный) <br>\n",
    "\n",
    "Сортировка пузырьком — это простой алгоритм сортировки, который многократно проходит по списку, сравнивая соседние элементы и меняя их местами, если они находятся в неправильном порядке "
   ]
  },
  {
   "cell_type": "code",
   "execution_count": null,
   "metadata": {},
   "outputs": [
    {
     "name": "stdout",
     "output_type": "stream",
     "text": [
      "[421, 12, 23, 245, 129, 25, 31]\n",
      "[12, 23, 25, 31, 129, 245, 421]\n"
     ]
    }
   ],
   "source": [
    "# пример сортировки\n",
    "\n",
    "def bubble_sort(arr):\n",
    "    n = len(arr) # получаем длину списка\n",
    "\n",
    "    # Внешний цикл проходит по всем элементам части списка  \n",
    "    for i in range(n):\n",
    "        # Внешний цикл проходит по неотростированной части списка\n",
    "        for j in range(0, n - i - 1): # На каждой итерации кол-во проверяемых элементов уменьшается\n",
    "            # Сравниваем соседние элементы и меняем их местами, если они в неправильном порядке\n",
    "            if arr[j] > arr[j + 1]:\n",
    "                arr[j], arr[j + 1] = arr[j + 1], arr[j] # меняем местами\n",
    "    \n",
    "    return arr\n",
    "\n",
    "numbers = [421, 12, 23, 245, 129, 25, 31]\n",
    "print(numbers)\n",
    "\n",
    "bubble_sort(numbers)\n",
    "print(numbers)"
   ]
  },
  {
   "cell_type": "markdown",
   "metadata": {},
   "source": [
    "- Быстрая сортировка (сортировка Хоара)\n",
    "\n",
    "Быстрая сортировка начинается с разбиения списка и выбора одного из элементов в качестве опорного. А всё остальное передвигаем так, <br>\n",
    "чтобы этот элемент встал на своё место. Все элементы меньше него перемещаются влево, а равные и большие элементы перемещаются вправо."
   ]
  },
  {
   "cell_type": "code",
   "execution_count": null,
   "metadata": {},
   "outputs": [
    {
     "name": "stdout",
     "output_type": "stream",
     "text": [
      "[421, 12, 23, 245, 129, 25, 31]\n",
      "[12, 23, 25, 31, 129, 245, 421]\n"
     ]
    }
   ],
   "source": [
    "def quick_sort(arr): \n",
    "    # Базовый случай: если список состоит из 1 элемента или он пустой\n",
    "    if len(arr) <= 1:\n",
    "        return arr\n",
    "    \n",
    "    pivot = arr[len(arr) // 2] # Находим опорный элемент (в данном случае - средний элемент списка)\n",
    "\n",
    "    # Делим список на 3 части: \n",
    "    # left: элементы меньше опорного\n",
    "    left = [x for x in arr if x < pivot]\n",
    "    # middle: элементы равные опорному\n",
    "    middle = [x for x in arr if x == pivot]\n",
    "    # right: элементы больше опорного\n",
    "    right = [x for x in arr if x > pivot]\n",
    "\n",
    "    # Рекурсивно сортируем левые и правые части\n",
    "    return quick_sort(left) + middle + quick_sort(right) # Рекурсивная функция (функция, вызывает сама себя)\n",
    "\n",
    "numbers = [421, 12, 23, 245, 129, 25, 31]\n",
    "print(numbers)\n",
    "\n",
    "quick_numbers = quick_sort(numbers)\n",
    "print(quick_numbers)"
   ]
  },
  {
   "cell_type": "code",
   "execution_count": null,
   "metadata": {},
   "outputs": [
    {
     "name": "stdout",
     "output_type": "stream",
     "text": [
      "[421, 12, 23, 245, 129, 25, 31]\n",
      "[12, 23, 25, 31, 129, 245, 421]\n"
     ]
    }
   ],
   "source": [
    "def bubble_sort_with_swaps(arr):\n",
    "    n = len(arr)\n",
    "    swap_count = 0\n",
    "\n",
    "    for i in range(n):\n",
    "        for j in range(0, n - i - 1):\n",
    "            if arr[j] > arr[j + 1]:\n",
    "                arr[j], arr[j + 1] = arr[j + 1], arr[j]\n",
    "                swap_count += 1\n",
    "\n",
    "    return arr, swap_count\n",
    "\n",
    "numbers = [421, 12, 23, 245, 129, 25, 31]\n",
    "print(numbers)\n",
    "\n",
    "sorted_numbers, swap_count = bubble_sort_with_swaps(numbers)\n",
    "print(numbers)"
   ]
  },
  {
   "cell_type": "markdown",
   "metadata": {},
   "source": [
    "- Сортировка слиянием (довольна эффективна)\n",
    "\n",
    "Сортировка слиянием - делит массив на две половины, рекурсивно сортирует каждую половину, а затем объединяет отсортированные половины в один отсортированный массив."
   ]
  },
  {
   "cell_type": "code",
   "execution_count": 77,
   "metadata": {},
   "outputs": [
    {
     "name": "stdout",
     "output_type": "stream",
     "text": [
      "[12, 23, 25, 31, 129, 245, 421]\n"
     ]
    }
   ],
   "source": [
    "def merge(left, right):\n",
    "    result = [] # Создаем новый список для хранения результата\n",
    "\n",
    "    i = j = 0 # Индексы для обхода левого и правого цикла\n",
    "\n",
    "    # Обьединяем элементы левого и правого списка в отсортированном порядке\n",
    "    while i < len(left) and j < len(right):\n",
    "        if left[i] < right[j]: # Если элемент левой половины меньше\n",
    "            result.append(left[i])\n",
    "            i += 1 # Переходим к следующему элементу в левом списке\n",
    "        \n",
    "        else: # Иначе добавляем элемент из правого списка\n",
    "            result.append(right[j])\n",
    "            j += 1 # Переходим к следующему элементу в правом списке\n",
    "    \n",
    "    # Если остались элементы в одном из списков, добавляем их в конец результата\n",
    "    result.extend(left[i:]) # Добавялем оставшиеся элементы из левого списка\n",
    "    result.extend(right[j:]) # Добавялем оставшиеся элементы из правого списка\n",
    "    return result\n",
    "\n",
    "def merge_sort(arr):\n",
    "    if len(arr) <= 1:\n",
    "        return arr\n",
    "    \n",
    "    # Разделяем список на 2 половины\n",
    "    mid = len(arr) // 2\n",
    "    left = merge_sort(arr[:mid]) # Рекурсивно сортируем левую часть\n",
    "    right = merge_sort(arr[mid:]) # Рекурсивно сортируем правую часть\n",
    "\n",
    "    # Обьединяем 2 отсортированные половины\n",
    "    return merge(left, right)\n",
    "\n",
    "numbers = [421, 12, 23, 245, 129, 25, 31]\n",
    "\n",
    "merged_number = merge_sort(numbers)\n",
    "print(merged_number)"
   ]
  },
  {
   "cell_type": "markdown",
   "metadata": {},
   "source": [
    "- Сортировка вставками\n",
    "\n",
    "Сортировка вставками (Insertion Sort) — это алгоритм сортировки, на каждом шаге которого массив постепенно перебирается слева направо.\n",
    "\n",
    "Суть сортировки: \n",
    "- Пересобрать элементы в неотсортированной части массива.\n",
    "- Каждый элемент вставляется в отсортированную часть массива на то место, где он должен находиться."
   ]
  },
  {
   "cell_type": "code",
   "execution_count": 10,
   "metadata": {},
   "outputs": [
    {
     "name": "stdout",
     "output_type": "stream",
     "text": [
      "[12, 23, 25, 31, 129, 245, 421]\n"
     ]
    }
   ],
   "source": [
    "def insertion_sort(arr):\n",
    "    if len(arr) <= 1:\n",
    "        return arr\n",
    "    \n",
    "    # Проходим по всем элементам начиная со второго (первый считается отсортироанным)\n",
    "    for i in range(1, len(arr)):\n",
    "        key = arr[i] # элемент, необходимый вставить в отсортиированную часть\n",
    "        j = i - 1 # Начинаем сравниваь с предыдущими элементами\n",
    "\n",
    "        # Сдвигаем элементы в отсортированной части списка, пока не найдем место для \"Key\"\n",
    "        while j >= 0 and arr[j] > key:\n",
    "            arr[j + 1] = arr[j] # Сдвигаем элемент вправо\n",
    "            j -= 1 # Переходим к предыдущему элементу\n",
    "        \n",
    "        # Вставляем \"Key\" на найденное место \n",
    "        arr[j + 1] = key\n",
    "    \n",
    "    return arr\n",
    "\n",
    "numbers = [421, 12, 23, 245, 129, 25, 31]\n",
    "\n",
    "insertion_numbers = insertion_sort(numbers)\n",
    "print(insertion_numbers)"
   ]
  },
  {
   "cell_type": "markdown",
   "metadata": {},
   "source": [
    "- Сортировка шелла\n",
    "\n",
    "Сортировка Шелла (Shell Sort) — позволяет значительно сократить количество необходимых сравнений и перемещений. Она работает путем сравнения элементов, находящихся на определенном расстоянии друг от друга, и постепенно уменьшает это расстояние"
   ]
  },
  {
   "cell_type": "code",
   "execution_count": 9,
   "metadata": {},
   "outputs": [
    {
     "name": "stdout",
     "output_type": "stream",
     "text": [
      "[12, 23, 25, 31, 129, 245, 421]\n"
     ]
    }
   ],
   "source": [
    "def insertion_sort(arr):\n",
    "    if len(arr) <= 1:\n",
    "        return arr\n",
    "\n",
    "    n = len(arr) # Длина списка \n",
    "    gap = n // 2  # Изначально шаг равен половине длины списка \n",
    " \n",
    "    # Уменьшаем шаг, пока он не станет равным нулю  \n",
    "    while gap > 0: \n",
    "        # Внутренний цикл для прохода по элементам, находящимся на расстоянии gap друг от друга  \n",
    "        for i in range(gap, n): \n",
    "            temp = arr[i] # Сохраняем текущий элемент в переменную temp \n",
    "            j = i \n",
    "             \n",
    "            # Сдвигаем элементы, пока не найдем правильное место для temp\n",
    "            while j >= gap and arr[j - gap] > temp: \n",
    "                arr[j] = arr[j - gap] # Сдвигаем элемент на позицию j\n",
    "                j -= gap # Переходим на шаг назад (на расстоянии gap)\n",
    "             \n",
    "            arr[j] = temp # Вставляем temp на правильное место\n",
    "         \n",
    "        gap //= 2  # Уменьшаем шаг вдвое для следующего прохода\n",
    " \n",
    "    return arr  \n",
    "\n",
    "numbers = [421, 12, 23, 245, 129, 25, 31]\n",
    "\n",
    "shell_numbers = insertion_sort(numbers)\n",
    "print(shell_numbers)"
   ]
  },
  {
   "cell_type": "markdown",
   "metadata": {},
   "source": [
    "**lesson 11.11.2024**"
   ]
  },
  {
   "cell_type": "markdown",
   "metadata": {},
   "source": [
    "- Метод слияния списков\n",
    "\n",
    "Метод слияния списков - это алгоритм, который используется для объединения двух или более отсортированных списков в один отсортированный список. "
   ]
  },
  {
   "cell_type": "code",
   "execution_count": 11,
   "metadata": {},
   "outputs": [
    {
     "name": "stdout",
     "output_type": "stream",
     "text": [
      "[1, 2, 3, 3, 4, 4, 8, 10, 11]\n"
     ]
    }
   ],
   "source": [
    "a = [1, 4, 10, 11]\n",
    "b = [2, 3, 3, 4, 8]\n",
    "c = []\n",
    "\n",
    "N = len(a)\n",
    "M = len(b)\n",
    "\n",
    "i = 0\n",
    "j = 0\n",
    "while i < N and j < M:\n",
    "    if a[i] <= b[j]:\n",
    "        c.append(a[i])\n",
    "        i += 1\n",
    "    else:\n",
    "        c.append(b[j])\n",
    "        j += 1\n",
    "\n",
    "c += a[i:] + b[j:]\n",
    "print(c)"
   ]
  },
  {
   "cell_type": "markdown",
   "metadata": {},
   "source": [
    "Быстрая сортировка Хоара\n",
    "Массив делится на три части: малые, большие и равные значения. Выберем случайный элемент и будем сравнивать с ним, чтобы определить, значение малое или большое.\n",
    "\n",
    "Вычислетельная сложность: N * log2 N\n",
    "\n",
    "Преимущество: сортировка производится в том же самом массиве, не нужно создавать копию, что позволяет экономить память"
   ]
  },
  {
   "cell_type": "code",
   "execution_count": null,
   "metadata": {},
   "outputs": [],
   "source": [
    "import random\n",
    "\n",
    "def quick_sort_hoar(a):\n",
    "    if len(a) > 1:\n",
    "        x = a[random.randint(0, len(a) - 1)]\n",
    "        low = [u for u in a if u < x]\n",
    "        eq = [u for u in a if u == x]\n",
    "        hi = [u for u in a if u > x]\n",
    "\n",
    "        a = quick_sort_hoar(low) + eq + quick_sort_hoar(hi)\n",
    "\n",
    "    return a\n",
    "\n",
    "a = [-8, 75, 12, -55, 0]\n",
    "a = quick_sort_hoar(a)\n",
    "\n",
    "print(a)"
   ]
  },
  {
   "cell_type": "markdown",
   "metadata": {},
   "source": [
    "- Пиромидальный алгоритм сортировки (Сортировка кучей)\n",
    "\n",
    "Пиромидальный алгоритм сортировки - эффективный алгоритм сортировки, который использует структуру данных под названием \"куча\" (heap). Он работает на основе идеи создания максимальной или минимальной кучи, а затем извлечения элементов из кучи для формирования отсортированного списка."
   ]
  },
  {
   "cell_type": "markdown",
   "metadata": {},
   "source": [
    "**lesson 13.11.2024**"
   ]
  },
  {
   "cell_type": "markdown",
   "metadata": {},
   "source": [
    "Оценивание солжности алгоритмов и их качества:\n",
    "\n",
    "- задействование памяти при выполнении алгоритма\n",
    "- количество операций в зависимости от входа (время работы)\n",
    "\n",
    "Для обозначения используется О(...) - асимптотическая сложность \n",
    "\n",
    "Пример:\n",
    "\n",
    "N -> N^2 + 2N + 1 <br>\n",
    "O(N^2 + 2N + 1) = O(N^2) "
   ]
  },
  {
   "cell_type": "code",
   "execution_count": 31,
   "metadata": {},
   "outputs": [
    {
     "name": "stdout",
     "output_type": "stream",
     "text": [
      "18\n"
     ]
    }
   ],
   "source": [
    "N = int(input())\n",
    "\n",
    "S = 0 \n",
    "for i in range(N):\n",
    "    for j in range(i, N):   \n",
    "        S = i + j\n",
    "# Квадратичная сложность выполнения алгоритмов\n",
    "\n",
    "print(S)"
   ]
  },
  {
   "cell_type": "markdown",
   "metadata": {},
   "source": [
    "N + (N-1) + (N-2) + ... + 1 <br>\n",
    "S(N) = (N+1)/2 * N = N^2/2 + N/2 <br>\n",
    "O(((N^2)/2) + N/2) = O((N^2)/2) = O(N^2)"
   ]
  },
  {
   "cell_type": "markdown",
   "metadata": {},
   "source": [
    "Линейный поиск (поиск по всем элементам, без каких либо условий) <br>\n",
    "<br>\n",
    "a = [...] - кол-во элементов в множестве a равно N <br>\n",
    "#a = N <br>\n",
    "\n",
    "Пример: Определить индекс элемента в массиве a (пусть элемент есть в данном списке) <br>\n",
    "<br>\n",
    "Алгоритм: Последовательно идем по индексам массива и просматриваем элементы. На этапе нахождения нужного элемента заканчиваем алгоритм и выводим индекс.\n",
    "\n",
    "- Наилучший случай: O(1)\n",
    "- Наихудший случай: O(N)\n",
    "- Средний случай: O(N/2) = O(N)\n"
   ]
  },
  {
   "cell_type": "code",
   "execution_count": 46,
   "metadata": {},
   "outputs": [],
   "source": [
    "a = [1, 2, 3, 12, 5, 6]\n"
   ]
  },
  {
   "cell_type": "code",
   "execution_count": 11,
   "metadata": {},
   "outputs": [
    {
     "data": {
      "image/png": "[encoded data removed]",
      "text/plain": [
       "<Figure size 640x480 with 1 Axes>"
      ]
     },
     "metadata": {},
     "output_type": "display_data"
    }
   ],
   "source": [
    "from random import randint\n",
    "import matplotlib.pyplot as plt\n",
    "\n",
    "l = []\n",
    "for _ in range(10000):\n",
    "    l.append(randint(1, 10))\n",
    "\n",
    "plt.hist(l, bins=10, edgecolor='black', color='darkgreen')\n",
    "plt.show()"
   ]
  },
  {
   "cell_type": "markdown",
   "metadata": {},
   "source": [
    "Линейный поиск"
   ]
  },
  {
   "cell_type": "markdown",
   "metadata": {},
   "source": [
    "Напишите программу, которая определяет, сколько раз встречается заданное число х в данном массиве.\n",
    "\n",
    "    - Входные данные:\n",
    "\n",
    "1) В первой строке задается одно натуральное число N, не превосходящее 1000 - размер массива.\n",
    "2) Во второй строке вводлятся N чисел - элементы массива (целые числа, не превосходящие по модулю 1000).\n",
    "3) В третьей строке содержится целое число х, не превосходящее по модулю 1000."
   ]
  },
  {
   "cell_type": "markdown",
   "metadata": {},
   "source": [
    "    - Выходные данные:\n",
    "1) Вывести одно число - столько раз встречается х в данном массиве\n"
   ]
  },
  {
   "cell_type": "code",
   "execution_count": 23,
   "metadata": {},
   "outputs": [
    {
     "name": "stdout",
     "output_type": "stream",
     "text": [
      "Число 4 встречается в списке 77 раз\n"
     ]
    }
   ],
   "source": [
    "from random import randint\n",
    "\n",
    "N = int(input('Введите натуральное число (от 1 до 10): '))\n",
    "\n",
    "l = []\n",
    "count = 0\n",
    "\n",
    "for _ in range(1000):\n",
    "    l.append(randint(1, 10))\n",
    "\n",
    "for i in range(len(l)):\n",
    "    if N == l[i]:\n",
    "        count += 1 \n",
    "    else:\n",
    "        continue\n",
    "\n",
    "# print(l)\n",
    "print(f'Число {N} встречается в списке {count} раз')"
   ]
  },
  {
   "cell_type": "code",
   "execution_count": 37,
   "metadata": {},
   "outputs": [
    {
     "name": "stdout",
     "output_type": "stream",
     "text": [
      "1\n"
     ]
    }
   ],
   "source": [
    "N = int(input())\n",
    "a = [int(i) for i in input().split()]\n",
    "x = int(input())\n",
    "\n",
    "count = 0\n",
    "for i in a:\n",
    "    if i == x:\n",
    "        count += 1\n",
    "print(count)"
   ]
  },
  {
   "cell_type": "markdown",
   "metadata": {},
   "source": [
    "Напишите программу, которая определяет, сколько раз встречается заданное число х в данном массиве.\n",
    "\n",
    "    - Входные данные:\n",
    "1) В первой строке задается одно натуральное число N, не превосходящее 1000 - размер массива.\n",
    "2) Во второй строке вводятся N чисел - элементы массива (целые числа, не превосходящие по модулю 1000).\n",
    "3) В третьей строке содержится одно целое число х, не превосходящее по модулю 1000."
   ]
  },
  {
   "cell_type": "markdown",
   "metadata": {},
   "source": [
    "    - Выходные данные:\n",
    "1) Вывести одно число - столько раз встречается х в данном массиве\n"
   ]
  },
  {
   "cell_type": "code",
   "execution_count": 39,
   "metadata": {},
   "outputs": [
    {
     "name": "stdout",
     "output_type": "stream",
     "text": [
      "5\n"
     ]
    }
   ],
   "source": [
    "N = int(input()) # 5\n",
    "a = [int(i) for i in input().split()] # 1 2 3 4 5\n",
    "x = int(input()) # 6 \n",
    "\n",
    "mindiff = 1000\n",
    "nearest = 0\n",
    "\n",
    "for j in a:\n",
    "    diff = abs(j - x)\n",
    "    if diff < mindiff:\n",
    "        mindiff = diff\n",
    "        nearest = j\n",
    "        \n",
    "print(nearest)"
   ]
  },
  {
   "cell_type": "markdown",
   "metadata": {},
   "source": [
    "Напишите программу, которая определяет, сколько раз встречается заданное число х в данном массиве.\n",
    "\n",
    "    - Входные данные:\n",
    "1) В первой строке задается одно натуральное число N, не превосходящее 1000 - размер массива.\n",
    "2) Во второй строке вводятся N чисел - элементы массива (целые числа, не превосходящие по модулю 1000).\n",
    "3) В третьей строке содержится одно целое число х, не превосходящее по модулю 1000."
   ]
  },
  {
   "cell_type": "markdown",
   "metadata": {},
   "source": [
    "    - Выходные данные:\n",
    "1) Вывести номера элементов, равных данному, в порядке возрастания. Если таких элементов нет, ничего не выводить"
   ]
  },
  {
   "cell_type": "code",
   "execution_count": 51,
   "metadata": {},
   "outputs": [
    {
     "name": "stdout",
     "output_type": "stream",
     "text": [
      "[2, 5]\n"
     ]
    }
   ],
   "source": [
    "m = [int(i) for i in input().split()] # 1 2 3 4 5 3 \n",
    "x = int(input()) # 3 \n",
    "\n",
    "indexlist = []\n",
    "\n",
    "for i in range(len(m)):\n",
    "    if x == m[i]:\n",
    "        indexlist.append(i)\n",
    "\n",
    "print(indexlist)"
   ]
  },
  {
   "cell_type": "markdown",
   "metadata": {},
   "source": [
    "**lesson 18.11.2024**"
   ]
  },
  {
   "cell_type": "markdown",
   "metadata": {},
   "source": [
    "Напишите программу, которая определяет, сколько раз встречается заданное число х в данном массиве.\n",
    "\n",
    "    - Входные данные:\n",
    "1) Первая строка входного файла содержит целое число N - кол-во дроидов. (2 <= N <= 1000), вторая строка - N целых чисел, по модулю не превашиющих 2 * 10^9 - номер дроидов"
   ]
  },
  {
   "cell_type": "markdown",
   "metadata": {},
   "source": [
    "    - Выходные данные:\n",
    "1) Выведите два числа: первым - последний по величине из номеров дроидов (такого следует утилизировать в первую очередь, а вторым - ппредпоследний.)"
   ]
  },
  {
   "cell_type": "code",
   "execution_count": 13,
   "metadata": {},
   "outputs": [
    {
     "name": "stdout",
     "output_type": "stream",
     "text": [
      "[10, 7, 15, 9, 19]\n",
      "[7, 9, 10, 15, 19]\n"
     ]
    },
    {
     "data": {
      "text/plain": [
       "(7, 9)"
      ]
     },
     "execution_count": 13,
     "metadata": {},
     "output_type": "execute_result"
    }
   ],
   "source": [
    "from random import randint\n",
    "import numpy as np\n",
    "\n",
    "N = int(input('Введите число дроидов: '))\n",
    "ls = [randint(1, 2 * int(10)) for _ in range(N)] # 1e9 - это 10 в 9 степени. type(1e9) - float!!\n",
    "print(ls)\n",
    "print(sorted(ls))\n",
    "\n",
    "def search(lst): \n",
    "    min = 2 * int(1e9)\n",
    "    second_min = np.inf\n",
    "\n",
    "    for i in lst:\n",
    "        if i < min:\n",
    "             second_min = min\n",
    "             min = i\n",
    "\n",
    "        if min < i and i < second_min:\n",
    "            second_min = i    \n",
    "\n",
    "\n",
    "    return min, second_min\n",
    "\n",
    "search(ls)"
   ]
  },
  {
   "cell_type": "markdown",
   "metadata": {},
   "source": [
    "Напишите программу, которая определяет, сколько раз встречается заданное число х в данном массиве.\n",
    "\n",
    "    - Входные данные:\n",
    "1) В первой строке число X, не превышающее по модулю 2 * 10^9. Во второй строке число N (1 <= N <= 100), B следующий N строках пo N целых чисел, не превышающих по модулю 2 * 10^9 - числа в ячейках таблицы."
   ]
  },
  {
   "cell_type": "markdown",
   "metadata": {},
   "source": [
    "    - Выходные данные:\n",
    "1) Для каждого столбца выведите YES, если в нем есть число X, и NO в противном случае. Каждый ответ с новой строки."
   ]
  },
  {
   "cell_type": "code",
   "execution_count": 71,
   "metadata": {},
   "outputs": [
    {
     "name": "stdout",
     "output_type": "stream",
     "text": [
      "Число = 274000979\n",
      "Число поиска = 0\n",
      "-----\n",
      "['NO', 'NO', 'NO', 'YES', 'YES', 'YES', 'NO', 'NO', 'NO']\n"
     ]
    }
   ],
   "source": [
    "number = randint(1, 2 * int(1e9))\n",
    "X = randint(0, 9)\n",
    "\n",
    "print(f'Число = {number}')\n",
    "print(f'Число поиска = {X}')\n",
    "print('-----')\n",
    "list1 = []\n",
    "\n",
    "for i in str(number):\n",
    "    if int(i) == int(X):\n",
    "        list1.append('YES')\n",
    "    else:\n",
    "        list1.append('NO')\n",
    "\n",
    "print(list1)\n",
    "\n"
   ]
  },
  {
   "cell_type": "markdown",
   "metadata": {},
   "source": [
    "Бинарный поиск (двоичный поиск) - этот поиск работает по принципу деления массива пополам и сравнения искомого значения с элементом в середине массива. Если элемент найден, алгоритм завершает работу. Если искомое значение меньше среднего элемента, поиск продолжается в левой половине массива; если больше — в правой. <br>\n",
    "\n",
    "         Список ДОЛЖЕН быть отсортирован!\n",
    "\n",
    "Дан массив (список) а размера N. Все элементы массива отсортированы по возрастанию. Необходимо найти индекс элемента x в этом массиве, если элемента нет, то вывести индекс любого наиболее близкого элемента к x.\n",
    "\n",
    "- lbs = left benary search\n",
    "- rbs = right benary search"
   ]
  },
  {
   "cell_type": "code",
   "execution_count": 79,
   "metadata": {},
   "outputs": [
    {
     "name": "stdout",
     "output_type": "stream",
     "text": [
      "1\n",
      "2\n"
     ]
    }
   ],
   "source": [
    "def lbs(a, x):\n",
    "    l = -1\n",
    "    r = len(a) - 1\n",
    "    while l + 1 != r:\n",
    "        c = (l + r) //2\n",
    "        if a[c] < x:\n",
    "            l = c\n",
    "        else: \n",
    "            r = c\n",
    "    return r\n",
    "\n",
    "a = [1,3,12,22,46,77]\n",
    "print(lbs(a, 3)) # Индекс = 1\n",
    "print(lbs(a, 10)) # Если числа нет в списке выдаст индекс первого элемента, который больше данного значения. Индекс = 2 в данной ситуации.\n"
   ]
  },
  {
   "cell_type": "code",
   "execution_count": 83,
   "metadata": {},
   "outputs": [
    {
     "name": "stdout",
     "output_type": "stream",
     "text": [
      "1\n",
      "2\n"
     ]
    }
   ],
   "source": [
    "def rbs(a, x):\n",
    "    l = 0\n",
    "    r = len(a)\n",
    "    while l + 1 != r:\n",
    "        c = (l + r) //2\n",
    "        if a[c] > x:\n",
    "            r = c\n",
    "        else: \n",
    "            l = c\n",
    "    return l\n",
    "\n",
    "a = [1,3,12,22,46,77]\n",
    "print(lbs(a, 3)) # Индекс = 1\n",
    "print(lbs(a, 10)) # Индекс = 2"
   ]
  },
  {
   "cell_type": "markdown",
   "metadata": {},
   "source": [
    "**lesson 20.11.24**"
   ]
  },
  {
   "cell_type": "markdown",
   "metadata": {},
   "source": [
    "**Кортежи, множества, словари**\n",
    "\n",
    "Словарь (dict) - Тип \"коллекция\". Содержит пары типа Ключ - Значения. Подробнее:\n",
    "- Ключ должен быть неизменяемым\n",
    "- Чтобы узнать сколько пар ключ-значение исп len()\n",
    "- Чтобы удалить ключ, напишем del \"назв. словаря\"[ключ]\n",
    "- \"ключ\" in \"словарь\" - проверка наличия Ключа в Словаре\n",
    "- \"ключ\" not in \"словарь\" - проверка отсутствия Ключа в Словаре"
   ]
  },
  {
   "cell_type": "code",
   "execution_count": 8,
   "metadata": {},
   "outputs": [
    {
     "data": {
      "text/plain": [
       "'машина'"
      ]
     },
     "execution_count": 8,
     "metadata": {},
     "output_type": "execute_result"
    }
   ],
   "source": [
    "# Cловарь\n",
    "\n",
    "d = {\"house\" : \"дом\",\"car\" : \"машина\",\n",
    "    \"tree\" : \"дерево\", \"road\" : \"дорога\",\n",
    "    \"river\" : \"река\"}\n",
    "\n",
    "d[\"car\"]"
   ]
  },
  {
   "cell_type": "code",
   "execution_count": 10,
   "metadata": {},
   "outputs": [
    {
     "data": {
      "text/plain": [
       "{'one': '1', 'two': '2', 'three': '3', 'four': '4'}"
      ]
     },
     "execution_count": 10,
     "metadata": {},
     "output_type": "execute_result"
    }
   ],
   "source": [
    "dict(one='1', two='2', three='3', four='4')"
   ]
  },
  {
   "cell_type": "code",
   "execution_count": 24,
   "metadata": {},
   "outputs": [
    {
     "data": {
      "text/plain": [
       "{2: 'неуд', 3: 'уд', 4: 'хорошо', 5: 'отлично'}"
      ]
     },
     "execution_count": 24,
     "metadata": {},
     "output_type": "execute_result"
    }
   ],
   "source": [
    "lst = [[2, 'неуд'], [3, 'уд'], [4, \"хорошо\"], [5, \"отлично\"]]\n",
    "dict(lst) # Можно переобразовать в обычный словарь из вложенного словаря"
   ]
  },
  {
   "cell_type": "code",
   "execution_count": 15,
   "metadata": {},
   "outputs": [
    {
     "data": {
      "text/plain": [
       "{True: 'Иcтина'}"
      ]
     },
     "execution_count": 15,
     "metadata": {},
     "output_type": "execute_result"
    }
   ],
   "source": [
    "d1 = {}\n",
    "d1[True] = \"Иcтина\"\n",
    "d1"
   ]
  },
  {
   "cell_type": "code",
   "execution_count": 16,
   "metadata": {},
   "outputs": [
    {
     "data": {
      "text/plain": [
       "{True: 'Иcтина', False: 'Ложь'}"
      ]
     },
     "execution_count": 16,
     "metadata": {},
     "output_type": "execute_result"
    }
   ],
   "source": [
    "d1[False] = \"Ложь\"\n",
    "d1"
   ]
  },
  {
   "cell_type": "code",
   "execution_count": 20,
   "metadata": {},
   "outputs": [
    {
     "data": {
      "text/plain": [
       "{(1, 4): 'one-four'}"
      ]
     },
     "execution_count": 20,
     "metadata": {},
     "output_type": "execute_result"
    }
   ],
   "source": [
    "a = {(1, 4): 'one-four'} # Кoртеж может быть ключом \n",
    "a"
   ]
  },
  {
   "cell_type": "markdown",
   "metadata": {},
   "source": [
    "**Методы словаря:**\n",
    "\n",
    "dict.fromkeys(список[,значение по умолчанию]) - Без ввода значения по умолчанию будет None\n",
    "\n",
    "- \"список\".clear() - Очистка словаря\n",
    "- \"список 2\" = \"список\".copy() - Создание копии словаря, который можно редактировать без изменения исходного словаря\n",
    "- \"список 2\" = dict('список') - Создание копии словаря, который можно редактировать без изменения исходного словаря, без ввода значения по умолчанию будет None\n",
    "- \"список\".get['Ключ'] - Отображает значения ключа <br>\n",
    "<br>\n",
    "\n",
    "dict.setdefault(key[,default]) - Проверяет, существует ли ключ, если нет, то создается новый ключ со значением по умолчанию, \n",
    "\n",
    "- del dict[index] или del dict(Ключ)\n",
    "- dict.pop(key[, значение по умолчанию]) - при написании значения по умолч в случае отсутствия в списки ключа, то не будет ошибки\n",
    "- dict.keys() - отображает список ключей\n",
    "- dict.values() - отображает список значений\n",
    "- dict.update(dict2) - обновляет существующие значения ключей и добавляет новые ключи в конце списка\n",
    "- d3 = {**d, **d2} - создается новый список из 2х и более словарей, общие ключи будут переименованны, распаковываются ключи с лева на права, соотвественно ключи будут перезаписаны в этой же последовательности\n",
    "- d | d2 - так же новый способ (пайтон 3.9+) объединения словарей<br>\n",
    "<br>\n",
    "\n",
    "Получается список из кортежей:\n",
    "\n",
    "        for x in d.items():\n",
    "                 print(x)\n",
    "\n",
    "Получается набор ключ значений выведенных поочередно:\n",
    "\n",
    "        for key, value in dist.items():\n",
    "                print(key, value)\n",
    "\n",
    "\n"
   ]
  },
  {
   "cell_type": "code",
   "execution_count": 21,
   "metadata": {},
   "outputs": [
    {
     "data": {
      "text/plain": [
       "{'+7': None, '+6': None, '+5': None, '+4': None}"
      ]
     },
     "execution_count": 21,
     "metadata": {},
     "output_type": "execute_result"
    }
   ],
   "source": [
    "lst = ['+7', '+6', '+5', '+4'] \n",
    "dict.fromkeys(lst) "
   ]
  },
  {
   "cell_type": "code",
   "execution_count": 22,
   "metadata": {},
   "outputs": [
    {
     "data": {
      "text/plain": [
       "{'+7': 'код страны',\n",
       " '+6': 'код страны',\n",
       " '+5': 'код страны',\n",
       " '+4': 'код страны'}"
      ]
     },
     "execution_count": 22,
     "metadata": {},
     "output_type": "execute_result"
    }
   ],
   "source": [
    "dict.fromkeys(lst, 'код страны')"
   ]
  },
  {
   "cell_type": "code",
   "execution_count": 32,
   "metadata": {},
   "outputs": [
    {
     "name": "stdout",
     "output_type": "stream",
     "text": [
      "140726106212920\n",
      "140726106213080\n",
      "---------------\n",
      "140726106213080\n",
      "140726106213080\n"
     ]
    }
   ],
   "source": [
    "a = 5 \n",
    "print(id(a))\n",
    "a = 10\n",
    "print(id(a))\n",
    "\n",
    "print(\"---------------\")\n",
    "# Переназначение с новым местом в хранилище работает только с неизменяемыми типами данных\n",
    "# С изменяемыми типами данных будет\n",
    "\n",
    "ls = [] \n",
    "print(id(a))\n",
    "ls = [1]\n",
    "print(id(a))"
   ]
  },
  {
   "cell_type": "code",
   "execution_count": 33,
   "metadata": {},
   "outputs": [
    {
     "name": "stdout",
     "output_type": "stream",
     "text": [
      "{'one': 1} {}\n"
     ]
    }
   ],
   "source": [
    "dict1 = {'one': 1}\n",
    "\n",
    "# dict1 = dict2 - Неправильное создание нового словаря, используещего данные другого\n",
    "\n",
    "dict2 = dict1.copy()\n",
    "dict2.clear()\n",
    "\n",
    "print(dict1, dict2)"
   ]
  },
  {
   "cell_type": "code",
   "execution_count": 35,
   "metadata": {},
   "outputs": [
    {
     "name": "stdout",
     "output_type": "stream",
     "text": [
      "1598897733376 \t 1598897903232\n"
     ]
    }
   ],
   "source": [
    "print(id(dict1), '\\t', id(dict2))"
   ]
  },
  {
   "cell_type": "code",
   "execution_count": 50,
   "metadata": {},
   "outputs": [
    {
     "name": "stdout",
     "output_type": "stream",
     "text": [
      "\"Распаковка\": {'a': 300, 'b': 400, 'c': 500, 'd': 600}\n",
      "Логическое сложение: {'a': 300, 'b': 400, 'c': 500, 'd': 600}\n",
      "Update: {'a': 300, 'b': 400, 'c': 500, 'd': 600}\n"
     ]
    }
   ],
   "source": [
    "# Задача 1\n",
    "d1 = {'a' : 300, 'b' :400}\n",
    "d2 = {'c' : 500, 'd' :600}\n",
    "\n",
    "d3 = {**d1, **d2}\n",
    "print(f'\"Распаковка\": {d3}')\n",
    "\n",
    "d4 = d1 | d2\n",
    "print(f'Логическое сложение: {d4}')\n",
    "\n",
    "d1.update(d2)\n",
    "d5 = d1.copy()\n",
    "print(f'Update: {d5}')\n"
   ]
  },
  {
   "cell_type": "code",
   "execution_count": 56,
   "metadata": {},
   "outputs": [
    {
     "data": {
      "text/plain": [
       "120000"
      ]
     },
     "execution_count": 56,
     "metadata": {},
     "output_type": "execute_result"
    }
   ],
   "source": [
    "# Задача 2\n",
    "d1 = {'a' : 300, 'b' :400}\n",
    "\n",
    "result = 1\n",
    "for i in d1.values():\n",
    "    result *= i\n",
    "\n",
    "result"
   ]
  },
  {
   "cell_type": "code",
   "execution_count": 96,
   "metadata": {},
   "outputs": [
    {
     "name": "stdout",
     "output_type": "stream",
     "text": [
      "{1: 1, 2: 8, 3: 27, 4: 64, 5: 125, 6: 216, 7: 343, 8: 512, 9: 729, 10: 1000}\n"
     ]
    }
   ],
   "source": [
    "# Задача 3\n",
    "d1 = {x: x**3 for x in range(1, 11)}\n",
    "\n",
    "print(d1)"
   ]
  },
  {
   "cell_type": "markdown",
   "metadata": {},
   "source": [
    "Кортеж - Тип \"коллекция\". Упорядочпенная, но неизменяемая коллекция произвольных данных.<br>\n",
    "Результат отображается в круглых скобках (x, y)\n",
    "\n",
    "- len(кортеж) - длина кортежа\n",
    "- кортеж[index] - обращение к элементу\n",
    "- tuple.count(значение) - возращает число найденных значений в кортеже\n",
    "- tuple.index(element [, start_index, end_index] ) - находит первый элемент в кортеже"
   ]
  },
  {
   "cell_type": "code",
   "execution_count": 105,
   "metadata": {},
   "outputs": [
    {
     "name": "stdout",
     "output_type": "stream",
     "text": [
      "(1, 2)\n",
      "(1, 2, 3)\n",
      "(1,)\n",
      "(2,)\n"
     ]
    }
   ],
   "source": [
    "a = 1, 2 # Упаковка в кортеж\n",
    "print(a)\n",
    "\n",
    "b = (1, 2, 3)\n",
    "print(b)\n",
    "\n",
    "c = (1,) # Создание кортежа с одним значением благодаря весячей запятой\n",
    "print(c)\n",
    "\n",
    "d = 2, \n",
    "print(d)"
   ]
  },
  {
   "cell_type": "code",
   "execution_count": 110,
   "metadata": {},
   "outputs": [
    {
     "name": "stdout",
     "output_type": "stream",
     "text": [
      "hello Python!\n"
     ]
    }
   ],
   "source": [
    "x, y, z = 3, 4, 5\n",
    "x, y = [\"hello\", \"Python!\"]\n",
    "print(x, y)"
   ]
  },
  {
   "cell_type": "code",
   "execution_count": 112,
   "metadata": {},
   "outputs": [
    {
     "data": {
      "text/plain": [
       "{(1, 2): 'кортеж'}"
      ]
     },
     "execution_count": 112,
     "metadata": {},
     "output_type": "execute_result"
    }
   ],
   "source": [
    "d = {}\n",
    "d[a] = 'кортеж'\n",
    "d"
   ]
  },
  {
   "cell_type": "code",
   "execution_count": 115,
   "metadata": {},
   "outputs": [
    {
     "name": "stdout",
     "output_type": "stream",
     "text": [
      "72\n",
      "48\n"
     ]
    }
   ],
   "source": [
    "# Кортеж занимает меньше памяти, чем список\n",
    "\n",
    "lst = [1, 2 ,3]\n",
    "print(lst.__sizeof__())\n",
    "\n",
    "b = (1, 2, 3)\n",
    "print(b.__sizeof__())"
   ]
  },
  {
   "cell_type": "code",
   "execution_count": 121,
   "metadata": {},
   "outputs": [
    {
     "name": "stdout",
     "output_type": "stream",
     "text": [
      "1598910869824\n",
      "(1, 2, 3)\n",
      "1598899466816\n",
      "(3, 3, 3, 3, 3, 3, 3, 3, 3, 3)\n"
     ]
    }
   ],
   "source": [
    "a = (1, 2)\n",
    "b = (3,)\n",
    "print(id(a))\n",
    "\n",
    "a = a + b # Объединение кортежей\n",
    "\n",
    "print(a)\n",
    "print(id(a)) # Изменяется регист памяти, он не обновляет уже существующий кортеж\n",
    "\n",
    "b = b * 10\n",
    "print(b)"
   ]
  },
  {
   "cell_type": "code",
   "execution_count": 124,
   "metadata": {},
   "outputs": [
    {
     "name": "stdout",
     "output_type": "stream",
     "text": [
      "(1, 2, 3)\n",
      "('h', 'e', 'l', 'l', 'o', '!')\n"
     ]
    }
   ],
   "source": [
    "a = tuple([1,2,3]) # Создание кортежа из списка\n",
    "print(a)\n",
    "\n",
    "b = tuple(\"hello!\")\n",
    "print(b)"
   ]
  },
  {
   "cell_type": "code",
   "execution_count": 129,
   "metadata": {},
   "outputs": [
    {
     "name": "stdout",
     "output_type": "stream",
     "text": [
      "Your fruit was found in the tuple 3 times\n"
     ]
    }
   ],
   "source": [
    "# Задача 4.1\n",
    "fruits = ('apple', 'mango', 'banana', 'qiwi', 'apple', 'apple', 'mango', 'strawberry')\n",
    "user_fruit = input('input ur fruit: ')\n",
    "\n",
    "result = fruits.count(user_fruit)\n",
    "print(f'Your fruit was found in the tuple {result} times')"
   ]
  },
  {
   "cell_type": "code",
   "execution_count": 135,
   "metadata": {},
   "outputs": [
    {
     "name": "stdout",
     "output_type": "stream",
     "text": [
      "Your fruit was found in the tuple 1 times\n"
     ]
    }
   ],
   "source": [
    "# Задача 4.2\n",
    "fruits = ('apple', 'mango', 'banana', 'qiwi', 'apple', 'apple', 'mango', 'strawberry')\n",
    "user_fruit = input('input ur fruit: ')\n",
    "\n",
    "count = 0\n",
    "for i in fruits:\n",
    "    if user_fruit == i:\n",
    "        count += 1\n",
    "\n",
    "print(f'Your fruit was found in the tuple {count} times')"
   ]
  },
  {
   "cell_type": "code",
   "execution_count": 143,
   "metadata": {},
   "outputs": [
    {
     "name": "stdout",
     "output_type": "stream",
     "text": [
      "3\n"
     ]
    }
   ],
   "source": [
    "# Задача 5\n",
    "fruits_ban = ('banana', 'bananamango', 'apple', 'mango', 'strawberry-banana')\n",
    "user_fruit = input('input ur fruit: ')\n",
    "\n",
    "count = 0\n",
    "for i in fruits_ban:\n",
    "    if user_fruit in i:\n",
    "        count += 1\n",
    "    \n",
    "print(count)"
   ]
  },
  {
   "cell_type": "code",
   "execution_count": 156,
   "metadata": {},
   "outputs": [
    {
     "name": "stdout",
     "output_type": "stream",
     "text": [
      "1598908784480\n",
      "-------------\n",
      "1598897984448\n",
      "['kia', 'vada', 'kia', 'volga', 'tesla', 'lada']\n"
     ]
    }
   ],
   "source": [
    "# Задача 6\n",
    "cars = ('bmv', 'vada', 'bmv', 'volga', 'tesla', 'lada')\n",
    "print(id(cars)) # Проверяем id кортежа\n",
    "print('-------------')\n",
    "\n",
    "user_car = input('input ur car: ')\n",
    "change_car = input('input car for change: ')\n",
    "\n",
    "new_car_list = []\n",
    "\n",
    "for i in cars:\n",
    "    if user_car in i:\n",
    "        new_car_list.append(change_car)\n",
    "    else:\n",
    "        new_car_list.append(i)\n",
    "\n",
    "cars = new_car_list.copy() \n",
    "print(id(cars)) # Проверяем id кортежа\n",
    "print(cars)"
   ]
  },
  {
   "cell_type": "markdown",
   "metadata": {},
   "source": [
    "**25.11.24** <br>\n",
    "множества в Python — это неупорядоченные последовательности элементов, каждый из которых в множестве представлен ровно один раз. <br>\n",
    "Внутри множеств можно использовать неизменяемые типы данных <br>"
   ]
  },
  {
   "cell_type": "code",
   "execution_count": null,
   "metadata": {},
   "outputs": [],
   "source": [
    "a = {1, 2, 3, 'hello'}\n",
    "print(type(a))\n",
    "a = {1, 2, 3, 'hello', 2, 3, 'hello'}\n",
    "print(a)"
   ]
  },
  {
   "cell_type": "code",
   "execution_count": null,
   "metadata": {},
   "outputs": [],
   "source": [
    "# set([1, 2, 1, 0, -1, 2])\n",
    "# b = set('abrakadabra')\n",
    "# print(b)\n",
    "# set(range(7))\n",
    "\n",
    "# # for i in b:\n",
    "# #     print(i)\n",
    "# it = iter(b)\n",
    "# next(it)\n",
    "\n",
    "b = set()\n",
    "print(b)\n",
    "b.add(7)\n",
    "b.update(['a', 'b', (1, 2)]) # в апдейт можно указывать любой перебираемыей обьект\n"
   ]
  },
  {
   "cell_type": "code",
   "execution_count": null,
   "metadata": {},
   "outputs": [],
   "source": [
    "# Задание с кортежом \n",
    "from random import randint \n",
    "\n",
    "a = tuple(randint(0, 999) for _ in range(10))\n",
    "d = {'1': 0, '2': 0, '3': 0}\n",
    "\n",
    "for i in a:\n",
    "    if len(str(i)) == 1:\n",
    "        d['1'] += 1 \n",
    "    elif len(str(i)) == 2:\n",
    "        d['2'] += 1 \n",
    "    else:\n",
    "        d['3'] += 1 \n",
    "print(a)\n",
    "print(d)"
   ]
  },
  {
   "cell_type": "code",
   "execution_count": null,
   "metadata": {},
   "outputs": [],
   "source": [
    "# Задание 1  с множеством \n",
    "def to_set(s):\n",
    "    return set(s), len(s)\n",
    "\n",
    "print(to_set('буба'))"
   ]
  },
  {
   "cell_type": "code",
   "execution_count": null,
   "metadata": {},
   "outputs": [],
   "source": [
    "# Задание 2  с множеством \n",
    "list1 = [1, 'e', [1, 'e']]\n",
    "\n",
    "def list_to_set(lst):\n",
    "    q = set()\n",
    "    for i in lst:\n",
    "        # if type(i) == dict or type(i) == list or type(i) == set:\n",
    "        if type(i) in (dict, list,set):\n",
    "            continue\n",
    "        else:\n",
    "            q.add(i)\n",
    "    return q \n",
    "\n",
    "list_to_set(list1)"
   ]
  },
  {
   "cell_type": "code",
   "execution_count": null,
   "metadata": {},
   "outputs": [],
   "source": [
    "# операции над их множеств \n",
    "setA = {1, 2, 3, 4}\n",
    "setB = {3, 4, 5, 6}\n",
    "print(setA & setB) # пересечение множеств \n",
    "# setA &= setB пересечение\n",
    "# print(setA)\n",
    "setA.intersection(setB) # тоже пересечение\n",
    "setA.intersection_update(setB) # тоже пересечение\n",
    "\n",
    "# объединение множеств\n",
    "setA = {1, 2, 3, 4}\n",
    "setB = {3, 4, 5, 6}\n",
    "print(setA | setB)\n",
    "setA |= setB \n",
    "setA.union(setB) \n",
    "\n",
    "# вычитание множеств\n",
    "\n",
    "setA = {1, 2, 3, 4}\n",
    "setB = {3, 4, 5, 6}\n",
    "\n",
    "print(setA - setB)\n",
    "print(setB - setA) \n",
    "setA -= setB \n",
    "setB -= setA \n",
    "\n",
    "# ссиментриченая разность \n",
    "\n",
    "setA = {1, 2, 3, 4}\n",
    "setB = {3, 4, 5, 6}\n",
    "\n",
    "setA ^ setB\n",
    "\n",
    "# как сравнивать множества \n",
    "setA = {1, 2, 3, 4}\n",
    "setB = {3, 2, 1, 4}\n",
    "setA == setB "
   ]
  },
  {
   "cell_type": "markdown",
   "metadata": {},
   "source": [
    "генераторы множеств и словарей "
   ]
  },
  {
   "cell_type": "code",
   "execution_count": null,
   "metadata": {},
   "outputs": [],
   "source": [
    "import time \n",
    "import random\n",
    "d = [random.randint(1, 10) for _ in range(int(1e8))]\n",
    "\n",
    "gen_time_start = time.time()\n",
    "a = {int(x) for x in d if x < 5}\n",
    "print(time.time() - gen_time_start)\n",
    "\n",
    "set_d = set()\n",
    "cicle_time_start = time.time()\n",
    "for x in d:\n",
    "    if x < 5:\n",
    "        set_d.add(x)\n",
    "\n",
    "print(time.time() - cicle_time_start)"
   ]
  },
  {
   "cell_type": "code",
   "execution_count": null,
   "metadata": {},
   "outputs": [],
   "source": [
    "def diff(set1, set2, set3, symmetric=True):\n",
    "    if symmetric == False:\n",
    "        return set1 - set2 - set3 \n",
    "    else:\n",
    "        return set1 ^ set2 ^ set3 \n",
    "\n",
    "set1 = {randint(1, 10) for _ in range(10)}\n",
    "set2 = {randint(1, 10) for _ in range(10)}\n",
    "set3 = {randint(1, 10) for _ in range(10)}\n",
    "\n",
    "print(set1, set2, set3, diff(set1, set2, set3), sep='\\n')\n",
    "print(diff(set1, set2, set3, symmetric=False))"
   ]
  },
  {
   "cell_type": "markdown",
   "metadata": {},
   "source": [
    "**27.11.2024** **Файлы**"
   ]
  },
  {
   "cell_type": "markdown",
   "metadata": {},
   "source": [
    "open(file[, mode='r', encoding=None,..])\n",
    "- file - путь к файлу\n",
    "- mode -  определяет режим открытия файла\n",
    "- encoding - указывает кодировку, используемую для декодирования (чтения) или кодирования (записи) текста. \n",
    "\n"
   ]
  },
  {
   "cell_type": "code",
   "execution_count": 9,
   "metadata": {},
   "outputs": [
    {
     "name": "stdout",
     "output_type": "stream",
     "text": [
      "Равным образом рамки и место обучения кадров позволяет оценить значение модели развития.\n",
      "С другой стороны начало повседневной работы по формированию позиции влечет за собой процесс внедрения и модернизации системы обучения кадров, соответствует насущным потребностям.\n",
      "Разнообразный и богатый опыт начало повседневной работы по формированию позиции требуют от нас анализа направлений прогрессивного развития.\n"
     ]
    }
   ],
   "source": [
    "file = open(\"eee.txt\", encoding='utf=8') # file - особый объект в языке python, у этого объекта есть свои методы, например .read()\n",
    "print(file.read())"
   ]
  },
  {
   "cell_type": "code",
   "execution_count": 42,
   "metadata": {},
   "outputs": [
    {
     "name": "stdout",
     "output_type": "stream",
     "text": [
      "Скаж\n",
      "Скаж\n",
      "8\n"
     ]
    }
   ],
   "source": [
    "file = open(\"eee.txt\", encoding='utf=8')\n",
    "\n",
    "print(file.read(4))\n",
    "file.seek(0) # file.seek(offset)\n",
    "print(file.read(4))\n",
    "\n",
    "pos = file.tell()\n",
    "print(pos)\n"
   ]
  },
  {
   "cell_type": "code",
   "execution_count": 44,
   "metadata": {},
   "outputs": [
    {
     "name": "stdout",
     "output_type": "stream",
     "text": [
      "Скажи образом рамки и место обучения кадров позволяет оценить значение модели развития.\n",
      "С другой стороны начало повседневной работы по формированию позиции влечет за собой процесс внедрения и модернизации системы обучения кадров, соответствует насущным потребностям.\n",
      "Разнообразный и богатый опыт начало повседневной работы по формированию позиции требуют от нас анализа направлений прогрессивного развития."
     ]
    }
   ],
   "source": [
    "file.seek(0)\n",
    "for line in file:\n",
    "    print(line, end=\"\")"
   ]
  },
  {
   "cell_type": "code",
   "execution_count": 35,
   "metadata": {},
   "outputs": [
    {
     "name": "stdout",
     "output_type": "stream",
     "text": [
      "и образом рамки и место обучения кадров позволяет оценить значение модели развития.\n",
      "\n"
     ]
    }
   ],
   "source": [
    "print(file.readline()) # /n, использовать стоит если известно, что файл не переполнит память"
   ]
  },
  {
   "cell_type": "code",
   "execution_count": 45,
   "metadata": {},
   "outputs": [],
   "source": [
    "file.close() # Закрытие файла"
   ]
  },
  {
   "cell_type": "markdown",
   "metadata": {},
   "source": [
    "Файл, который мы присваиваем - это файл потока данных, а не сам объект"
   ]
  },
  {
   "cell_type": "markdown",
   "metadata": {},
   "source": [
    "**Работа с try / except / finally**\n",
    "\n",
    "    try: <br>\n",
    "        блок операторов<br>\n",
    "        критического кода<br>\n",
    "    except [ исключение ]:<br>\n",
    "        блок операторов<br>\n",
    "        обработки исключения<br>\n",
    "    finally:<br>\n",
    "        блок будет выполнен<br>\n",
    "        в любом случае<br>"
   ]
  },
  {
   "cell_type": "code",
   "execution_count": 51,
   "metadata": {},
   "outputs": [
    {
     "name": "stdout",
     "output_type": "stream",
     "text": [
      "['Скажи образом рамки и место обучения кадров позволяет оценить значение модели развития.\\n', 'С другой стороны начало повседневной работы по формированию позиции влечет за собой процесс внедрения и модернизации системы обучения кадров, соответствует насущным потребностям.\\n', 'Разнообразный и богатый опыт начало повседневной работы по формированию позиции требуют от нас анализа направлений прогрессивного развития.']\n"
     ]
    }
   ],
   "source": [
    "# Код без ошибок\n",
    "try:\n",
    "    file = open(\"eee.txt\", encoding='utf=8') \n",
    "    try:\n",
    "        s = file.readlines()\n",
    "        print(s)\n",
    "    finally:\n",
    "        file.close()\n",
    "except FileNotFoundError:\n",
    "    print('Невозможно открыть файл')"
   ]
  },
  {
   "cell_type": "code",
   "execution_count": 52,
   "metadata": {},
   "outputs": [
    {
     "name": "stdout",
     "output_type": "stream",
     "text": [
      "Невозможно открыть файл\n"
     ]
    }
   ],
   "source": [
    "# Код с ошибкой (не существует файл с таким названием в данной дерриктории)\n",
    "try:\n",
    "    file = open(\"wrongfile.txt\", encoding='utf=8') \n",
    "    try:\n",
    "        s = file.readlines()\n",
    "        print(s)\n",
    "    finally:\n",
    "        file.close()\n",
    "except FileNotFoundError:\n",
    "    print('Невозможно открыть файл')\n",
    "except:\n",
    "    print('Ошибка при работе с файлом')"
   ]
  },
  {
   "cell_type": "code",
   "execution_count": 54,
   "metadata": {},
   "outputs": [
    {
     "name": "stdout",
     "output_type": "stream",
     "text": [
      "Ошибка при работе с файлом\n"
     ]
    }
   ],
   "source": [
    "# Код с ошибкой (ошибка при исполнении файла)\n",
    "try:\n",
    "    file = open(\"eee.txt\", encoding='utf=8') \n",
    "    try:\n",
    "        s = file.readlines()\n",
    "        int(s)\n",
    "        print(s)\n",
    "    finally:\n",
    "        file.close()\n",
    "except FileNotFoundError:\n",
    "    print('Невозможно открыть файл')\n",
    "except:\n",
    "    print('Ошибка при работе с файлом')"
   ]
  },
  {
   "cell_type": "code",
   "execution_count": 62,
   "metadata": {},
   "outputs": [
    {
     "name": "stdout",
     "output_type": "stream",
     "text": [
      "['Скажи образом рамки и место обучения кадров позволяет оценить значение модели развития.\\n', 'С другой стороны начало повседневной работы по формированию позиции влечет за собой процесс внедрения и модернизации системы обучения кадров, соответствует насущным потребностям.\\n', 'Разнообразный и богатый опыт начало повседневной работы по формированию позиции требуют от нас анализа направлений прогрессивного развития.']\n",
      "True\n"
     ]
    }
   ],
   "source": [
    "# контекстный менеджер с помощью with\n",
    "try:\n",
    "    with open(\"eee.txt\", encoding='utf=8') as file:\n",
    "        s = file.readlines()\n",
    "        print(s)\n",
    "except FileNotFoundError:\n",
    "    print('Невозможно открыть файл')\n",
    "except:\n",
    "    print('Ошибка при работе с файлом')\n",
    "finally:\n",
    "    print(file.closed)"
   ]
  },
  {
   "cell_type": "code",
   "execution_count": 69,
   "metadata": {},
   "outputs": [],
   "source": [
    "file = open(\"eee.txt\", \"w\") # Вноска данных в файл при открытие файла на запись, прошлые данные удаляются!\n",
    "file.write(\"Hello!\")\n",
    "file.close()"
   ]
  },
  {
   "cell_type": "markdown",
   "metadata": {},
   "source": [
    "Открывая запись на запись или до запись, мы не можем читать данные, но если будет a+ или w+, то можно читать данные в программе тоже"
   ]
  },
  {
   "cell_type": "code",
   "execution_count": 90,
   "metadata": {},
   "outputs": [],
   "source": [
    "try:\n",
    "    with open(\"eee.txt\", \"w\") as file: # При w начинается путой файл\n",
    "        file.write(\"Hello 1! \\n\")\n",
    "        file.write(\"Hello 2! \\n\")\n",
    "        file.write(\"Hello 3! \\n\")\n",
    "except:\n",
    "    print('Ошибка при работе с файлом')\n"
   ]
  },
  {
   "cell_type": "code",
   "execution_count": 91,
   "metadata": {},
   "outputs": [],
   "source": [
    "try:\n",
    "    with open(\"eee.txt\", \"a\") as file: # При w начинается путой файл\n",
    "        file.write(\"Hello 4! \\n\")\n",
    "        file.write(\"Hello 5! \\n\")\n",
    "        file.write(\"Hello 6! \\n\")\n",
    "except:\n",
    "    print('Ошибка при работе с файлом')\n"
   ]
  },
  {
   "cell_type": "code",
   "execution_count": 82,
   "metadata": {},
   "outputs": [
    {
     "name": "stdout",
     "output_type": "stream",
     "text": [
      "Ошибка при работе с файлом\n"
     ]
    }
   ],
   "source": [
    "try:\n",
    "    with open(\"eee.txt\", \"a\") as file: # При а мы может добавить новые данные в файл\n",
    "        s = file.readlines()\n",
    "        print(s)\n",
    "except:\n",
    "    print('Ошибка при работе с файлом')\n"
   ]
  },
  {
   "cell_type": "code",
   "execution_count": 92,
   "metadata": {},
   "outputs": [
    {
     "name": "stdout",
     "output_type": "stream",
     "text": [
      "['Hello 1! \\n', 'Hello 2! \\n', 'Hello 3! \\n', 'Hello 4! \\n', 'Hello 5! \\n', 'Hello 6! \\n']\n"
     ]
    }
   ],
   "source": [
    "try:\n",
    "    with open(\"eee.txt\", \"a+\") as file: # При а мы может добавить новые данные в файл\n",
    "        file.seek(0)\n",
    "        file.writelines([\"Hello 5! \\n\", \"Hello 6! \\n\"]) # Добавиться в конец файла, потому что seek(0) для чтения файла\n",
    "        s = file.readlines()\n",
    "        print(s)\n",
    "except:\n",
    "    print('Ошибка при работе с файлом')\n"
   ]
  },
  {
   "cell_type": "markdown",
   "metadata": {},
   "source": [
    "file.writelines([\"1\", \"2\"]) - запись нескольких строк"
   ]
  },
  {
   "cell_type": "markdown",
   "metadata": {},
   "source": [
    "task #1"
   ]
  },
  {
   "cell_type": "code",
   "execution_count": 20,
   "metadata": {},
   "outputs": [
    {
     "name": "stdout",
     "output_type": "stream",
     "text": [
      "['atmosphere']\n"
     ]
    }
   ],
   "source": [
    "try:\n",
    "    with open(\"words.txt\") as file:\n",
    "        s = file.readlines()\n",
    "except:\n",
    "    print('Ошибка при работе с файлом')\n",
    "\n",
    "ls = []\n",
    "for i in range(len(s)):\n",
    "    s[i] = s[i].replace(\"\\n\", \"\")\n",
    "    if len(s[i]) >= 7:\n",
    "        ls.append(s[i])\n",
    "try:\n",
    "    with open(\"eee.txt\", \"w\") as file:\n",
    "        file.writelines(ls)\n",
    "except:\n",
    "    pass\n",
    "\n",
    "try:\n",
    "    with open(\"eee.txt\", \"r\") as file:\n",
    "        res = file.readlines()\n",
    "        print(res)\n",
    "except:\n",
    "    pass\n",
    "\n",
    "    "
   ]
  },
  {
   "cell_type": "markdown",
   "metadata": {},
   "source": [
    "task #2"
   ]
  },
  {
   "cell_type": "code",
   "execution_count": 64,
   "metadata": {},
   "outputs": [
    {
     "name": "stdout",
     "output_type": "stream",
     "text": [
      "['Задача\\n', 'в особенности\\n', 'нашей деятельности\\n', 'обучения кадров\\n', 'поставленных задач']\n",
      "['поставленных задач', 'обучения кадров\\n', 'нашей деятельности\\n', 'в особенности\\n', 'Задача\\n']\n",
      "['поставленных задач\\n', 'обучения кадров\\n', 'нашей деятельности\\n', 'в особенности\\n', 'Задача\\n']\n",
      "----------Проверка файла----------\n",
      "поставленных задач\n",
      "обучения кадров\n",
      "нашей деятельности\n",
      "в особенности\n",
      "Задача\n",
      "\n"
     ]
    }
   ],
   "source": [
    "try:\n",
    "    with open('text.txt', encoding='utf=8') as file:\n",
    "        s = file.readlines()\n",
    "except:\n",
    "    print('Ошибка при работе с файлом')\n",
    "\n",
    "print(s)\n",
    "s1 = s[::-1]\n",
    "print(s1)\n",
    "\n",
    "s1[0] += '\\n'\n",
    "print(s1)\n",
    "\n",
    "try:\n",
    "    with open('newtextos.doc', 'w', encoding='utf=8') as file:\n",
    "        file.writelines(s1)\n",
    "except:\n",
    "    print('Ошибка при работе с файлом')\n",
    "\n",
    "print(\"----------Проверка файла----------\")\n",
    "try:\n",
    "    with open('newtextos.doc', 'r', encoding='utf=8') as file:\n",
    "        print(file.read())\n",
    "except: pass"
   ]
  },
  {
   "cell_type": "markdown",
   "metadata": {},
   "source": [
    "task #3"
   ]
  },
  {
   "cell_type": "code",
   "execution_count": 198,
   "metadata": {},
   "outputs": [
    {
     "name": "stdout",
     "output_type": "stream",
     "text": [
      "['Задача\\n', 'в особенности,\\n', 'нашей деятельности\\n', 'обучения кадров,\\n', 'поставленных задач,']\n",
      "2\n"
     ]
    }
   ],
   "source": [
    "try:\n",
    "    with open('text.txt', encoding='utf=8') as file:\n",
    "        s = file.readlines()\n",
    "except:\n",
    "    print('Ошибка при работе с файлом')\n",
    "print(s)\n",
    "\n",
    "count = -1\n",
    "\n",
    "for i in range(len(s)):\n",
    "    if ',' not in s[i]:\n",
    "        count = i\n",
    "\n",
    "if count != -1:\n",
    "    s.insert(count + 1, '************\\n')\n",
    "else:\n",
    "    s.append('************')\n",
    "print(count)\n",
    "\n",
    "try: \n",
    "    with open('new_file.txt', 'w') as file:\n",
    "        file.writelines(s)\n",
    "except: pass"
   ]
  },
  {
   "cell_type": "markdown",
   "metadata": {},
   "source": [
    "task #4"
   ]
  },
  {
   "cell_type": "code",
   "execution_count": 242,
   "metadata": {},
   "outputs": [
    {
     "name": "stdout",
     "output_type": "stream",
     "text": [
      "['я учусь в академии топ\\n', 'я изучал java,html и css\\n', 'я учусь в академии топ\\n', 'я изучал java,html и css\\n', 'я учусь в академии топ\\n', 'я изучал java,html и css']\n",
      "у\n",
      "-- Рузльтат: --\n",
      "3\n"
     ]
    }
   ],
   "source": [
    "try:\n",
    "    with open('file1.txt', encoding='utf=8') as file:\n",
    "        s = file.readlines()\n",
    "except:\n",
    "    print('Ошибка при работе с файлом')\n",
    "print(s)\n",
    "\n",
    "c = 0\n",
    "\n",
    "user_symbol = input('Введите ваш символ (кодировка utf-8): ')\n",
    "print(user_symbol)\n",
    "\n",
    "for i in s:\n",
    "    for j in i.split():\n",
    "        if j[0] == user_symbol:\n",
    "                c += 1\n",
    "\n",
    "print(\"-- Рузльтат: --\")\n",
    "print(c)\n"
   ]
  },
  {
   "cell_type": "code",
   "execution_count": 245,
   "metadata": {},
   "outputs": [
    {
     "name": "stdout",
     "output_type": "stream",
     "text": [
      "['я учусь в *академии топ\\n', 'я изучал* java,html и css\\n', 'я учусь в& академии топ\\n', 'я изучал java,html и css\\n', 'я учусь в &академии топ\\n', 'я изучал *java,html и css']\n",
      "['я учусь в &академии топ\\n', 'я изучал& java,html и css\\n', 'я учусь в* академии топ\\n', 'я изучал java,html и css\\n', 'я учусь в *академии топ\\n', 'я изучал &java,html и css']\n"
     ]
    }
   ],
   "source": [
    "try:\n",
    "    with open('file1.txt', encoding='utf=8') as file:\n",
    "        s = file.readlines()\n",
    "except:\n",
    "    print('Ошибка при работе с файлом')\n",
    "print(s)\n",
    "\n",
    "for i in range(len(s)):\n",
    "    s[i] = s[i].replace('*', '?')\n",
    "    s[i] = s[i].replace('&', '*')\n",
    "    s[i] = s[i].replace('?', '&')\n",
    "\n",
    "print(s)"
   ]
  },
  {
   "cell_type": "markdown",
   "metadata": {},
   "source": [
    "**04.12.2024**"
   ]
  },
  {
   "cell_type": "markdown",
   "metadata": {},
   "source": [
    "Замены операторов ветвления math/case python 3.10+"
   ]
  },
  {
   "cell_type": "code",
   "execution_count": 1,
   "metadata": {},
   "outputs": [
    {
     "name": "stdout",
     "output_type": "stream",
     "text": [
      "вверх\n",
      "проверки завершены\n"
     ]
    }
   ],
   "source": [
    "cmd = 'top'\n",
    "\n",
    "match cmd:\n",
    "    case 'top': # шаблон проверки \n",
    "        print('вверх')\n",
    "    case 'left':\n",
    "        print('влево')\n",
    "    case _: # wildcard \n",
    "        print('другое')\n",
    "\n",
    "print('проверки завершены')"
   ]
  },
  {
   "cell_type": "code",
   "execution_count": 2,
   "metadata": {},
   "outputs": [
    {
     "name": "stdout",
     "output_type": "stream",
     "text": [
      "команда: top\n",
      "проверки завершены\n"
     ]
    }
   ],
   "source": [
    "cmd = 'top'\n",
    "\n",
    "match cmd:\n",
    "    case command:\n",
    "        print(f'команда: {command}')\n",
    "print('проверки завершены')"
   ]
  },
  {
   "cell_type": "code",
   "execution_count": 3,
   "metadata": {},
   "outputs": [
    {
     "ename": "SyntaxError",
     "evalue": "name capture 'command' makes remaining patterns unreachable (3489867055.py, line 4)",
     "output_type": "error",
     "traceback": [
      "\u001b[1;36m  Cell \u001b[1;32mIn[3], line 4\u001b[1;36m\u001b[0m\n\u001b[1;33m    case command:\u001b[0m\n\u001b[1;37m         ^\u001b[0m\n\u001b[1;31mSyntaxError\u001b[0m\u001b[1;31m:\u001b[0m name capture 'command' makes remaining patterns unreachable\n"
     ]
    }
   ],
   "source": [
    "cmd = 'top'\n",
    "\n",
    "match cmd:\n",
    "    case command: \n",
    "        print(f'команда: {command}')\n",
    "    case 'top':\n",
    "        print('вверх')\n",
    "        \n",
    "print('проверки завершены')"
   ]
  },
  {
   "cell_type": "code",
   "execution_count": 4,
   "metadata": {},
   "outputs": [
    {
     "name": "stdout",
     "output_type": "stream",
     "text": [
      "вверх\n",
      "проверки завершены\n"
     ]
    }
   ],
   "source": [
    "cmd = 'top'\n",
    "\n",
    "match cmd:\n",
    "    case 'top':\n",
    "        print('вверх')\n",
    "    case command: # как wildcard или else\n",
    "        print(f'команда: {command}')\n",
    "        \n",
    "print('проверки завершены')"
   ]
  },
  {
   "cell_type": "code",
   "execution_count": 5,
   "metadata": {},
   "outputs": [
    {
     "name": "stdout",
     "output_type": "stream",
     "text": [
      "другая команда\n",
      "проверки завершены\n"
     ]
    }
   ],
   "source": [
    "cmd = 1\n",
    "\n",
    "match cmd:\n",
    "    case str():\n",
    "        print('строка')\n",
    "    case _: \n",
    "        print(f'другая команда')\n",
    "        \n",
    "print('проверки завершены')"
   ]
  },
  {
   "cell_type": "code",
   "execution_count": 6,
   "metadata": {},
   "outputs": [
    {
     "name": "stdout",
     "output_type": "stream",
     "text": [
      "строковая команда: top\n",
      "проверки завершены\n"
     ]
    }
   ],
   "source": [
    "cmd = 'top'\n",
    "\n",
    "match cmd:\n",
    "    case str() as command:\n",
    "        print(f'строковая команда: {command}')\n",
    "    case _: \n",
    "        print(f'другая команда')\n",
    "        \n",
    "print('проверки завершены')"
   ]
  },
  {
   "cell_type": "code",
   "execution_count": 7,
   "metadata": {},
   "outputs": [
    {
     "name": "stdout",
     "output_type": "stream",
     "text": [
      "строковая команда: top\n",
      "проверки завершены\n"
     ]
    }
   ],
   "source": [
    "cmd = 'top'\n",
    "\n",
    "match cmd:\n",
    "    case str(command) :\n",
    "        print(f'строковая команда: {command}')\n",
    "    case _: \n",
    "        print(f'другая команда')\n",
    "        \n",
    "print('проверки завершены')"
   ]
  },
  {
   "cell_type": "code",
   "execution_count": 8,
   "metadata": {},
   "outputs": [
    {
     "name": "stdout",
     "output_type": "stream",
     "text": [
      "ok\n"
     ]
    }
   ],
   "source": [
    "numbers = [1, 2, 3, 4]\n",
    "if isinstance(numbers, (list, int, bool)): \n",
    "    print('ok')\n",
    "else:\n",
    "    print('not ok') "
   ]
  },
  {
   "cell_type": "code",
   "execution_count": 9,
   "metadata": {},
   "outputs": [
    {
     "name": "stdout",
     "output_type": "stream",
     "text": [
      "кортеж: ('Балакирев С М', 'Python', 2000.78)\n"
     ]
    }
   ],
   "source": [
    "cmd = (\"Балакирев С М\",\"Python\",2000.78) \n",
    " \n",
    "match cmd: \n",
    "    case tuple() as book: \n",
    "        print(f\"кортеж: {book}\") \n",
    "    case _: \n",
    "        print(\"непонятный формат данных\")"
   ]
  },
  {
   "cell_type": "code",
   "execution_count": 10,
   "metadata": {},
   "outputs": [
    {
     "name": "stdout",
     "output_type": "stream",
     "text": [
      "asasf\n",
      "pp\n",
      "12\n"
     ]
    }
   ],
   "source": [
    "cmd = ('asasf', 'pp', 12)\n",
    "\n",
    "match cmd:\n",
    "    case [x, *args]: # если нам нужно вывести все значения\n",
    "        print(x)\n",
    "        for i in args:\n",
    "            print(i)"
   ]
  },
  {
   "cell_type": "code",
   "execution_count": 13,
   "metadata": {},
   "outputs": [
    {
     "name": "stdout",
     "output_type": "stream",
     "text": [
      "triangle\n"
     ]
    }
   ],
   "source": [
    "# задание 1 \n",
    "\n",
    "user_sides = int(input())\n",
    "\n",
    "match user_sides:\n",
    "    case 3:\n",
    "        print('triangle')\n",
    "    case 4:\n",
    "        print('quadrilateral')\n",
    "    case sides if sides > 4:\n",
    "        print('polygon')\n",
    "    case _:\n",
    "        print('It is not polygon')"
   ]
  },
  {
   "cell_type": "code",
   "execution_count": 14,
   "metadata": {},
   "outputs": [
    {
     "name": "stdout",
     "output_type": "stream",
     "text": [
      "делится на 6\n"
     ]
    }
   ],
   "source": [
    "# Задание 2\n",
    "numbers = int(input())\n",
    "\n",
    "match numbers:\n",
    "    case num if num % 2 == 0 and num % 3 == 0:\n",
    "        print('делится на 6')\n",
    "    case num if num % 2 == 0:\n",
    "        print('число четное')\n",
    "    case num if num % 3 == 0:\n",
    "        print('нечетное')\n",
    "    case _:\n",
    "        print('не делится на 2 и 3')"
   ]
  },
  {
   "cell_type": "code",
   "execution_count": 22,
   "metadata": {},
   "outputs": [
    {
     "name": "stdout",
     "output_type": "stream",
     "text": [
      "[8, 10]\n",
      "утро\n"
     ]
    }
   ],
   "source": [
    "# Задание 3 \n",
    "\n",
    "user_input = input()\n",
    "\n",
    "s = []\n",
    "for i in user_input.split(sep=':'):\n",
    "    s.append(int(i))\n",
    "\n",
    "print(s)\n",
    "\n",
    "match s:\n",
    "    case [hours, mins] if (hours, mins == 12, 0) and \\\n",
    "        hours in range(6, 12) and mins in range(0, 60):\n",
    "        print('утро')\n",
    "    case [hours, mins] if (hours, mins == 18, 0) and \\\n",
    "        hours in range(12, 18) and mins in range(0, 60):\n",
    "        print('день')\n",
    "    case [hours, mins] if (hours, mins == 22, 0) and \\\n",
    "        hours in range(18, 22) and mins in range(0, 60):\n",
    "        print('вечер')\n",
    "    case [hours, mins] if (hours, mins == 6, 0) and \\\n",
    "        hours in (22, 23, 24, 0,1,2,3,4,5,6) and mins in range(0, 60):\n",
    "        print('ночь')\n",
    "    case _:\n",
    "        print('Ты перепутал')"
   ]
  },
  {
   "cell_type": "markdown",
   "metadata": {},
   "source": [
    "**9.12.2024 ООП**"
   ]
  },
  {
   "cell_type": "markdown",
   "metadata": {},
   "source": [
    "создание класса: <br>\n",
    "\n",
    "        сlass Name: \n",
    "            def __init__(self[, args]) \n",
    "\n",
    "имя = имя_класса (создание объекта класса)"
   ]
  },
  {
   "cell_type": "code",
   "execution_count": 34,
   "metadata": {},
   "outputs": [],
   "source": [
    "class Person:\n",
    "    def __init__(self, name, age): # Конструктор для создания атрибутов\n",
    "        # self - ссылочная переменная\n",
    "        self.name = name # атрибуты\n",
    "        self.age = age\n",
    "\n",
    "    def display_info(self): # Методы классов\n",
    "        print(f\"Имя {self.name}\")\n",
    "\n",
    "andrey = Person(\"Andrey\", 20) # Объекты класса Person (Создания объекта)\n",
    "maksim = Person(\"Maksim\", 36)\n",
    "artemiy = Person(\"Artemiy\", 17)"
   ]
  },
  {
   "cell_type": "code",
   "execution_count": 35,
   "metadata": {},
   "outputs": [
    {
     "name": "stdout",
     "output_type": "stream",
     "text": [
      "Имя Andrey\n",
      "Имя Maksim\n",
      "Имя Artemiy\n"
     ]
    }
   ],
   "source": [
    "andrey.display_info() # Вывод имени, использование метода\n",
    "maksim.display_info()\n",
    "artemiy.display_info()"
   ]
  },
  {
   "cell_type": "code",
   "execution_count": 36,
   "metadata": {},
   "outputs": [
    {
     "name": "stdout",
     "output_type": "stream",
     "text": [
      "21\n"
     ]
    }
   ],
   "source": [
    "andrey.age = 21\n",
    "print(andrey.age)"
   ]
  },
  {
   "cell_type": "code",
   "execution_count": 28,
   "metadata": {},
   "outputs": [
    {
     "name": "stdout",
     "output_type": "stream",
     "text": [
      "Apple\n"
     ]
    }
   ],
   "source": [
    "# Динамическое присваивание \n",
    "andrey.company = \"Apple\"\n",
    "print(andrey.company)"
   ]
  },
  {
   "cell_type": "code",
   "execution_count": 41,
   "metadata": {},
   "outputs": [
    {
     "name": "stdout",
     "output_type": "stream",
     "text": [
      "Создан человек с именем Andrey\n",
      "Удален человек с именем Andrey\n"
     ]
    }
   ],
   "source": [
    "# Деструкторы\n",
    "class Person:\n",
    "    def __init__(self, name):\n",
    "        self.name = name\n",
    "        print(f\"Создан человек с именем {self.name}\")\n",
    "\n",
    "    def __del__(self): # Метод, вызывающийся при удалении объекта\n",
    "        print(f\"Удален человек с именем {self.name}\")\n",
    "\n",
    "def create_person():\n",
    "    andrey = Person(\"Andrey\")\n",
    "\n",
    "create_person()"
   ]
  },
  {
   "cell_type": "markdown",
   "metadata": {},
   "source": [
    "Задание 1: <br>\n",
    "- Определите класс Rectangle, который представляет прямоугольник. \n",
    "- Через конструктор класс принимает ширину и длину и сохраняет их в атрибутах width и length соответственно. \n",
    "- Также этом классе определите метод area, который возвращает площадь прямоугольника, и метод perimeter, который возвращает периметра прямоугольника."
   ]
  },
  {
   "cell_type": "code",
   "execution_count": 51,
   "metadata": {},
   "outputs": [
    {
     "name": "stdout",
     "output_type": "stream",
     "text": [
      "rect area: 300\n",
      "rect perimeter: 5400\n"
     ]
    }
   ],
   "source": [
    "class Rectangle:\n",
    "    def __init__(self, length, width):\n",
    "        self.length = length\n",
    "        self.width = width\n",
    "    \n",
    "    def area(self): # метод класса\n",
    "        return 2 * (self.length + self.width)\n",
    "\n",
    "    def perimeter(self):\n",
    "        return self.length * self.width\n",
    "        \n",
    "rect1 = Rectangle(60, 90) # объект класса\n",
    "print(\"rect area:\", rect1.area())\n",
    "print(\"rect perimeter:\", rect1.perimeter())\n",
    "\n"
   ]
  },
  {
   "cell_type": "markdown",
   "metadata": {},
   "source": [
    "Задание 2: <br>\n",
    "\n",
    "Создайте класс BankAccount, который представляет банковский счет. Определите в этом классе атрибуты account_number и balance, которые представляют номер счета и баланс. Через параметры конструктора передайте этим атрибутам начальные значения.\n",
    "\n",
    "- Также в классе определите метод add, который принимает некоторую сумму и добавляет ее на баланс счета. \n",
    "И определите метод withdraw, \n",
    "который принимает некоторую сумму и снимает ее с баланса. \n",
    "- При этом с баланса нельзя снять больше, чем имеется. \n",
    "- Если на балансе недостаточно средств,\n",
    "то пользователю должно выводиться соответствующее сообщение."
   ]
  },
  {
   "cell_type": "code",
   "execution_count": 65,
   "metadata": {},
   "outputs": [
    {
     "name": "stdout",
     "output_type": "stream",
     "text": [
      "Создан счет. Баланс: 100 ед.\n",
      "на счет поступило 100 ед.\n",
      "Со счета снято 150 ед.\n"
     ]
    }
   ],
   "source": [
    "class BankAccount:\n",
    "    def __init__(self, account_number, sum):\n",
    "        self.account_number = number\n",
    "        self.balance = sum\n",
    "        print(f\"Создан счет. Баланс: {sum} ед.\")\n",
    "        \n",
    "    def add(self, sum):\n",
    "        self.balance = self.balance + sum\n",
    "        print(f\"на счет поступило {sum} ед.\")\n",
    "\n",
    "    def withdraw(self, sum):\n",
    "        if self.balance >= sum:\n",
    "            self.balance = self.balance - sum\n",
    "            print(f\"Со счета снято {sum} ед.\")\n",
    "        else:\n",
    "            print(\"Недостаточно денег на счете\")\n",
    "\n",
    "account1 = BankAccount(1, 100)\n",
    "account1.add(100)\n",
    "account1.withdraw(150)"
   ]
  },
  {
   "cell_type": "markdown",
   "metadata": {},
   "source": [
    "Задание 3: <br>\n",
    "Создайте класс Книга, который будет описывать книгу. У книги должны быть следующие атрибуты: <br>\n",
    "\n",
    "- название (строка)\n",
    "- автор (строка)\n",
    "- год_издания (целое число)\n",
    "- количество_страниц (целое число)\n",
    "\n",
    "Класс должен иметь следующие методы:\n",
    "- `__init__` - конструктор, который принимает значения атрибутов и инициализирует их.\n",
    "- показать_информацию - метод, который выводит информацию о книге в следующем формате:"
   ]
  },
  {
   "cell_type": "code",
   "execution_count": 7,
   "metadata": {},
   "outputs": [
    {
     "name": "stdout",
     "output_type": "stream",
     "text": [
      "['Гоголь', 'Мертвые Души', 1823, 500]\n"
     ]
    }
   ],
   "source": [
    "class Book:\n",
    "    def __init__(self, name, author, year, pages):\n",
    "        self.name = name\n",
    "        self.author = author\n",
    "        self.year = year\n",
    "        self.pages = pages\n",
    "    \n",
    "    def show_info(self):\n",
    "        info = [self.name, self.author, self.year, self.pages]\n",
    "        print(info)\n",
    "\n",
    "book1 = Book(\"Гоголь\", \"Мертвые Души\", 1823, 500)\n",
    "\n",
    "book1.show_info()"
   ]
  },
  {
   "cell_type": "markdown",
   "metadata": {},
   "source": [
    "**Инкапсуляция. Атрибуты и своиства.**"
   ]
  },
  {
   "cell_type": "markdown",
   "metadata": {},
   "source": [
    "class Person:\n",
    "    def __init__(self, name, age): \n",
    "        # self - ссылочная переменная\n",
    "        self.name = name # атрибуты\n",
    "        self.age = age\n",
    "\n",
    "    def display_info(self): # Методы классов\n",
    "        print(f\"Имя {self.name}\")"
   ]
  },
  {
   "cell_type": "code",
   "execution_count": 13,
   "metadata": {},
   "outputs": [
    {
     "name": "stdout",
     "output_type": "stream",
     "text": [
      "<__main__.Person object at 0x000002002FE89FD0>\n"
     ]
    }
   ],
   "source": [
    "class Person:\n",
    "    def __init__(self, name, age):\n",
    "        self.__name = name # атрибуты теперь неизменны из-за __\n",
    "        self.__age = age\n",
    "\n",
    "    def display_info(self): \n",
    "        print(f\"Имя {self.name}, Возраст: {self.age}\")\n",
    "\n",
    "object1 = Person(\"Abc\", 17)\n",
    "object1.__name = \"Cba\"\n",
    "object1.__age = 18\n",
    "\n",
    "print(object1)\n"
   ]
  },
  {
   "cell_type": "markdown",
   "metadata": {},
   "source": [
    "Получить доступ к этим объектам теперь возможно только благодаря геттерам и сеттерам"
   ]
  },
  {
   "cell_type": "code",
   "execution_count": 20,
   "metadata": {},
   "outputs": [
    {
     "name": "stdout",
     "output_type": "stream",
     "text": [
      "Имя: Andrej, возраст: 17\n",
      "Недопустимый возраст\n",
      "Имя: Andrej, возраст: 18\n"
     ]
    }
   ],
   "source": [
    "class Person:\n",
    "    def __init__(self, name, age):\n",
    "        self.__name = name # атрибуты теперь неизменны из-за __\n",
    "        self.__age = age\n",
    "        \n",
    "    # setter\n",
    "    def set_age(self, age):\n",
    "        if 0 < age < 110:\n",
    "            self.__age = age\n",
    "        else:\n",
    "            print(\"Недопустимый возраст\")\n",
    "    \n",
    "    # getter - дает доступ к приватной переменной\n",
    "    def get_age(self):\n",
    "        return self.__age\n",
    "    \n",
    "    def get_name(self):\n",
    "        return self.__name\n",
    "    \n",
    "    def print_person(self):\n",
    "        print(f\"Имя: {self.__name}, возраст: {self.__age}\")\n",
    "\n",
    "andrej = Person(\"Andrej\", 17)\n",
    "\n",
    "andrej.print_person()\n",
    "andrej.set_age(-6)\n",
    "andrej.set_age(18)\n",
    "andrej.print_person()"
   ]
  },
  {
   "cell_type": "code",
   "execution_count": null,
   "metadata": {},
   "outputs": [],
   "source": [
    "# Аннотация доступа\n",
    "\n",
    "class Person:\n",
    "    def __init__(self, name, age):\n",
    "        self.__name = name # атрибуты теперь неизменны из-за __\n",
    "        self.__age = age\n",
    "\n",
    "    # getter - дает доступ к приватной переменной\n",
    "    @property\n",
    "    def age(self):\n",
    "        return self.__age\n",
    "    \n",
    "    def get_name(self):\n",
    "        return self.__name\n",
    "    \n",
    "    def print_person(self):\n",
    "        print(f\"Имя: {self.__name}, возраст: {self.__age}\")\n",
    "     \n",
    "    # setter\n",
    "    @age.setter\n",
    "    def age(self, age):\n",
    "        if 0 < age < 110:\n",
    "            self.__age = age\n",
    "        else:\n",
    "            print(\"Недопустимый возраст\")"
   ]
  },
  {
   "cell_type": "markdown",
   "metadata": {},
   "source": [
    "1) Создайте класс Person, который будет иметь два приватных атрибута: __name и __age. \n",
    "Реализуйте для них геттеры и сеттеры."
   ]
  },
  {
   "cell_type": "code",
   "execution_count": 97,
   "metadata": {},
   "outputs": [
    {
     "name": "stdout",
     "output_type": "stream",
     "text": [
      "Имя: Andrej, возраст: 132\n",
      "Имя: Andrey, возраст: 18\n"
     ]
    }
   ],
   "source": [
    "class Person:\n",
    "    def __init__(self, name, age):\n",
    "        self.__name = name\n",
    "        self.__age = age\n",
    "\n",
    "    @property\n",
    "    def age(self):\n",
    "        return self.__age\n",
    "    \n",
    "    @property\n",
    "    def name(self):\n",
    "        return self.__name\n",
    "    \n",
    "    @age.setter\n",
    "    def age(self, age):\n",
    "        if age > 0:\n",
    "            self.__age = age\n",
    "        else:\n",
    "            print(\"Недопустимый возраст\")\n",
    "\n",
    "    @name.setter \n",
    "    def name(self, name):\n",
    "        if type(name) != type(int):\n",
    "            self.__name = name\n",
    "        else:\n",
    "            print(\"Недопустимое значение\")\n",
    "    \n",
    "    def print_person(self):\n",
    "        print(f\"Имя: {self.__name}, возраст: {self.__age}\")\n",
    "\n",
    "person1 = Person('Andrej', \"132\")\n",
    "person1.print_person()\n",
    "\n",
    "person1.name = \"Andrey\"\n",
    "person1.age = 18\n",
    "\n",
    "person1.print_person()"
   ]
  },
  {
   "cell_type": "markdown",
   "metadata": {},
   "source": [
    "2) Создайте класс BankAccount, который будет иметь приватный атрибут __balance. \n",
    "Реализуйте для него геттер и сеттер. \n",
    "Сеттер должен проверять, что баланс не может быть отрицательным."
   ]
  },
  {
   "cell_type": "code",
   "execution_count": 98,
   "metadata": {},
   "outputs": [
    {
     "name": "stdout",
     "output_type": "stream",
     "text": [
      "100\n",
      "1500\n",
      "На счету не может быть отрицательный баланс\n",
      "1500\n"
     ]
    }
   ],
   "source": [
    "class BankAccount:\n",
    "    def __init__(self, balance):\n",
    "        self.__balance = balance\n",
    "\n",
    "    @property\n",
    "    def balance(self):\n",
    "        return self.__balance\n",
    "    \n",
    "    @balance.setter\n",
    "    def balance(self, new_balance):\n",
    "        if new_balance >= 0:\n",
    "            self.__balance = new_balance\n",
    "            # print(f\"Ваш баланс {new_balance} ед.\")\n",
    "        else:\n",
    "            return \"На счету не может быть отрицательный баланс\"\n",
    "\n",
    "tst1 = BankAccount(100)\n",
    "print(tst1.balance)\n",
    "\n",
    "tst1.balance = 1500\n",
    "print(tst1.balance)\n",
    "\n",
    "tst1.balance = -1\n",
    "print(tst1.balance)"
   ]
  },
  {
   "cell_type": "markdown",
   "metadata": {},
   "source": [
    "3) Создайте класс Car, который будет иметь приватный атрибут __speed. \n",
    "Реализуйте для него геттер и сеттер. \n",
    "Сеттер должен проверять, что скорость не может быть отрицательной. \n",
    "Также реализуйте метод accelerate(value), \n",
    "который будет увеличивать скорость на заданное значение, \n",
    "и метод brake(value), \n",
    "который будет уменьшать скорость на заданное значение."
   ]
  },
  {
   "cell_type": "code",
   "execution_count": 123,
   "metadata": {},
   "outputs": [
    {
     "name": "stdout",
     "output_type": "stream",
     "text": [
      "0\n",
      "20\n",
      "10\n"
     ]
    }
   ],
   "source": [
    "class Car:\n",
    "    def __init__(self, speed):\n",
    "        self.__speed = speed\n",
    "\n",
    "    @property\n",
    "    def speed(self):\n",
    "        return self.__speed\n",
    "    \n",
    "    @speed.setter\n",
    "    def speed(self, new_speed):\n",
    "        if new_speed >= 0:\n",
    "            self.__speed = new_speed\n",
    "        else:\n",
    "            print('Скорость не может быть отрицательной')\n",
    "\n",
    "    def brake(self, value):\n",
    "        if self.__speed - value >= 0:\n",
    "            self.speed -= value\n",
    "        else:\n",
    "            self.speed = 0\n",
    "            print(\"brake\")\n",
    "    \n",
    "    def accelerate(self, value):\n",
    "        self.__speed += value\n",
    "\n",
    "car1 = Car(0)\n",
    "print(car1.speed)\n",
    "\n",
    "car1.accelerate(20)\n",
    "print(car1.speed)\n",
    "\n",
    "car1.brake(10)\n",
    "print(car1.speed)"
   ]
  },
  {
   "cell_type": "markdown",
   "metadata": {},
   "source": [
    "**Lesson 11.12 Наследование**"
   ]
  },
  {
   "cell_type": "markdown",
   "metadata": {},
   "source": [
    "Дочерний класс наследует атрибуты родительского класса (все)"
   ]
  },
  {
   "cell_type": "code",
   "execution_count": 12,
   "metadata": {},
   "outputs": [
    {
     "name": "stdout",
     "output_type": "stream",
     "text": [
      "Tom\n",
      "name: Tom, age: 18\n",
      "Tom, 18 работает в цеху\n",
      "Студент учится в ВУЗе\n"
     ]
    }
   ],
   "source": [
    "class Person:\n",
    "    def __init__(self, name, age):\n",
    "        self.__name = name\n",
    "        self.__age = age\n",
    "\n",
    "    @property # геттеры\n",
    "    def name(self):\n",
    "        return self.__name\n",
    "    \n",
    "    @property\n",
    "    def age(self):\n",
    "        return self.__age\n",
    "\n",
    "    def display(self):\n",
    "        print(f'name: {self.__name}, age: {self.__age}')\n",
    "\n",
    "class Employee(Person): # Создание дочернего класса\n",
    "    def work(self):\n",
    "        print(f'{self.name}, {self.age} работает в цеху')\n",
    "\n",
    "class Student:\n",
    "    def study(self):\n",
    "        print('Студент учится в ВУЗе')\n",
    "\n",
    "tom = Employee('Tom', 41)\n",
    "\n",
    "class WorkingStudent(Employee, Student):\n",
    "    pass\n",
    "\n",
    "tom = WorkingStudent('Tom', 18)\n",
    "\n",
    "print(tom.name) # от родительского класса\n",
    "\n",
    "tom.display()\n",
    "tom.work()\n",
    "tom.study()"
   ]
  },
  {
   "cell_type": "markdown",
   "metadata": {},
   "source": [
    "Задача 1: Обычное наследование <br>\n",
    "Условие: <br>\n",
    "Создайте базовый класс Животное, который имеет атрибут имя и метод говорить(), который выводит \"Животное издает звук\". Затем создайте два дочерних класса: Собака и Кошка. Переопределите метод говорить() для каждого из них так, чтобы: <br>\n",
    "\n",
    "- Собака выводила \"Гав-гав\"\n",
    "\n",
    "- Кошка выводила \"Мяу-мяу\""
   ]
  },
  {
   "cell_type": "code",
   "execution_count": 49,
   "metadata": {},
   "outputs": [
    {
     "name": "stdout",
     "output_type": "stream",
     "text": [
      "Животное издает звук\n",
      "Томас говорит: Мяу-Мяу\n",
      "Животное издает звук\n",
      "Бакс говорит: Гав-Гав\n"
     ]
    }
   ],
   "source": [
    "class Animal:\n",
    "    def __init__(self, name):\n",
    "        self.name = name\n",
    "    \n",
    "    def talk(self):\n",
    "        print('Животное издает звук')\n",
    "\n",
    "class Cat(Animal):\n",
    "    def cat_(self):\n",
    "        print(f'{self.name} говорит: Мяу-Мяу')\n",
    "\n",
    "class Dog(Animal):\n",
    "    def dog_(self,):\n",
    "        print(f'{self.name} говорит: Гав-Гав')\n",
    "\n",
    "tomas = Cat('Томас')\n",
    "tomas.talk()\n",
    "tomas.cat_()\n",
    "\n",
    "baks = Dog('Бакс')\n",
    "baks.talk()\n",
    "baks.dog_()\n"
   ]
  },
  {
   "cell_type": "markdown",
   "metadata": {},
   "source": [
    "Задача 2: Множественное наследование <br>\n",
    "Условие: <br>\n",
    "Создайте два базовых класса: <br>\n",
    "\n",
    "- Летать, который имеет метод лететь(), выводящий \"Я лечу!\".\n",
    "\n",
    "- Плавать, который имеет метод плавать(), выводящий \"Я плаваю!\".\n",
    "\n",
    "- Затем создайте класс Утка, который наследуется от обоих классов Летать и Плавать. \n",
    "- Утка должна иметь метод поведение(), который вызывает методы лететь() и плавать().\n"
   ]
  },
  {
   "cell_type": "code",
   "execution_count": 58,
   "metadata": {},
   "outputs": [
    {
     "name": "stdout",
     "output_type": "stream",
     "text": [
      "Я лечу!, Я плаваю!\n"
     ]
    }
   ],
   "source": [
    "class Fly:\n",
    "    def __init__(self):\n",
    "        pass\n",
    "    \n",
    "    def fly(self):\n",
    "        return \"Я лечу!\"\n",
    "\n",
    "class Swim:\n",
    "    def __init__(self):\n",
    "        pass\n",
    "        \n",
    "    def swim(self):\n",
    "        return \"Я плаваю!\"\n",
    "\n",
    "class Duck(Swim, Fly):\n",
    "    def demeanor(self):\n",
    "        print(f'{self.fly()}, {self.swim()}')\n",
    "\n",
    "tuck = Duck()\n",
    "tuck.demeanor()\n"
   ]
  },
  {
   "cell_type": "code",
   "execution_count": 60,
   "metadata": {},
   "outputs": [
    {
     "name": "stdout",
     "output_type": "stream",
     "text": [
      "Книга '1984' добавлена в библиотеку.\n",
      "Книга 'To Kill a Mockingbird' добавлена в библиотеку.\n",
      "Читатель 'Alice' зарегистрирован.\n",
      "Читатель 'Bob' зарегистрирован.\n",
      "Книга '1984' взята.\n",
      "Доступность книги '1984': False\n",
      "Книга '1984' возвращена.\n",
      "Доступность книги '1984': True\n"
     ]
    }
   ],
   "source": [
    "class Book:\n",
    "    def __init__(self, title, author):\n",
    "        self.title = title\n",
    "        self.author = author\n",
    "        self.is_available = True\n",
    "\n",
    "    def borrow(self):\n",
    "        if self.is_available:\n",
    "            self.is_available = False\n",
    "            print(f\"Книга '{self.title}' взята.\")\n",
    "        else:\n",
    "            print(f\"Книга '{self.title}' уже недоступна.\")\n",
    "\n",
    "    def return_book(self):\n",
    "        if not self.is_available:\n",
    "            self.is_available = True\n",
    "            print(f\"Книга '{self.title}' возвращена.\")\n",
    "        else:\n",
    "            print(f\"Книга '{self.title}' уже в библиотеке.\")\n",
    "\n",
    "\n",
    "class Reader:\n",
    "    def __init__(self, name):\n",
    "        self.name = name\n",
    "        self.borrowed_books = []\n",
    "\n",
    "    def borrow_book(self, book):\n",
    "        if book.is_available:\n",
    "            book.borrow()\n",
    "            self.borrowed_books.append(book)\n",
    "        else:\n",
    "            print(f\"Книга '{book.title}' недоступна.\")\n",
    "\n",
    "    def return_book(self, book):\n",
    "        if book in self.borrowed_books:\n",
    "            book.return_book()\n",
    "            self.borrowed_books.remove(book)\n",
    "        else:\n",
    "            print(f\"Книга '{book.title}' не была взята читателем '{self.name}'.\")\n",
    "\n",
    "\n",
    "class Library:\n",
    "    def __init__(self):\n",
    "        self.books = []\n",
    "        self.readers = []\n",
    "\n",
    "    def add_book(self, book):\n",
    "        self.books.append(book)\n",
    "        print(f\"Книга '{book.title}' добавлена в библиотеку.\")\n",
    "\n",
    "    def add_reader(self, reader):\n",
    "        self.readers.append(reader)\n",
    "        print(f\"Читатель '{reader.name}' зарегистрирован.\")\n",
    "\n",
    "    def find_book(self, title):\n",
    "        for book in self.books:\n",
    "            if book.title == title:\n",
    "                return book\n",
    "        return None\n",
    "\n",
    "    def find_reader(self, name):\n",
    "        for reader in self.readers:\n",
    "            if reader.name == name:\n",
    "                return reader\n",
    "        return None\n",
    "\n",
    "\n",
    "# Пример использования\n",
    "if __name__ == \"__main__\":\n",
    "    # Создаём библиотеку\n",
    "    library = Library()\n",
    "\n",
    "    # Добавляем книги\n",
    "    book1 = Book(\"1984\", \"George Orwell\")\n",
    "    book2 = Book(\"To Kill a Mockingbird\", \"Harper Lee\")\n",
    "    library.add_book(book1)\n",
    "    library.add_book(book2)\n",
    "\n",
    "    # Добавляем читателей\n",
    "    reader1 = Reader(\"Alice\")\n",
    "    reader2 = Reader(\"Bob\")\n",
    "    library.add_reader(reader1)\n",
    "    library.add_reader(reader2)\n",
    "\n",
    "    # Alice берёт книгу\n",
    "    alice = library.find_reader(\"Alice\")\n",
    "    book = library.find_book(\"1984\")\n",
    "    if alice and book:\n",
    "        alice.borrow_book(book)\n",
    "\n",
    "    # Проверяем доступность книги\n",
    "    print(f\"Доступность книги '1984': {book.is_available}\")  # False\n",
    "\n",
    "    # Alice возвращает книгу\n",
    "    alice.return_book(book)\n",
    "\n",
    "    # Проверяем доступность книги снова\n",
    "    print(f\"Доступность книги '1984': {book.is_available}\")  # True"
   ]
  },
  {
   "cell_type": "markdown",
   "metadata": {},
   "source": [
    "Изменение данных в дочернем классе"
   ]
  },
  {
   "cell_type": "code",
   "execution_count": 13,
   "metadata": {},
   "outputs": [
    {
     "name": "stdout",
     "output_type": "stream",
     "text": [
      "Name Tom\n",
      "Компания Academy Top\n"
     ]
    }
   ],
   "source": [
    "class Person: \n",
    "    def __init__(self,name): \n",
    "        self.__name = name \n",
    "\n",
    "    @property \n",
    "    def name(self): \n",
    "        return self.__name \n",
    "    \n",
    "    def display_info(self): \n",
    "        print(f\"Name {self.__name}\") \n",
    "     \n",
    "class Employee(Person): \n",
    "    def __init__(self, name,company): \n",
    "        super().__init__(name) # super() - обращение к конструктору родительского класса\n",
    "        self.company = company \n",
    "    \n",
    "    def display_info(self): \n",
    "        super().display_info() \n",
    "        print(f\"Компания {self.company}\") \n",
    " \n",
    "    \n",
    "    def work(self): \n",
    "        print(f\"{self.name} работает.\") \n",
    " \n",
    "tom = Employee(\"Tom\",\"Academy Top\") \n",
    "tom.display_info()"
   ]
  },
  {
   "cell_type": "markdown",
   "metadata": {},
   "source": [
    "**Занятие 16.12.2024**"
   ]
  },
  {
   "cell_type": "markdown",
   "metadata": {},
   "source": [
    "Атрибуты классов и статические методы"
   ]
  },
  {
   "cell_type": "code",
   "execution_count": 5,
   "metadata": {},
   "outputs": [
    {
     "name": "stdout",
     "output_type": "stream",
     "text": [
      "Person\n",
      "Defualt_age\n",
      "Class person\n"
     ]
    }
   ],
   "source": [
    "class MyClass:\n",
    "    type = \"Person\"\n",
    "    default_age = \"Defualt_age\"\n",
    "\n",
    "print(MyClass.type)\n",
    "print(MyClass.default_age)\n",
    "\n",
    "MyClass.type = 'Class person'\n",
    "print(MyClass.type)"
   ]
  },
  {
   "cell_type": "code",
   "execution_count": 10,
   "metadata": {},
   "outputs": [
    {
     "name": "stdout",
     "output_type": "stream",
     "text": [
      "Person\n",
      "Age\n",
      "Name\n"
     ]
    }
   ],
   "source": [
    "class MyClass:\n",
    "    type = \"Person\"\n",
    "    age = \"Age\"\n",
    "    def __init__(self, name):\n",
    "        self.name = name\n",
    "\n",
    "obj1 = MyClass(\"Name\")\n",
    "\n",
    "print(obj1.type)\n",
    "print(obj1.age)\n",
    "print(obj1.name)"
   ]
  },
  {
   "cell_type": "code",
   "execution_count": 25,
   "metadata": {},
   "outputs": [
    {
     "name": "stdout",
     "output_type": "stream",
     "text": [
      "Name\n",
      "Age\n"
     ]
    }
   ],
   "source": [
    "class MyClass:\n",
    "    default_name = \"Error\"\n",
    "    default_age = \"Error\"\n",
    "\n",
    "    def __init__(self, name, age):\n",
    "        if name:\n",
    "            self.name = name\n",
    "        else:\n",
    "            self.name = MyClass.default_name\n",
    "\n",
    "        if age:\n",
    "            self.age = age\n",
    "        else:\n",
    "            self.age = MyClass.default_age\n",
    "\n",
    "\n",
    "object1 = MyClass(\"Name\", \"Age\")\n",
    "print(object1.name)\n",
    "print(object1.age)"
   ]
  },
  {
   "cell_type": "code",
   "execution_count": 23,
   "metadata": {},
   "outputs": [
    {
     "name": "stdout",
     "output_type": "stream",
     "text": [
      "Name\n",
      "Age\n"
     ]
    }
   ],
   "source": [
    "class MyClass:\n",
    "    default_name = \"Error\"\n",
    "    default_age = \"Error\"\n",
    "\n",
    "    def __init__(self, name, age):\n",
    "        if name and age:\n",
    "            self.name = name\n",
    "            self.age = age\n",
    "        else:\n",
    "            self.name = MyClass.default_name\n",
    "            self.age = MyClass.default_age\n",
    "\n",
    "object1 = MyClass(\"Name\", \"Age\")\n",
    "print(object1.name)\n",
    "print(object1.age)"
   ]
  },
  {
   "cell_type": "markdown",
   "metadata": {},
   "source": [
    "Cтатические методы"
   ]
  },
  {
   "cell_type": "code",
   "execution_count": 26,
   "metadata": {},
   "outputs": [
    {
     "name": "stdout",
     "output_type": "stream",
     "text": [
      "Person\n",
      "Person\n"
     ]
    }
   ],
   "source": [
    "class Person:\n",
    "    __type = \"Person\"\n",
    " \n",
    "    @staticmethod\n",
    "    def print_type():\n",
    "        print(Person.__type)\n",
    " \n",
    " \n",
    "Person.print_type()     # Person - обращение к статическому методу через имя класса\n",
    " \n",
    "tom = Person()\n",
    "tom.print_type()     # Person - обращение к статическому методу через имя объекта"
   ]
  },
  {
   "cell_type": "markdown",
   "metadata": {},
   "source": [
    "Класс object"
   ]
  },
  {
   "cell_type": "code",
   "execution_count": 32,
   "metadata": {},
   "outputs": [
    {
     "name": "stdout",
     "output_type": "stream",
     "text": [
      "Меня зовут Ирина\n"
     ]
    }
   ],
   "source": [
    "class MyClass:\n",
    "    def __init__(self, name):\n",
    "        self.name = name\n",
    "\n",
    "    def __str__(self):\n",
    "        return f\"Меня зовут {self.name}\"\n",
    "        \n",
    "irina = MyClass(\"Ирина\")\n",
    "print(irina)"
   ]
  },
  {
   "cell_type": "markdown",
   "metadata": {},
   "source": [
    "Перегрузка операторов"
   ]
  },
  {
   "cell_type": "code",
   "execution_count": 33,
   "metadata": {},
   "outputs": [
    {
     "name": "stdout",
     "output_type": "stream",
     "text": [
      "20\n"
     ]
    }
   ],
   "source": [
    "class Counter:\n",
    "    def __init__(self, value):\n",
    "        self.value = value\n",
    "    # переопределение оператора сложения\n",
    "    def __add__(self, other):\n",
    "        return Counter(self.value + other.value)\n",
    "     \n",
    "counter1 = Counter(5)\n",
    "counter2 = Counter(15)\n",
    "counter3 = counter1 + counter2\n",
    "print(counter3.value) # 20"
   ]
  },
  {
   "cell_type": "markdown",
   "metadata": {},
   "source": [
    " Истинность объекта (перегрузка оператора bool)"
   ]
  },
  {
   "cell_type": "code",
   "execution_count": 34,
   "metadata": {},
   "outputs": [
    {
     "name": "stdout",
     "output_type": "stream",
     "text": [
      "Counter = True\n",
      "Counter = False\n"
     ]
    }
   ],
   "source": [
    "class Counter:\n",
    "    def __init__(self, value):\n",
    "        self.value = value\n",
    "    def __bool__(self):\n",
    "        return self.value > 0\n",
    "     \n",
    "def test(counter):\n",
    "    if counter: print(\"Counter = True\")\n",
    "    else: print(\"Counter = False\")\n",
    "     \n",
    "counter1 = Counter(3)\n",
    "test(counter1) # Counter = True\n",
    " \n",
    "counter2 = Counter(-3)\n",
    "test(counter2) # Counter = False"
   ]
  },
  {
   "cell_type": "markdown",
   "metadata": {},
   "source": [
    "Операции обращения по индексу"
   ]
  },
  {
   "cell_type": "code",
   "execution_count": 35,
   "metadata": {},
   "outputs": [
    {
     "name": "stdout",
     "output_type": "stream",
     "text": [
      "Name: Tom\n",
      "Age: 39\n",
      "Id: None\n"
     ]
    }
   ],
   "source": [
    "class Person:\n",
    "    def __init__(self, name, age):\n",
    "        self.__name = name\n",
    "        self.__age = age\n",
    "         \n",
    "    def __getitem__(self, prop):\n",
    "        if prop == \"name\": return self.__name\n",
    "        elif prop == \"age\": return self.__age\n",
    "        return None\n",
    "     \n",
    "tom = Person(\"Tom\", 39)\n",
    " \n",
    "print(\"Name:\", tom[\"name\"]) # Name: Tom\n",
    "print(\"Age:\", tom[\"age\"]) # Age: 39\n",
    "print(\"Id:\", tom[\"id\"]) # Id: None"
   ]
  },
  {
   "cell_type": "code",
   "execution_count": 36,
   "metadata": {},
   "outputs": [
    {
     "name": "stdout",
     "output_type": "stream",
     "text": [
      "Name: Tom\n",
      "Age: 39\n",
      "Id: None\n",
      "Вывожу тестовое значение все работает\n"
     ]
    }
   ],
   "source": [
    "\n",
    "class Person:\n",
    "    def __init__(self, name, age,test):\n",
    "        self.__name = name\n",
    "        self.__age = age\n",
    "        self.__test = test\n",
    "         \n",
    "    def __getitem__(self, prop):\n",
    "        if prop == \"name\": return self.__name\n",
    "        elif prop == \"age\": return self.__age\n",
    "        elif prop == 'test': return self.__test\n",
    "        return None\n",
    "     \n",
    "tom = Person(\"Tom\", 39, \"все\")\n",
    " \n",
    "print(\"Name:\", tom[\"name\"])     # Name: Tom\n",
    "print(\"Age:\", tom[\"age\"])       # Age: 39\n",
    "print(\"Id:\", tom[\"id\"])         # Id: None\n",
    "print(\"Вывожу тестовое значение\",tom [\"test\"],\"работает\")\n",
    "\n",
    "# чтозабред?чозабретто ааа это молодеэный слегн ну хайп хайп старый бог всм звучит хайпово рукалицо"
   ]
  },
  {
   "cell_type": "markdown",
   "metadata": {},
   "source": [
    "Решение задач\n"
   ]
  },
  {
   "cell_type": "markdown",
   "metadata": {},
   "source": [
    "Задание 1: <br>\n",
    "Перегрузка оператора сложения (__add__) <br>\n",
    "Описание: <br>\n",
    "Создайте класс Vector, который будет представлять двумерный вектор. Перегрузите оператор +,\n",
    " чтобы можно было складывать два вектора. Результатом сложения должен быть новый вектор, \n",
    "у которого координаты равны сумме соответствующих координат двух исходных векторов. <br>"
   ]
  },
  {
   "cell_type": "code",
   "execution_count": 8,
   "metadata": {},
   "outputs": [
    {
     "name": "stdout",
     "output_type": "stream",
     "text": [
      "(4, 4)\n"
     ]
    }
   ],
   "source": [
    "class Vector:\n",
    "    def __init__(self, x, y):\n",
    "        self.x = x \n",
    "        self.y = y\n",
    "    \n",
    "    def __add__(self, other):\n",
    "        return Vector(self.x + self.y, self.y + self.x)\n",
    "    \n",
    "    def __repr__(self):\n",
    "        return f\"({self.x}, {self.y})\"\n",
    "    \n",
    "vec1 = Vector(1, 3)\n",
    "vec2 = Vector(4, 5)\n",
    "vec3 = vec1 + vec2\n",
    "print(vec3)\n",
    "        "
   ]
  },
  {
   "cell_type": "markdown",
   "metadata": {},
   "source": [
    "Задание 2: <br>\n",
    "Перегрузка оператора объединения (__concat__) <br>\n",
    "Описание: <br>\n",
    "Создайте класс MyList, который будет представлять список. \n",
    "Перегрузите оператор +, чтобы можно было объединять два объекта MyList. \n",
    "Результатом объединения должен быть новый объект MyList, содержащий элементы обоих списков. <br>"
   ]
  },
  {
   "cell_type": "code",
   "execution_count": 38,
   "metadata": {},
   "outputs": [
    {
     "name": "stdout",
     "output_type": "stream",
     "text": [
      "MyList([43, 321, 15, 53, 54, 123, 7, 23])\n"
     ]
    }
   ],
   "source": [
    "class MyList:\n",
    "    def __init__(self, elements=None):\n",
    "        self.elements = elements or []\n",
    "    \n",
    "    def __add__(self, other):\n",
    "        return MyList(self.elements + other.elements)\n",
    "\n",
    "    def __repr__(self):\n",
    "        return f\"MyList({self.elements})\"\n",
    "\n",
    "list1 = MyList([43, 321, 15, 53])\n",
    "list2 = MyList([54, 123, 7, 23])\n",
    "\n",
    "list3 = list1 + list2\n",
    "print(list3)"
   ]
  },
  {
   "cell_type": "markdown",
   "metadata": {},
   "source": [
    "Задание 3: <br>\n",
    "Реализуйте метод __add__ в классе MyList. <br>\n",
    "Добавьте метод __repr__, чтобы объекты класса MyList можно было легко выводить на экран. <br>"
   ]
  },
  {
   "cell_type": "code",
   "execution_count": 34,
   "metadata": {},
   "outputs": [
    {
     "name": "stdout",
     "output_type": "stream",
     "text": [
      "[43, 321, 15, 53, 54, 123, 7, 23]\n"
     ]
    }
   ],
   "source": [
    "class MyList:\n",
    "    def __init__(self, items):\n",
    "        self.items = items\n",
    "\n",
    "\n",
    "    def __add__(self, other):\n",
    "        return MyList(self.items + other.items)\n",
    "\n",
    "    def __repr__(self):\n",
    "        return str(self.items)\n",
    "    \n",
    "list1 = MyList([43, 321, 15, 53])\n",
    "list2 = MyList([54, 123, 7, 23])\n",
    "\n",
    "list3 = list1 + list2\n",
    "print(list3)"
   ]
  },
  {
   "cell_type": "markdown",
   "metadata": {},
   "source": [
    "Задание 4: <br>\n",
    "Перегрузка оператора деления (__truediv__) <br>\n",
    "Описание: <br>\n",
    "Создайте класс Fraction, который будет представлять дробь. Перегрузите оператор /, чтобы можно было делить две дроби. Результатом деления должна быть новая дробь."
   ]
  },
  {
   "cell_type": "code",
   "execution_count": 41,
   "metadata": {},
   "outputs": [
    {
     "name": "stdout",
     "output_type": "stream",
     "text": [
      "2.0596026490066226\n"
     ]
    }
   ],
   "source": [
    "class Fraction:\n",
    "    def __init__(self, drob):\n",
    "        self.drob = drob\n",
    "    \n",
    "    def __truediv__(self, other):\n",
    "        return Fraction(self.drob / other.drob)\n",
    "    \n",
    "    def __repr__(self):\n",
    "        return f'{self.drob}'\n",
    "    \n",
    "drob1 = Fraction(3.11)\n",
    "drob2 = Fraction(1.51)\n",
    "\n",
    "drob3 = drob1 / drob2\n",
    "print(drob3)"
   ]
  },
  {
   "cell_type": "markdown",
   "metadata": {},
   "source": [
    "Абстрактные классы и методы\n",
    "\n",
    "        import abc\n",
    "\n",
    "Абстрактные классы также могут определять конструктор, атрибуты, неабстрактные методы, которые также могут применяться в классах-наследниках"
   ]
  },
  {
   "cell_type": "code",
   "execution_count": 57,
   "metadata": {},
   "outputs": [
    {
     "name": "stdout",
     "output_type": "stream",
     "text": [
      "Rectangle area: 1500\n"
     ]
    }
   ],
   "source": [
    "import abc\n",
    "\n",
    "class Shape(abc.ABC): # Определение абстрактного класса\n",
    "    @abc.abstractmethod # Вызов абстрактного метода\n",
    "    def area(self): pass # Площадь фигуры\n",
    "\n",
    "class Rectangle(Shape): # Прямоугольник\n",
    "    def __init__(self, w, h):\n",
    "        self.w = w\n",
    "        self.h = h\n",
    "    def area (self):return self.w * self.h\n",
    "     \n",
    "rect = Rectangle(30, 50)\n",
    "print(\"Rectangle area:\", rect.area()) "
   ]
  },
  {
   "cell_type": "code",
   "execution_count": 60,
   "metadata": {},
   "outputs": [
    {
     "name": "stdout",
     "output_type": "stream",
     "text": [
      "Area: 2826.0\n"
     ]
    }
   ],
   "source": [
    "class Circle(Shape):\n",
    "    def __init__(self, radius):\n",
    "        self.radius = radius\n",
    "    def area (self): return self.radius * self.radius * 3.14 \n",
    " \n",
    "def print_area(shape):\n",
    "    print(\"Area:\", shape.area())\n",
    "\n",
    "circle = Circle(30)\n",
    "print_area(circle)"
   ]
  },
  {
   "cell_type": "markdown",
   "metadata": {},
   "source": [
    "Решение задач"
   ]
  },
  {
   "cell_type": "markdown",
   "metadata": {},
   "source": [
    "Задача 1: Абстрактный класс \"Фигура\"\n",
    "Создайте абстрактный класс Shape (Фигура) с двумя абстрактными методами:\n",
    "\n",
    "area() — для вычисления площади фигуры.\n",
    "\n",
    "perimeter() — для вычисления периметра фигуры.\n",
    "\n",
    "Реализуйте два класса, наследующих от Shape:\n",
    "\n",
    "Rectangle (Прямоугольник) с атрибутами width и height.\n",
    "\n",
    "Circle (Круг) с атрибутом radius."
   ]
  },
  {
   "cell_type": "code",
   "execution_count": 68,
   "metadata": {},
   "outputs": [
    {
     "name": "stdout",
     "output_type": "stream",
     "text": [
      "Area: 1500\n",
      "Area: 706.5\n",
      "Perimeter: 160\n",
      "Perimeter: 94.2\n"
     ]
    }
   ],
   "source": [
    "import abc\n",
    "\n",
    "class Shape(abc.ABC):\n",
    "    @abc.abstractmethod\n",
    "    def area(self): pass\n",
    "    def perimeter(self): pass\n",
    "\n",
    "class Rectangle(Shape):\n",
    "    def __init__(self, w, h):\n",
    "        self.w = w\n",
    "        self.h = h\n",
    "    def area (self):return self.w * self.h\n",
    "    def perimeter (self):return 2 * (self.w + self.h)\n",
    "    \n",
    "class Circle(Shape):\n",
    "    def __init__(self, r):\n",
    "        self.r = r\n",
    "    def area (self): return self.r * self.r * 3.14 \n",
    "    def perimeter(self): return 2 * self.r * 3.14 \n",
    "\n",
    "\n",
    "def print_area(shape):\n",
    "    print(\"Area:\", shape.area())\n",
    "def print_perimeter(shape):\n",
    "    print(\"Perimeter:\", shape.perimeter())\n",
    "    \n",
    "rectangle = Rectangle(30, 50)\n",
    "circle = Circle(15)\n",
    "\n",
    "\n",
    "print_area(rectangle)\n",
    "print_area(circle)\n",
    "\n",
    "print_perimeter(rectangle)\n",
    "print_perimeter(circle)"
   ]
  },
  {
   "cell_type": "markdown",
   "metadata": {},
   "source": [
    "Задача 2: Абстрактный класс \"Животное\"\n",
    "Создайте абстрактный класс Animal с двумя абстрактными методами:\n",
    "\n",
    "speak() — для воспроизведения звука, который издает животное.\n",
    "\n",
    "move() — для описания способа передвижения животного.\n",
    "\n",
    "Реализуйте два класса, наследующих от Animal:\n",
    "\n",
    "Dog (Собака).\n",
    "\n",
    "Bird (Птица).\n"
   ]
  },
  {
   "cell_type": "code",
   "execution_count": 76,
   "metadata": {},
   "outputs": [
    {
     "name": "stdout",
     "output_type": "stream",
     "text": [
      "walk\n",
      "bark bark bark\n",
      "fly\n",
      "Chick chi-rick\n"
     ]
    }
   ],
   "source": [
    "import abc\n",
    "class Animal:\n",
    "    @abc.abstractmethod\n",
    "    def speak(self): pass\n",
    "    def move(self): pass\n",
    "\n",
    "class Dog(Animal):\n",
    "    def speak(self):\n",
    "        return 'bark bark bark'\n",
    "    def move(self):\n",
    "        return 'walk'\n",
    "\n",
    "class Bird(Animal):\n",
    "    def speak(self):\n",
    "        return 'Chick chi-rick'\n",
    "    def move(self):\n",
    "        return 'fly'\n",
    "    \n",
    "собака = Dog()\n",
    "print(собака.move())\n",
    "print(собака.speak())\n",
    "\n",
    "птица = Bird()\n",
    "print(птица.move())\n",
    "print(птица.speak())"
   ]
  },
  {
   "cell_type": "markdown",
   "metadata": {},
   "source": [
    "**18.12.2024**"
   ]
  },
  {
   "cell_type": "markdown",
   "metadata": {},
   "source": [
    "Лямбда-выражения\n",
    "\n",
    "Пример лямбда-выражения:        \n",
    "\n",
    "        lambda [параметры] : инструкция"
   ]
  },
  {
   "cell_type": "code",
   "execution_count": 3,
   "metadata": {},
   "outputs": [
    {
     "name": "stdout",
     "output_type": "stream",
     "text": [
      "Hello World\n"
     ]
    }
   ],
   "source": [
    "message = lambda : print(\"Hello World\")\n",
    "message()"
   ]
  },
  {
   "cell_type": "markdown",
   "metadata": {},
   "source": [
    "Вызов лямбда-функции с параметром"
   ]
  },
  {
   "cell_type": "code",
   "execution_count": 5,
   "metadata": {},
   "outputs": [
    {
     "data": {
      "text/plain": [
       "9"
      ]
     },
     "execution_count": 5,
     "metadata": {},
     "output_type": "execute_result"
    }
   ],
   "source": [
    "nn = lambda n: n * n\n",
    "nn(3)"
   ]
  },
  {
   "cell_type": "code",
   "execution_count": 7,
   "metadata": {},
   "outputs": [
    {
     "data": {
      "text/plain": [
       "2.5"
      ]
     },
     "execution_count": 7,
     "metadata": {},
     "output_type": "execute_result"
    }
   ],
   "source": [
    "ab = lambda a, b: a / b\n",
    "ab(5, 2)"
   ]
  },
  {
   "cell_type": "markdown",
   "metadata": {},
   "source": [
    "Передача лямбда-выражения в качестве параметра"
   ]
  },
  {
   "cell_type": "code",
   "execution_count": 8,
   "metadata": {},
   "outputs": [
    {
     "name": "stdout",
     "output_type": "stream",
     "text": [
      "result = 9\n",
      "result = 20\n"
     ]
    }
   ],
   "source": [
    "def do_operation(a, b, operation):\n",
    "    result = operation(a, b)\n",
    "    print(f\"result = {result}\")\n",
    " \n",
    "do_operation(5, 4, lambda a, b: a + b)\n",
    "do_operation(5, 4, lambda a, b: a * b)"
   ]
  },
  {
   "cell_type": "markdown",
   "metadata": {},
   "source": [
    "Возвращение лямбда-выражений из функций"
   ]
  },
  {
   "cell_type": "code",
   "execution_count": null,
   "metadata": {},
   "outputs": [],
   "source": [
    "def select_operation(choice):\n",
    "    if choice == 1:\n",
    "        return lambda a, b: a + b\n",
    "    elif choice == 2:\n",
    "        return lambda a, b: a - b\n",
    "    else:\n",
    "        return lambda a, b: a * b\n",
    " \n",
    " \n",
    "operation = select_operation(1)  # operation = sum\n",
    "print(operation(10, 6))  # 16\n",
    " \n",
    "operation = select_operation(2)  # operation = subtract\n",
    "print(operation(10, 6))  # 4\n",
    " \n",
    "operation = select_operation(3)  # operation = multiply\n",
    "print(operation(10, 6))  # 60"
   ]
  },
  {
   "cell_type": "markdown",
   "metadata": {},
   "source": [
    "Замыкания"
   ]
  },
  {
   "cell_type": "markdown",
   "metadata": {},
   "source": [
    "Замыкание позволяет функции (в данном случае inner()) иметь доступ к переменным из своей внешней функции (outer()) даже после того, как внешняя функция уже завершила выполнение"
   ]
  },
  {
   "cell_type": "code",
   "execution_count": 13,
   "metadata": {},
   "outputs": [
    {
     "name": "stdout",
     "output_type": "stream",
     "text": [
      "6\n",
      "7\n",
      "8\n"
     ]
    }
   ],
   "source": [
    "def outher(): # внешняя функция\n",
    "    n = 5 # лексическое окружение\n",
    "\n",
    "    def inner(): # локальная функция\n",
    "        nonlocal n\n",
    "        n += 1 # операции с лексическим окружением\n",
    "        print(n)\n",
    "    return inner\n",
    "\n",
    "fn = outher()\n",
    "fn()\n",
    "fn()\n",
    "fn()"
   ]
  },
  {
   "cell_type": "code",
   "execution_count": 19,
   "metadata": {},
   "outputs": [
    {
     "name": "stdout",
     "output_type": "stream",
     "text": [
      "11\n"
     ]
    }
   ],
   "source": [
    "def test(a):\n",
    "    name = 10\n",
    "    return print(name + a)\n",
    "\n",
    "test(1)"
   ]
  },
  {
   "cell_type": "markdown",
   "metadata": {},
   "source": [
    "Декораторы"
   ]
  },
  {
   "cell_type": "markdown",
   "metadata": {},
   "source": [
    "Декораторы в Python представляют функцию, которая в качестве параметра получает функцию и в качестве результата также возвращает функцию. Декораторы позволяют модифицировать выполняемую функцию, значения ее параметров и ее результат без изменения исходного кода этой функции."
   ]
  },
  {
   "cell_type": "code",
   "execution_count": 25,
   "metadata": {},
   "outputs": [
    {
     "name": "stdout",
     "output_type": "stream",
     "text": [
      "************\n",
      "Hello World!\n",
      "************\n"
     ]
    }
   ],
   "source": [
    "def select(input_func):    \n",
    "    def output_func():      # определяем функцию, которая будет выполняться вместо оригинальной\n",
    "        print(\"************\")  # перед выводом оригинальной функции выводим всякую звездочки\n",
    "        input_func()                # вызов оригинальной функции\n",
    "        print(\"************\")  # после вывода оригинальной функции выводим всякую звездочки\n",
    "    return output_func     # возвращаем новую функцию\n",
    " \n",
    "# определение оригинальной функции\n",
    "@select         # применение декоратора select\n",
    "def hello():\n",
    "    print(\"Hello World!\")\n",
    " \n",
    "# вызов оригинальной функции\n",
    "hello()"
   ]
  },
  {
   "cell_type": "code",
   "execution_count": 33,
   "metadata": {},
   "outputs": [
    {
     "name": "stdout",
     "output_type": "stream",
     "text": [
      "start decorator...\n",
      "Hello World!\n",
      "start decorator...\n"
     ]
    }
   ],
   "source": [
    "# decorator \n",
    "def decorator(func):\n",
    "\n",
    "    def inner():\n",
    "        print('start decorator...')\n",
    "        func()\n",
    "        print('start decorator...')\n",
    "\n",
    "    return inner\n",
    "\n",
    "def say():\n",
    "    print(\"Hello World!\")\n",
    "\n",
    "de = decorator(say) \n",
    "de()"
   ]
  },
  {
   "cell_type": "code",
   "execution_count": null,
   "metadata": {},
   "outputs": [],
   "source": [
    "# decorator \n",
    "def decorator(func):\n",
    "\n",
    "    def inner(*args, **kwargs):\n",
    "        print('<h1>')\n",
    "        func(*args, **kwargs)\n",
    "        print('</h1>')\n",
    "\n",
    "    return inner\n",
    "\n",
    "def say(name, surname, age):\n",
    "    print(\"Hello!\", name, surname, age)\n",
    "\n",
    "de = decorator(say) \n",
    "de()"
   ]
  },
  {
   "cell_type": "markdown",
   "metadata": {},
   "source": [
    "Задача 1: Базовые операции со списком\n",
    "Создайте пустой список my_list.\n",
    "Добавьте в конец списка элементы: 10, 20, 30.\n",
    "\n",
    "Вставьте элемент 15 на позицию с индексом 1.\n",
    "\n",
    "Добавьте в конец списка ещё один список: [40, 50].\n",
    "\n",
    "Удалите первое вхождение элемента 20.\n",
    "\n",
    "Выведите список на экран."
   ]
  },
  {
   "cell_type": "code",
   "execution_count": 9,
   "metadata": {},
   "outputs": [
    {
     "data": {
      "text/plain": [
       "[10, 15, 30]"
      ]
     },
     "execution_count": 9,
     "metadata": {},
     "output_type": "execute_result"
    }
   ],
   "source": [
    "my_list = []\n",
    "\n",
    "my_list.extend([10, 20, 30])\n",
    "\n",
    "my_list.insert(1, 15)\n",
    "\n",
    "# my_list.append([40, 50])\n",
    "\n",
    "if 20 in my_list:\n",
    "    my_list.remove(20)\n",
    "\n",
    "my_list"
   ]
  },
  {
   "cell_type": "markdown",
   "metadata": {},
   "source": [
    "Задача 2: Поиск и сортировка\n",
    "Найдите индекс элемента 30.\n",
    "\n",
    "Подсчитайте, сколько раз элемент 15 встречается в списке.\n",
    "\n",
    "Отсортируйте список по возрастанию.\n",
    "\n",
    "Отсортируйте список по убыванию.\n",
    "\n",
    "Выведите отсортированные списки на экран."
   ]
  },
  {
   "cell_type": "code",
   "execution_count": 10,
   "metadata": {},
   "outputs": [
    {
     "name": "stdout",
     "output_type": "stream",
     "text": [
      "1\n",
      "[10, 15, 30]\n",
      "[30, 15, 10]\n"
     ]
    }
   ],
   "source": [
    "count = 0\n",
    "\n",
    "if 15 in my_list:\n",
    "    count += 1\n",
    "\n",
    "print(count)\n",
    "\n",
    "my_list.sort()\n",
    "print(my_list)\n",
    "\n",
    "my_list.sort()\n",
    "my_list.reverse()\n",
    "print(my_list)\n",
    "\n"
   ]
  },
  {
   "cell_type": "markdown",
   "metadata": {},
   "source": [
    "Задача 3: Работа с элементами\n",
    "Удалите последний элемент списка и выведите его на экран.\n",
    "\n",
    "Удалите элемент с индексом 2 и выведите его на экран.\n",
    "\n",
    "Выведите длину текущего списка.\n",
    "\n",
    "Найдите минимальный и максимальный элементы списка."
   ]
  },
  {
   "cell_type": "code",
   "execution_count": 11,
   "metadata": {},
   "outputs": [
    {
     "name": "stdout",
     "output_type": "stream",
     "text": [
      "3\n",
      "10\n",
      "max = 30\n",
      "min = 15\n"
     ]
    }
   ],
   "source": [
    "print(len(my_list))\n",
    "\n",
    "last = my_list.pop(2)\n",
    "print(last)\n",
    "\n",
    "print(f'max = {max(my_list)}')\n",
    "print(f'min = {min(my_list)}')\n"
   ]
  },
  {
   "cell_type": "markdown",
   "metadata": {},
   "source": [
    "Задача 4: Копирование и очистка\n",
    "Создайте копию списка my_list и назовите её my_list_copy.\n",
    "\n",
    "Очистите исходный список my_list.\n",
    "\n",
    "Выведите оба списка на экран.\n"
   ]
  },
  {
   "cell_type": "code",
   "execution_count": 12,
   "metadata": {},
   "outputs": [
    {
     "name": "stdout",
     "output_type": "stream",
     "text": [
      "[]\n"
     ]
    }
   ],
   "source": [
    "my_list_copy = my_list.copy()\n",
    "my_list.clear()\n",
    "print(my_list)"
   ]
  },
  {
   "cell_type": "markdown",
   "metadata": {},
   "source": [
    "Задача 5: Реверс и сортировка с ключом\n",
    "Переверните список my_list_copy.\n",
    "\n",
    "Отсортируйте список my_list_copy по убыванию с использованием функции sorted().\n",
    "\n",
    "Выведите отсортированный список на экран."
   ]
  },
  {
   "cell_type": "code",
   "execution_count": 20,
   "metadata": {},
   "outputs": [
    {
     "name": "stdout",
     "output_type": "stream",
     "text": [
      "[30, 15]\n"
     ]
    }
   ],
   "source": [
    "sorted(my_list_copy)\n",
    "print(my_list_copy)"
   ]
  },
  {
   "cell_type": "markdown",
   "metadata": {},
   "source": [
    "**13.01.2025 lesson**"
   ]
  },
  {
   "cell_type": "code",
   "execution_count": 100,
   "metadata": {},
   "outputs": [
    {
     "data": {
      "text/plain": [
       "['название: The great Gatsby, автор: F.Scott Fitzgerald, год выпуска: 1925, 180',\n",
       " 'название: 1984, автор: George Orwell, год выпуска: 1949, EPUB']"
      ]
     },
     "execution_count": 100,
     "metadata": {},
     "output_type": "execute_result"
    }
   ],
   "source": [
    "class Book: \n",
    "\n",
    "    def __init__(self, name, author, year): \n",
    "        self.name = name \n",
    "        self.author = author \n",
    "        self.year = year \n",
    " \n",
    "    def get_details(self): \n",
    "        return f'название: {self.name}, автор: {self.author}, год выпуска: {self.year}'\n",
    " \n",
    "class PrintedBook(Book): \n",
    "\n",
    "    def __init__(self, name, author, year, page): \n",
    "        super().__init__(name, author, year) \n",
    "        self.page = page \n",
    "\n",
    "    def get_details(self): \n",
    "        return f'{super().get_details()}, {self.page}'\n",
    " \n",
    "class EBook(Book): \n",
    "\n",
    "    def __init__(self, name, author, year, format): \n",
    "        super().__init__(name, author, year) \n",
    "        self.format = format \n",
    " \n",
    "    def get_details(self): \n",
    "        return f'{super().get_details()}, {self.format}'\n",
    " \n",
    "class Library: \n",
    "    def __init__(self):\n",
    "        self.lst_book = []\n",
    "         \n",
    "    def add_book(self, name):  \n",
    "        if isinstance(name, Book):\n",
    "            self.lst_book.append(name.get_details()) \n",
    "            return self.lst_book\n",
    "        else:\n",
    "            return 'Err'\n",
    "    def list_books(self):\n",
    "        return self.lst_book\n",
    "     \n",
    "library = Library() \n",
    " \n",
    "book1 = PrintedBook(\"The great Gatsby\", \"F.Scott Fitzgerald\", 1925, 180) \n",
    "book2 = EBook(\"1984\", \"George Orwell\", 1949, \"EPUB\")\n",
    "\n",
    "# print(book1.get_details())\n",
    "# print(book2.get_details())\n",
    "\n",
    "library.add_book(book1)\n",
    "library.add_book(book2)\n",
    "\n",
    "library.list_books()\n",
    "\n"
   ]
  },
  {
   "cell_type": "code",
   "execution_count": null,
   "metadata": {},
   "outputs": [],
   "source": []
  }
 ],
 "metadata": {
  "kernelspec": {
   "display_name": "Python 3",
   "language": "python",
   "name": "python3"
  },
  "language_info": {
   "codemirror_mode": {
    "name": "ipython",
    "version": 3
   },
   "file_extension": ".py",
   "mimetype": "text/x-python",
   "name": "python",
   "nbconvert_exporter": "python",
   "pygments_lexer": "ipython3",
   "version": "3.13.0"
  }
 },
 "nbformat": 4,
 "nbformat_minor": 2
}
