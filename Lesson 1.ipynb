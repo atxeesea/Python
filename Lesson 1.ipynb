{
 "cells": [
  {
   "cell_type": "code",
   "execution_count": 21,
   "metadata": {},
   "outputs": [
    {
     "name": "stdout",
     "output_type": "stream",
     "text": [
      "Hello world!\n"
     ]
    }
   ],
   "source": [
    "print('Hello world!')"
   ]
  },
  {
   "cell_type": "markdown",
   "metadata": {},
   "source": [
    "Python - интерпретируемый язык программирования. Построчно принимает команды и сразу выполняет их. \n",
    "Преимущества: легко заметить ошибки. Недостатки: медленные.\n",
    "Типы интерпретаторов:\n",
    "* простой (JS)\n",
    "* компилирующий (Python)\n",
    "\n",
    "Python - язык программирования со строгая динамическая типизация. \n",
    "Строгая: Язык не производит неявные преобразования типов. Динамическая: типы объектов определяются в процессе исполнения программы.\n",
    "\n",
    "Типы данных:\n",
    "- Изменяемые\n",
    "- Неизменяемые. Python не перезаписывает объект, а создает новый объект с таким же именем."
   ]
  },
  {
   "cell_type": "code",
   "execution_count": 22,
   "metadata": {},
   "outputs": [
    {
     "name": "stdout",
     "output_type": "stream",
     "text": [
      "140706437562928\n",
      "140706437563088\n"
     ]
    }
   ],
   "source": [
    "int_obj = 10 # неизменяемый тип данных\n",
    "print(id(int_obj))\n",
    "int_obj += 5\n",
    "print(id(int_obj))"
   ]
  },
  {
   "cell_type": "markdown",
   "metadata": {},
   "source": [
    "Типы данных:\n",
    "- Числа (целые *int*, с плавающей точкой *float*, комплексные *complex*)\n",
    "- Строки - последовательности символов\n",
    "- Списки - упорядоченная [коллекция объектов]\n",
    "- Кортежи - (неизменяемые списки)\n",
    "- Словарь - неупорядоченная {коллекция пар \"ключ - значение\"}.\n",
    "- Файлы\n",
    "- Булев "
   ]
  },
  {
   "cell_type": "code",
   "execution_count": 23,
   "metadata": {},
   "outputs": [
    {
     "name": "stdout",
     "output_type": "stream",
     "text": [
      "<class 'str'>\n",
      "True\n"
     ]
    }
   ],
   "source": [
    "data = input('Insert your data')\n",
    "print(type(data))\n",
    "print(data.isdigit())# проверить, является ли числом"
   ]
  },
  {
   "cell_type": "markdown",
   "metadata": {},
   "source": [
    "**18.09 лекция**"
   ]
  },
  {
   "cell_type": "markdown",
   "metadata": {},
   "source": [
    "Оператор - символ языка программирования, который оперирует значениями. Строки можно умножать и складывать, а с числами делать любые вычисления."
   ]
  },
  {
   "cell_type": "code",
   "execution_count": 24,
   "metadata": {},
   "outputs": [
    {
     "name": "stdout",
     "output_type": "stream",
     "text": [
      "AcademyAcademyAcademyAcademy\n"
     ]
    }
   ],
   "source": [
    "a = 'Acad'\n",
    "b = 'emy'\n",
    "c = 4 \n",
    "\n",
    "print((a+b)*c) # умножение и сложениестрок"
   ]
  },
  {
   "cell_type": "code",
   "execution_count": 25,
   "metadata": {},
   "outputs": [
    {
     "name": "stdout",
     "output_type": "stream",
     "text": [
      "[312, 9, 8, 6, 5, 1]\n"
     ]
    }
   ],
   "source": [
    "list = [1, 5, 8, 9, 6, 312]\n",
    "\n",
    "list.sort(reverse=True) # sort от большего к меньшему\n",
    "\n",
    "print(list)"
   ]
  },
  {
   "cell_type": "code",
   "execution_count": 26,
   "metadata": {},
   "outputs": [
    {
     "name": "stdout",
     "output_type": "stream",
     "text": [
      "3\n",
      "1\n",
      "1000\n"
     ]
    },
    {
     "data": {
      "text/plain": [
       "'\\n\\nЕще один \\nспособ записи\\nкомментариев\\n\\n'"
      ]
     },
     "execution_count": 26,
     "metadata": {},
     "output_type": "execute_result"
    }
   ],
   "source": [
    "a = 10\n",
    "b = 5\n",
    "c = 3\n",
    "\n",
    "print(a // c) # целое число\n",
    "print( a % c) # остаток от деления\n",
    "print(a ** c) # возведение в степень\n",
    "\n",
    "'''\n",
    "\n",
    "Еще один \n",
    "способ записи\n",
    "комментариев\n",
    "\n",
    "'''"
   ]
  },
  {
   "cell_type": "code",
   "execution_count": 27,
   "metadata": {},
   "outputs": [
    {
     "name": "stdout",
     "output_type": "stream",
     "text": [
      "Прибавили 2 к вашему числу:  4\n",
      "Прибавили 2 к вашему числу: 4\n"
     ]
    }
   ],
   "source": [
    "var = input('Введите число: ')\n",
    "var = int(var) + 1\n",
    "var += 1\n",
    "print('Прибавили 2 к вашему числу: ', var)\n",
    "print(f'Прибавили 2 к вашему числу: {var}')# f-строки"
   ]
  },
  {
   "cell_type": "code",
   "execution_count": 28,
   "metadata": {},
   "outputs": [
    {
     "ename": "IndexError",
     "evalue": "string index out of range",
     "output_type": "error",
     "traceback": [
      "\u001b[1;31m---------------------------------------------------------------------------\u001b[0m",
      "\u001b[1;31mIndexError\u001b[0m                                Traceback (most recent call last)",
      "\u001b[1;32m~\\AppData\\Local\\Temp\\ipykernel_9564\\661253126.py\u001b[0m in \u001b[0;36m<module>\u001b[1;34m\u001b[0m\n\u001b[0;32m      4\u001b[0m \u001b[1;33m\u001b[0m\u001b[0m\n\u001b[0;32m      5\u001b[0m \u001b[0mfirst\u001b[0m \u001b[1;33m=\u001b[0m \u001b[0mint\u001b[0m\u001b[1;33m(\u001b[0m\u001b[0mnum\u001b[0m\u001b[1;33m[\u001b[0m\u001b[1;36m0\u001b[0m\u001b[1;33m]\u001b[0m\u001b[1;33m)\u001b[0m\u001b[1;33m\u001b[0m\u001b[1;33m\u001b[0m\u001b[0m\n\u001b[1;32m----> 6\u001b[1;33m \u001b[0msecond\u001b[0m \u001b[1;33m=\u001b[0m \u001b[0mint\u001b[0m\u001b[1;33m(\u001b[0m\u001b[0mnum\u001b[0m\u001b[1;33m[\u001b[0m\u001b[1;36m1\u001b[0m\u001b[1;33m]\u001b[0m\u001b[1;33m)\u001b[0m\u001b[1;33m\u001b[0m\u001b[1;33m\u001b[0m\u001b[0m\n\u001b[0m\u001b[0;32m      7\u001b[0m \u001b[0mthird\u001b[0m \u001b[1;33m=\u001b[0m \u001b[0mint\u001b[0m\u001b[1;33m(\u001b[0m\u001b[0mnum\u001b[0m\u001b[1;33m[\u001b[0m\u001b[1;36m2\u001b[0m\u001b[1;33m]\u001b[0m\u001b[1;33m)\u001b[0m\u001b[1;33m\u001b[0m\u001b[1;33m\u001b[0m\u001b[0m\n\u001b[0;32m      8\u001b[0m \u001b[0mfourth\u001b[0m \u001b[1;33m=\u001b[0m \u001b[0mint\u001b[0m\u001b[1;33m(\u001b[0m\u001b[0mnum\u001b[0m\u001b[1;33m[\u001b[0m\u001b[1;36m3\u001b[0m\u001b[1;33m]\u001b[0m\u001b[1;33m)\u001b[0m\u001b[1;33m\u001b[0m\u001b[1;33m\u001b[0m\u001b[0m\n",
      "\u001b[1;31mIndexError\u001b[0m: string index out of range"
     ]
    }
   ],
   "source": [
    "# Task 1\n",
    "\n",
    "num = input('введите 6-ти значное число')\n",
    "\n",
    "first = int(num[0])\n",
    "second = int(num[1])\n",
    "third = int(num[2])\n",
    "fourth = int(num[3])\n",
    "fifth = int(num[4])\n",
    "sixth = int(num[5])\n",
    "\n",
    "first_three_sum = first + second + third\n",
    "second_three_sum = fourth + fifth + sixth\n",
    "\n",
    "if first_three_sum == second_three_sum:\n",
    "    print('Ваше число счастливое')\n",
    "elif first_three_sum > second_three_sum:\n",
    "    print('Первое число больше')\n",
    "elif first_three_sum < second_three_sum: \n",
    "    print('Второе число больше')\n",
    "else:\n",
    "    print('Ваши числа невозможно сравнить')\n"
   ]
  },
  {
   "cell_type": "code",
   "execution_count": 39,
   "metadata": {},
   "outputs": [
    {
     "name": "stdout",
     "output_type": "stream",
     "text": [
      "Ваше число 723895 превратилось в число: 593827\n"
     ]
    }
   ],
   "source": [
    "#Task 2\n",
    "num = input('Введите 6-ти значное число: ')\n",
    "\n",
    "first = num[0]\n",
    "second = num[1]\n",
    "third = num[2]\n",
    "fourth = num[3]\n",
    "fifth = num[4]\n",
    "sixth = num[5]\n",
    "\n",
    "num_change = sixth + fifth + third + fourth + second + first\n",
    "print(f'Ваше число {num} превратилось в число: {num_change}')\n",
    "\n"
   ]
  },
  {
   "cell_type": "code",
   "execution_count": 41,
   "metadata": {},
   "outputs": [
    {
     "name": "stdout",
     "output_type": "stream",
     "text": [
      "1\n",
      "1\n",
      "0\n",
      "0.0\n",
      "False\n",
      "True\n",
      "True\n",
      "False\n"
     ]
    }
   ],
   "source": [
    "a = True\n",
    "b = False\n",
    "print(a + b)\n",
    "print(a - b)\n",
    "print(a * b)\n",
    "print(b / a) # / на 0 нельзя, а 0 на 1 можно.\n",
    "print(a < b)\n",
    "print(a > b)\n",
    "print(a | b) # Дизъюнкция (Оператор ИЛИ); T | T = T, T | F = T, F | F = F. Вместо | можно писать or.\n",
    "print(a & b) # Конъюнкция (Оператор И); T & T = T, T & F = F, F | F = F. Вместо & можно писать and."
   ]
  },
  {
   "cell_type": "code",
   "execution_count": 50,
   "metadata": {},
   "outputs": [
    {
     "name": "stdout",
     "output_type": "stream",
     "text": [
      "Year 2000 is leap\n"
     ]
    }
   ],
   "source": [
    "year = 2000\n",
    "if year % 4 == 0 \\\n",
    "    and year % 100 != 0 \\\n",
    "    or year % 400 == 0: # '\\' знак переноса строки\n",
    "    print('Year', year, 'is leap')"
   ]
  },
  {
   "cell_type": "code",
   "execution_count": 57,
   "metadata": {},
   "outputs": [
    {
     "name": "stdout",
     "output_type": "stream",
     "text": [
      "Even number\n"
     ]
    }
   ],
   "source": [
    "num = input('введите ваше число')\n",
    "num = int(num)\n",
    "if num % 2 == 0:\n",
    "    print('Even number')\n",
    "else: \n",
    "    print('Odd number')"
   ]
  },
  {
   "cell_type": "code",
   "execution_count": 61,
   "metadata": {},
   "outputs": [
    {
     "name": "stdout",
     "output_type": "stream",
     "text": [
      "Number is not multiply 7\n"
     ]
    }
   ],
   "source": [
    "num = input('введите ваше число')\n",
    "num = int(num)\n",
    "if num % 7 == 0:\n",
    "    print('Number is multiple 7')\n",
    "else: \n",
    "    print('Number is not multiple 7')"
   ]
  },
  {
   "cell_type": "code",
   "execution_count": 69,
   "metadata": {},
   "outputs": [
    {
     "name": "stdout",
     "output_type": "stream",
     "text": [
      "Числа равны друг другу\n"
     ]
    }
   ],
   "source": [
    "num_1 = input('введите ваше число')\n",
    "num_1 = int(num)\n",
    "num_2 = input('введите ваше число')\n",
    "num_2 = int(num)\n",
    "if num_1 > num_2:\n",
    "    print(f'Число {num_1} больше числа {num_2}')\n",
    "elif num_1 < num_2:\n",
    "    print(f'Число {num_1} менеьше числа {num_2}')\n",
    "else:\n",
    "    print(\"Числа равны друг другу\")"
   ]
  },
  {
   "cell_type": "markdown",
   "metadata": {},
   "source": [
    "**23.09 лекция**"
   ]
  },
  {
   "cell_type": "markdown",
   "metadata": {},
   "source": [
    "Исключения"
   ]
  },
  {
   "cell_type": "markdown",
   "metadata": {},
   "source": [
    "**Типы исключений:**\n",
    "- BaseException - базовый тип из которого поисходят все остальные\n",
    "- Exception - стандартные и пользовательские ошибки\n",
    "---\n",
    "- ArithmeticError - арифметическая ошибка\n",
    "- OverFlowError - возникает когда результат ариф операции сликшом велик для представления\n",
    "- ZeroDivisionError - деление на ноль \n",
    "---\n",
    "- MemoryError - переполнение памяти\n",
    "---\n",
    "- ImportError - импортировать модуль или атрибут не удалось\n",
    "---\n",
    "- LookupError - некорректный индекс или ключ\n",
    "- IndexError -  индекс не входит в диапазон элементов\n",
    "- KeyError - несуществующий ключ\n",
    "---\n",
    "- NameError - не найдено имя переменной \n",
    "---\n",
    "- RuntimeError - появяется, когда не подходит под другие категориии\n",
    "---\n",
    "- SyntaxError - синтаксическая ошибка\n",
    "- IndentationError - неправильные отступы\n",
    "- TabError - смешивание в отступах табуляции и пробелов\n",
    "---\n",
    "- TypeError - операция применена к объекту несоот. типа (str*num)\n",
    "- ValueError - получает аргумент правильного типа, но некорректного значения\n"
   ]
  },
  {
   "cell_type": "markdown",
   "metadata": {},
   "source": [
    "**Перехват исключений** \n",
    "\"try...except\""
   ]
  },
  {
   "cell_type": "code",
   "execution_count": 8,
   "metadata": {},
   "outputs": [
    {
     "name": "stdout",
     "output_type": "stream",
     "text": [
      "Error\n",
      "Выведится не зависимо от того, какой результат будет\n"
     ]
    }
   ],
   "source": [
    "try:\n",
    "    a*10\n",
    "except:\n",
    "    print('Error')"
   ]
  },
  {
   "cell_type": "code",
   "execution_count": 11,
   "metadata": {},
   "outputs": [
    {
     "name": "stdout",
     "output_type": "stream",
     "text": [
      "Error\n",
      "Выведится не зависимо от того, какой результат будет\n"
     ]
    }
   ],
   "source": [
    "#Блок finally\n",
    "try:\n",
    "    a*10\n",
    "except:\n",
    "    print('Error')\n",
    "finally:\n",
    "    print('Выведится не зависимо от того, какой результат будет')"
   ]
  },
  {
   "cell_type": "code",
   "execution_count": 1,
   "metadata": {},
   "outputs": [
    {
     "name": "stdout",
     "output_type": "stream",
     "text": [
      "u have 3 apples\n"
     ]
    }
   ],
   "source": [
    "#raise Exception (Exception - Исключение)\n",
    "try:\n",
    "    apples = int(input('entes the amount of apple u have: '))\n",
    "    if apples < 0:\n",
    "        raise Exception\n",
    "    if type(apples) != int:\n",
    "        raise Exception\n",
    "    print('u have', apples, 'apples')\n",
    "except Exception:\n",
    "    print(f\"u can't have {apples} apples\")"
   ]
  },
  {
   "cell_type": "code",
   "execution_count": 5,
   "metadata": {},
   "outputs": [
    {
     "name": "stdout",
     "output_type": "stream",
     "text": [
      "invalid literal for int() with base 10: 'ten'\n"
     ]
    }
   ],
   "source": [
    "try:\n",
    "    x = int(input())\n",
    "except Exception as ex:\n",
    "    print(ex)"
   ]
  },
  {
   "cell_type": "markdown",
   "metadata": {},
   "source": [
    "**Циклы**"
   ]
  },
  {
   "cell_type": "markdown",
   "metadata": {},
   "source": [
    "Итерация - повторение одной и той же последовательности действий с целью достижения результата."
   ]
  },
  {
   "cell_type": "code",
   "execution_count": 9,
   "metadata": {},
   "outputs": [
    {
     "name": "stdout",
     "output_type": "stream",
     "text": [
      "1 is greater than 0 and less than 3\n",
      "2 is greater than 0 and less than 3\n"
     ]
    }
   ],
   "source": [
    "#цикл While\n",
    "number = 1\n",
    "while number < 3:\n",
    "    print(f'{number} is greater than 0 and less than 3')\n",
    "    number += 1"
   ]
  },
  {
   "cell_type": "code",
   "execution_count": 5,
   "metadata": {},
   "outputs": [
    {
     "name": "stdout",
     "output_type": "stream",
     "text": [
      "A\n",
      "n\n",
      "d\n",
      "r\n",
      "e\n",
      "j\n"
     ]
    }
   ],
   "source": [
    "#цикл for\n",
    "line = input('Enter some string: ')\n",
    "\n",
    "for c in line[0: 6 : 1]: #начало(включая) : конец(не включая) : шаг\n",
    "#for c in line[0: 6 : -1]: если сделать шаг отрицательным, то будет идти с конца\n",
    "    print(c)"
   ]
  },
  {
   "cell_type": "code",
   "execution_count": 2,
   "metadata": {},
   "outputs": [
    {
     "name": "stdout",
     "output_type": "stream",
     "text": [
      "1\t2\t3\t4\t5\t6\t7\t8\t9\t\n",
      "\n",
      "2\t4\t6\t8\t10\t12\t14\t16\t18\t\n",
      "\n",
      "3\t6\t9\t12\t15\t18\t21\t24\t27\t\n",
      "\n",
      "4\t8\t12\t16\t20\t24\t28\t32\t36\t\n",
      "\n",
      "5\t10\t15\t20\t25\t30\t35\t40\t45\t\n",
      "\n",
      "6\t12\t18\t24\t30\t36\t42\t48\t54\t\n",
      "\n",
      "7\t14\t21\t28\t35\t42\t49\t56\t63\t\n",
      "\n",
      "8\t16\t24\t32\t40\t48\t56\t64\t72\t\n",
      "\n",
      "9\t18\t27\t36\t45\t54\t63\t72\t81\t\n",
      "\n"
     ]
    }
   ],
   "source": [
    "for i in range(1, 10): #1 - включительно, а 10 не входит\n",
    "    for j in range(1, 10):\n",
    "        print(i * j, end=\"\\t\")\n",
    "    print('\\n')"
   ]
  },
  {
   "cell_type": "markdown",
   "metadata": {},
   "source": [
    "Дополнительные операторы для циклов:\n",
    "- break - испльзуется для прирывания использования цикла \n",
    "- continue - используется для прерывания текущей операции\n",
    "- else - выполняется в том случае, если цикл удачно завершен"
   ]
  },
  {
   "cell_type": "markdown",
   "metadata": {},
   "source": [
    "**25.09 лекция**"
   ]
  },
  {
   "cell_type": "code",
   "execution_count": 17,
   "metadata": {},
   "outputs": [
    {
     "name": "stdout",
     "output_type": "stream",
     "text": [
      "625\n"
     ]
    }
   ],
   "source": [
    "s = 0\n",
    "i = 1\n",
    "N = 1000\n",
    "\n",
    "# 1, 3 ,5 ,7\n",
    "while i <= N and i <= 50:\n",
    "    s += i \n",
    "    i += 2 #итерация цикла\n",
    "\n",
    "print(s)"
   ]
  },
  {
   "cell_type": "code",
   "execution_count": 22,
   "metadata": {},
   "outputs": [
    {
     "name": "stdout",
     "output_type": "stream",
     "text": [
      "1\n",
      "2\n",
      "3\n",
      "4\n",
      "5\n",
      "6\n",
      "7\n",
      "8\n",
      "9\n"
     ]
    }
   ],
   "source": [
    "i = 1\n",
    "\n",
    "while i < 10:\n",
    "    print(i)\n",
    "    i += 1"
   ]
  },
  {
   "cell_type": "code",
   "execution_count": 23,
   "metadata": {},
   "outputs": [
    {
     "name": "stdout",
     "output_type": "stream",
     "text": [
      "-1\n",
      "-2\n",
      "-3\n",
      "-4\n",
      "-5\n",
      "-6\n",
      "-7\n",
      "-8\n",
      "-9\n"
     ]
    }
   ],
   "source": [
    "i = 1\n",
    "\n",
    "while i < 10:\n",
    "    print(-i)\n",
    "    i += 1"
   ]
  },
  {
   "cell_type": "code",
   "execution_count": 21,
   "metadata": {},
   "outputs": [
    {
     "name": "stdout",
     "output_type": "stream",
     "text": [
      "-1\n",
      "-2\n",
      "-3\n",
      "-4\n",
      "-5\n",
      "-6\n",
      "-7\n",
      "-8\n",
      "-9\n"
     ]
    }
   ],
   "source": [
    "N = -10\n",
    "i = -1\n",
    "while i > N:\n",
    "    print(i)\n",
    "    i -= 1\n"
   ]
  },
  {
   "cell_type": "code",
   "execution_count": 24,
   "metadata": {},
   "outputs": [
    {
     "name": "stdout",
     "output_type": "stream",
     "text": [
      "Вход в систему\n"
     ]
    }
   ],
   "source": [
    "pass_true = 'password'\n",
    "ps = ''\n",
    "\n",
    "while ps != pass_true:\n",
    "    ps = input('Введите пароль: ')\n",
    "\n",
    "print('Вход в систему')"
   ]
  },
  {
   "cell_type": "code",
   "execution_count": 25,
   "metadata": {},
   "outputs": [
    {
     "name": "stdout",
     "output_type": "stream",
     "text": [
      "3\n",
      "6\n",
      "9\n",
      "12\n",
      "15\n",
      "18\n"
     ]
    }
   ],
   "source": [
    "N = 20\n",
    "i = 1\n",
    "\n",
    "while i <= 20:\n",
    "    if i % 3 == 0:\n",
    "        print(i)\n",
    "    i += 1    "
   ]
  },
  {
   "cell_type": "code",
   "execution_count": 26,
   "metadata": {},
   "outputs": [
    {
     "name": "stdout",
     "output_type": "stream",
     "text": [
      "запуск цикла\n",
      "завершение цикла\n"
     ]
    }
   ],
   "source": [
    "print('запуск цикла')\n",
    "\n",
    "i = 0\n",
    "while True:\n",
    "    i += 1\n",
    "    break\n",
    "\n",
    "print('завершение цикла')"
   ]
  },
  {
   "cell_type": "code",
   "execution_count": 29,
   "metadata": {},
   "outputs": [
    {
     "name": "stdout",
     "output_type": "stream",
     "text": [
      "0\n",
      "1\n",
      "2\n",
      "3\n",
      "True\n"
     ]
    }
   ],
   "source": [
    "d = [1, 5, 3, 6, 0, -4]\n",
    "\n",
    "flFind = False\n",
    "i = 0\n",
    "while i < len(d):\n",
    "    print(i)\n",
    "    flFind = d[i] % 2 == 0\n",
    "    if flFind:\n",
    "        break\n",
    "\n",
    "    i += 1\n",
    "\n",
    "print(flFind)"
   ]
  },
  {
   "cell_type": "code",
   "execution_count": 37,
   "metadata": {},
   "outputs": [
    {
     "name": "stdout",
     "output_type": "stream",
     "text": [
      "s = 1\n"
     ]
    },
    {
     "ename": "ValueError",
     "evalue": "invalid literal for int() with base 10: ''",
     "output_type": "error",
     "traceback": [
      "\u001b[1;31m---------------------------------------------------------------------------\u001b[0m",
      "\u001b[1;31mValueError\u001b[0m                                Traceback (most recent call last)",
      "\u001b[1;32m~\\AppData\\Local\\Temp\\ipykernel_42024\\4035221233.py\u001b[0m in \u001b[0;36m<module>\u001b[1;34m\u001b[0m\n\u001b[0;32m      2\u001b[0m \u001b[0md\u001b[0m \u001b[1;33m=\u001b[0m \u001b[1;36m1\u001b[0m\u001b[1;33m\u001b[0m\u001b[1;33m\u001b[0m\u001b[0m\n\u001b[0;32m      3\u001b[0m \u001b[1;32mwhile\u001b[0m \u001b[0md\u001b[0m \u001b[1;33m!=\u001b[0m \u001b[1;36m0\u001b[0m \u001b[1;33m:\u001b[0m\u001b[1;33m\u001b[0m\u001b[1;33m\u001b[0m\u001b[0m\n\u001b[1;32m----> 4\u001b[1;33m     \u001b[0md\u001b[0m \u001b[1;33m=\u001b[0m \u001b[0mint\u001b[0m\u001b[1;33m(\u001b[0m\u001b[0minput\u001b[0m\u001b[1;33m(\u001b[0m\u001b[1;34m'Введите ваше число: '\u001b[0m\u001b[1;33m)\u001b[0m\u001b[1;33m)\u001b[0m\u001b[1;33m\u001b[0m\u001b[1;33m\u001b[0m\u001b[0m\n\u001b[0m\u001b[0;32m      5\u001b[0m     \u001b[1;32mif\u001b[0m \u001b[0md\u001b[0m \u001b[1;33m%\u001b[0m \u001b[1;36m2\u001b[0m \u001b[1;33m==\u001b[0m \u001b[1;36m0\u001b[0m\u001b[1;33m:\u001b[0m\u001b[1;33m\u001b[0m\u001b[1;33m\u001b[0m\u001b[0m\n\u001b[0;32m      6\u001b[0m         \u001b[1;32mcontinue\u001b[0m\u001b[1;33m\u001b[0m\u001b[1;33m\u001b[0m\u001b[0m\n",
      "\u001b[1;31mValueError\u001b[0m: invalid literal for int() with base 10: ''"
     ]
    }
   ],
   "source": [
    "s = 0 \n",
    "d = 1\n",
    "while d != 0 :\n",
    "    d = int(input('Введите ваше число: '))\n",
    "    if d % 2 == 0:\n",
    "        continue\n",
    "\n",
    "    s += d \n",
    "    print(f's = {str(s)}')"
   ]
  },
  {
   "cell_type": "code",
   "execution_count": 57,
   "metadata": {},
   "outputs": [
    {
     "name": "stdout",
     "output_type": "stream",
     "text": [
      "120\n",
      "1\n",
      "2\n",
      "3\n",
      "4\n",
      "5\n"
     ]
    }
   ],
   "source": [
    "d = [1, 2, 3, 4, 5]\n",
    "p = 1\n",
    "\n",
    "for q in d:\n",
    "    p *= q\n",
    "print(p)\n",
    "\n",
    "\n",
    "for i in d:\n",
    "    print(i)"
   ]
  },
  {
   "cell_type": "markdown",
   "metadata": {},
   "source": [
    "**function range**"
   ]
  },
  {
   "cell_type": "code",
   "execution_count": 65,
   "metadata": {},
   "outputs": [
    {
     "name": "stdout",
     "output_type": "stream",
     "text": [
      "range(0, 5)\n",
      "[0, 1, 2, 3, 4]\n",
      "[]\n",
      "[]\n",
      "[-10, -9, -8, -7, -6]\n",
      "[-10, -12, -14, -16, -18]\n"
     ]
    }
   ],
   "source": [
    "print(range(5))\n",
    "print(list(range(5)))\n",
    "print(list(range(0)))\n",
    "print(list(range(-5)))\n",
    "print(list(range(-10, -5)))\n",
    "print(list(range(-10, -20, -2)))"
   ]
  },
  {
   "cell_type": "code",
   "execution_count": 66,
   "metadata": {},
   "outputs": [
    {
     "name": "stdout",
     "output_type": "stream",
     "text": [
      "[0, 0, 0, 0, 0]\n"
     ]
    }
   ],
   "source": [
    "#пример range\n",
    "d = [1, 2, 3, 4, 5]\n",
    "\n",
    "p = 1\n",
    "for i in range(len(d)):\n",
    "    d[i] = 0\n",
    "\n",
    "print(d)"
   ]
  },
  {
   "cell_type": "code",
   "execution_count": 67,
   "metadata": {},
   "outputs": [
    {
     "name": "stdout",
     "output_type": "stream",
     "text": [
      "6.485470860550342\n"
     ]
    }
   ],
   "source": [
    "# s = 1/2 + 1/3 + 1/4 + ... + 1/1000\n",
    "\n",
    "s = 0\n",
    "for i in range(2, 1001):\n",
    "    s += 1/i\n",
    "\n",
    "print(s)"
   ]
  },
  {
   "cell_type": "markdown",
   "metadata": {},
   "source": [
    "**Библиотека os python**"
   ]
  },
  {
   "cell_type": "code",
   "execution_count": 82,
   "metadata": {},
   "outputs": [
    {
     "name": "stdout",
     "output_type": "stream",
     "text": [
      "Текущая директория:  c:\\Users\\279015427\\Documents\\folder\\folder\n",
      "c:\\Users\\279015427\\Documents\\folder\\folder\\folder\n",
      "c:\\Users\\279015427\\Documents\\folder\\folder\n"
     ]
    }
   ],
   "source": [
    "import os\n",
    "\n",
    "print('Текущая директория: ', os.getcwd()) #get current work directory\n",
    "\n",
    "if not os.path.isdir('folder'):\n",
    "    os.mkdir('folder') #make directory\n",
    "\n",
    "os.chdir('folder') #change directory\n",
    "print(os.getcwd())\n",
    "os.chdir('..') #поднятся на уровень выше\n",
    "print(os.getcwd())"
   ]
  },
  {
   "attachments": {},
   "cell_type": "markdown",
   "metadata": {},
   "source": [
    "**30.09 Лекция** <br>\n",
    "**Строки. Списки**"
   ]
  },
  {
   "attachments": {},
   "cell_type": "markdown",
   "metadata": {},
   "source": [
    "**Мощность алфавита** — это количество символов в алфавите, которое вычисляется по формуле:<br>\n",
    "N = 2^b  <br>\n",
    "где:\n",
    " - N - Мощность алфавита\n",
    " - b - Кол-во бит для представления символа"
   ]
  },
  {
   "attachments": {},
   "cell_type": "markdown",
   "metadata": {},
   "source": [
    "**Юникод** (англ. Unicode) — стандарт кодирования символов, включающий в себя знаки почти всех письменных языков мира."
   ]
  },
  {
   "attachments": {},
   "cell_type": "markdown",
   "metadata": {},
   "source": [
    "**Cистемы исчисления:**\n",
    "- 2х: 0, 1\n",
    "- 8х: 0 - 7, 10 - 17, ...\n",
    "- 16x: 0-9, A, B, C, D, E, F"
   ]
  },
  {
   "attachments": {},
   "cell_type": "markdown",
   "metadata": {},
   "source": [
    "В **python строка** - пупорядоченные последовательности символов, используемые для хранения и представления текстовой информации"
   ]
  },
  {
   "attachments": {},
   "cell_type": "markdown",
   "metadata": {},
   "source": [
    "- *зашивровать* (выполнить кодирование) строку в байты: используется метод *encode* <br>\n",
    "- *расшифровать байты* (декодировать) в сроку: ипользуется метод *decode*"
   ]
  },
  {
   "cell_type": "code",
   "execution_count": 2,
   "metadata": {},
   "outputs": [
    {
     "name": "stdout",
     "output_type": "stream",
     "text": [
      "b'hello'\n",
      "hello\n"
     ]
    }
   ],
   "source": [
    "UserMessage = 'hello'\n",
    "\n",
    "UserMessageEnc = UserMessage.encode('utf-8')\n",
    "print(UserMessageEnc)\n",
    "\n",
    "UserMessageDec = UserMessageEnc.decode('utf-8')\n",
    "print(UserMessageDec)"
   ]
  },
  {
   "cell_type": "code",
   "execution_count": 3,
   "metadata": {},
   "outputs": [
    {
     "name": "stdout",
     "output_type": "stream",
     "text": [
      "1488753084240\n",
      "1488753096240\n"
     ]
    }
   ],
   "source": [
    "string = 'Hello'\n",
    "print(id(string))\n",
    "\n",
    "string = 'GoodBye'\n",
    "print(id(string))"
   ]
  },
  {
   "cell_type": "code",
   "execution_count": 15,
   "metadata": {},
   "outputs": [
    {
     "name": "stdout",
     "output_type": "stream",
     "text": [
      "str_1\n",
      "str_2\n",
      "str_3\n",
      "\n",
      "s\n",
      "18\n"
     ]
    }
   ],
   "source": [
    "string = '''str_1\n",
    "str_2\n",
    "str_3\n",
    "'''\n",
    "print(string)\n",
    "\n",
    "print(string[6])\n",
    "print(len(string))"
   ]
  },
  {
   "cell_type": "code",
   "execution_count": 14,
   "metadata": {},
   "outputs": [
    {
     "name": "stdout",
     "output_type": "stream",
     "text": [
      "OneTwo\n",
      "OneOneOneOneOne\n"
     ]
    }
   ],
   "source": [
    "#Конкатенация (объединение) строк\n",
    "str1 = 'One'\n",
    "str2 = 'Two'\n",
    "\n",
    "print(str1 + str2)\n",
    "\n",
    "#Дублирование строки (умножение)\n",
    "print(str1 * 5)"
   ]
  },
  {
   "cell_type": "code",
   "execution_count": 19,
   "metadata": {},
   "outputs": [
    {
     "data": {
      "text/plain": [
       "'Oneoneoneoneone'"
      ]
     },
     "execution_count": 19,
     "metadata": {},
     "output_type": "execute_result"
    }
   ],
   "source": [
    "str_x5 = str1 * 5\n",
    "str_x5.capitalize() #переводит первый символ строки str в верхний регистр\n",
    "\n",
    "str_3 = 'Hello world'\n",
    "str_3.title() #Делает все слова заглавной буквы\n",
    "\n",
    "str_x5.swapcase() #Поменяет регистр на противоположный\n"
   ]
  },
  {
   "attachments": {},
   "cell_type": "markdown",
   "metadata": {},
   "source": [
    "**str.count**( pattern [ ,startIndex [ ,endIndex ]] ) - определяет кол-во вхождений фрагмента pattern в строку str (или в ее часть прит задании диапозона поиска)"
   ]
  },
  {
   "cell_type": "code",
   "execution_count": 24,
   "metadata": {},
   "outputs": [
    {
     "name": "stdout",
     "output_type": "stream",
     "text": [
      "2\n",
      "0\n",
      "1\n"
     ]
    }
   ],
   "source": [
    "MyStr = \"Python was created in the late 1980's \\\n",
    "    by Guido van Rossum. Python- cool!\"\n",
    "\n",
    "print(MyStr.count('Python')) #2\n",
    "print(MyStr.count('Python',20,65)) #0\n",
    "print(MyStr.count('Python',10)) #1"
   ]
  },
  {
   "attachments": {},
   "cell_type": "markdown",
   "metadata": {},
   "source": [
    "**str.find**( pattern [ ,startIndex [ ,endIndex ]] ) - используется для поиска в строкке str нужного фрагмента pattern. <br>\n",
    "**Возвращаемый результат** - индекс начала первого вхождения фрагмента pattern в строку str или -1, если фрагмент pattern не входит в состав str."
   ]
  },
  {
   "cell_type": "code",
   "execution_count": 26,
   "metadata": {},
   "outputs": [
    {
     "name": "stdout",
     "output_type": "stream",
     "text": [
      "0\n",
      "-1\n",
      "63\n"
     ]
    }
   ],
   "source": [
    "MyStr = \"Python was created in the late 1980's \\\n",
    "    by Guido van Rossum. Python- cool!\"\n",
    "\n",
    "print(MyStr.find('Python')) #2\n",
    "print(MyStr.find('Python',20,65)) #0\n",
    "print(MyStr.find('Python',10)) #1"
   ]
  },
  {
   "attachments": {},
   "cell_type": "markdown",
   "metadata": {},
   "source": [
    "**str.rfind и str.rindex** - делает поиск последнего вхождения фрагмента в строку"
   ]
  },
  {
   "attachments": {},
   "cell_type": "markdown",
   "metadata": {},
   "source": [
    "**Методы форматирования строк:**"
   ]
  },
  {
   "cell_type": "code",
   "execution_count": 34,
   "metadata": {},
   "outputs": [
    {
     "name": "stdout",
     "output_type": "stream",
     "text": [
      "            Python            \n",
      "++++++++++++Python++++++++++++\n",
      "Python\n"
     ]
    }
   ],
   "source": [
    "#str.center( width [ ,fillchar ]) \n",
    "\n",
    "str = 'Python'\n",
    "print(str.center(30))\n",
    "print(str.center(30, '+'))\n",
    "print(str.center(4)) #если значение width меньше чем строка, то он оставит строку в том же виде"
   ]
  },
  {
   "attachments": {},
   "cell_type": "markdown",
   "metadata": {},
   "source": [
    "**Срез строки**"
   ]
  },
  {
   "cell_type": "code",
   "execution_count": 9,
   "metadata": {},
   "outputs": [
    {
     "name": "stdout",
     "output_type": "stream",
     "text": [
      "cde\n",
      "ace\n"
     ]
    }
   ],
   "source": [
    "#Индексированием\n",
    "s = 'abcdef'\n",
    "\n",
    "s2 = s[2:5] #второй индекс не входит, те от 2 до 4\n",
    "print(s2) #cde\n",
    "s3 = s[0:7:2] #шаг 2 (стандартно 1)\n",
    "print(s3) #ace"
   ]
  },
  {
   "cell_type": "code",
   "execution_count": 20,
   "metadata": {},
   "outputs": [
    {
     "name": "stdout",
     "output_type": "stream",
     "text": [
      "Welcome, Ivan Lets start game!\n"
     ]
    }
   ],
   "source": [
    "userLogin = 'Ivan'\n",
    "print('Welcome,', userLogin,'Lets start game!', sep=' ')"
   ]
  },
  {
   "attachments": {},
   "cell_type": "markdown",
   "metadata": {},
   "source": [
    "**Модуль string**"
   ]
  },
  {
   "cell_type": "code",
   "execution_count": 23,
   "metadata": {},
   "outputs": [
    {
     "name": "stdout",
     "output_type": "stream",
     "text": [
      "abcdefghijklmnopqrstuvwxyzABCDEFGHIJKLMNOPQRSTUVWXYZ\n",
      "abcdefghijklmnopqrstuvwxyz\n",
      "ABCDEFGHIJKLMNOPQRSTUVWXYZ\n",
      "0123456789abcdefghijklmnopqrstuvwxyzABCDEFGHIJKLMNOPQRSTUVWXYZ!\"#$%&'()*+,-./:;<=>?@[\\]^_`{|}~ \t\n",
      "\u000b\f\n"
     ]
    }
   ],
   "source": [
    "import string\n",
    "\n",
    "print(string.ascii_letters)\n",
    "print(string.ascii_lowercase)\n",
    "print(string.ascii_uppercase)\n",
    "print(string.printable)"
   ]
  },
  {
   "cell_type": "code",
   "execution_count": 56,
   "metadata": {},
   "outputs": [
    {
     "name": "stdout",
     "output_type": "stream",
     "text": [
      "Login: jciqho\n",
      "Passwod: 7t34ymwl\n"
     ]
    }
   ],
   "source": [
    "import string\n",
    "import random\n",
    "\n",
    "userLogin = ''.join(random.sample((string.ascii_lowercase), 6))\n",
    "userPass = ''.join(random.sample((string.ascii_lowercase + string.digits), 8))\n",
    "\n",
    "print(f'Login: {userLogin}')\n",
    "print(f'Passwod: {userPass}')"
   ]
  },
  {
   "attachments": {},
   "cell_type": "markdown",
   "metadata": {},
   "source": [
    "**02.10 Лекция <br>\n",
    "Списки**"
   ]
  },
  {
   "attachments": {},
   "cell_type": "markdown",
   "metadata": {},
   "source": [
    "- Массив - это поименованная совокупность однотипных элементов, упорядоченных по индексам, определяющим положение элемента в массиве.\n",
    "- коллекция - объект, который может хранить несколько коллекций, могут быть изменяемыми (и неизменяемыми)\n",
    "- изменяемость - вохможность добавления новых и удаленея существующих значений\n",
    "- уникальность - коллекция состоит только из неповторяющих элементов\n",
    "- упорядоченность - все элементы списка имеют свой индекс\n"
   ]
  },
  {
   "attachments": {},
   "cell_type": "markdown",
   "metadata": {},
   "source": [
    "**list** - изменяемая, упорядоченная коллекция значений любых типов данных\n",
    "\n"
   ]
  },
  {
   "cell_type": "code",
   "execution_count": 3,
   "metadata": {},
   "outputs": [
    {
     "name": "stdout",
     "output_type": "stream",
     "text": [
      "['Drama', 'Comedy', 'Fantasy']\n",
      "['Math', 'Algorithms', 'Databases']\n",
      "[]\n",
      "[]\n"
     ]
    }
   ],
   "source": [
    "# создание списков\n",
    "category = ['Drama', 'Comedy', 'Fantasy'] # 1 способ\n",
    "print(category)\n",
    "\n",
    "courses = list(('Math', 'Algorithms', 'Databases')) # 2 способ\n",
    "print(courses)\n",
    "\n",
    "# создание пустого списка\n",
    "studentScored = []\n",
    "print(studentScored)\n",
    "\n",
    "students = list()\n",
    "print(students)"
   ]
  },
  {
   "cell_type": "code",
   "execution_count": 12,
   "metadata": {},
   "outputs": [
    {
     "name": "stdout",
     "output_type": "stream",
     "text": [
      "['Algorithms', 2345, 7009, 'Networks', 'Databases', [1, 2.5, 45, 'Example']]\n"
     ]
    }
   ],
   "source": [
    "myCourses = ['Algorithms', 2345, 7009, 'Networks','Databases', [1, 2.5, 45, 'Example']]\n",
    "print(myCourses)"
   ]
  },
  {
   "cell_type": "code",
   "execution_count": 13,
   "metadata": {},
   "outputs": [
    {
     "name": "stdout",
     "output_type": "stream",
     "text": [
      "['a', 'b', 'c', 'd', 'e', 'f']\n"
     ]
    }
   ],
   "source": [
    "mySymbols = list(\"abcdef\")\n",
    "print(mySymbols)"
   ]
  },
  {
   "attachments": {},
   "cell_type": "markdown",
   "metadata": {},
   "source": [
    "**списковые включения** (list comprehensions, генераторы списков) - способ создания на освове генерируемых значений"
   ]
  },
  {
   "cell_type": "code",
   "execution_count": 15,
   "metadata": {},
   "outputs": [
    {
     "name": "stdout",
     "output_type": "stream",
     "text": [
      "[0, 1, 4, 9, 16, 25]\n"
     ]
    }
   ],
   "source": [
    "list1 = [i * i for i in range(6)]\n",
    "print(list1)"
   ]
  },
  {
   "cell_type": "code",
   "execution_count": 17,
   "metadata": {},
   "outputs": [
    {
     "name": "stdout",
     "output_type": "stream",
     "text": [
      "['e*', 'x*', 'a*', 'm*', 'p*', 'l*', 'e*']\n"
     ]
    }
   ],
   "source": [
    "list2 = [ i + '*' for i in 'example'] \n",
    "print(list2)"
   ]
  },
  {
   "attachments": {},
   "cell_type": "markdown",
   "metadata": {},
   "source": [
    "newList = [expression for item in sequence if condition]\n",
    "\n",
    "expression - выражение, которое выполняется над таким элементом item в последовательности sequence, для которого condition == True"
   ]
  },
  {
   "cell_type": "code",
   "execution_count": 18,
   "metadata": {},
   "outputs": [
    {
     "name": "stdout",
     "output_type": "stream",
     "text": [
      "[4, 16, 36, 64, 100]\n"
     ]
    }
   ],
   "source": [
    "list4 = [i * i for i in range(1, 11) if i%2 == 0]\n",
    "print(list4)"
   ]
  },
  {
   "cell_type": "code",
   "execution_count": 22,
   "metadata": {},
   "outputs": [
    {
     "name": "stdout",
     "output_type": "stream",
     "text": [
      "[[1, 2, 3], [2, 4, 6], [3, 6, 9]]\n"
     ]
    }
   ],
   "source": [
    "list5 = [[ x * y for x in range(1, 4)] for y in range(1, 4)]\n",
    "print(list5)"
   ]
  },
  {
   "cell_type": "code",
   "execution_count": 23,
   "metadata": {},
   "outputs": [
    {
     "name": "stdout",
     "output_type": "stream",
     "text": [
      "[2345, 7009]\n"
     ]
    }
   ],
   "source": [
    "# cрезы\n",
    "myCours = ['Algorithms', 2345, 7009, 'Networks']\n",
    "print(myCours[1:3]) "
   ]
  },
  {
   "cell_type": "code",
   "execution_count": 33,
   "metadata": {},
   "outputs": [
    {
     "name": "stdout",
     "output_type": "stream",
     "text": [
      "5\n",
      "Admin\n",
      "User\n",
      "['Admin', 'HR', 'Student', 'Teacher', 'User']\n",
      "312\n"
     ]
    }
   ],
   "source": [
    "users = ['Admin', 'Student', 'Teacher', 'HR', 'User']\n",
    "print(len(users))\n",
    "print(min(users))\n",
    "print(max(users))\n",
    "print(sorted(users)) \n",
    "\n",
    "numbers = [12, 32, 1, 5, 62, 78, 122]\n",
    "print(sum(numbers))"
   ]
  },
  {
   "cell_type": "code",
   "execution_count": 35,
   "metadata": {},
   "outputs": [
    {
     "name": "stdout",
     "output_type": "stream",
     "text": [
      "['Drama', 'Comedy', 'Action', 'Fantasy']\n",
      "['Drama', 'Comedy', 'Drama', 'Comedy']\n"
     ]
    }
   ],
   "source": [
    "category1 = ['Drama', 'Comedy']\n",
    "category2 = ['Action', 'Fantasy']\n",
    "\n",
    "print(category1 + category2)\n",
    "print(category1 * 2)"
   ]
  },
  {
   "attachments": {},
   "cell_type": "markdown",
   "metadata": {},
   "source": [
    "**Методы списков**"
   ]
  },
  {
   "cell_type": "code",
   "execution_count": 38,
   "metadata": {},
   "outputs": [
    {
     "name": "stdout",
     "output_type": "stream",
     "text": [
      "Drama\n",
      "Comedy\n",
      "Action\n",
      "Fantasy\n"
     ]
    }
   ],
   "source": [
    "# for .. in \n",
    "category = ['Drama', 'Comedy', 'Action', 'Fantasy']\n",
    "\n",
    "for film in category:\n",
    "    print(film)"
   ]
  },
  {
   "cell_type": "code",
   "execution_count": 45,
   "metadata": {},
   "outputs": [
    {
     "name": "stdout",
     "output_type": "stream",
     "text": [
      "['Drama', 'Comedy']\n",
      "['Drama', 'Comedy', 'Fantasy']\n"
     ]
    }
   ],
   "source": [
    "# append\n",
    "category = ['Drama', 'Comedy']\n",
    "print(category)\n",
    "\n",
    "category.append('Fantasy')\n",
    "print(category)"
   ]
  },
  {
   "cell_type": "code",
   "execution_count": 48,
   "metadata": {},
   "outputs": [
    {
     "name": "stdout",
     "output_type": "stream",
     "text": [
      "['Drama', 'Comedy']\n",
      "['Drama', 'Comedy', 'Action', 'Fantasy']\n",
      "['Drama', 'Comedy', 'Action', 'Fantasy', 'Mystery', 'Romance']\n"
     ]
    }
   ],
   "source": [
    "# extend\n",
    "category1 = ['Drama', 'Comedy']\n",
    "category2 = ['Action', 'Fantasy']\n",
    "print(category1)\n",
    "\n",
    "category1.extend(category2)\n",
    "print(category1)\n",
    "\n",
    "category1.extend(['Mystery', 'Romance'])\n",
    "print(category1)"
   ]
  },
  {
   "cell_type": "code",
   "execution_count": 53,
   "metadata": {},
   "outputs": [
    {
     "name": "stdout",
     "output_type": "stream",
     "text": [
      "['Action', 'Drama', 'Comedy']\n",
      "['Action', 'Drama', 'Romance', 'Comedy']\n"
     ]
    }
   ],
   "source": [
    "# insert\n",
    "category1 = ['Action', 'Comedy']\n",
    "category1.insert(1, 'Drama')\n",
    "print(category1)\n",
    "\n",
    "category1.insert(-1, 'Romance')\n",
    "print(category1)"
   ]
  },
  {
   "cell_type": "code",
   "execution_count": 55,
   "metadata": {},
   "outputs": [
    {
     "name": "stdout",
     "output_type": "stream",
     "text": [
      "['Drama', 'Comedy', 'Action', 'Fantasy', 'Mystery']\n"
     ]
    }
   ],
   "source": [
    "# remove\n",
    "category = ['Drama', 'Comedy', 'Action', 'Fantasy', 'Mystery', 'Romance']\n",
    "category.remove('Romance')\n",
    "print(category)"
   ]
  },
  {
   "cell_type": "code",
   "execution_count": 58,
   "metadata": {},
   "outputs": [
    {
     "name": "stdout",
     "output_type": "stream",
     "text": [
      "['Drama', 'Comedy', 'Fantasy', 'Mystery', 'Romance']\n",
      "['Drama', 'Comedy', 'Fantasy', 'Mystery']\n"
     ]
    }
   ],
   "source": [
    "# pop\n",
    "category = ['Drama', 'Comedy', 'Action', 'Fantasy', 'Mystery', 'Romance']\n",
    "category.pop(2)\n",
    "print(category)\n",
    "\n",
    "category.pop() # удаляет последний элемент списка\n",
    "print(category)"
   ]
  },
  {
   "cell_type": "code",
   "execution_count": 59,
   "metadata": {},
   "outputs": [
    {
     "name": "stdout",
     "output_type": "stream",
     "text": [
      "[]\n"
     ]
    }
   ],
   "source": [
    "# clear\n",
    "category = ['Drama', 'Comedy', 'Action', 'Fantasy', 'Mystery', 'Romance']\n",
    "category.clear()\n",
    "print(category)"
   ]
  },
  {
   "cell_type": "code",
   "execution_count": 63,
   "metadata": {},
   "outputs": [
    {
     "name": "stdout",
     "output_type": "stream",
     "text": [
      "2\n"
     ]
    }
   ],
   "source": [
    "# index - показываает индекс значения. первое вхождение элемента!\n",
    "category = ['Drama', 'Comedy', 'Action', 'Fantasy', 'Mystery', 'Romance', 'Action']\n",
    "print(category.index('Action'))"
   ]
  },
  {
   "cell_type": "code",
   "execution_count": 66,
   "metadata": {},
   "outputs": [
    {
     "name": "stdout",
     "output_type": "stream",
     "text": [
      "2\n"
     ]
    }
   ],
   "source": [
    "# count - показывает кол-во элемента в списке\n",
    "category = ['Drama', 'Comedy', 'Action', 'Fantasy', 'Mystery', 'Romance', 'Action']\n",
    "print(category.count('Action'))"
   ]
  },
  {
   "cell_type": "code",
   "execution_count": 72,
   "metadata": {},
   "outputs": [
    {
     "name": "stdout",
     "output_type": "stream",
     "text": [
      "['Drama', 'Fantasy', 'Mystery', 'Romance']\n",
      "['Romance', 'Mystery', 'Fantasy', 'Drama']\n"
     ]
    }
   ],
   "source": [
    "# sort\n",
    "category = ['Drama', 'Mystery', 'Fantasy', 'Romance']\n",
    "category.sort()\n",
    "print(category)\n",
    "\n",
    "category.sort(reverse=True) # обртный порядок\n",
    "print(category)"
   ]
  },
  {
   "attachments": {},
   "cell_type": "markdown",
   "metadata": {},
   "source": [
    "**Оператор принадлежности in**"
   ]
  },
  {
   "cell_type": "code",
   "execution_count": 74,
   "metadata": {},
   "outputs": [
    {
     "name": "stdout",
     "output_type": "stream",
     "text": [
      "True\n"
     ]
    }
   ],
   "source": [
    "customers = ['Bob', 'Anna', 'Joe', 'Bob', 'Nick']\n",
    "print('Joe' in customers)"
   ]
  },
  {
   "cell_type": "code",
   "execution_count": 75,
   "metadata": {},
   "outputs": [
    {
     "name": "stdout",
     "output_type": "stream",
     "text": [
      "Bob is our customer\n"
     ]
    }
   ],
   "source": [
    "customers = ['Bob', 'Anna', 'Joe', 'Bob', 'Nick']\n",
    "\n",
    "if ('Bob' in customers):\n",
    "    print('Bob is our customer')\n",
    "else:\n",
    "    print('Bob is not our customer, sorry')"
   ]
  },
  {
   "attachments": {},
   "cell_type": "markdown",
   "metadata": {},
   "source": [
    "**Особености списков, ссылки и клонирование**"
   ]
  },
  {
   "attachments": {},
   "cell_type": "markdown",
   "metadata": {},
   "source": [
    "\n",
    "- псевдонимы - переменныне, которые имеют разные имена, но содержат одинаковые адреса памяти"
   ]
  },
  {
   "cell_type": "code",
   "execution_count": 79,
   "metadata": {},
   "outputs": [
    {
     "name": "stdout",
     "output_type": "stream",
     "text": [
      "[1, 2, 3, 4, 5]\n",
      "[1, 'hola', 3, 4, 5]\n",
      "[1, 'hola', 3, 4, 5]\n"
     ]
    }
   ],
   "source": [
    "list1 = [1, 2 ,3 ,4 ,5]\n",
    "print(list1)\n",
    "\n",
    "list2 = list1\n",
    "list2[1] = 'hola'\n",
    "\n",
    "print(list1)\n",
    "print(list2)"
   ]
  },
  {
   "cell_type": "code",
   "execution_count": 88,
   "metadata": {},
   "outputs": [
    {
     "name": "stdout",
     "output_type": "stream",
     "text": [
      "[1, 2, 3, 4, 5]\n",
      "[1, 'hola', 3, 4, 5]\n",
      "[1, 2, 3, 4, 5]\n",
      "[1, 2, 'hello', 4, 5]\n",
      "[1, 2, 3, 4, 5]\n",
      "[1, 2, 3, 'привет', 5]\n",
      "[1, 2, 3, 4, 5]\n",
      "------------\n",
      "[1, 2, 3, 4, 0]\n",
      "[1, 'hola', 3, 4, 5]\n",
      "[1, 2, 'hello', 4, 5]\n",
      "[1, 2, 3, 'привет', 5]\n"
     ]
    }
   ],
   "source": [
    "# copy\n",
    "list1 = [1, 2 ,3 ,4 ,5]\n",
    "print(list1)\n",
    "\n",
    "list2 = list1.copy()\n",
    "list2[1] = 'hola'\n",
    "\n",
    "print(list2)\n",
    "print(list1)\n",
    "\n",
    "# list\n",
    "\n",
    "list3 = list(list1)\n",
    "list3[2] = 'hello'\n",
    "\n",
    "print(list3)\n",
    "print(list1)\n",
    "\n",
    "list4 = list1[:]\n",
    "list4[3] = 'привет'\n",
    "\n",
    "print(list4)\n",
    "print(list1)\n",
    "\n",
    "list1[-1] = 0\n",
    "print('------------')\n",
    "print(list1)\n",
    "print(list2)\n",
    "print(list3)\n",
    "print(list4)"
   ]
  },
  {
   "attachments": {},
   "cell_type": "markdown",
   "metadata": {},
   "source": [
    "**Поиск элемента**"
   ]
  },
  {
   "cell_type": "code",
   "execution_count": 89,
   "metadata": {},
   "outputs": [
    {
     "name": "stdout",
     "output_type": "stream",
     "text": [
      "0\n",
      "3\n"
     ]
    }
   ],
   "source": [
    "customers = ['Bob', 'Anna', 'Joe', 'Bob', 'Nick']\n",
    "\n",
    "# для нахождения одного элемента мы можем использовать index\n",
    "\n",
    "#для множества можем создать цикл:\n",
    "for i in range(len(customers)):\n",
    "    if customers[i] == 'Bob':\n",
    "        print(i)"
   ]
  },
  {
   "attachments": {},
   "cell_type": "markdown",
   "metadata": {},
   "source": [
    "**Матрицы**"
   ]
  },
  {
   "cell_type": "code",
   "execution_count": 99,
   "metadata": {},
   "outputs": [
    {
     "name": "stdout",
     "output_type": "stream",
     "text": [
      "[['Bob', 5, 3, 5, 2], ['Kristofer', 5, 5, 4, 5], ['Arnold', 2, 2, 3]]\n",
      "['Bob', 5, 3, 5, 2]\n",
      "Bob\n"
     ]
    }
   ],
   "source": [
    "# матрица (или же многомерный массив)\n",
    "table = [\n",
    "    ['Bob', 5, 3, 5, 2],\n",
    "    ['Kristofer', 5, 5, 4, 5],\n",
    "    ['Arnold', 2, 2, 3]\n",
    "    ]\n",
    "\n",
    "print(table)\n",
    "print(table[0]) \n",
    "print(table[0][0])"
   ]
  },
  {
   "cell_type": "code",
   "execution_count": null,
   "metadata": {},
   "outputs": [],
   "source": [
    "# для перебора всех элементов:\n",
    "for i in range(len(table)):\n",
    "    for j in range(len(table[i])):\n",
    "        print(table[i][j])"
   ]
  },
  {
   "cell_type": "code",
   "execution_count": 104,
   "metadata": {},
   "outputs": [
    {
     "name": "stdout",
     "output_type": "stream",
     "text": [
      "[[0, 1], [0, 1], [0, 1]]\n"
     ]
    }
   ],
   "source": [
    "# создание матрицы с помощью генератора списков\n",
    "table2 = [[j for j in range(2)] for i in range(3)]\n",
    "print(table2)"
   ]
  },
  {
   "cell_type": "code",
   "execution_count": 115,
   "metadata": {},
   "outputs": [
    {
     "name": "stdout",
     "output_type": "stream",
     "text": [
      "Bob 12\n",
      "Jane 12\n",
      "Kate 9\n"
     ]
    }
   ],
   "source": [
    "studScores = [\n",
    "    ['Bob', 11, 8, 10, 12],\n",
    "    ['Jane', 12, 11, 11, 11],\n",
    "    ['Kate', 7, 8, 9, 9] ,   \n",
    "]\n",
    "\n",
    "for student in studScores:\n",
    "    print(student[0], max(student[1:])) # функция max находит первый max элемент"
   ]
  },
  {
   "cell_type": "code",
   "execution_count": 127,
   "metadata": {},
   "outputs": [
    {
     "name": "stdout",
     "output_type": "stream",
     "text": [
      "Mrs. Doubtfire\n"
     ]
    }
   ],
   "source": [
    "films = [\n",
    "    ['Catch Me If U Can', 'Biography', 'Crime' 'Drama'],\n",
    "    ['Mrs. Doubtfire', 'Comedy', 'Drama', 'Family']\n",
    "]\n",
    "\n",
    "userCategory = input('input film category: ')\n",
    "\n",
    "for film in films:\n",
    "    if userCategory in film[1:]:\n",
    "        print(film[0])"
   ]
  },
  {
   "cell_type": "markdown",
   "metadata": {},
   "source": [
    "**Data Science** Лекция 07.10"
   ]
  },
  {
   "cell_type": "markdown",
   "metadata": {},
   "source": [
    "Data science (Наука о данных) - это раздел информатики, изучающий проблемы анализа, обработки и представления данных в цифровой форме"
   ]
  },
  {
   "cell_type": "markdown",
   "metadata": {},
   "source": [
    "Data Science project: (пример базового проекта дата сеинтиста)\n",
    "- понять бинес проблему\n",
    "- сбор данных\n",
    "- очистка и исследование данных\n",
    "- построение модели\n",
    "- сбор информации"
   ]
  },
  {
   "cell_type": "markdown",
   "metadata": {},
   "source": [
    "**Решение задач 09.10.2024**"
   ]
  },
  {
   "cell_type": "code",
   "execution_count": 65,
   "metadata": {},
   "outputs": [
    {
     "name": "stdout",
     "output_type": "stream",
     "text": [
      "10\n",
      "[-46, -6, 74, 29, -1, 80, -47, -52, 64, -68]\n",
      "[-46, -6, -1, -47, -52, -68]\n",
      "-220\n"
     ]
    }
   ],
   "source": [
    "# Задание 1\n",
    "import random\n",
    "\n",
    "list1 = []\n",
    "\n",
    "for _ in range(1, 11):  # (можно писать просто 10, оно бы посчитало от 0 до 9, что так же было бь верно) создание списка через цикл\n",
    "    list1.append(random.randint(-100, 100))\n",
    "\n",
    "list3 = []\n",
    "\n",
    "for i in list1:\n",
    "    if i < 0:\n",
    "        list3.append(i)\n",
    "        i+=1\n",
    "    else:\n",
    "        continue     \n",
    "\n",
    "# sum = 0               Способ быстрее\n",
    "# for i in list1:\n",
    "#     if i < 0:\n",
    "#         sum +=i   \n",
    "\n",
    "list4 = sum(list3)\n",
    "\n",
    "print(len(list1)) # len самодостаточный и может вызываться над списком\n",
    "print(list1)\n",
    "print(list3)\n",
    "print(list4)"
   ]
  },
  {
   "cell_type": "code",
   "execution_count": 186,
   "metadata": {},
   "outputs": [
    {
     "name": "stdout",
     "output_type": "stream",
     "text": [
      "[-89, -61, 41, -77, 73, 38, -7, 53, 13, -18]\n"
     ]
    }
   ],
   "source": [
    "list = [\n",
    "    random.randint(-100, 100) for _ in range(1, 11)\n",
    "    ] # создание списка через генератор списка\n",
    "\n",
    "print(list)"
   ]
  },
  {
   "cell_type": "code",
   "execution_count": 283,
   "metadata": {},
   "outputs": [],
   "source": [
    "# Even numbers \n",
    "list1 = [random.randint(-100,100) for _ in range(1,11)] \n",
    "list3 = [] \n",
    " \n",
    "for i in list1: \n",
    "    if i % 2 == 0: \n",
    "        list3.append(i) \n",
    "    else: \n",
    "        continue \n",
    "\n"
   ]
  },
  {
   "cell_type": "code",
   "execution_count": 284,
   "metadata": {},
   "outputs": [],
   "source": [
    "# Odd numbers \n",
    "list1 = [random.randint(-100,100) for _ in range(1,11)] \n",
    "list3 = [] \n",
    " \n",
    "for i in list1: \n",
    "    if i % 2 != 0: \n",
    "        list3.append(i) \n",
    "    else: \n",
    "        continue \n",
    " \n"
   ]
  },
  {
   "cell_type": "code",
   "execution_count": 287,
   "metadata": {},
   "outputs": [
    {
     "data": {
      "text/plain": [
       "4118744"
      ]
     },
     "execution_count": 287,
     "metadata": {},
     "output_type": "execute_result"
    }
   ],
   "source": [
    "# Задание 2\n",
    "list = [\n",
    "    random.randint(-100, 100) for _ in range(1, 11)\n",
    "    ] # создание списка через генератор списка\n",
    "\n",
    "sum_4 = 1\n",
    "\n",
    "for i in range(len(list)):\n",
    "    if i % 3 == 0:\n",
    "        sum_4 *= list[i]\n",
    "\n",
    "sum_4"
   ]
  },
  {
   "cell_type": "code",
   "execution_count": 347,
   "metadata": {},
   "outputs": [
    {
     "name": "stdout",
     "output_type": "stream",
     "text": [
      "list1 = [-12, 56, -29, 70, 99, -45, 38, -90, -23, 84]\n",
      "list2 = [-90, -45, -29, -23, -12, 38, 56, 70, 84, 99]\n",
      "mult = [-45, -29, -23, -12, 38, 56, 70, 84]\n",
      "multiply is 4506802675200\n",
      "list1 = [-12, 56, -29, 70, 99, -45, 38, -90, -23, 84]\n"
     ]
    }
   ],
   "source": [
    "import random\n",
    "\n",
    "list1 = []\n",
    "\n",
    "for _ in range(1, 11):  # (можно писать просто 10, оно бы посчитало от 0 до 9, что так же было бь верно) создание списка через цикл\n",
    "    list1.append(random.randint(-100, 100))\n",
    "\n",
    "print(f'list1 = {list1}')\n",
    "\n",
    "list2 = list1.copy()\n",
    "\n",
    "list2.sort()\n",
    "print(f'list2 = {list2}')\n",
    "\n",
    "mult = list2[1:-1]\n",
    "print(f'mult = {mult}')\n",
    "\n",
    "multiply = 1\n",
    "for i in mult:\n",
    "    multiply *= i\n",
    "print(f'multiply is {multiply}')\n",
    "\n",
    "print(f'list1 = {list1}')"
   ]
  },
  {
   "cell_type": "code",
   "execution_count": 360,
   "metadata": {},
   "outputs": [
    {
     "name": "stdout",
     "output_type": "stream",
     "text": [
      "[8, -92, -34, 62, 18]\n"
     ]
    }
   ],
   "source": [
    "# Задание 2\n",
    "import random\n",
    "\n",
    "list1 = []\n",
    "\n",
    "for _ in range(1, 11):  # (можно писать просто 10, оно бы посчитало от 0 до 9, что так же было бь верно) создание списка через цикл\n",
    "    list1.append(random.randint(-100, 100))\n",
    "\n",
    "list2 = []\n",
    "\n",
    "for i in list1:\n",
    "    if i % 2 == 0:\n",
    "        list2.append(i)\n",
    "\n",
    "print(list2)"
   ]
  },
  {
   "cell_type": "code",
   "execution_count": 362,
   "metadata": {},
   "outputs": [
    {
     "data": {
      "text/plain": [
       "[-46, -66, -50, 25, -26, -98, 65, -67, 40, 25]"
      ]
     },
     "execution_count": 362,
     "metadata": {},
     "output_type": "execute_result"
    }
   ],
   "source": [
    "list1 = []\n",
    "\n",
    "for i in range(1, 11):  # (можно писать просто 10, оно бы посчитало от 0 до 9, что так же было бь верно) создание списка через цикл\n",
    "    list1.append(random.randint(-100, 100))\n",
    "    \n",
    "list1"
   ]
  },
  {
   "cell_type": "code",
   "execution_count": 352,
   "metadata": {},
   "outputs": [
    {
     "name": "stdout",
     "output_type": "stream",
     "text": [
      "[37, -17, -97, -7]\n"
     ]
    }
   ],
   "source": [
    "list2 = []\n",
    "\n",
    "for i in list1:\n",
    "    if i % 2 != 0:\n",
    "        list2.append(i)\n",
    "\n",
    "print(list2)"
   ]
  },
  {
   "cell_type": "code",
   "execution_count": 381,
   "metadata": {},
   "outputs": [
    {
     "name": "stdout",
     "output_type": "stream",
     "text": [
      "[-24, -51, -15, -78, -21, -79, -74]\n"
     ]
    }
   ],
   "source": [
    "import random\n",
    "\n",
    "list1 = []\n",
    "\n",
    "for _ in range(1, 11):  # (можно писать просто 10, оно бы посчитало от 0 до 9, что так же было бь верно) создание списка через цикл\n",
    "    list1.append(random.randint(-100, 100))\n",
    "\n",
    "list2 = []\n",
    "\n",
    "for i in list1:\n",
    "    if i < 0:\n",
    "        list2.append(i)\n",
    "\n",
    "print(list2)"
   ]
  },
  {
   "cell_type": "code",
   "execution_count": 359,
   "metadata": {},
   "outputs": [
    {
     "name": "stdout",
     "output_type": "stream",
     "text": [
      "[71, 24, 41, 13, 1, 20]\n"
     ]
    }
   ],
   "source": [
    "import random\n",
    "\n",
    "list1 = []\n",
    "\n",
    "for _ in range(1, 11):  # (можно писать просто 10, оно бы посчитало от 0 до 9, что так же было бь верно) создание списка через цикл\n",
    "    list1.append(random.randint(-100, 100))\n",
    "\n",
    "list2 = []\n",
    "\n",
    "for i in list1:\n",
    "    if i > 0:\n",
    "        list2.append(i)\n",
    "\n",
    "print(list2)"
   ]
  },
  {
   "cell_type": "code",
   "execution_count": 377,
   "metadata": {},
   "outputs": [
    {
     "data": {
      "text/plain": [
       "'Я !Учусь В 2, Академии! Топ 45.'"
      ]
     },
     "execution_count": 377,
     "metadata": {},
     "output_type": "execute_result"
    }
   ],
   "source": [
    "text = 'я !учусь в 2, академии! топ 45.'\n",
    "\n",
    "text.title()"
   ]
  },
  {
   "cell_type": "code",
   "execution_count": 375,
   "metadata": {},
   "outputs": [
    {
     "data": {
      "text/plain": [
       "3"
      ]
     },
     "execution_count": 375,
     "metadata": {},
     "output_type": "execute_result"
    }
   ],
   "source": [
    "count = 0\n",
    "for i in text:\n",
    "    if i.isdigit():\n",
    "        count += 1\n",
    "\n",
    "count"
   ]
  },
  {
   "cell_type": "code",
   "execution_count": 376,
   "metadata": {},
   "outputs": [
    {
     "data": {
      "text/plain": [
       "2"
      ]
     },
     "execution_count": 376,
     "metadata": {},
     "output_type": "execute_result"
    }
   ],
   "source": [
    "q = 0\n",
    "\n",
    "for i in text:\n",
    "    if i.isalnum() != True and i.isspace() != True:\n",
    "        q += 1\n",
    "\n",
    "q"
   ]
  },
  {
   "cell_type": "code",
   "execution_count": 378,
   "metadata": {},
   "outputs": [
    {
     "data": {
      "text/plain": [
       "2"
      ]
     },
     "execution_count": 378,
     "metadata": {},
     "output_type": "execute_result"
    }
   ],
   "source": [
    "s = 0\n",
    "\n",
    "for i in text:\n",
    "    if i == '!':\n",
    "        s +=1\n",
    "\n",
    "s"
   ]
  },
  {
   "cell_type": "code",
   "execution_count": 384,
   "metadata": {},
   "outputs": [
    {
     "name": "stdout",
     "output_type": "stream",
     "text": [
      "[1, 5, 3, 3, 3, 2, 2, 1, 1, 4]\n"
     ]
    }
   ],
   "source": [
    "# Задание 2\n",
    "\n",
    "random_list = [random.randint(1, 5) for _ in range(10)]\n",
    "print(random_list)"
   ]
  },
  {
   "cell_type": "code",
   "execution_count": 398,
   "metadata": {},
   "outputs": [
    {
     "data": {
      "text/plain": [
       "3"
      ]
     },
     "execution_count": 398,
     "metadata": {},
     "output_type": "execute_result"
    }
   ],
   "source": [
    "number = int(input('Введите число от 1 до 5: '))\n",
    "\n",
    "count = 0\n",
    "for i in random_list:\n",
    "    if i == number:\n",
    "        count += 1\n",
    "\n",
    "count"
   ]
  },
  {
   "cell_type": "markdown",
   "metadata": {},
   "source": [
    "**14/10/2024**"
   ]
  },
  {
   "cell_type": "code",
   "execution_count": 27,
   "metadata": {},
   "outputs": [
    {
     "name": "stdout",
     "output_type": "stream",
     "text": [
      "its NOT a palindrome\n"
     ]
    }
   ],
   "source": [
    "m = input('input ur text: ').replace(' ','').lower()\n",
    "\n",
    "if m[0:] == m[::-1]:\n",
    "    print('palindrome')\n",
    "else:\n",
    "    print('its NOT a palindrome')\n",
    "    "
   ]
  },
  {
   "cell_type": "code",
   "execution_count": 74,
   "metadata": {},
   "outputs": [
    {
     "name": "stdout",
     "output_type": "stream",
     "text": [
      "3\n",
      "3\n",
      "3\n",
      "3\n",
      "end\n"
     ]
    }
   ],
   "source": [
    "while True:\n",
    "    num1 = input('input a number: ')\n",
    "    num2 = input('input a number: ')\n",
    "    print((int(num1) + int(num2)))\n",
    "    q = input('write \\'Y\\' or \\'y\\' if u want to end (if not press ENTER)')\n",
    "    if q != 'y' and q != 'Y':\n",
    "        continue\n",
    "    else:\n",
    "        print('end')\n",
    "        break\n",
    "    "
   ]
  },
  {
   "cell_type": "code",
   "execution_count": 82,
   "metadata": {},
   "outputs": [
    {
     "name": "stdout",
     "output_type": "stream",
     "text": [
      "*******\n",
      " *   * \n",
      "  * *  \n",
      "   *   \n",
      "  * *  \n",
      " *   * \n",
      "*******\n"
     ]
    }
   ],
   "source": [
    "for i in range(0, 7):\n",
    "    if i == 0:\n",
    "        print('*******')\n",
    "    elif i == 1:\n",
    "        print(' *   * ')\n",
    "    elif i == 2:\n",
    "        print('  * *  ')\n",
    "    elif i == 3:\n",
    "        print('   *   ')\n",
    "    elif i == 4:\n",
    "        print('  * *  ')\n",
    "    elif i == 5:\n",
    "        print(' *   * ')\n",
    "    else:\n",
    "        print('*******')\n",
    "    \n",
    "    \n"
   ]
  },
  {
   "cell_type": "code",
   "execution_count": 90,
   "metadata": {},
   "outputs": [
    {
     "name": "stdout",
     "output_type": "stream",
     "text": [
      "*******\n",
      " *   * \n",
      "  * *  \n",
      "   *   \n",
      "  * *  \n",
      " *   * \n",
      "*******\n"
     ]
    }
   ],
   "source": [
    "n = 7\n",
    "for i in range(0, n):\n",
    "    for j in range(0, n):\n",
    "        if( i == 0 or i == n - 1 or j == i or j == n-i-1):\n",
    "            print(\"*\", end = \"\")\n",
    "        else:\n",
    "            print(' ', end='')\n",
    "    print()"
   ]
  },
  {
   "cell_type": "code",
   "execution_count": 117,
   "metadata": {},
   "outputs": [
    {
     "name": "stdout",
     "output_type": "stream",
     "text": [
      "* 1 * 2 * \n",
      "3 * 4 * 5 \n",
      "* 6 * 7 * \n",
      "8 * 9 * 10 \n",
      "* 11 * 12 * \n"
     ]
    }
   ],
   "source": [
    "n = 5\n",
    "k = 1\n",
    "counter = 1\n",
    "\n",
    "for i in range(n):\n",
    "    for j in range(n):\n",
    "        if k % 2 == 0:\n",
    "            print(counter, end = ' ')\n",
    "            counter += 1\n",
    "        else: \n",
    "            print('*', end = ' ')\n",
    "        k += 1\n",
    "    print()"
   ]
  },
  {
   "cell_type": "code",
   "execution_count": 172,
   "metadata": {},
   "outputs": [
    {
     "name": "stdout",
     "output_type": "stream",
     "text": [
      "['д', 'л', 'о', 'д', 'л', 'э', 'ж', 'ы', 'в', 'а', 'ф']\n",
      "длодлэжываф\n"
     ]
    }
   ],
   "source": [
    "letters = 'ЫДЛОДЛдлоОДЛАВЫЭЖдлэжывафВФЫ'\n",
    "letters1 = []\n",
    "for letter in letters:\n",
    "    if letter == letter.upper():\n",
    "        continue\n",
    "    else:\n",
    "        letters1.append(letter)\n",
    "\n",
    "print(letters1)\n",
    "\n",
    "letters2 = ''\n",
    "for i in letters1:\n",
    "    letters2 += i\n",
    "\n",
    "print(letters2)"
   ]
  },
  {
   "cell_type": "code",
   "execution_count": 249,
   "metadata": {},
   "outputs": [
    {
     "name": "stdout",
     "output_type": "stream",
     "text": [
      "[1, 2, 3, 4, 6, 7, 9, 12, 14, 18, 21, 27, 28, 31, 36, 42, 54, 62, 63, 84, 93, 108, 124, 126, 186, 189, 217, 252, 279, 372, 378, 434, 558, 651, 756, 837, 868, 1116, 1302, 1674, 1953, 2604, 3348, 3906, 5859, 7812, 11718, 23436]\n"
     ]
    }
   ],
   "source": [
    "numbers = 23436\n",
    "list1 = []\n",
    "\n",
    "for i in range(1, numbers+1):\n",
    "    if numbers % i == 0:\n",
    "        list1.append(i)\n",
    "\n",
    "print(list1)\n",
    "\n"
   ]
  },
  {
   "cell_type": "code",
   "execution_count": null,
   "metadata": {},
   "outputs": [],
   "source": []
  }
 ],
 "metadata": {
  "kernelspec": {
   "display_name": "Python 3",
   "language": "python",
   "name": "python3"
  },
  "language_info": {
   "codemirror_mode": {
    "name": "ipython",
    "version": 3
   },
   "file_extension": ".py",
   "mimetype": "text/x-python",
   "name": "python",
   "nbconvert_exporter": "python",
   "pygments_lexer": "ipython3",
   "version": "3.7.8"
  }
 },
 "nbformat": 4,
 "nbformat_minor": 2
}
