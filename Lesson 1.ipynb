{
 "cells": [
  {
   "cell_type": "code",
   "execution_count": 13,
   "metadata": {},
   "outputs": [
    {
     "name": "stdout",
     "output_type": "stream",
     "text": [
      "Hello world!\n"
     ]
    }
   ],
   "source": [
    "print('Hello world!')"
   ]
  },
  {
   "cell_type": "markdown",
   "metadata": {},
   "source": [
    "Python - интерпретируемый язык программирования. Построчно принимает команды и сразу выполняет их. \n",
    "Преимущества: легко заметить ошибки. Недостатки: медленные.\n",
    "Типы интерпретаторов:\n",
    "* простой (JS)\n",
    "* компилирующий (Python)\n",
    "\n",
    "Python - язык программирования со строгая динамическая типизация. \n",
    "Строгая: Язык не производит неявные преобразования типов. Динамическая: типы объектов определяются в процессе исполнения программы.\n",
    "\n",
    "Типы данных:\n",
    "- Изменяемые\n",
    "- Неизменяемые. Python не перезаписывает объект, а создает новый объект с таким же именем."
   ]
  },
  {
   "cell_type": "code",
   "execution_count": 14,
   "metadata": {},
   "outputs": [
    {
     "name": "stdout",
     "output_type": "stream",
     "text": [
      "140736284099120\n",
      "140736284099280\n"
     ]
    }
   ],
   "source": [
    "int_obj = 10 # неизменяемый тип данных\n",
    "print(id(int_obj))\n",
    "int_obj += 5\n",
    "print(id(int_obj))"
   ]
  },
  {
   "cell_type": "markdown",
   "metadata": {},
   "source": [
    "Типы данных:\n",
    "- Числа (целые *int*, с плавающей точкой *float*, комплексные *complex*)\n",
    "- Строки - последовательности символов\n",
    "- Списки - упорядоченная [коллекция объектов]\n",
    "- Кортежи - (неизменяемые списки)\n",
    "- Словарь - неупорядоченная {коллекция пар \"ключ - значение\"}.\n",
    "- Файлы\n",
    "- Булев "
   ]
  },
  {
   "cell_type": "code",
   "execution_count": 15,
   "metadata": {},
   "outputs": [
    {
     "name": "stdout",
     "output_type": "stream",
     "text": [
      "<class 'str'>\n",
      "False\n"
     ]
    }
   ],
   "source": [
    "data = input('Insert your data')\n",
    "print(type(data))\n",
    "print(data.isdigit())# проверить, является ли числом"
   ]
  },
  {
   "cell_type": "markdown",
   "metadata": {},
   "source": [
    "Оператор - символ языка программирования, который оперирует значениями. Строки можно умножать и складывать, а с числами делать любые вычисления."
   ]
  },
  {
   "cell_type": "code",
   "execution_count": 16,
   "metadata": {},
   "outputs": [
    {
     "name": "stdout",
     "output_type": "stream",
     "text": [
      "AcademyAcademyAcademyAcademy\n"
     ]
    }
   ],
   "source": [
    "a = 'Acad'\n",
    "b = 'emy'\n",
    "c = 4 \n",
    "\n",
    "print((a+b)*c) # умножение и сложениестрок"
   ]
  },
  {
   "cell_type": "code",
   "execution_count": 17,
   "metadata": {},
   "outputs": [
    {
     "name": "stdout",
     "output_type": "stream",
     "text": [
      "[312, 9, 8, 6, 5, 1]\n"
     ]
    }
   ],
   "source": [
    "list = [1, 5, 8, 9, 6, 312]\n",
    "\n",
    "list.sort(reverse=True) # sort от большего к меньшему\n",
    "\n",
    "print(list)"
   ]
  },
  {
   "cell_type": "code",
   "execution_count": 12,
   "metadata": {},
   "outputs": [
    {
     "name": "stdout",
     "output_type": "stream",
     "text": [
      "3\n",
      "1\n",
      "1000\n"
     ]
    }
   ],
   "source": [
    "a = 10\n",
    "b = 5\n",
    "c = 3\n",
    "\n",
    "print(a // c) # целое число\n",
    "print( a % c) # остаток от деления\n",
    "print(a ** c) # возведение в степень\n",
    "\n",
    "'''\n",
    "\n",
    "Еще один \n",
    "способ записи\n",
    "комментариев\n",
    "\n",
    "'''"
   ]
  },
  {
   "cell_type": "code",
   "execution_count": 23,
   "metadata": {},
   "outputs": [
    {
     "name": "stdout",
     "output_type": "stream",
     "text": [
      "Прибавили 2 к вашему числу:  125\n",
      "Прибавили 2 к вашему числу: 125\n"
     ]
    }
   ],
   "source": [
    "var = input('Введите число: ')\n",
    "var = int(var) + 1\n",
    "var += 1\n",
    "print('Прибавили 2 к вашему числу: ', var)\n",
    "print(f'Прибавили 2 к вашему числу: {var}')# f-строки"
   ]
  },
  {
   "cell_type": "code",
   "execution_count": 32,
   "metadata": {},
   "outputs": [
    {
     "name": "stdout",
     "output_type": "stream",
     "text": [
      "не везучее число\n"
     ]
    }
   ],
   "source": [
    "# Task 1\n",
    "\n",
    "num = input('введите 6-ти значное число')\n",
    "\n",
    "first = int(num[0])\n",
    "second = int(num[1])\n",
    "third = int(num[2])\n",
    "fourth = int(num[3])\n",
    "fifth = int(num[4])\n",
    "sixth = int(num[5])\n",
    "\n",
    "first_three_sum = first + second + third\n",
    "second_three_sum = fourth + fifth + sixth\n",
    "\n",
    "if first_three_sum == second_three_sum:\n",
    "    print('Ваше число счастливое')\n",
    "elif first_three_sum > second_three_sum:\n",
    "    print('Первое число больше')\n",
    "elif first_three_sum < second_three_sum: \n",
    "    print('Второе число больше')\n",
    "else:\n",
    "    print('Ваши числа невозможно сравнить')\n"
   ]
  },
  {
   "cell_type": "code",
   "execution_count": 39,
   "metadata": {},
   "outputs": [
    {
     "name": "stdout",
     "output_type": "stream",
     "text": [
      "Ваше число 723895 превратилось в число: 593827\n"
     ]
    }
   ],
   "source": [
    "#Task 2\n",
    "num = input('Введите 6-ти значное число: ')\n",
    "\n",
    "first = num[0]\n",
    "second = num[1]\n",
    "third = num[2]\n",
    "fourth = num[3]\n",
    "fifth = num[4]\n",
    "sixth = num[5]\n",
    "\n",
    "num_change = sixth + fifth + third + fourth + second + first\n",
    "print(f'Ваше число {num} превратилось в число: {num_change}')\n",
    "\n"
   ]
  },
  {
   "cell_type": "code",
   "execution_count": 41,
   "metadata": {},
   "outputs": [
    {
     "name": "stdout",
     "output_type": "stream",
     "text": [
      "1\n",
      "1\n",
      "0\n",
      "0.0\n",
      "False\n",
      "True\n",
      "True\n",
      "False\n"
     ]
    }
   ],
   "source": [
    "a = True\n",
    "b = False\n",
    "print(a + b)\n",
    "print(a - b)\n",
    "print(a * b)\n",
    "print(b / a) # / на 0 нельзя, а 0 на 1 можно.\n",
    "print(a < b)\n",
    "print(a > b)\n",
    "print(a | b) # Дизъюнкция (Оператор ИЛИ); T | T = T, T | F = T, F | F = F. Вместо | можно писать or.\n",
    "print(a & b) # Конъюнкция (Оператор И); T & T = T, T & F = F, F | F = F. Вместо & можно писать and."
   ]
  },
  {
   "cell_type": "code",
   "execution_count": 50,
   "metadata": {},
   "outputs": [
    {
     "name": "stdout",
     "output_type": "stream",
     "text": [
      "Year 2000 is leap\n"
     ]
    }
   ],
   "source": [
    "year = 2000\n",
    "if year % 4 == 0 \\\n",
    "    and year % 100 != 0 \\\n",
    "    or year % 400 == 0: # '\\' знак переноса строки\n",
    "    print('Year', year, 'is leap')"
   ]
  },
  {
   "cell_type": "code",
   "execution_count": 57,
   "metadata": {},
   "outputs": [
    {
     "name": "stdout",
     "output_type": "stream",
     "text": [
      "Even number\n"
     ]
    }
   ],
   "source": [
    "num = input('введите ваше число')\n",
    "num = int(num)\n",
    "if num % 2 == 0:\n",
    "    print('Even number')\n",
    "else: \n",
    "    print('Odd number')"
   ]
  },
  {
   "cell_type": "code",
   "execution_count": 61,
   "metadata": {},
   "outputs": [
    {
     "name": "stdout",
     "output_type": "stream",
     "text": [
      "Number is not multiply 7\n"
     ]
    }
   ],
   "source": [
    "num = input('введите ваше число')\n",
    "num = int(num)\n",
    "if num % 7 == 0:\n",
    "    print('Number is multiple 7')\n",
    "else: \n",
    "    print('Number is not multiple 7')"
   ]
  },
  {
   "cell_type": "code",
   "execution_count": 69,
   "metadata": {},
   "outputs": [
    {
     "name": "stdout",
     "output_type": "stream",
     "text": [
      "Числа равны друг другу\n"
     ]
    }
   ],
   "source": [
    "num_1 = input('введите ваше число')\n",
    "num_1 = int(num)\n",
    "num_2 = input('введите ваше число')\n",
    "num_2 = int(num)\n",
    "if num_1 > num_2:\n",
    "    print(f'Число {num_1} больше числа {num_2}')\n",
    "elif num_1 < num_2:\n",
    "    print(f'Число {num_1} менеьше числа {num_2}')\n",
    "else:\n",
    "    print(\"Числа равны друг другу\")"
   ]
  },
  {
   "cell_type": "code",
   "execution_count": null,
   "metadata": {},
   "outputs": [],
   "source": []
  }
 ],
 "metadata": {
  "kernelspec": {
   "display_name": "Python 3",
   "language": "python",
   "name": "python3"
  },
  "language_info": {
   "codemirror_mode": {
    "name": "ipython",
    "version": 3
   },
   "file_extension": ".py",
   "mimetype": "text/x-python",
   "name": "python",
   "nbconvert_exporter": "python",
   "pygments_lexer": "ipython3",
   "version": "3.7.8"
  }
 },
 "nbformat": 4,
 "nbformat_minor": 2
}
