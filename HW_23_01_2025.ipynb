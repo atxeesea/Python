{
 "cells": [
  {
   "cell_type": "code",
   "execution_count": 1,
   "metadata": {},
   "outputs": [
    {
     "data": {
      "text/plain": [
       "['Марка: Toyota, Модель: Corolla, Год изготовления: 2020, Пробег: 15000, Кузов: Sedan.',\n",
       " 'Марка: Volvo, Модель: FH16, Год изготовления: 2018, Пробег: 75000, Грузоподъемность: 25.',\n",
       " 'Марка: Yamaha, Модель: MT-07, Год изготовления: 2021, Пробег: 5000, Объем двигателя: 689. ']"
      ]
     },
     "execution_count": 1,
     "metadata": {},
     "output_type": "execute_result"
    }
   ],
   "source": [
    "class Vehicle:\n",
    "\n",
    "    def __init__(self, brand, model, year, mileage):\n",
    "        self._brand = brand \n",
    "        self._model = model \n",
    "        self._year = year \n",
    "        self._mileage = mileage \n",
    "    \n",
    "    def get_info(self):\n",
    "        return f'Марка: {self._brand}, Модель: {self._model}, Год изготовления: {self._year}, Пробег: {self._mileage}'\n",
    "\n",
    "class Car(Vehicle):\n",
    "    def __init__(self, brand, model, year, mileage, body_type):\n",
    "        super().__init__(brand, model, year, mileage)\n",
    "        self._body_type = body_type\n",
    "\n",
    "    def get_info(self):\n",
    "        return f\"{super().get_info()}, Кузов: {self._body_type}.\" \n",
    "\n",
    "class Truck(Vehicle):\n",
    "    def __init__(self, brand, model, year, mileage, carrying):\n",
    "        super().__init__(brand, model, year, mileage,)\n",
    "        self._carrying = carrying\n",
    "\n",
    "    def get_info(self):\n",
    "        return f\"{super().get_info()}, Грузоподъемность: {self._carrying}.\" \n",
    "\n",
    "class Motorcycle(Vehicle):\n",
    "    def __init__(self, brand, model, year, mileage, engine_capacity):\n",
    "        super().__init__(brand, model, year, mileage)\n",
    "        self._engine_capacity = engine_capacity\n",
    "\n",
    "    def get_info(self):\n",
    "        return f\"{super().get_info()}, Объем двигателя: {self._engine_capacity}. \"\n",
    "\n",
    "class Fleet:\n",
    "    def __init__(self):\n",
    "        self.list = []\n",
    "\n",
    "    def add_vehicle(self, name):\n",
    "        if isinstance(name, Vehicle):  \n",
    "            self.list.append(name.get_info()) \n",
    "            return self.list\n",
    "        else:\n",
    "            return \"Ты по моему перепутал!\"\n",
    "    \n",
    "    def list_vehicles(self):\n",
    "        return self.list\n",
    "        \n",
    "fleet = Fleet() \n",
    "\n",
    "car = Car(\"Toyota\", \"Corolla\", 2020, 15000, \"Sedan\") \n",
    "truck = Truck(\"Volvo\", \"FH16\", 2018, 75000, 25) \n",
    "motorcycle = Motorcycle(\"Yamaha\", \"MT-07\", 2021, 5000, 689) \n",
    "\n",
    "fleet.add_vehicle(car) \n",
    "fleet.add_vehicle(truck) \n",
    "fleet.add_vehicle(motorcycle) \n",
    "\n",
    "fleet.list_vehicles()"
   ]
  }
 ],
 "metadata": {
  "kernelspec": {
   "display_name": "Python 3",
   "language": "python",
   "name": "python3"
  },
  "language_info": {
   "codemirror_mode": {
    "name": "ipython",
    "version": 3
   },
   "file_extension": ".py",
   "mimetype": "text/x-python",
   "name": "python",
   "nbconvert_exporter": "python",
   "pygments_lexer": "ipython3",
   "version": "3.13.0"
  }
 },
 "nbformat": 4,
 "nbformat_minor": 2
}
