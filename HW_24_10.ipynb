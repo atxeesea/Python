{
 "cells": [
  {
   "cell_type": "markdown",
   "metadata": {},
   "source": [
    "1. Числа Фибоначчи: Напишите программу, которая выводит первые 50 чисел Фибоначчи. Напоминаем, что ряд Фибоначчи начинается с чисел 0 и 1, а каждое последующее число равно сумме двух предыдущих."
   ]
  },
  {
   "cell_type": "code",
   "execution_count": 6,
   "metadata": {},
   "outputs": [
    {
     "name": "stdout",
     "output_type": "stream",
     "text": [
      "1\n",
      "2\n",
      "3\n",
      "5\n",
      "8\n",
      "13\n",
      "21\n",
      "34\n",
      "55\n",
      "89\n",
      "144\n",
      "233\n",
      "377\n",
      "610\n",
      "987\n",
      "1597\n",
      "2584\n",
      "4181\n",
      "6765\n",
      "10946\n",
      "17711\n",
      "28657\n",
      "46368\n",
      "75025\n",
      "121393\n",
      "196418\n",
      "317811\n",
      "514229\n",
      "832040\n",
      "1346269\n",
      "2178309\n",
      "3524578\n",
      "5702887\n",
      "9227465\n",
      "14930352\n",
      "24157817\n",
      "39088169\n",
      "63245986\n",
      "102334155\n",
      "165580141\n",
      "267914296\n",
      "433494437\n",
      "701408733\n",
      "1134903170\n",
      "1836311903\n",
      "2971215073\n",
      "4807526976\n",
      "7778742049\n"
     ]
    }
   ],
   "source": [
    "number1 = 0\n",
    "number2 = 1\n",
    "\n",
    "First50 = 50\n",
    "\n",
    "for _ in range(First50 - 2):\n",
    "    number1, number2 = number2, number1 + number2\n",
    "    print(number2)"
   ]
  },
  {
   "cell_type": "markdown",
   "metadata": {},
   "source": [
    "2. Сумма цифр: Напишите программу, которая принимает на вход натуральное число и вычисляет сумму его цифр"
   ]
  },
  {
   "cell_type": "code",
   "execution_count": null,
   "metadata": {},
   "outputs": [],
   "source": [
    "numbers = (input('Введите натуральнео число:'))\n",
    "\n",
    "sum = 0\n",
    "\n",
    "for i in numbers:\n",
    "    sum += int(i)\n",
    "\n",
    "print(sum)"
   ]
  },
  {
   "cell_type": "markdown",
   "metadata": {},
   "source": [
    "3. Игра \"Угадай число\": Напишите программу, которая \"загадывает\" случайное число от 1 до 100 и предлагает пользователю его угадать. После каждого ввода числа программа должна сообщать, больше загаданное число, меньше или равно. Игра продолжается, пока пользователь не угадает число. В конце игры программа должна вывести количество попыток."
   ]
  },
  {
   "cell_type": "code",
   "execution_count": 13,
   "metadata": {},
   "outputs": [
    {
     "name": "stdout",
     "output_type": "stream",
     "text": [
      "Загаданное число меньше чем: 50\n",
      "Загаданное число меньше чем: 25\n",
      "Загаданное число больше чем: 15\n",
      "Загаданное число меньше чем: 17\n",
      "вы угадали: 16 \n",
      "Число угадано за: 5 попытки(попыток)\n"
     ]
    }
   ],
   "source": [
    "import random\n",
    "\n",
    "RandomNum = random.randint(1,100)\n",
    "count = 0\n",
    "\n",
    "\n",
    "while True:\n",
    "    number = int(input('Введите число от 1 до 100: '))\n",
    "    if number < RandomNum:\n",
    "        print(f'Загаданное число больше чем: {number}')\n",
    "        count += 1 \n",
    "    elif number > RandomNum:\n",
    "        print(f'Загаданное число меньше чем: {number}')\n",
    "        count += 1\n",
    "    else:\n",
    "        print(f\"вы угадали: {number} \")\n",
    "        count += 1\n",
    "        break\n",
    "\n",
    "print(f'Число угадано за: {count} попытки(попыток)')"
   ]
  },
  {
   "cell_type": "markdown",
   "metadata": {},
   "source": [
    "4. Звездочки: Напишите программу, которая рисует прямоугольник из звездочек, используя циклы. Пользователь вводит высоту и ширину прямоугольника."
   ]
  },
  {
   "cell_type": "code",
   "execution_count": 11,
   "metadata": {},
   "outputs": [
    {
     "name": "stdout",
     "output_type": "stream",
     "text": [
      "**********\n",
      "*        *\n",
      "*        *\n",
      "*        *\n",
      "**********\n"
     ]
    }
   ],
   "source": [
    "height = int(input('Введите высоту: ')) # 5 \n",
    "width = int(input('Введите ширину: ')) # 10\n",
    "\n",
    "for i in range(1, height + 1):\n",
    "    if i == 1 or i == height:\n",
    "        print('*' * width)\n",
    "    else:\n",
    "        print('*' + ' ' * (width - 2) + '*')\n"
   ]
  },
  {
   "cell_type": "markdown",
   "metadata": {},
   "source": [
    "5. Факториал: Напишите программу, которая вычисляет факториал заданного пользователем числа. Факториал числа n (обозначается n!) — это произведение всех натуральных чисел от 1 до n. Использовать функцию factorial() из библиотеки math запрещается!"
   ]
  },
  {
   "cell_type": "code",
   "execution_count": 8,
   "metadata": {},
   "outputs": [
    {
     "name": "stdout",
     "output_type": "stream",
     "text": [
      "24\n"
     ]
    }
   ],
   "source": [
    "number = int(input('Введите факториал: ')) # factorial 4\n",
    "\n",
    "factorial = 1\n",
    "\n",
    "for i in range(2, number + 1):\n",
    "    factorial *= i\n",
    "\n",
    "print(factorial)"
   ]
  }
 ],
 "metadata": {
  "kernelspec": {
   "display_name": "Python 3",
   "language": "python",
   "name": "python3"
  },
  "language_info": {
   "codemirror_mode": {
    "name": "ipython",
    "version": 3
   },
   "file_extension": ".py",
   "mimetype": "text/x-python",
   "name": "python",
   "nbconvert_exporter": "python",
   "pygments_lexer": "ipython3",
   "version": "3.12.6"
  }
 },
 "nbformat": 4,
 "nbformat_minor": 2
}
