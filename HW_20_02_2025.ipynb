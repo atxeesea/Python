{
 "cells": [
  {
   "cell_type": "code",
   "execution_count": 2,
   "metadata": {},
   "outputs": [],
   "source": [
    "from abc import ABC, abstractmethod"
   ]
  },
  {
   "cell_type": "markdown",
   "metadata": {},
   "source": [
    "1. Single Responsibility Principle (SRP) <br>\n",
    "\n",
    "Задание 1 <br>"
   ]
  },
  {
   "cell_type": "code",
   "execution_count": 7,
   "metadata": {},
   "outputs": [
    {
     "name": "stdout",
     "output_type": "stream",
     "text": [
      "Сотрудник: andrej, Зарплата после налогов: 21750.0\n"
     ]
    }
   ],
   "source": [
    "class Employee:\n",
    "    def __init__(self, name, salary):\n",
    "        self.name = name\n",
    "        self.salary = salary\n",
    "\n",
    "    def calculate_salary(self):\n",
    "        return self.salary * 0.87 # Удержание налогов\n",
    "    \n",
    "    def generate_report(self):\n",
    "        return f\"Сотрудник: {self.name}, Зарплата после налогов: {self.calculate_salary()}\"\n",
    "    \n",
    "class SaveToFile:\n",
    "    def save_to_file(self, report):\n",
    "        with open(\"employee.txt\", \"w\", encoding='utf-8') as file: \n",
    "            file.write(report)\n",
    "\n",
    "employee = Employee(\"andrej\", 25000)\n",
    "employee.calculate_salary()\n",
    "\n",
    "report1 = employee.generate_report()\n",
    "print(report1)\n",
    "\n",
    "savetofile = SaveToFile()\n",
    "savetofile.save_to_file(report1)"
   ]
  },
  {
   "cell_type": "markdown",
   "metadata": {},
   "source": [
    "2. Open/Closed Principle (OCP) <br>\n",
    "\n",
    "Задание 2 <br>"
   ]
  },
  {
   "cell_type": "code",
   "execution_count": 6,
   "metadata": {},
   "outputs": [
    {
     "name": "stdout",
     "output_type": "stream",
     "text": [
      "Оплата 100 через кредитную карту\n",
      "Оплата 200 через PayPal\n",
      "Оплата 300 через Bitcoin\n"
     ]
    }
   ],
   "source": [
    "class Payment(ABC):\n",
    "    @abstractmethod\n",
    "    def process(self, amount):\n",
    "        pass\n",
    "\n",
    "class CreditCardPayment(Payment):\n",
    "    def process(self, amount):\n",
    "        print(f\"Оплата {amount} через кредитную карту\")\n",
    "\n",
    "class PayPalPayment(Payment):\n",
    "    def process(self, amount):\n",
    "        print(f\"Оплата {amount} через PayPal\")\n",
    "\n",
    "class BitcoinPayment(Payment):\n",
    "    def process(self, amount):\n",
    "        print(f\"Оплата {amount} через Bitcoin\")\n",
    "\n",
    "class PaymentProcessor:\n",
    "    def process_payment(self, payment: Payment, amount):\n",
    "        payment.process(amount)\n",
    "\n",
    "if __name__ == \"__main__\":\n",
    "    processor = PaymentProcessor()\n",
    "    \n",
    "    credit_card_payment = CreditCardPayment()\n",
    "    processor.process_payment(credit_card_payment, 100)\n",
    "\n",
    "    paypal_payment = PayPalPayment()\n",
    "    processor.process_payment(paypal_payment, 200)\n",
    "\n",
    "    bitcoin_payment = BitcoinPayment()\n",
    "    processor.process_payment(bitcoin_payment, 300)"
   ]
  },
  {
   "cell_type": "markdown",
   "metadata": {},
   "source": [
    "3. Liskov Substitution Principle (LSP) <br>\n",
    "\n",
    "Задание 3"
   ]
  },
  {
   "cell_type": "code",
   "execution_count": 5,
   "metadata": {},
   "outputs": [
    {
     "name": "stdout",
     "output_type": "stream",
     "text": [
      "Двигатель запущен\n",
      "Транспортное средство движется\n",
      "Велосипед движется без двигателя\n"
     ]
    }
   ],
   "source": [
    "class Vehicle(ABC):\n",
    "    @abstractmethod\n",
    "    def move(self):\n",
    "        pass\n",
    "\n",
    "class MotorVehicle(Vehicle):\n",
    "    def start_engine(self):\n",
    "        print(\"Двигатель запущен\")\n",
    "\n",
    "    def move(self):\n",
    "        self.start_engine()\n",
    "        print(\"Транспортное средство движется\")\n",
    "\n",
    "class Bicycle(Vehicle):\n",
    "    def move(self):\n",
    "        print(\"Велосипед движется без двигателя\")\n",
    "\n",
    "\n",
    "def operate_vehicle(vehicle: Vehicle):\n",
    "    vehicle.move()\n",
    "\n",
    "car = MotorVehicle()\n",
    "bicycle = Bicycle()\n",
    "\n",
    "operate_vehicle(car)      \n",
    "operate_vehicle(bicycle)  \n",
    "        "
   ]
  },
  {
   "cell_type": "markdown",
   "metadata": {},
   "source": [
    "4. Interface Segregation Principle (ISP) <br>\n",
    "\n",
    "Задание 4 "
   ]
  },
  {
   "cell_type": "code",
   "execution_count": 4,
   "metadata": {},
   "outputs": [],
   "source": [
    "class Work:\n",
    "    def work(self):\n",
    "        return 'Работает'\n",
    "\n",
    "class Eat:\n",
    "    def eat(self):\n",
    "        return 'Ест'\n",
    "\n",
    "class OfficeEmployee(Work, Eat):\n",
    "    def work(self):\n",
    "        return super().work()\n",
    "    \n",
    "    def eat(self):\n",
    "        return super().eat()\n",
    "\n",
    "class Robot(Work):\n",
    "    def work(self):\n",
    "        return super().work()"
   ]
  },
  {
   "cell_type": "markdown",
   "metadata": {},
   "source": [
    "5. Dependency Inversion Principle (DIP) <br>\n",
    "\n",
    "Задание 5"
   ]
  },
  {
   "cell_type": "code",
   "execution_count": 3,
   "metadata": {},
   "outputs": [
    {
     "name": "stdout",
     "output_type": "stream",
     "text": [
      "Отправка SMS: Привет\n",
      "Заказ обработан\n",
      "Отправка SMS: Ваш заказ подтвержден!\n"
     ]
    }
   ],
   "source": [
    "class SMSNotifier:\n",
    "    def send(self, message):\n",
    "        print(f\"Отправка SMS: {message}\")\n",
    "\n",
    "class OrderProcessor:\n",
    "    def __init__(self, type):\n",
    "        self.type = type\n",
    "\n",
    "    def process_order(self):\n",
    "        print(\"Заказ обработан\")\n",
    "        self.type.send(\"Ваш заказ подтвержден!\")\n",
    "\n",
    "sms1 = SMSNotifier()\n",
    "sms1.send('Привет')\n",
    "\n",
    "order_processor = OrderProcessor(sms1)\n",
    "order_processor.process_order()"
   ]
  }
 ],
 "metadata": {
  "kernelspec": {
   "display_name": "Python 3",
   "language": "python",
   "name": "python3"
  },
  "language_info": {
   "codemirror_mode": {
    "name": "ipython",
    "version": 3
   },
   "file_extension": ".py",
   "mimetype": "text/x-python",
   "name": "python",
   "nbconvert_exporter": "python",
   "pygments_lexer": "ipython3",
   "version": "3.13.2"
  }
 },
 "nbformat": 4,
 "nbformat_minor": 2
}
