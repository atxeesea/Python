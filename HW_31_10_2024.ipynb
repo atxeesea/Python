{
 "cells": [
  {
   "cell_type": "markdown",
   "metadata": {},
   "source": [
    "**Задание 1.** <br>\n",
    "Напишите функцию, которая отображает на экран форматированный текст, указанный ниже: <br>\n",
    "“Don't compare yourself with anyone in this world…<br>\n",
    "if you do so, you are insulting yourself.”<br>\n",
    "Bill Gates\n"
   ]
  },
  {
   "cell_type": "code",
   "execution_count": 2,
   "metadata": {},
   "outputs": [
    {
     "name": "stdout",
     "output_type": "stream",
     "text": [
      "“Don't compare yourself with anyone in this world…\n",
      "if you do so, you are insulting yourself.”\n",
      "Bill Gates\n"
     ]
    }
   ],
   "source": [
    "def showText():\n",
    "    print(\"\"\"“Don't compare yourself with anyone in this world…\n",
    "if you do so, you are insulting yourself.”\n",
    "Bill Gates\"\"\")\n",
    "    \n",
    "showText()"
   ]
  },
  {
   "cell_type": "markdown",
   "metadata": {},
   "source": [
    "**Задание 2.** <br>\n",
    "Напишите функцию, которая принимает два числа в качестве параметра и отображает все четные числа между ними."
   ]
  },
  {
   "cell_type": "code",
   "execution_count": 1,
   "metadata": {},
   "outputs": [
    {
     "name": "stdout",
     "output_type": "stream",
     "text": [
      "Четные числа между 3 и 10: [4, 6, 8, 10]\n"
     ]
    }
   ],
   "source": [
    "def show_even_numbers(start, end): \n",
    "    if start > end: \n",
    "        start, end = end, start \n",
    " \n",
    "    even_numbers = [num for num in range(start, end + 1) if num % 2 == 0] \n",
    "     \n",
    "    print(f'Четные числа между {start} и {end}: {even_numbers}') \n",
    " \n",
    "show_even_numbers(3, 10)"
   ]
  },
  {
   "cell_type": "markdown",
   "metadata": {},
   "source": [
    "**Задание 3.**<br>\n",
    "Напишите функцию, которая отображает пустой или заполненный квадрат из некоторого символа. Функция принимает в качестве параметров: длину стороны квадрата, символ и переменную логического типа\n",
    " - если она равна True, квадрат заполненный;\n",
    " - если False, квадрат пустой."
   ]
  },
  {
   "cell_type": "code",
   "execution_count": 5,
   "metadata": {},
   "outputs": [
    {
     "name": "stdout",
     "output_type": "stream",
     "text": [
      "*****\n",
      "*****\n",
      "*****\n",
      "*****\n",
      "*****\n"
     ]
    }
   ],
   "source": [
    "def square(sideLength, symbol, filled): \n",
    "    if filled: \n",
    "        for i in range(sideLength): \n",
    "            print(symbol * sideLength) \n",
    "    else: \n",
    "        print(symbol * sideLength) \n",
    "        for i in range(sideLength - 2): \n",
    "            print(symbol + ' ' * (sideLength - 2) + symbol) \n",
    "        print(symbol * sideLength)\n",
    "square(5, '*', True)"
   ]
  },
  {
   "cell_type": "markdown",
   "metadata": {},
   "source": [
    "**Задание 4.** <br>\n",
    "Напишите функцию, которая возвращает минимальное из пяти чисел. Числа передаются в качестве параметров."
   ]
  },
  {
   "cell_type": "code",
   "execution_count": 6,
   "metadata": {},
   "outputs": [
    {
     "data": {
      "text/plain": [
       "1"
      ]
     },
     "execution_count": 6,
     "metadata": {},
     "output_type": "execute_result"
    }
   ],
   "source": [
    "def numbers(a, b, c, d, e):\n",
    "    return min(a, b, c, d, e)\n",
    "\n",
    "numbers(7,6,3,9,1)"
   ]
  },
  {
   "cell_type": "markdown",
   "metadata": {},
   "source": [
    "**Задание 5** <br>\n",
    "Напишите функцию, которая возвращает произведение чисел в указанном диапазоне. Границы диапазона передаются в качестве параметров. Если границы диапазона перепутаны (например,5- верхняя граница,25-нижняя граница), их нужно поменять местами"
   ]
  },
  {
   "cell_type": "code",
   "execution_count": 7,
   "metadata": {},
   "outputs": [
    {
     "name": "stdout",
     "output_type": "stream",
     "text": [
      "3628800\n",
      "3628800\n",
      "Числа одинаковые для создания диапазона\n"
     ]
    }
   ],
   "source": [
    "def task5(a, b):\n",
    "    if a == b:\n",
    "        return 'Числа одинаковые для создания диапазона'\n",
    "\n",
    "    start = min(a, b)\n",
    "    end = max(a, b)\n",
    "\n",
    "    result = 1 \n",
    "    \n",
    "    for i in range(start, end + 1):\n",
    "        result *= i  \n",
    "\n",
    "    return result\n",
    "\n",
    "print(task5(1, 10))  \n",
    "print(task5(10, 1))  \n",
    "print(task5(5, 5))  "
   ]
  },
  {
   "cell_type": "markdown",
   "metadata": {},
   "source": [
    "**Задание 6.** <br>\n",
    "Напишите функцию, которая считает количество цифр в числе. Число передаётся в качестве параметра. Из функции нужно вернуть полученное количество цифр Например, если передали 3456, количество цифр будет 4."
   ]
  },
  {
   "cell_type": "code",
   "execution_count": null,
   "metadata": {},
   "outputs": [],
   "source": [
    "def count_nums(numbers):\n",
    "    return len(str(abs(numbers)))\n",
    "\n",
    "num = 1234\n",
    "result = count_nums(num)\n",
    "print(result) "
   ]
  },
  {
   "cell_type": "markdown",
   "metadata": {},
   "source": [
    "**Задание 7.** <br>\n",
    "Напишите функцию, которая проверяет является ли число палиндромом. Число передаётся в качестве параметра. Если число палиндром нужно вернуть из функции true, иначе false. «Палиндром» — это число, у которого первая часть цифр равна второй перевернутой части цифр. Например, 123321—палиндром(первая часть 123, вторая 321, которая после переворота становится 123), 546645 — палиндром, а 421987 — не палиндром. "
   ]
  },
  {
   "cell_type": "code",
   "execution_count": 8,
   "metadata": {},
   "outputs": [
    {
     "data": {
      "text/plain": [
       "True"
      ]
     },
     "execution_count": 8,
     "metadata": {},
     "output_type": "execute_result"
    }
   ],
   "source": [
    "def is_palindrome(number):\n",
    "    num_str = str((number))  \n",
    "\n",
    "    return num_str == num_str[::-1]\n",
    "\n",
    "is_palindrome(123321)"
   ]
  }
 ],
 "metadata": {
  "kernelspec": {
   "display_name": "Python 3",
   "language": "python",
   "name": "python3"
  },
  "language_info": {
   "codemirror_mode": {
    "name": "ipython",
    "version": 3
   },
   "file_extension": ".py",
   "mimetype": "text/x-python",
   "name": "python",
   "nbconvert_exporter": "python",
   "pygments_lexer": "ipython3",
   "version": "3.13.0"
  }
 },
 "nbformat": 4,
 "nbformat_minor": 2
}
