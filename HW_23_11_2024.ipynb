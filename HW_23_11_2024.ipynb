{
 "cells": [
  {
   "cell_type": "markdown",
   "metadata": {},
   "source": [
    "Задание 1 <br>\n",
    "Есть четыре списка целых. Необходимо их объединить\n",
    "в пятом списке. Полученный результат в зависимости от\n",
    "выбора пользователя отсортировать по убыванию или\n",
    "возрастанию. Найти значение, введенное пользователем,\n",
    "с использованием линейного поиска."
   ]
  },
  {
   "cell_type": "code",
   "execution_count": null,
   "metadata": {},
   "outputs": [],
   "source": [
    "def linear_search(arr, target):\n",
    "    for i in range(len(arr)):\n",
    "        if arr[i] == target:\n",
    "            return i\n",
    "    return -1\n",
    "from random import randint\n",
    "\n",
    "def main():\n",
    "    lst1 = [randint(1, 100) for _ in range(5)]\n",
    "    lst2 = [randint(1, 100) for _ in range(5)]\n",
    "    lst3 = [randint(1, 100) for _ in range(5)]\n",
    "    lst4 = [randint(1, 100) for _ in range(5)]\n",
    "    \n",
    "    lst5 = list(set(lst1 + lst2 + lst3 + lst4))\n",
    "    \n",
    "    user_sort = input('введите 0 для сортировки по возрастанию, 1 для сортировки по убыванию ')\n",
    "    if user_sort == '0':\n",
    "        lst5.sort()  \n",
    "    elif user_sort == '1':\n",
    "        lst5.sort(reverse=True) \n",
    "    else:\n",
    "        print(\"Вы ввели не то.\")\n",
    "    \n",
    "    print(\"Отсортированый список:\",lst5)\n",
    "    \n",
    "    user_num = int(input(\"Введите значение для поиска: \"))\n",
    "    print('Число которое вы ищете:',user_num)\n",
    "    print('Индекс',linear_search(lst5,user_num))\n",
    "    \n",
    "\n",
    "\n",
    "if __name__ == \"__main__\":\n",
    "    main()"
   ]
  }
 ],
 "metadata": {
  "language_info": {
   "name": "python"
  }
 },
 "nbformat": 4,
 "nbformat_minor": 2
}
