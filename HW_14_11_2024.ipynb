{
 "cells": [
  {
   "cell_type": "markdown",
   "metadata": {},
   "source": [
    "1) Задача на генератор и оператор yield <br>\n",
    "Создайте генератор, который принимает список чисел и возвращает квадраты чисел, кратных 3. Используйте оператор yield.<br>\n",
    "<br>\n",
    "def square_generator(numbers):<br>\n",
    "    Ваш код здесь*<br>\n",
    "    pass<br>\n",
    "<br>\n",
    "Пример использования:<br>\n",
    "<br>\n",
    "for square in square_generator([1, 3, 5, 6, 9]):<br>\n",
    "    print(square)<br>\n"
   ]
  },
  {
   "cell_type": "code",
   "execution_count": 1,
   "metadata": {},
   "outputs": [
    {
     "name": "stdout",
     "output_type": "stream",
     "text": [
      "[9, 36, 81]\n"
     ]
    }
   ],
   "source": [
    "def square_generator(numbers):\n",
    "    list1 = [number ** 2 for number in numbers if number % 3 == 0]\n",
    "    yield list1\n",
    "\n",
    "for square in square_generator([1, 3, 5, 6, 9]):\n",
    "    print(square)"
   ]
  },
  {
   "cell_type": "markdown",
   "metadata": {},
   "source": [
    "2) Задача на функцию lambda <br>\n",
    "Напишите lambda-функцию, которая принимает строку и возвращает эту строку в верхнем регистре, если она короче 5 символов, и в нижнем регистре, если она длиннее 5 символов, а если в ней ровно 5 символов, то возвращает необработанную строку. <br>\n",
    "<br>\n",
    "transform_string = # Ваш код здесь<br>\n",
    "<br>\n",
    "Пример использования <br>\n",
    "print(transform_string(\"Hello, World!\"))   # Должно вывести: \"hello, world!\" <br>\n",
    "print(transform_string(\"Hello\"))   # Должно вывести: \"Hello\" <br>\n",
    "print(transform_string(\"Hi\"))      # Должно вывести: \"HI\" <br>\n"
   ]
  },
  {
   "cell_type": "code",
   "execution_count": 3,
   "metadata": {},
   "outputs": [
    {
     "name": "stdout",
     "output_type": "stream",
     "text": [
      "hello, world!\n",
      "Hello\n",
      "HI\n"
     ]
    }
   ],
   "source": [
    "transform_string = lambda x: (\n",
    "    x.lower() if len(x) > 5 \n",
    "    else x if len(x) == 5 \n",
    "    else x.upper()      \n",
    ")\n",
    "\n",
    "print(transform_string(\"Hello, World!\")) \n",
    "print(transform_string(\"Hello\")) \n",
    "print(transform_string(\"Hi\"))    "
   ]
  },
  {
   "cell_type": "markdown",
   "metadata": {},
   "source": [
    "3) Задача на функции map и filter <br>\n",
    "Создайте список целых чисел. Используя функции map и filter, напишите программу, которая оставляет только четные числа и увеличивает каждое из них на 10.<br>\n",
    "<br>\n",
    "numbers = [1, 2, 3, 4, 5, 6, 7, 8, 9]<br>\n",
    "<br>\n",
    "Ваш код здесь<br>\n",
    "<br>\n",
    "Пример использования<br>\n",
    "print(new_numbers)  # Должно вывести: [12, 14, 16, 18]"
   ]
  },
  {
   "cell_type": "code",
   "execution_count": 4,
   "metadata": {},
   "outputs": [
    {
     "name": "stdout",
     "output_type": "stream",
     "text": [
      "[12, 14, 16, 18]\n"
     ]
    }
   ],
   "source": [
    "numbers = [1, 2, 3, 4, 5, 6, 7, 8, 9]\n",
    "\n",
    "new_numbers = list(map(lambda x: x + 10, filter(lambda x: x % 2 == 0, numbers)))\n",
    "\n",
    "\n",
    "print(new_numbers)"
   ]
  },
  {
   "cell_type": "markdown",
   "metadata": {},
   "source": [
    "4) Задача на замыкания<br>\n",
    "Напишите функцию multiply_by, которая принимает один аргумент n и возвращает функцию, которая принимает один аргумент x и возвращает результат умножения x на n. Используйте замыкание для сохранения значения n в возвращенной функции.<br>\n",
    "<br>\n",
    "def multiply_by(n):<br>\n",
    "    Ваш код здесь<br>\n",
    "    pass<br>\n",
    "\n",
    "Пример использования<br>\n",
    "doubler = multiply_by(2)<br>\n",
    "print(doubler(5))  # Должно вывести: 10<br>\n",
    "tripler = multiply_by(3)<br>\n",
    "print(tripler(5))  # Должно вывести: 15\n"
   ]
  },
  {
   "cell_type": "code",
   "execution_count": 5,
   "metadata": {},
   "outputs": [
    {
     "name": "stdout",
     "output_type": "stream",
     "text": [
      "10\n",
      "15\n"
     ]
    }
   ],
   "source": [
    "def multiply_by(n):\n",
    "    def multiply(x):\n",
    "        return x * n\n",
    "    return multiply\n",
    "\n",
    "doubler = multiply_by(2)\n",
    "print(doubler(5))  \n",
    "\n",
    "tripler = multiply_by(3)\n",
    "print(tripler(5))"
   ]
  }
 ],
 "metadata": {
  "kernelspec": {
   "display_name": "Python 3",
   "language": "python",
   "name": "python3"
  },
  "language_info": {
   "codemirror_mode": {
    "name": "ipython",
    "version": 3
   },
   "file_extension": ".py",
   "mimetype": "text/x-python",
   "name": "python",
   "nbconvert_exporter": "python",
   "pygments_lexer": "ipython3",
   "version": "3.13.0"
  }
 },
 "nbformat": 4,
 "nbformat_minor": 2
}
