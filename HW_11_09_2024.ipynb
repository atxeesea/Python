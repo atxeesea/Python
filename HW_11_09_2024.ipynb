{
 "cells": [
  {
   "cell_type": "markdown",
   "metadata": {},
   "source": [
    "Задание: <br>\n",
    "<br>\n",
    "Напишите функцию calculate_average, которая принимает любое количество числовых аргументов и возвращает среднее значение. Используйте *args для обработки произвольного количества аргументов. Ваша функция не должна ломаться. То есть если её вызвать без аргументов, она должна выдать что-то вроде «Вы забыли ввести числа для расчета среднего значения».<br>\n",
    "<br>\n",
    "Пример использования:<br>\n",
    "<br>\n",
    "average1 = calculate_average(1, 2, 3, 4, 5)<br>\n",
    "print(average1) # Должно вернуть 3<br>\n",
    "<br>\n",
    "average2 = calculate_average(100, 20, 354)<br>\n",
    "print(average2) # Должно вернуть 158<br>\n"
   ]
  },
  {
   "cell_type": "code",
   "execution_count": null,
   "metadata": {},
   "outputs": [
    {
     "name": "stdout",
     "output_type": "stream",
     "text": [
      "3.0\n",
      "158.0\n",
      "Вы забыли ввести числа для расчета среднего значения\n"
     ]
    }
   ],
   "source": [
    "def calculate_average(*args):\n",
    "    if len(args) == 0:\n",
    "        return \"Вы забыли ввести числа для расчета среднего значения\"\n",
    "    return sum(args) / len(args)\n",
    "\n",
    "average1 = calculate_average(1, 2, 3, 4, 5)\n",
    "print(average1)\n",
    "\n",
    "average2 = calculate_average(100, 20, 354)\n",
    "print(average2)\n",
    "\n",
    "average3 = calculate_average()\n",
    "print(average3)"
   ]
  }
 ],
 "metadata": {
  "kernelspec": {
   "display_name": "Python 3",
   "language": "python",
   "name": "python3"
  },
  "language_info": {
   "codemirror_mode": {
    "name": "ipython",
    "version": 3
   },
   "file_extension": ".py",
   "mimetype": "text/x-python",
   "name": "python",
   "nbconvert_exporter": "python",
   "pygments_lexer": "ipython3",
   "version": "3.13.0"
  }
 },
 "nbformat": 4,
 "nbformat_minor": 2
}
