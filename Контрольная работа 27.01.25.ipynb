{
 "cells": [
  {
   "cell_type": "markdown",
   "metadata": {},
   "source": [
    "Задание 1: Работа с ветвлениями, циклами, исключениями <br>\n",
    "\n",
    "Создайте программу, которая:\n",
    "1. Запрашивает у пользователя список чисел, разделённых пробелом.\n",
    "2. Проверяет, чтобы введённые данные не содержали ошибок (например, букв, \n",
    "символов и т.д.). Если есть ошибка, выводит ошибку «Список должен состоять \n",
    "только из чисел» и запрашивает повторный ввод.\n",
    "3. Выводит:\n",
    "    - Сумму всех чисел.\n",
    "    - Количество положительных и отрицательных чисел.\n",
    "    - Наименьшее и наибольшее число в списке.\n",
    "    - Среднее значение чисел в списке.\n"
   ]
  },
  {
   "cell_type": "code",
   "execution_count": 17,
   "metadata": {},
   "outputs": [
    {
     "name": "stdout",
     "output_type": "stream",
     "text": [
      "Введеные значения: ['-43', '96', '-26', '-32', '61', '-38', '-92', '-36', '95', '-8', '-29', '-92', '-43', '-65', '46', '84', '-89', '-55', '5', '-51']\n",
      "Сумма чисел равна -312\n",
      "Количество положительных чисел: 6, количество отрицательных чисел равно 14\n",
      "Наибольшее значение равно 96, наименьшее значение равно -92\n",
      "Среднее значение чисел в списке равно -15.6\n"
     ]
    }
   ],
   "source": [
    "NumList = input(\"Введите список чисел, разделенный пробелом: \")\n",
    "\n",
    "listtest = list(NumList.split())\n",
    "\n",
    "list1 = list()\n",
    "for i in listtest:\n",
    "    if i == ' ':\n",
    "        continue\n",
    "    else:\n",
    "        list1.append(i)\n",
    "\n",
    "print(f\"Введеные значения: {list1}\")\n",
    "\n",
    "# ---------- sum ---------- \n",
    "sum = 0\n",
    "for i in list1:\n",
    "    sum = int(i) + sum\n",
    "\n",
    "print(f\"Сумма чисел равна {sum}\")\n",
    "\n",
    "# ---------- odd/even ---------- \n",
    "odd = 0\n",
    "even = 0\n",
    "for i in list1:\n",
    "    if int(i) < 0:\n",
    "        odd = odd + 1\n",
    "    else:\n",
    "        even = even + 1\n",
    "\n",
    "print(f\"Количество положительных чисел: {even}, количество отрицательных чисел равно {odd}\")\n",
    "\n",
    "# ---------- min/max ---------- \n",
    "min = list1[0]\n",
    "max = list1[0]\n",
    "\n",
    "for i in list1:\n",
    "    # if i == '-':\n",
    "    #     list[i+1] = -list[i+1] переделать !\n",
    "    if int(min) > int(i):\n",
    "        min = i\n",
    "    if int(max) < int(i):\n",
    "        max = i\n",
    "\n",
    "print(f\"Наибольшее значение равно {max}, наименьшее значение равно {min}\")\n",
    "\n",
    "\n",
    "# ---------- сред значение ---------- \n",
    "list1len = len(list1)\n",
    "sum2 = 0\n",
    "\n",
    "for i in list1:\n",
    "    sum2 = int(i) + sum2\n",
    "\n",
    "result = sum2/list1len\n",
    "\n",
    "print(f\"Среднее значение чисел в списке равно {result}\")\n"
   ]
  },
  {
   "cell_type": "markdown",
   "metadata": {},
   "source": [
    "Задание 2: Строки, списки, функции <br>\n",
    "\n",
    "Напишите функцию process_string(text: str) -> dict, которая:\n",
    "1. Принимает строку и возвращает словарь с:\n",
    "    - Количеством слов в строке.\n",
    "    - Количеством уникальных слов.\n",
    "    - Самым длинным словом.\n",
    "2. Напишите основной код, который:\n",
    "    - Считывает строку из файла input.txt.\n",
    "    - Вызывает функцию и записывает результат в файл output.txt в виде: \n",
    "<br>\n",
    "Слов: 10\n",
    "<br> \n",
    "Уникальных слов: 8 \n",
    "<br>\n",
    "Самое длинное слово: \"программирование\""
   ]
  },
  {
   "cell_type": "code",
   "execution_count": 42,
   "metadata": {},
   "outputs": [
    {
     "name": "stdout",
     "output_type": "stream",
     "text": [
      "Слов в тексте: 8\n",
      "Кол-во уникальных слов: 7\n",
      "Самое длинное слово: Проверка\n",
      "---------- Проверка ввелись ли данные в новый файл ----------\n",
      "Проверка задания два и работа с заданием два\n"
     ]
    }
   ],
   "source": [
    "# 1\n",
    "def process_string(text: str) -> dict:\n",
    "    # 1.1\n",
    "    words = text.split()\n",
    "    words_len = len(words)\n",
    "    print(f'Слов в тексте: {words_len}')\n",
    "\n",
    "    # 1.2\n",
    "    unic_words = []\n",
    "    for i in words:\n",
    "        if i not in unic_words:\n",
    "            unic_words.append(i)\n",
    "        else:\n",
    "            continue\n",
    "    unic_words_len = len(unic_words)\n",
    "    print(f'Кол-во уникальных слов: {unic_words_len}')\n",
    "\n",
    "    # 1.3\n",
    "    longest_word = words[0]\n",
    "    for i in words:\n",
    "        if len(longest_word) < len(i):\n",
    "            longest_word = i\n",
    "        else:\n",
    "            continue\n",
    "    print(f'Самое длинное слово: {longest_word}')\n",
    "    \n",
    "\n",
    "# 2\n",
    "with open('input.txt', 'r+', encoding='utf-8') as f:\n",
    "    text = f.read()\n",
    "    f.close()\n",
    "    \n",
    "new_text = process_string(text)\n",
    "    \n",
    "with open('output.txt', 'w+', encoding='utf-8') as f:\n",
    "    new_text = str(new_text)\n",
    "    f.write(new_text)\n",
    "    f.close()\n",
    "    \n",
    "print('---------- Проверка ввелись ли данные в новый файл ----------')\n",
    "\n",
    "with open('output.txt', 'r+', encoding='utf-8') as f:\n",
    "    text = f.read()\n",
    "    print(text)"
   ]
  },
  {
   "cell_type": "markdown",
   "metadata": {},
   "source": [
    "Задание 3: Сортировка, поиск, работа с коллекциями <br>\n",
    "\n",
    "Напишите программу, которая:\n",
    "1. Создаёт случайный список из 20 чисел от -100 до 100.\n",
    "2. Сортирует его по возрастанию, используя сортировку пузырьком.\n",
    "3. Находит в списке число, введённое пользователем (если число не найдено, выводит \n",
    "сообщение об этом).\n",
    "4. Выводит отсортированный список и индекс найденного числа.\n"
   ]
  },
  {
   "cell_type": "code",
   "execution_count": 96,
   "metadata": {},
   "outputs": [
    {
     "name": "stdout",
     "output_type": "stream",
     "text": [
      "[-43, 96, -26, -32, 61, -38, -92, -36, 95, -8, -29, -92, -43, -65, 46, 84, -89, -55, 5, -51]\n",
      "[-92, -92, -89, -65, -55, -51, -43, -43, -38, -36, -32, -29, -26, -8, 5, 46, 61, 84, 95, 96]\n",
      "Числа 1 нет в списке\n"
     ]
    }
   ],
   "source": [
    "from random import randint\n",
    "\n",
    "# 1.\n",
    "a = [randint(-100, 100) for _ in range(20)]\n",
    "print(a)\n",
    "\n",
    "# 2.\n",
    "LenList = 20\n",
    "\n",
    "for i in range(LenList - 1):\n",
    "    for j in range(LenList - 1 - i):\n",
    "        if a[j] > a[j + 1]:\n",
    "            a[j], a[j + 1] = a[j + 1], a[j]\n",
    "\n",
    "print(a)\n",
    "\n",
    "# 3.\n",
    "num = input('Введите число, которое необходимо найти: ')\n",
    "\n",
    "if int(num) not in a:\n",
    "    print(f\"Числа {num} нет в списке\")\n",
    "else:\n",
    "    for i in a:\n",
    "        if i != int(num):\n",
    "            continue\n",
    "        else:\n",
    "            NumIndex = a[i]\n",
    "            print(f'Число {num} имеет индекс {NumIndex} в списке') "
   ]
  },
  {
   "cell_type": "markdown",
   "metadata": {},
   "source": [
    "Задание 4: ООП, кортежи, множества, словари<br>\n",
    "\n",
    "Создайте класс Student, который:\n",
    "1. Имеет атрибуты name (имя студента), scores (список оценок).\n",
    "2. Имеет методы:\n",
    "    - add_score(score): добавляет оценку.\n",
    "    - average_score(): возвращает средний балл.\n",
    "    - get_report(): возвращает словарь с именем, средним баллом и уникальными оценками (в виде множества).\n",
    "3. Напишите код для работы с классом:\n",
    "    - Создайте список из 5 студентов с разными именами и оценками.\n",
    "    - Выведите отчёты для всех студентов."
   ]
  },
  {
   "cell_type": "code",
   "execution_count": 11,
   "metadata": {},
   "outputs": [
    {
     "name": "stdout",
     "output_type": "stream",
     "text": [
      " ---------- Вывод всех функций (пример работы) ---------- \n",
      "В список добавлена оценка 5, текущие оценки ученика [5, 4, 5, 2, 2, 4, 3, 5, 5, 5]\n",
      "Средняя оценка ученика: 4.0\n",
      "('name' = andrej, средняя оценка: 4.0, текущие оценки: [5, 4, 5, 2, 2, 4, 3, 5, 5, 5])\n",
      " ---------- Вывод отчета для всех студентов  ---------- \n",
      "('name' = student1, средняя оценка: 3.89, текущие оценки: [5, 4, 5, 2, 2, 4, 3, 5, 5])\n",
      "('name' = student2, средняя оценка: 3.33, текущие оценки: [3, 2, 3, 3, 3, 4, 5, 4, 3])\n",
      "('name' = student3, средняя оценка: 4.11, текущие оценки: [4, 5, 4, 2, 3, 4, 5, 5, 5])\n",
      "('name' = student4, средняя оценка: 4.56, текущие оценки: [5, 4, 5, 5, 5, 5, 5, 4, 3])\n",
      "('name' = student5, средняя оценка: 2.67, текущие оценки: [2, 2, 3, 5, 3, 4, 1, 2, 2])\n"
     ]
    }
   ],
   "source": [
    "class Student:\n",
    "    def __init__(self, name, scores):\n",
    "        self.name = name\n",
    "        self.scores = scores\n",
    "\n",
    "    def add_score(self, score):\n",
    "        self.scores.append(score)\n",
    "        print(f'В список добавлена оценка {score}, текущие оценки ученика {self.scores}')\n",
    "\n",
    "    def average_score(self):\n",
    "        print(f'Средняя оценка ученика: {sum(self.scores) / len(self.scores)}') \n",
    "\n",
    "    def get_report(self):\n",
    "        print(f\"('name' = {self.name}, средняя оценка: {round((sum(self.scores) / len(self.scores)), 2)}, текущие оценки: {self.scores})\")\n",
    "\n",
    "name = 'andrej'\n",
    "scores = [5, 4, 5, 2, 2, 4, 3, 5, 5]\n",
    "student1 = Student(name, scores)\n",
    "\n",
    "print(' ---------- Вывод всех функций (пример работы) ---------- ')\n",
    "student1.add_score(5)\n",
    "student1.average_score()\n",
    "student1.get_report()\n",
    "\n",
    "print(' ---------- Вывод отчета для всех студентов  ---------- ')\n",
    "student1 = Student(name='student1', scores=[5, 4, 5, 2, 2, 4, 3, 5, 5]).get_report(),\n",
    "student2 = Student(name='student2', scores=[3, 2, 3, 3, 3, 4, 5, 4, 3]).get_report(),\n",
    "student3 = Student(name='student3', scores=[4, 5, 4, 2, 3, 4, 5, 5, 5]).get_report(),\n",
    "student4 = Student(name='student4', scores=[5, 4, 5, 5, 5, 5, 5, 4, 3]).get_report(),\n",
    "student5 = Student(name='student5', scores=[2, 2, 3, 5, 3, 4, 1, 2, 2]).get_report()"
   ]
  },
  {
   "cell_type": "markdown",
   "metadata": {},
   "source": [
    "Задание 5: Структуры данных, работа с файлами (20 баллов) <br>\n",
    "\n",
    "Напишите программу, которая:\n",
    "1. Читает файл students.txt, где каждая строка содержит имя студента и его баллы \n",
    "через запятую (например, Илья,4,5,3,5) (как минимум 5 строк, сами придумайте \n",
    "имена и оценки).\n",
    "2. Сохраняет данные в словарь, где ключ – имя студента, а значение – список его \n",
    "баллов.\n",
    "3. Находит студента с наивысшим средним баллом.\n",
    "4. Записывает результат в файл top_student.txt в виде (и заодно выводит эту же \n",
    "информацию на экран):\n",
    "<br>\n",
    "<br>\n",
    "Лучший студент: Илья \n",
    "<br>\n",
    "Средний балл: 4.25"
   ]
  },
  {
   "cell_type": "code",
   "execution_count": 45,
   "metadata": {},
   "outputs": [
    {
     "name": "stdout",
     "output_type": "stream",
     "text": [
      "student1,5,4,5,2,2,4,3,5,5\n",
      "student2,3,2,3,3,3,4,5,4,3\n",
      "student3,4,5,4,2,3,4,5,5,5\n",
      "student4,5,4,5,5,5,5,5,4,3\n",
      "student5,2,2,3,5,3,4,1,2,2\n"
     ]
    }
   ],
   "source": [
    "with open('students.txt', 'r+') as f:\n",
    "    text = f.read()\n",
    "\n",
    "print(text)\n"
   ]
  }
 ],
 "metadata": {
  "kernelspec": {
   "display_name": "Python 3",
   "language": "python",
   "name": "python3"
  },
  "language_info": {
   "codemirror_mode": {
    "name": "ipython",
    "version": 3
   },
   "file_extension": ".py",
   "mimetype": "text/x-python",
   "name": "python",
   "nbconvert_exporter": "python",
   "pygments_lexer": "ipython3",
   "version": "3.13.0"
  }
 },
 "nbformat": 4,
 "nbformat_minor": 2
}
