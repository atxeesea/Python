{
 "cells": [
  {
   "cell_type": "markdown",
   "metadata": {},
   "source": [
    "Задание 1 <br>\n",
    "\n",
    "Создайте реализацию паттерна Builder. Протестируйте \n",
    "работу созданного класса."
   ]
  },
  {
   "cell_type": "code",
   "execution_count": 2,
   "metadata": {},
   "outputs": [
    {
     "name": "stdout",
     "output_type": "stream",
     "text": [
      "Product parts:Part 1Part 2\n"
     ]
    }
   ],
   "source": [
    "class Product:\n",
    "    def __init__(self):\n",
    "        self.parts = []\n",
    "    \n",
    "    def add(self,part):\n",
    "        self.parts.append(part)\n",
    "    \n",
    "    def show(self):\n",
    "        return f'Product parts:{\"\".join(self.parts)}'\n",
    "    \n",
    "class Builder:\n",
    "    \n",
    "    def build_part1(self):\n",
    "        pass\n",
    "    \n",
    "    def build_part2(self):\n",
    "        pass\n",
    "    \n",
    "    def build_part3(self):\n",
    "        pass\n",
    "    \n",
    "class ConcretBuilder(Builder):\n",
    "    def __init__(self):\n",
    "        self.product = Product()\n",
    "    \n",
    "    def build_part1(self):\n",
    "        self.product.add('Part 1')\n",
    "    \n",
    "    def build_part2(self):\n",
    "        self.product.add('Part 2')\n",
    "    \n",
    "    def get_product(self):\n",
    "        return self.product\n",
    "    \n",
    "class Director:\n",
    "    def __init__(self,builder:Builder):\n",
    "        self.builder = builder\n",
    "    \n",
    "    def construct(self):\n",
    "        self.builder.build_part1()\n",
    "        self.builder.build_part2()\n",
    "        \n",
    "builder = ConcretBuilder()\n",
    "director = Director(builder)\n",
    "director.construct()\n",
    "\n",
    "product = builder.get_product()\n",
    "print(product.show())"
   ]
  },
  {
   "cell_type": "markdown",
   "metadata": {},
   "source": [
    "Задание 2 <br>\n",
    "\n",
    "Создайте приложение для приготовления пасты. Приложение должно уметь создавать минимум три вида пасты. Классы различной пасты должны иметь следующие методы:\n",
    "- Тип пасты;\n",
    "- Соус;\n",
    "- Начинка;\n",
    "- Добавки. <br>\n",
    "\n",
    " Для реализации используйте порождающие паттерны"
   ]
  },
  {
   "cell_type": "code",
   "execution_count": 1,
   "metadata": {},
   "outputs": [
    {
     "name": "stdout",
     "output_type": "stream",
     "text": [
      "Pasta type:Spaghetti,sauce:Tomato,filling('Meat',),toppings:Trenbolon\n",
      "Pasta type:Vermishel,sauce:mustard,filling('cheese',),toppings:Protein\n"
     ]
    }
   ],
   "source": [
    "class Pasta:\n",
    "    def __init__(self):\n",
    "        self.type = None\n",
    "        self.sauce = None\n",
    "        self.filling = None\n",
    "        self.toppings = []\n",
    "        \n",
    "    def set_type(self, pasta_type):\n",
    "        self.type = pasta_type\n",
    "        \n",
    "    def set_sauce(self, sauce):\n",
    "        self.sauce = sauce\n",
    "    \n",
    "    def set_filling(self,filling):\n",
    "        self.filling = filling\n",
    "    \n",
    "    def add_toppings(self,topping):\n",
    "        self.toppings.append(topping)\n",
    "    \n",
    "    def show(self):\n",
    "        return f'Pasta type:{self.type},sauce:{self.sauce},filling{self.filling,},toppings:{\"\".join(self.toppings)}'\n",
    "    \n",
    "class PastaBuilder:\n",
    "        \n",
    "    def build_type(self):\n",
    "        pass\n",
    "    \n",
    "    def build_sauce(self):\n",
    "        pass\n",
    "    \n",
    "    def build_filling(self):\n",
    "        pass\n",
    "    \n",
    "    def build_toppings(self):\n",
    "        pass\n",
    "    \n",
    "    def get_pasta(self):\n",
    "        pass\n",
    "    \n",
    "class SpaghettiBuilder(PastaBuilder):\n",
    "    def __init__(self):\n",
    "        self.pasta = Pasta()\n",
    "    \n",
    "    def build_type(self):\n",
    "        self.pasta.set_type(\"Spaghetti\")\n",
    "    \n",
    "    def build_sauce(self):\n",
    "        self.pasta.set_sauce(\"Tomato\")\n",
    "    \n",
    "    def build_filling(self):\n",
    "        self.pasta.set_filling(\"Meat\")\n",
    "    \n",
    "    def build_toppings(self):\n",
    "        self.pasta.add_toppings(\"Trenbolon\")\n",
    "    \n",
    "    def get_pasta(self):\n",
    "        return self.pasta\n",
    "\n",
    "class VermishelBuilder(PastaBuilder):\n",
    "    def __init__(self):\n",
    "        self.pasta = Pasta()\n",
    "    \n",
    "    def build_type(self):\n",
    "        self.pasta.set_type(\"Vermishel\")\n",
    "    \n",
    "    def build_sauce(self):\n",
    "        self.pasta.set_sauce(\"mustard\")\n",
    "    \n",
    "    def build_filling(self):\n",
    "        self.pasta.set_filling(\"cheese\")\n",
    "    \n",
    "    def build_toppings(self):\n",
    "        self.pasta.add_toppings(\"Protein\")\n",
    "    \n",
    "    def get_pasta(self):\n",
    "        return self.pasta\n",
    "    \n",
    "class PastaDirector:\n",
    "    def __init__(self,builder:PastaBuilder):\n",
    "        self.builder = builder\n",
    "    \n",
    "    def construct(self):\n",
    "        self.builder.build_type()\n",
    "        self.builder.build_sauce()\n",
    "        self.builder.build_sauce()\n",
    "        self.builder.build_filling()\n",
    "        self.builder.build_toppings()\n",
    "        \n",
    "spaghetti_builder = SpaghettiBuilder()\n",
    "director = PastaDirector(spaghetti_builder)\n",
    "director.construct()\n",
    "\n",
    "spaghetti = spaghetti_builder.get_pasta()\n",
    "print(spaghetti.show())\n",
    "\n",
    "vermishel_builder = VermishelBuilder()\n",
    "director = PastaDirector(vermishel_builder)\n",
    "director.construct()\n",
    "\n",
    "vermishel = vermishel_builder.get_pasta()\n",
    "print(vermishel.show())"
   ]
  },
  {
   "cell_type": "markdown",
   "metadata": {},
   "source": [
    " Задание 3 <br>\n",
    "\n",
    "Cоздайте реализацию паттерна Prototype. Протестируйте работу созданного класса."
   ]
  },
  {
   "cell_type": "code",
   "execution_count": 4,
   "metadata": {},
   "outputs": [
    {
     "name": "stdout",
     "output_type": "stream",
     "text": [
      "John lives at 13 London Road,London,UK\n"
     ]
    }
   ],
   "source": [
    "class Addres:\n",
    "    def __init__(self,street_address,city,country):\n",
    "        self.city = city\n",
    "        self.street_address = street_address\n",
    "        self.country = country\n",
    "    def __str__(self):\n",
    "        return f'{self.street_address},{self.city},{self.country}'\n",
    "class Person:\n",
    "    def __init__(self,name,address):\n",
    "        self.name = name\n",
    "        self.address = address\n",
    "    \n",
    "    def __str__(self):\n",
    "        return f'{self.name} lives at {self.address}'\n",
    "    \n",
    "john = Person('John',Addres('13 London Road','London','UK'))\n",
    "print(john)"
   ]
  }
 ],
 "metadata": {
  "kernelspec": {
   "display_name": "Python 3",
   "language": "python",
   "name": "python3"
  },
  "language_info": {
   "codemirror_mode": {
    "name": "ipython",
    "version": 3
   },
   "file_extension": ".py",
   "mimetype": "text/x-python",
   "name": "python",
   "nbconvert_exporter": "python",
   "pygments_lexer": "ipython3",
   "version": "3.13.2"
  }
 },
 "nbformat": 4,
 "nbformat_minor": 2
}
