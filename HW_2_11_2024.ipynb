{
 "cells": [
  {
   "cell_type": "markdown",
   "metadata": {},
   "source": [
    "Задание 1. <br>\n",
    "Напишите функцию, вычисляющую произведение <br>\n",
    "элементов списка целых. Список передаётся в качестве параметра. <br>\n",
    "Полученный результат возвращается из функции."
   ]
  },
  {
   "cell_type": "code",
   "execution_count": 45,
   "metadata": {},
   "outputs": [
    {
     "name": "stdout",
     "output_type": "stream",
     "text": [
      "720\n",
      "262144\n"
     ]
    }
   ],
   "source": [
    "def multiplication(a): \n",
    "    mult = 1\n",
    "    for i in a:\n",
    "        mult *= i\n",
    "    return mult\n",
    "\n",
    "print(multiplication([2, 4, 3, 1, 5, 6]))\n",
    "print(multiplication([8, 8, 8, 8, 8, 8]))\n"
   ]
  },
  {
   "cell_type": "markdown",
   "metadata": {},
   "source": [
    "Задание 2. <br>\n",
    "Напишите функцию для нахождения минимума в <br>\n",
    "списке целых. Список передаётся в качестве параметра. <br>\n",
    "Полученный результат возвращается из функции."
   ]
  },
  {
   "cell_type": "code",
   "execution_count": 46,
   "metadata": {},
   "outputs": [
    {
     "name": "stdout",
     "output_type": "stream",
     "text": [
      "0\n",
      "1\n"
     ]
    }
   ],
   "source": [
    "def minimum(a): \n",
    "    return min(a)\n",
    "\n",
    "print(minimum([2, 4, 3, 0, 5, 6]))\n",
    "print(minimum([9, 5, 1, 6, 4, 7]))\n"
   ]
  },
  {
   "cell_type": "markdown",
   "metadata": {},
   "source": [
    "Задание 3. <br>\n",
    "Напишите функцию,определяющую количество простых <br>\n",
    "чисел в списке целых. Список передаётся в качестве  <br>\n",
    "параметра. Полученный результат возвращается из функции. <br>"
   ]
  },
  {
   "cell_type": "code",
   "execution_count": null,
   "metadata": {},
   "outputs": [],
   "source": [
    "def is_simple(n):\n",
    "    if n <= 1:\n",
    "        return False\n",
    "    for i in range(2, int(n)):\n",
    "        if n % i == 0:\n",
    "            return False\n",
    "    return True\n",
    "\n",
    "def count_simple(list_int):\n",
    "    count = 0\n",
    "    for num in list_int:\n",
    "        if is_simple(num):\n",
    "            count += 1\n",
    "    return count\n",
    "\n",
    "print(count_simple([3, 4, 5, 6, 7, 8, 9, 10, 11]))\n"
   ]
  },
  {
   "cell_type": "markdown",
   "metadata": {},
   "source": [
    "Задание 4. <br>\n",
    "Напишите функцию, удаляющую из списка целых  <br>\n",
    "некоторое заданное число. Из функции нужно вернуть  <br>\n",
    "количество удаленных элементов"
   ]
  },
  {
   "cell_type": "code",
   "execution_count": 55,
   "metadata": {},
   "outputs": [
    {
     "name": "stdout",
     "output_type": "stream",
     "text": [
      "5\n",
      "[2, 3, 9, 8, 7]\n"
     ]
    }
   ],
   "source": [
    "def list_clear(num,list1):\n",
    "    list_len = len(list1)\n",
    "    while True:\n",
    "        if list1.count(num) == 0:\n",
    "            break\n",
    "        list1.remove(num)\n",
    "    return list_len - len(list1)\n",
    "\n",
    "list2 = [2,3,5,5,5,5,9,5,8,7]\n",
    "\n",
    "print(list_clear(5, list2))\n",
    "print(list2)"
   ]
  },
  {
   "cell_type": "markdown",
   "metadata": {},
   "source": [
    "Задание 5 <br>\n",
    "Напишите функцию, которая получает два списка в  <br>\n",
    "качестве параметра и возвращает список, содержащий  <br>\n",
    "элементы обоих списков.\n",
    " "
   ]
  },
  {
   "cell_type": "code",
   "execution_count": 45,
   "metadata": {},
   "outputs": [
    {
     "name": "stdout",
     "output_type": "stream",
     "text": [
      "[1, 8, 2, 4, 5, 6, 3, 1, 9, 0]\n"
     ]
    }
   ],
   "source": [
    "def _2spiska(list1, list2):\n",
    "    list3 = list1 + list2\n",
    "    return list3\n",
    "\n",
    "print(_2spiska([1, 8, 2, 4, 5], [6, 3, 1, 9, 0]))"
   ]
  },
  {
   "cell_type": "markdown",
   "metadata": {},
   "source": [
    "Задание 6 <br>\n",
    "Напишите функцию,высчитывающую степень каждого  <br>\n",
    "элемента списка целых. Значение для степени передаётся  <br>\n",
    "в качестве параметра, список тожепередаётся вкачестве  <br>\n",
    "параметра. Функция возвращает новый список, содержащий<br>\n",
    "полученные результаты."
   ]
  },
  {
   "cell_type": "code",
   "execution_count": 63,
   "metadata": {},
   "outputs": [
    {
     "name": "stdout",
     "output_type": "stream",
     "text": [
      "[4, 16, 9, 1, 25, 36]\n",
      "[729, 125, 8, 216, 64, 343]\n"
     ]
    }
   ],
   "source": [
    "def degree(num, list1): \n",
    "    NewList = []\n",
    "\n",
    "    for i in list1:\n",
    "        i **= num\n",
    "        NewList.append(i)\n",
    "    return NewList\n",
    "\n",
    "print(degree(2, [2, 4, 3, 1, 5, 6]))\n",
    "print(degree(3, [9, 5, 2, 6, 4, 7]))\n"
   ]
  }
 ],
 "metadata": {
  "kernelspec": {
   "display_name": "Python 3",
   "language": "python",
   "name": "python3"
  },
  "language_info": {
   "codemirror_mode": {
    "name": "ipython",
    "version": 3
   },
   "file_extension": ".py",
   "mimetype": "text/x-python",
   "name": "python",
   "nbconvert_exporter": "python",
   "pygments_lexer": "ipython3",
   "version": "3.13.0"
  }
 },
 "nbformat": 4,
 "nbformat_minor": 2
}
