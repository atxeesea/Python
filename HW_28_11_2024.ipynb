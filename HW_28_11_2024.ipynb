{
 "cells": [
  {
   "cell_type": "markdown",
   "metadata": {},
   "source": [
    "Есть четыре списка целых. Необходимо объединить\n",
    "в пятом списке только те элементы, которые уникальны\n",
    "для каждого списка. Полученный результат в зависимости\n",
    "от выбора пользователя отсортировать по убыванию или\n",
    "возрастанию. Найти значение, введенное пользователем,\n",
    "с использованием бинарного поиска"
   ]
  },
  {
   "cell_type": "code",
   "execution_count": 1,
   "metadata": {},
   "outputs": [
    {
     "name": "stdout",
     "output_type": "stream",
     "text": [
      "Сгенерированные списки:\n",
      "[64, 20, 24, 85, 62] [55, 69, 44, 64, 90] [86, 55, 25, 66, 61] [63, 51, 1, 42, 26]\n",
      "Уникальные элементы: [1, 66, 69, 90, 42, 44, 51, 20, 85, 86, 24, 25, 26, 61, 62, 63]\n",
      "[1, 20, 24, 25, 26, 42, 44, 51, 61, 62, 63, 66, 69, 85, 86, 90]\n",
      "1\n",
      "Значение найдено, индекс = 0\n",
      "[90, 86, 85, 69, 66, 63, 62, 61, 51, 44, 42, 26, 25, 24, 20, 1]\n",
      "[90, 86, 85, 69, 66, 63, 62, 61, 51, 44, 42, 26, 25, 24, 20, 1]\n"
     ]
    }
   ],
   "source": [
    "from random import randint \n",
    "\n",
    "lst1 = [randint(1, 100) for _ in range(5)]\n",
    "lst2 = [randint(1, 100) for _ in range(5)]\n",
    "lst3 = [randint(1, 100) for _ in range(5)]\n",
    "lst4 = [randint(1, 100) for _ in range(5)]\n",
    "\n",
    "print(\"Сгенерированные списки:\")\n",
    "print(lst1, lst2, lst3, lst4)\n",
    "\n",
    "unique_elements = (set(lst1) ^ set(lst2)) ^ (set(lst3) ^ set(lst4))\n",
    "\n",
    "lst5 = list(unique_elements)\n",
    "def binary_search(a, value, down=False):\n",
    "    low = 0\n",
    "    high = len(a) - 1\n",
    "\n",
    "    while low <= high:\n",
    "        mid = (low + high) // 2\n",
    "        if a[mid] == value:\n",
    "            print('Значение найдено, индекс =', mid)\n",
    "            return mid\n",
    "        elif (value > a[mid] and not down) or (value < a[mid] and down):\n",
    "            low = mid + 1\n",
    "        else:\n",
    "            high = mid - 1\n",
    "\n",
    "    print('Значение не найдено')\n",
    "    return -1\n",
    "\n",
    "print(\"Уникальные элементы:\", lst5)\n",
    "\n",
    "lst5.sort()\n",
    "\n",
    "while True:\n",
    "    user_input = input('1 - по возрастанию, 0 - по убыванию, 2 - найти ваше значение, 3 - выйти: ')\n",
    "    if user_input == '1':\n",
    "        lst5.sort()  \n",
    "        print(lst5)\n",
    "    elif user_input == '0':\n",
    "        lst5.sort(reverse=True)  \n",
    "        print(lst5)\n",
    "    elif user_input == '2':\n",
    "        user_num = int(input('Введите число: '))\n",
    "        print(user_num)\n",
    "        down = True if lst5[0] > lst5[-1] else False\n",
    "        binary_search(lst5, user_num, down)\n",
    "    elif user_input == '3':\n",
    "        break\n",
    "    else:\n",
    "        print(\"Неверный ввод, попробуйте еще раз.\")"
   ]
  }
 ],
 "metadata": {
  "kernelspec": {
   "display_name": "Python 3",
   "language": "python",
   "name": "python3"
  },
  "language_info": {
   "codemirror_mode": {
    "name": "ipython",
    "version": 3
   },
   "file_extension": ".py",
   "mimetype": "text/x-python",
   "name": "python",
   "nbconvert_exporter": "python",
   "pygments_lexer": "ipython3",
   "version": "3.13.0"
  }
 },
 "nbformat": 4,
 "nbformat_minor": 2
}
