{
 "cells": [
  {
   "cell_type": "markdown",
   "metadata": {},
   "source": [
    "Задание №1 Class “Книга”\n",
    "Создайте класс Книга с атрибутами:\n",
    "- название (строка),\n",
    "- автор (строка),\n",
    "- год_издания (целое число),\n",
    "- количество_страниц (целое число),\n",
    "- цена (вещественное число)\n",
    "\n",
    "<br>\n",
    "Добавьте в класс Книга метод рассчитать_стоимость,который будет возвращать стоимость книги, исходя из ее цены и количества страниц. Формула для расчета стоимости: цена * количество_страниц / 100. <br>\n",
    "<br>\n",
    "Добавьте в класс Книга метод изменить_количество_страниц, который будет принимать новое количество страниц и изменять соответствующий атрибут"
   ]
  },
  {
   "cell_type": "code",
   "execution_count": 10,
   "metadata": {},
   "outputs": [
    {
     "name": "stdout",
     "output_type": "stream",
     "text": [
      "['1984', 'Jorj Oruell', 1949, 328, 15.99]\n",
      "['1984', 'Jorj Oruell', 1949, 540, 86.346]\n"
     ]
    }
   ],
   "source": [
    "class Book:\n",
    "    def __init__(self, name, author, year, pages, price):\n",
    "        self.name = name\n",
    "        self.author = author\n",
    "        self.year = year\n",
    "        self.pages = pages\n",
    "        self.price = price\n",
    "    \n",
    "    def change_count_of_pages(self, pages):\n",
    "        self.pages = pages\n",
    "\n",
    "    def count_price(self):\n",
    "        self.price = self.price * self.pages / 100\n",
    "\n",
    "    def show_info(self):\n",
    "        info = [self.name, self.author, self.year, self.pages, self.price]\n",
    "        print(info)\n",
    "\n",
    "book1 = Book(\"1984\", \"Jorj Oruell\", 1949, 328, 15.99)\n",
    "\n",
    "\n",
    "book1.show_info()\n",
    "\n",
    "book1.change_count_of_pages(540)\n",
    "book1.count_price()\n",
    "book1.show_info()\n"
   ]
  },
  {
   "cell_type": "markdown",
   "metadata": {},
   "source": [
    "Задание №2 Class “Counter”\n",
    "Создайте класс Счетчик, который будет моделировать\n",
    "счетчик, используемый для подсчета чего-либо. Класс\n",
    "должен иметь следующие свойства и методы:\n",
    "Приватное свойство _значение, которое хранит\n",
    "текущее значение счетчика.\n",
    "- Метод увеличить(), который увеличивает значение\n",
    "счетчика на 1.\n",
    "- Метод уменьшить(), который уменьшает значение\n",
    "счетчика на 1.\n",
    "- Метод получить_значение(), который возвращает\n",
    "текущее значение счетчика.\n",
    "- Метод сбросить(), который сбрасывает значение\n",
    "счетчика на 0.\n",
    "\n",
    "\n",
    "Дополнительные требования:\n",
    "Значение счетчика не может быть меньше 0.\n",
    "При попытке уменьшить значение счетчика ниже 0,\n",
    "оно должно оставаться равным 0"
   ]
  },
  {
   "cell_type": "code",
   "execution_count": 46,
   "metadata": {},
   "outputs": [
    {
     "name": "stdout",
     "output_type": "stream",
     "text": [
      "счетчик равен 1\n",
      "счетчик равен 0\n",
      "Ваш счетчик не может быть меньше 0\n",
      "счетчик равен 0\n",
      "счетчик равен 1\n",
      "счетчик равен 0\n"
     ]
    }
   ],
   "source": [
    "class Counter:\n",
    "    def __init__(self, count):\n",
    "        self.__count = count\n",
    "\n",
    "    def enlarge(self):\n",
    "        self.__count += 1\n",
    "        self.__count = self.__count\n",
    "\n",
    "    def reduce(self):\n",
    "        if self.__count > 0:\n",
    "            self.__count -= 1\n",
    "            self.__count = self.__count\n",
    "        else:\n",
    "            print(\"Ваш счетчик не может быть меньше 0\")\n",
    "    \n",
    "    def clear(self):\n",
    "        self.__count = 0\n",
    "\n",
    "    def show_info(self):\n",
    "        print(f'счетчик равен {self.__count}')\n",
    "\n",
    "test1 = Counter(1)\n",
    "test1.show_info()\n",
    "\n",
    "test1.clear()\n",
    "test1.show_info()\n",
    "\n",
    "test1.reduce()\n",
    "test1.show_info()\n",
    "\n",
    "test1.enlarge()\n",
    "test1.show_info()\n",
    "\n",
    "test1.reduce()\n",
    "test1.show_info()"
   ]
  },
  {
   "cell_type": "markdown",
   "metadata": {},
   "source": [
    "Задание №3 Class “BankAcc” <br>\n",
    "<br>\n",
    "Создайте класс Банковский Счет, который будет\n",
    "моделировать банковский счет. Класс должен иметь\n",
    "следующие свойства и методы:\n",
    "- Приватное свойство _баланс, которое хранит текущий\n",
    "баланс счета.\n",
    "- Метод положить_деньги(сумма), который увеличивает\n",
    "баланс на указанную сумму.\n",
    "- Метод снять_деньги(сумма), который уменьшает\n",
    "баланс на указанную сумму. Если на счете\n",
    "недостаточно средств, должно выводиться сообщение\n",
    "об ошибке.\n",
    "- Метод получить_баланс(), который возвращает\n",
    "текущий баланс счета.\n"
   ]
  },
  {
   "cell_type": "code",
   "execution_count": 67,
   "metadata": {},
   "outputs": [
    {
     "name": "stdout",
     "output_type": "stream",
     "text": [
      "Ваш баланс 150 ед.\n",
      "Ваш баланс 165 ед.\n",
      "Ваш баланс 112 ед.\n",
      "Ваш баланс 12 ед.\n"
     ]
    }
   ],
   "source": [
    "class BankAcc:\n",
    "    def __init__(self, balance):\n",
    "        if balance >= 0:\n",
    "            self.__balance = balance \n",
    "        else:\n",
    "            self.__balance = 0 \n",
    "\n",
    "    def put_money(self, sum):\n",
    "        if sum > 0:\n",
    "            self.__balance = self.__balance + sum \n",
    "        else:\n",
    "            return \"Вносимая сумма должна быть положительной\"\n",
    "    \n",
    "    def send_money(self, sum):\n",
    "        if sum > 0:\n",
    "            if self.__balance >= sum:\n",
    "                self.__balance = self.__balance - sum \n",
    "            else:\n",
    "                return 'Недостаточно средств'\n",
    "        else:\n",
    "            return 'Введите корректноре число'\n",
    "        \n",
    "    def cash_out(self, sum):\n",
    "        if sum > 0:\n",
    "            if self.__balance >= sum:\n",
    "                self.__balance = self.__balance - sum \n",
    "            else:\n",
    "                return 'Недостаточно средств для снятия'\n",
    "        else:\n",
    "            return 'Введите корректноре число'\n",
    "    \n",
    "    def show_balance(self):\n",
    "        return f'Ваш баланс {self.__balance} ед.'        \n",
    "\n",
    "acc = BankAcc(150)\n",
    "print(acc.show_balance())\n",
    "\n",
    "acc.put_money(15)\n",
    "print(acc.show_balance())\n",
    "\n",
    "acc.send_money(53)\n",
    "print(acc.show_balance())\n",
    "\n",
    "acc.cash_out(100)\n",
    "print(acc.show_balance())"
   ]
  }
 ],
 "metadata": {
  "kernelspec": {
   "display_name": "Python 3",
   "language": "python",
   "name": "python3"
  },
  "language_info": {
   "codemirror_mode": {
    "name": "ipython",
    "version": 3
   },
   "file_extension": ".py",
   "mimetype": "text/x-python",
   "name": "python",
   "nbconvert_exporter": "python",
   "pygments_lexer": "ipython3",
   "version": "3.13.0"
  }
 },
 "nbformat": 4,
 "nbformat_minor": 2
}
