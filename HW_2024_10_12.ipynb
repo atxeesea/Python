{
 "cells": [
  {
   "cell_type": "code",
   "execution_count": null,
   "metadata": {},
   "outputs": [],
   "source": [
    "# Два списка целых заполняются случайными числами:\n",
    "# list1 = [1, 3, 6, 8, 9]\n",
    "# list2 = [6, 2, 8, 7, 4]"
   ]
  },
  {
   "cell_type": "code",
   "execution_count": 4,
   "metadata": {},
   "outputs": [
    {
     "name": "stdout",
     "output_type": "stream",
     "text": [
      "[1, 3, 6, 8, 9, 6, 2, 8, 7, 4]\n"
     ]
    }
   ],
   "source": [
    "# 1 Сформировать третий список, содержащий элементы обоих списков\n",
    "list1 = [1, 3, 6, 8, 9]\n",
    "list2 = [6, 2, 8, 7, 4]\n",
    "\n",
    "list1.extend(list2)\n",
    "print(list1)"
   ]
  },
  {
   "cell_type": "code",
   "execution_count": 11,
   "metadata": {},
   "outputs": [
    {
     "name": "stdout",
     "output_type": "stream",
     "text": [
      "[1, 2, 3, 4, 6, 7, 8, 9]\n"
     ]
    }
   ],
   "source": [
    "# 2 Сформировать третий список, содержащий элементы обоих списков без повторений\n",
    "list1 = [1, 3, 6, 8, 9]\n",
    "list2 = [6, 2, 8, 7, 4]\n",
    "\n",
    "list1.extend(list2)\n",
    "\n",
    "list3 = list(set(list1))\n",
    "print(list3)"
   ]
  },
  {
   "cell_type": "code",
   "execution_count": 21,
   "metadata": {},
   "outputs": [
    {
     "name": "stdout",
     "output_type": "stream",
     "text": [
      "[8, 6]\n"
     ]
    }
   ],
   "source": [
    "# 3 Сформировать третий список, содержащий элементы общие для двух списков\n",
    "list1 = [1, 3, 6, 8, 9]\n",
    "list2 = [6, 2, 8, 7, 4]\n",
    "\n",
    "list3 = list(set(list1).intersection(list2))\n",
    "print(list3)"
   ]
  },
  {
   "cell_type": "code",
   "execution_count": 2,
   "metadata": {},
   "outputs": [
    {
     "name": "stdout",
     "output_type": "stream",
     "text": [
      "[1, 2, 3, 4, 7, 9]\n"
     ]
    }
   ],
   "source": [
    "# 4 Сформировать третий список, содержащий только уникальные элементы каждого из списков\n",
    "from collections import Counter\n",
    "\n",
    "list1 = [1, 3, 6, 8, 9]\n",
    "list2 = [6, 2, 8, 7, 4]\n",
    "\n",
    "list3 = list1 + list2\n",
    "list3.sort()\n",
    "list3 = Counter(list3)\n",
    "# print(list3)\n",
    "\n",
    "unique = [num for num in list3 if list3[num] == 1]\n",
    "print(unique)"
   ]
  },
  {
   "cell_type": "code",
   "execution_count": 2,
   "metadata": {},
   "outputs": [
    {
     "name": "stdout",
     "output_type": "stream",
     "text": [
      "[1, 9, 2, 8]\n",
      "-----\n",
      "[1, 3, 6, 8, 9]\n",
      "[6, 2, 8, 7, 4]\n"
     ]
    }
   ],
   "source": [
    "# 5 Сформировать третий список, содержащий только минимальное и максимальное значение каждого из списков\n",
    "list1 = [1, 3, 6, 8, 9]\n",
    "list2 = [6, 2, 8, 7, 4]\n",
    "\n",
    "list1_1 = [min(list1), max(list1)]\n",
    "list2_2 = [min(list2), max(list2)]\n",
    "\n",
    "list3 = [list1_1[0], list1_1[1], list2_2[0], list2_2[1]] # min, max, min, max\n",
    "print(list3)\n",
    "print('-----')\n",
    "print(list1)\n",
    "print(list2)"
   ]
  }
 ],
 "metadata": {
  "kernelspec": {
   "display_name": "Python 3",
   "language": "python",
   "name": "python3"
  },
  "language_info": {
   "codemirror_mode": {
    "name": "ipython",
    "version": 3
   },
   "file_extension": ".py",
   "mimetype": "text/x-python",
   "name": "python",
   "nbconvert_exporter": "python",
   "pygments_lexer": "ipython3",
   "version": "3.12.6"
  }
 },
 "nbformat": 4,
 "nbformat_minor": 2
}
