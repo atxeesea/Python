{
 "cells": [
  {
   "cell_type": "markdown",
   "metadata": {},
   "source": [
    "### Сортировка файлов по размеру\n",
    "\n",
    "Напишите программу, которая сортирует файлы в данной директории по размеру (от меньшего к большему). Для этого неплохо было бы несколько файлов или создать вручную, если в директории с этой тетрадкой кроме нее ничего нет, либо перенести несколько случайных файлов в нее, после чего можно будет проверить работу кода. По итогу вы должны вывести список файлов директории с заданным ранее условием"
   ]
  },
  {
   "cell_type": "code",
   "execution_count": 32,
   "metadata": {},
   "outputs": [
    {
     "name": "stdout",
     "output_type": "stream",
     "text": [
      "['.getxfer.13220.1.mega', '7365629401616207136@uasaverbot.mp4', '7383376501477051680@uasaverbot.mp4', '7402942965347323169@uasaverbot.mp4', 'AlbumArtSmall.jpg', 'desktop.ini', 'folder', 'Folder.jpg', 'Homework_2024_09_25 (2).ipynb', 'IMG_5422.MP4', 'IMG_6669.MP4', 'o0NC9fdlEo7IB9CEQB2iAwAkbgciIkhYz0hKmb.mp4', 'oYIzuDQgefAXMQP8O3jeSr8DMIMXGEHIeg8N8s.mp4', 'Python_DZ_Modul__04_Stroki_cpiski_c_1_1573634468.pdf', 'Python_DZ_Modul__04_Stroki_cpiski_c_3_1573634505.pdf']\n",
      "['.getxfer.13220.1.mega', '7365629401616207136@uasaverbot.mp4', '7383376501477051680@uasaverbot.mp4', '7402942965347323169@uasaverbot.mp4', 'AlbumArtSmall.jpg', 'Folder.jpg', 'Homework_2024_09_25 (2).ipynb', 'IMG_5422.MP4', 'IMG_6669.MP4', 'Python_DZ_Modul__04_Stroki_cpiski_c_1_1573634468.pdf', 'Python_DZ_Modul__04_Stroki_cpiski_c_3_1573634505.pdf', 'desktop.ini', 'folder', 'o0NC9fdlEo7IB9CEQB2iAwAkbgciIkhYz0hKmb.mp4', 'oYIzuDQgefAXMQP8O3jeSr8DMIMXGEHIeg8N8s.mp4']\n"
     ]
    }
   ],
   "source": [
    "import os\n",
    "\n",
    "path = r\"C:\\Users\\Andrei\\Downloads\"\n",
    "print((os.listdir(path))) # файлы сортированы по названию\n",
    "print(sorted(os.listdir(path))) # файлы сортированы по размеру от меньшего к большему"
   ]
  },
  {
   "cell_type": "markdown",
   "metadata": {},
   "source": [
    "### Создание директорий\n",
    "\n",
    "Напишите программу, которая создает серию вложенных директорий с использованием цикла. Например, создать директорию \"А\", в которой будет лежать директория \"B\", в которой будет лежать директория \"C\" (названия директорий латиницей). В конце вы должны вывести, что содержится в каждой из этих директорий"
   ]
  },
  {
   "cell_type": "code",
   "execution_count": null,
   "metadata": {},
   "outputs": [],
   "source": [
    "import os \n",
    "\n",
    "os.mkdir('directory')\n",
    "print(os.getcwd())\n",
    "os.chdir('directory')\n",
    "os.makedirs('A/B/C')\n",
    "\n",
    "for dirpach, dirnames, filenames, in os.walk('.'):\n",
    "   for dirname in dirnames:\n",
    "      print(\"каталог:\", os.path.join(dirpach,dirname))\n",
    "   for filenames in filenames:\n",
    "      print('Файл:', os.path.join(dirpach))"
   ]
  },
  {
   "cell_type": "markdown",
   "metadata": {},
   "source": [
    "### Поиск файлов по расширению\n",
    "\n",
    "Напишите программу, которая выводит имена всех файлов с расширением, например, \".txt\" в определенной директории и всех поддиректориях"
   ]
  },
  {
   "cell_type": "code",
   "execution_count": 38,
   "metadata": {},
   "outputs": [
    {
     "name": "stdout",
     "output_type": "stream",
     "text": [
      "C:\\Users\\Andrei\\Downloads\\7365629401616207136@uasaverbot.mp4\n",
      "C:\\Users\\Andrei\\Downloads\\7383376501477051680@uasaverbot.mp4\n",
      "C:\\Users\\Andrei\\Downloads\\7402942965347323169@uasaverbot.mp4\n",
      "C:\\Users\\Andrei\\Downloads\\o0NC9fdlEo7IB9CEQB2iAwAkbgciIkhYz0hKmb.mp4\n",
      "C:\\Users\\Andrei\\Downloads\\oYIzuDQgefAXMQP8O3jeSr8DMIMXGEHIeg8N8s.mp4\n"
     ]
    }
   ],
   "source": [
    "import os\n",
    "\n",
    "def find_files_with_extension(directory, extension):\n",
    "    for root, dirs, files in os.walk(directory):\n",
    "        for file in files:\n",
    "            if file.endswith(extension):\n",
    "                full_path = os.path.join(root, file)\n",
    "                print(full_path)\n",
    "\n",
    "dir_path = r\"C:\\Users\\Andrei\\Downloads\" \n",
    "file_extension = '.mp4' \n",
    "\n",
    "find_files_with_extension(dir_path, file_extension)\n"
   ]
  },
  {
   "cell_type": "markdown",
   "metadata": {},
   "source": [
    "### Получение информации о файле\n",
    "\n",
    "Напишите программу, которая выводит информацию о файле: имя, размер, дату модификации, тип файла (файл/директория)"
   ]
  },
  {
   "cell_type": "code",
   "execution_count": 42,
   "metadata": {},
   "outputs": [
    {
     "name": "stdout",
     "output_type": "stream",
     "text": [
      "os.stat_result(st_mode=33206, st_ino=562949954448100, st_dev=16882013959160728409, st_nlink=1, st_uid=0, st_gid=0, st_size=19, st_atime=1728209910, st_mtime=1728209910, st_ctime=1728209910) ['text.txt'] c:\\Users\\Andrei\\Downloads\\folder\\folder\\folder\n"
     ]
    }
   ],
   "source": [
    "import os \n",
    "\n",
    "os.mkdir('folder')\n",
    "os.chdir('folder')\n",
    "\n",
    "file = open('text.txt', 'w').write('Это текстовый файл!')\n",
    "print(os.stat('text.txt'), os.listdir(), os.getcwd())"
   ]
  },
  {
   "cell_type": "markdown",
   "metadata": {},
   "source": [
    "### Проверка e-mail адреса\n",
    "\n",
    "Напишите программу, которая запрашивает у пользователя ввести e-mail адрес и проверяет введенную строку с помощью регулярных выражений, является ли она типовым e-mail адресом. В случае, если да, программа должны вывести \"Всё верно\", если же нет, то \"Вы допустили ошибку в e-mail адресе\""
   ]
  },
  {
   "cell_type": "code",
   "execution_count": 40,
   "metadata": {},
   "outputs": [
    {
     "name": "stdout",
     "output_type": "stream",
     "text": [
      "Вы допустили ошибку в e-mail адресе\n"
     ]
    }
   ],
   "source": [
    "import re\n",
    "\n",
    "def validate_email(email):\n",
    "    pattern = r'^[a-zA-Z0-9._%+-]+@[a-zA-Z0-9.-]+\\.[a-zA-Z]{2,}$'\n",
    "    return re.match(pattern, email)\n",
    "\n",
    "email = input(\"Введите ваш e-mail адрес: \")\n",
    "\n",
    "if validate_email(email):\n",
    "    print(\"Всё верно\")\n",
    "else:\n",
    "    print(\"Вы допустили ошибку в e-mail адресе\")\n"
   ]
  }
 ],
 "metadata": {
  "kernelspec": {
   "display_name": "Python 3",
   "language": "python",
   "name": "python3"
  },
  "language_info": {
   "codemirror_mode": {
    "name": "ipython",
    "version": 3
   },
   "file_extension": ".py",
   "mimetype": "text/x-python",
   "name": "python",
   "nbconvert_exporter": "python",
   "pygments_lexer": "ipython3",
   "version": "3.12.6"
  }
 },
 "nbformat": 4,
 "nbformat_minor": 2
}
