{
 "cells": [
  {
   "cell_type": "markdown",
   "metadata": {},
   "source": [
    "Задание 1: Декораторы <br>\n",
    "\n",
    "        Создайте декоратор timer, который измеряет время выполнения функции.Декоратор должен выводить время, затраченное на выполнение функции.Пример использования:\n",
    "\n",
    "        @timer\n",
    "        def my_function():\n",
    "            time.sleep(2)\n",
    "\n",
    "        my_function()\n",
    "\n"
   ]
  },
  {
   "cell_type": "code",
   "execution_count": 370,
   "metadata": {},
   "outputs": [
    {
     "name": "stdout",
     "output_type": "stream",
     "text": [
      "2.0000858306884766\n"
     ]
    }
   ],
   "source": [
    "import time\n",
    "\n",
    "def timer(input_func):\n",
    "    def output_func():\n",
    "        start_timer = time.time()\n",
    "        input_func()\n",
    "        end_timer = time.time()\n",
    "        execution_time = end_timer - start_timer\n",
    "        print(execution_time)\n",
    "    return output_func\n",
    "    \n",
    "@timer\n",
    "def my_function():\n",
    "    time.sleep(2)\n",
    " \n",
    "my_function()"
   ]
  },
  {
   "cell_type": "markdown",
   "metadata": {},
   "source": [
    "Задание 2:\n",
    "\n",
    "        Создайте декоратор retry, который повторяет выполнение функции в случае возникновения исключения.Декоратор должен принимать параметр max_retries, который указывает максимальное количество попыток. Если после max_retries попыток функция не выполнится успешно,декоратор должен выбросить исключение. Пример использования:\n",
    "\n",
    "        @retry(max_retries=3)\n",
    "        def flaky_fuction():\n",
    "                if random.randint(0, 1) == 0:\n",
    "                        raise ValueError(\"Случайная ошибка!\")\n",
    "                return \"Успешно!\"\n",
    "                \n",
    "        print(flaky_fuction())"
   ]
  },
  {
   "cell_type": "code",
   "execution_count": 384,
   "metadata": {},
   "outputs": [
    {
     "name": "stdout",
     "output_type": "stream",
     "text": [
      "Попытка 1 завершилась с ошибкой: Случайная ошибка!\n",
      "Попытка 2 завершилась с ошибкой: Случайная ошибка!\n",
      "Попытка 3 завершилась с ошибкой: Случайная ошибка!\n",
      "Функция не выполнена успешно после 3 попыток.\n"
     ]
    }
   ],
   "source": [
    "import random\n",
    "\n",
    "def retry(max_retries):\n",
    "    def decorator(func):\n",
    "        def wrapper(*args, **kwargs):\n",
    "            attempt = 0\n",
    "            while attempt < max_retries:\n",
    "                try:\n",
    "                    return func(*args, **kwargs)\n",
    "                except Exception as e:\n",
    "                    attempt += 1\n",
    "                    print(f\"Попытка {attempt} завершилась с ошибкой: {e}\")\n",
    "            raise Exception(f\"Функция не выполнена успешно после {max_retries} попыток.\")\n",
    "        return wrapper\n",
    "    return decorator\n",
    "\n",
    "@retry(max_retries=3)\n",
    "def flaky_function():\n",
    "    if random.randint(0, 1) == 0:\n",
    "        raise ValueError(\"Случайная ошибка!\")\n",
    "    return \"Успешно!\"\n",
    "\n",
    "try:\n",
    "    print(flaky_function())\n",
    "except Exception as e:\n",
    "    print(e)\n"
   ]
  },
  {
   "cell_type": "markdown",
   "metadata": {},
   "source": [
    "Задание 3: Замыкания\n",
    "\n",
    "        Создайте функцию counter, которая возвращает функцию,подсчитывающую количество вызовов. Пример использования\n",
    "\n",
    "        counter_func = counter()\n",
    "        print(counter_func()) # Вывод: 1\n",
    "        print(counter_func()) # Вывод: 2\n",
    "        print(counter_func()) # Вывод: 3\n",
    "\n"
   ]
  },
  {
   "cell_type": "code",
   "execution_count": 33,
   "metadata": {},
   "outputs": [
    {
     "name": "stdout",
     "output_type": "stream",
     "text": [
      "1\n",
      "2\n",
      "3\n"
     ]
    }
   ],
   "source": [
    "def counter(): #\n",
    "    n = 0\n",
    "\n",
    "    def inner(): \n",
    "        nonlocal n\n",
    "        n += 1 \n",
    "        return n\n",
    "    \n",
    "    return inner\n",
    "\n",
    "counter_func = counter()\n",
    "print(counter_func()) # Вывод: 1\n",
    "print(counter_func()) # Вывод: 2\n",
    "print(counter_func()) # Вывод: 3"
   ]
  },
  {
   "cell_type": "markdown",
   "metadata": {},
   "source": [
    "Задание 4:\n",
    "\n",
    "        Создайте функцию make_multiplier, которая принимает число и возвращает функцию, умножающую на это число.\n",
    "\n",
    "        myltiply_by_3 = make_multiplier(3)\n",
    "        print(myltiply_by_3(5)) # Вывод: 15\n",
    "        print(myltiply_by_3(10)) # Вывод: 30\n"
   ]
  },
  {
   "cell_type": "code",
   "execution_count": 25,
   "metadata": {},
   "outputs": [
    {
     "name": "stdout",
     "output_type": "stream",
     "text": [
      "15\n",
      "30\n"
     ]
    }
   ],
   "source": [
    "def make_multiplier(n):\n",
    "\n",
    "    def inner(arg):\n",
    "        nonlocal n\n",
    "        arg *= n\n",
    "        return arg\n",
    "    \n",
    "    return inner\n",
    "\n",
    "myltiply_by_3 = make_multiplier(3)\n",
    "print(myltiply_by_3(5)) # Вывод: 15\n",
    "print(myltiply_by_3(10)) # Вывод: 30"
   ]
  }
 ],
 "metadata": {
  "kernelspec": {
   "display_name": "Python 3",
   "language": "python",
   "name": "python3"
  },
  "language_info": {
   "codemirror_mode": {
    "name": "ipython",
    "version": 3
   },
   "file_extension": ".py",
   "mimetype": "text/x-python",
   "name": "python",
   "nbconvert_exporter": "python",
   "pygments_lexer": "ipython3",
   "version": "3.13.0"
  }
 },
 "nbformat": 4,
 "nbformat_minor": 2
}
