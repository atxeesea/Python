{
 "cells": [
  {
   "cell_type": "markdown",
   "metadata": {},
   "source": [
    " Задание 1: Простое наследование <br>\n",
    "\n",
    "        Создайте базовый класс Vehicle со следующими атрибутами и методами:Атрибут средства).brand (марка транспортного Атрибут speed (скорость транспортного средства). Метод move(), который выводит на экран: \"Vehicle is moving at [speed] km/h\".Создайте подкласс Car, который наследует от класса Vehicle: Переопределите метод move() так, чтобы он выводил на экран: \"Car is driving at [speed] km/h\". Добавьте метод honk(), который выводит на экран: \"Car honks!\".Создайте подкласс Bicycle, наследует от класса Vehicle:который Переопределите метод move() так, чтобы он выводил на экран: \"Bicycle is ridin at[speed] km/h\".Добавьте метод ring_bell(), который выводит на экран: \"Bicycle bell rings!\".Создайте объекты каждого класса и продемонстрируйте их работу: Создайте объект класса Vehicle с маркой \"Generic\" и скоростью 60.Создайте объект класса Car с маркой \"Toyota\" и скоростью 120.Создайте объект класса Bicycle с маркой \"Trek\" и скоростью 20.Вызовите методы move(), honk() (для Car) и ring_bell() (для Bicycle)"
   ]
  },
  {
   "cell_type": "code",
   "execution_count": 1,
   "metadata": {},
   "outputs": [
    {
     "name": "stdout",
     "output_type": "stream",
     "text": [
      "Vehicle is moving at 60 km/h.\n",
      "Car is moving at 120 km/h.\n",
      "Car honks!\n",
      "Bicycle bell rings!\n"
     ]
    }
   ],
   "source": [
    "class Vehicle:\n",
    "    def __init__(self, brand, speed):\n",
    "        self.brand = brand \n",
    "        self.speed = speed \n",
    "    \n",
    "    def move(self):\n",
    "        print(f'Vehicle is moving at {self.speed} km/h.')\n",
    "\n",
    "class Car(Vehicle):\n",
    "    def __init__(self, brand, speed):\n",
    "        super().__init__(brand, speed)\n",
    "        self.speed = speed\n",
    "    \n",
    "    def move(self):\n",
    "        print(f'Car is moving at {self.speed} km/h.')\n",
    "\n",
    "\n",
    "    def honk(self):\n",
    "        print('Car honks!')\n",
    "\n",
    "class Bicycle(Vehicle):\n",
    "    def __init__(self, brand, speed):\n",
    "        super().__init__(brand, speed)\n",
    "        self.speed = speed\n",
    "\n",
    "    def move(self):\n",
    "        print(f'Bicycle is riding at {self.speed} km/h.')\n",
    "    \n",
    "    def ring_bell(self):\n",
    "        print('Bicycle bell rings!')\n",
    "\n",
    "car1 = Vehicle('Generic', 60,)\n",
    "car2 = Car('Toyota', 120)\n",
    "car3 = Bicycle('Trek', 20)\n",
    "car1.move()\n",
    "car2.move()\n",
    "car2.honk()\n",
    "car3.ring_bell()"
   ]
  },
  {
   "cell_type": "markdown",
   "metadata": {},
   "source": [
    "Задание 2: Множественное наследование <br>\n",
    "\n",
    "         Создайте базовый класс Engine со следующими атрибутами и методами:Атрибут engine_type (тип например, \"Petrol\", \"Electric\").двигателя, Метод start_engine(), который выводит на экран: \"Engine started: [engine_type]\".Создайте базовый класс Seats следующими атрибутами и методами:Атрибут seat_coun(количество мест).со Метод adjust_seats(), который выводит на экран: \"Adjusting [seat_count] seats\".Создайте подкласс ElectricCar, который наследует от классов Car и Engine:Убедитесь, что конструктор класса ElectricCar принимает параметры для всех атрибутов (brand, speed, engine_type, seat_count).Переопределите метод move() так, чтобы он выводил на экран: \"Electric car is driving silently at [speed] km/h\".Добавьте метод charge(), который выводит на экран: \"Electric car is charging\".Создайте объект класса ElectricCar и продемонстрируйте его работу:Создайте объект с маркой \"Tesla\", скоростью 150, типом двигателя \"Electric\" и количеством мест 5.Вызовите методы move(), start_engine(), adjust_seats(), honk() и charge()"
   ]
  },
  {
   "cell_type": "code",
   "execution_count": 2,
   "metadata": {},
   "outputs": [
    {
     "name": "stdout",
     "output_type": "stream",
     "text": [
      "Electric car is driving silently at 150 km/h.\n",
      "Engine started Electic.\n",
      "Adjusting 5 seats.\n",
      "Car honks!\n",
      "Electric car is charging\n"
     ]
    }
   ],
   "source": [
    "class Engine:\n",
    "    def __init__(self, engine_type):\n",
    "        self.engine_type = engine_type \n",
    "    \n",
    "    def start_engine(self):\n",
    "        print(f'Engine started {self.engine_type}.')\n",
    "\n",
    "class Seats:\n",
    "    def __init__(self, seat_count):\n",
    "        self.seat_count = seat_count \n",
    "    \n",
    "    def adjust_seats(self):\n",
    "        print(f'Adjusting {self.seat_count} seats.')\n",
    "\n",
    "class ElectricCar(Car, Engine, Seats):\n",
    "    def __init__(self, brand, speed, engine_type, seat_count):\n",
    "        Car.__init__(self, brand, speed)\n",
    "        Engine.__init__(self, engine_type)\n",
    "        self.seat_count = seat_count \n",
    "        \n",
    "    def move(self):\n",
    "        print(f'Electric car is driving silently at {self.speed} km/h.')\n",
    "    \n",
    "    def charge(self):\n",
    "        print('Electric car is charging')\n",
    "\n",
    "el_car = ElectricCar('Tesla', 150, 'Electic', 5)\n",
    "el_car.move()\n",
    "el_car.start_engine()\n",
    "el_car.adjust_seats()\n",
    "el_car.honk()\n",
    "el_car.charge()"
   ]
  }
 ],
 "metadata": {
  "kernelspec": {
   "display_name": "Python 3",
   "language": "python",
   "name": "python3"
  },
  "language_info": {
   "codemirror_mode": {
    "name": "ipython",
    "version": 3
   },
   "file_extension": ".py",
   "mimetype": "text/x-python",
   "name": "python",
   "nbconvert_exporter": "python",
   "pygments_lexer": "ipython3",
   "version": "3.13.0"
  }
 },
 "nbformat": 4,
 "nbformat_minor": 2
}
