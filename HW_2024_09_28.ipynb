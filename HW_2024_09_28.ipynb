{
 "cells": [
  {
   "cell_type": "markdown",
   "metadata": {},
   "source": [
    "Задание 1:\n",
    "Пользователь вводит с клавиатуры три числа. В зависимости от выбора пользователя программа выводит \n",
    "на экран сумму трёх чисел или произведение трёх чисел."
   ]
  },
  {
   "cell_type": "code",
   "execution_count": 21,
   "metadata": {},
   "outputs": [
    {
     "name": "stdout",
     "output_type": "stream",
     "text": [
      "6\n"
     ]
    }
   ],
   "source": [
    "num1 = int(input('введите первое число: '))\n",
    "num2 = int(input('введите второе число: '))\n",
    "num3 = int(input('введите третье число: '))\n",
    "ask = input('Выберите + или * (введите ваш выбор): ')\n",
    "if ask == '+':\n",
    "    print(num1 + num2 + num3)\n",
    "elif ask == '*':\n",
    "    print(num1 * num2 * num3)\n",
    "else:\n",
    "    print('Введите верный символ')"
   ]
  },
  {
   "cell_type": "markdown",
   "metadata": {},
   "source": [
    "Задание 2:\n",
    "Пользователь вводит с клавиатуры три числа. В зависимости от выбора пользователя программа выводит \n",
    "на экран максимум из трёх, минимум из трёх или среднеарифметическое трёх чисел."
   ]
  },
  {
   "cell_type": "code",
   "execution_count": 19,
   "metadata": {},
   "outputs": [
    {
     "name": "stdout",
     "output_type": "stream",
     "text": [
      "Среднее арифметическое значение: 2.0\n"
     ]
    }
   ],
   "source": [
    "num1 = int(input('введите первое число: '))\n",
    "num2 = int(input('введите второе число: '))\n",
    "num3 = int(input('введите третье число: '))\n",
    "ask = input('Введите min, если хотите найти мин знач, если макс, то введите max, если хотите найти ср. ариф. введите mean: ')\n",
    "if ask == 'min':\n",
    "    print(f'минимальное значение: {min(num1, num2, num3)}')\n",
    "elif ask == 'max':\n",
    "    print(f'максимальное значение: {max(num1, num2, num3)}')\n",
    "elif ask == 'mean':\n",
    "    print(f'Среднее арифметическое значение: {(num1 + num2 + num3)/3}')\n",
    "else:\n",
    "    print('Error')"
   ]
  },
  {
   "cell_type": "markdown",
   "metadata": {},
   "source": [
    "Задание 3:\n",
    "Пользователь вводит с клавиатуры количество метров. В зависимости от выбора пользователя программа \n",
    "переводит метры в мили, дюймы или ярды"
   ]
  },
  {
   "cell_type": "code",
   "execution_count": 20,
   "metadata": {},
   "outputs": [
    {
     "name": "stdout",
     "output_type": "stream",
     "text": [
      "39.3701\n"
     ]
    }
   ],
   "source": [
    "meters = int(input('введите количество метров: '))\n",
    "amount = input('Введите величину в которую необходимо перевести: мили(miles), дюймы(inch) или ярды(yard). Вводите строго как указано в скобках на латинской раскладке: ')\n",
    "if amount == 'miles':\n",
    "    print(meters * 0.0006213715277778)\n",
    "elif amount == 'inch':\n",
    "    print(meters * 39.3701)\n",
    "elif amount == 'yard':\n",
    "    print(meters *1.09361)\n",
    "else:\n",
    "    print('Error')"
   ]
  }
 ],
 "metadata": {
  "kernelspec": {
   "display_name": "Python 3",
   "language": "python",
   "name": "python3"
  },
  "language_info": {
   "codemirror_mode": {
    "name": "ipython",
    "version": 3
   },
   "file_extension": ".py",
   "mimetype": "text/x-python",
   "name": "python",
   "nbconvert_exporter": "python",
   "pygments_lexer": "ipython3",
   "version": "3.12.6"
  }
 },
 "nbformat": 4,
 "nbformat_minor": 2
}
