{
 "cells": [
  {
   "cell_type": "markdown",
   "metadata": {},
   "source": [
    "Задание 1 <br>\n",
    " Необходимо отсортировать первые две трети списка \n",
    "в порядке возрастания, если среднее арифметическое \n",
    "всех элементов больше нуля;иначе—лишь первую треть. \n",
    "Остальную часть списка не сортировать, а расположить \n",
    "в обратном порядке."
   ]
  },
  {
   "cell_type": "code",
   "execution_count": 6,
   "metadata": {},
   "outputs": [
    {
     "name": "stdout",
     "output_type": "stream",
     "text": [
      "[-8, 2, 11, -8, 11, -3, -4, -3, 5, 9, 0]\n",
      "[-8, -8, -3, 2, 11, 11, 0, 9, 5, -3, -4]\n"
     ]
    }
   ],
   "source": [
    "from random import randint\n",
    "\n",
    "def sort(lst, n):\n",
    "    return sorted(lst[:n]) + lst[n:][::-1]\n",
    "    \n",
    "lst = [randint(-10,11) for _ in range(11)]\n",
    "\n",
    "lst_len = len(lst)\n",
    "k = lst_len//3 + (lst_len == 0)\n",
    "\n",
    "print(lst)\n",
    "result = sort(lst, (1 + (sum(lst)/k > 0))*k)\n",
    "\n",
    "print(result)"
   ]
  },
  {
   "cell_type": "markdown",
   "metadata": {},
   "source": [
    "Задание 2 <br>\n",
    " Написать программу «успеваемость». Пользователь \n",
    "вводит10оценокстудента.Оценкиот1до12.Реализовать \n",
    "меню для пользователя: <br>\n",
    "<br>\n",
    " ■ Вывод оценок (вывод содержимого списка);<br>\n",
    " <br>\n",
    " ■ Пересдача экзамена(пользователь вводитномерэле\n",
    "мента списка и новую оценку);<br>\n",
    "<br>\n",
    " ■ Выходит ли стипендия (стипендия выходит, если \n",
    "средний бал не ниже 10.7);<br>\n",
    "<br>\n",
    " ■ Вывод отсортированного списка оценок: по возрас\n",
    "танию или убыванию."
   ]
  },
  {
   "cell_type": "code",
   "execution_count": null,
   "metadata": {},
   "outputs": [
    {
     "name": "stdout",
     "output_type": "stream",
     "text": [
      "\n",
      "Меню:\n",
      "1. Вывод оценок\n",
      "2. Пересдача экзамена\n",
      "3. Выходит ли стипендия\n",
      "4. Вывод отсортированных оценок\n",
      "5. Выход\n",
      "[5, 5, 3, 4, 4, 3, 1, 8, 7, 1, 2, 1]\n",
      "Степендия не полагается\n",
      "[1, 1, 1, 2, 2, 3, 4, 4, 5, 5, 7, 8]\n"
     ]
    }
   ],
   "source": [
    "grade = [randint(1, 11) for _ in range(1,13)]\n",
    "def grades(lst1):\n",
    "\n",
    "    print(\"\\nМеню:\")\n",
    "    print(\"1. Вывод оценок\")\n",
    "    print(\"2. Пересдача экзамена\")\n",
    "    print(\"3. Выходит ли стипендия\")\n",
    "    print(\"4. Вывод отсортированных оценок\")\n",
    "    print(\"5. Выход\")\n",
    "\n",
    "    while True:\n",
    "        menu = input('Введите число от 1 до 5: ')\n",
    "        if menu == '1':\n",
    "            print(lst1)\n",
    "\n",
    "        elif menu == \"2\":\n",
    "            index_user = int(input())\n",
    "            value_user = int(input())\n",
    "            lst[index_user] = value_user\n",
    "\n",
    "        elif menu == '3':\n",
    "            mean = sum(lst1) / len(lst1) \n",
    "\n",
    "            if mean < 10.7: \n",
    "                print('Степендия не полагается')\n",
    "\n",
    "            elif mean > 10.7:\n",
    "                print('Степендия полагается')\n",
    "\n",
    "        elif menu == '4':\n",
    "            lst = sorted(lst1)\n",
    "            print(lst1)\n",
    "\n",
    "        elif menu == '5':\n",
    "            break\n",
    "\n",
    "        else:\n",
    "            print('Введены неверные данные')\n",
    "\n",
    "grades(grade)"
   ]
  },
  {
   "cell_type": "markdown",
   "metadata": {},
   "source": [
    "Задание 3 <br>\n",
    " Написать программу, реализующую сортировку списка \n",
    "методом усовершенствованной сортировки пузырьковым \n",
    "методом. Усовершенствование состоит в том,что бы анализировать количество перестановок на каждом шагу,если \n",
    "это количество равно нулю, то продолжать сортировку \n",
    "нет смысла — список отсортирован."
   ]
  },
  {
   "cell_type": "code",
   "execution_count": 22,
   "metadata": {},
   "outputs": [
    {
     "name": "stdout",
     "output_type": "stream",
     "text": [
      "Исходный список: [64, 34, 25, 12, 22, 11, 90]\n",
      "Отсортированный список: [11, 12, 22, 25, 34, 64, 90]\n"
     ]
    }
   ],
   "source": [
    "def bubble_sort_improved(arr):\n",
    "    n = len(arr)\n",
    "    \n",
    "    for i in range(n):\n",
    "        \n",
    "        swapped = False\n",
    "        \n",
    "        for j in range(0, n - i - 1):\n",
    "            \n",
    "            if arr[j] > arr[j + 1]:\n",
    "                arr[j], arr[j + 1] = arr[j + 1], arr[j]\n",
    "                swapped = True\n",
    "        \n",
    "        if not swapped:\n",
    "            break\n",
    "\n",
    "if __name__ == \"__main__\":\n",
    "    \n",
    "    example_list = [64, 34, 25, 12, 22, 11, 90]\n",
    "    print(\"Исходный список:\", example_list)\n",
    "    \n",
    "    bubble_sort_improved(example_list)\n",
    "    print(\"Отсортированный список:\", example_list)"
   ]
  }
 ],
 "metadata": {
  "kernelspec": {
   "display_name": "Python 3",
   "language": "python",
   "name": "python3"
  },
  "language_info": {
   "codemirror_mode": {
    "name": "ipython",
    "version": 3
   },
   "file_extension": ".py",
   "mimetype": "text/x-python",
   "name": "python",
   "nbconvert_exporter": "python",
   "pygments_lexer": "ipython3",
   "version": "3.13.0"
  }
 },
 "nbformat": 4,
 "nbformat_minor": 2
}
